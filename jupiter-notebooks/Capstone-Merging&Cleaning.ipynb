{
 "cells": [
  {
   "cell_type": "code",
   "execution_count": 1,
   "metadata": {},
   "outputs": [],
   "source": [
    "import pandas as pd\n",
    "\n",
    "import matplotlib.pyplot as plt\n",
    "\n",
    "import seaborn as sns\n",
    "\n",
    "import numpy as np\n",
    "#from pandas_profiling import ProfileReport"
   ]
  },
  {
   "cell_type": "code",
   "execution_count": 2,
   "metadata": {},
   "outputs": [],
   "source": [
    "trans_2018 = pd.read_excel('../data/Transaction Data.xlsx', sheet_name= 'Transactions18')\n",
    "trans_2019 = pd.read_excel('../data/Transaction Data.xlsx', sheet_name= 'Transactions19')\n",
    "X_cleaned_classfn = pd.read_csv('../data/X_cleaned_classfn_based_on_rfe.csv')"
   ]
  },
  {
   "cell_type": "code",
   "execution_count": 3,
   "metadata": {},
   "outputs": [],
   "source": [
    "trans_2019 = trans_2019.rename(columns={'sales_12M': 'sales_2019', 'new_Fund_added_12M':'new_fund_2019'})"
   ]
  },
  {
   "cell_type": "code",
   "execution_count": 4,
   "metadata": {},
   "outputs": [],
   "source": [
    "full_df = pd.merge(trans_2018,trans_2019, on = 'CONTACT_ID' )"
   ]
  },
  {
   "cell_type": "code",
   "execution_count": 5,
   "metadata": {},
   "outputs": [
    {
     "data": {
      "text/html": [
       "<div>\n",
       "<style scoped>\n",
       "    .dataframe tbody tr th:only-of-type {\n",
       "        vertical-align: middle;\n",
       "    }\n",
       "\n",
       "    .dataframe tbody tr th {\n",
       "        vertical-align: top;\n",
       "    }\n",
       "\n",
       "    .dataframe thead th {\n",
       "        text-align: right;\n",
       "    }\n",
       "</style>\n",
       "<table border=\"1\" class=\"dataframe\">\n",
       "  <thead>\n",
       "    <tr style=\"text-align: right;\">\n",
       "      <th></th>\n",
       "      <th>CONTACT_ID</th>\n",
       "      <th>no_of_sales_12M_1</th>\n",
       "      <th>no_of_Redemption_12M_1</th>\n",
       "      <th>no_of_sales_12M_10K</th>\n",
       "      <th>no_of_Redemption_12M_10K</th>\n",
       "      <th>no_of_funds_sold_12M_1</th>\n",
       "      <th>no_of_funds_redeemed_12M_1</th>\n",
       "      <th>no_of_fund_sales_12M_10K</th>\n",
       "      <th>no_of_funds_Redemption_12M_10K</th>\n",
       "      <th>no_of_assetclass_sold_12M_1</th>\n",
       "      <th>...</th>\n",
       "      <th>aum_P_CEF</th>\n",
       "      <th>aum_P_ETF</th>\n",
       "      <th>aum_P_MF</th>\n",
       "      <th>aum_P_SMA</th>\n",
       "      <th>aum_P_UCITS</th>\n",
       "      <th>aum_P_UIT</th>\n",
       "      <th>refresh_date_x</th>\n",
       "      <th>sales_2019</th>\n",
       "      <th>new_fund_2019</th>\n",
       "      <th>refresh_date_y</th>\n",
       "    </tr>\n",
       "  </thead>\n",
       "  <tbody>\n",
       "    <tr>\n",
       "      <th>0</th>\n",
       "      <td>0047433</td>\n",
       "      <td>21.0</td>\n",
       "      <td>38.0</td>\n",
       "      <td>NaN</td>\n",
       "      <td>1.0</td>\n",
       "      <td>5.0</td>\n",
       "      <td>5.0</td>\n",
       "      <td>NaN</td>\n",
       "      <td>1.0</td>\n",
       "      <td>2.0</td>\n",
       "      <td>...</td>\n",
       "      <td>0.0</td>\n",
       "      <td>0.0</td>\n",
       "      <td>122866.04</td>\n",
       "      <td>114614.07</td>\n",
       "      <td>0.0</td>\n",
       "      <td>0.0</td>\n",
       "      <td>2018-12-31</td>\n",
       "      <td>18633.105</td>\n",
       "      <td>NaN</td>\n",
       "      <td>2019-12-31</td>\n",
       "    </tr>\n",
       "    <tr>\n",
       "      <th>1</th>\n",
       "      <td>4461312</td>\n",
       "      <td>NaN</td>\n",
       "      <td>NaN</td>\n",
       "      <td>NaN</td>\n",
       "      <td>NaN</td>\n",
       "      <td>NaN</td>\n",
       "      <td>NaN</td>\n",
       "      <td>NaN</td>\n",
       "      <td>NaN</td>\n",
       "      <td>NaN</td>\n",
       "      <td>...</td>\n",
       "      <td>0.0</td>\n",
       "      <td>0.0</td>\n",
       "      <td>19629.00</td>\n",
       "      <td>0.00</td>\n",
       "      <td>0.0</td>\n",
       "      <td>0.0</td>\n",
       "      <td>2018-12-31</td>\n",
       "      <td>NaN</td>\n",
       "      <td>NaN</td>\n",
       "      <td>2019-12-31</td>\n",
       "    </tr>\n",
       "    <tr>\n",
       "      <th>2</th>\n",
       "      <td>4491079</td>\n",
       "      <td>NaN</td>\n",
       "      <td>NaN</td>\n",
       "      <td>NaN</td>\n",
       "      <td>NaN</td>\n",
       "      <td>NaN</td>\n",
       "      <td>NaN</td>\n",
       "      <td>NaN</td>\n",
       "      <td>NaN</td>\n",
       "      <td>NaN</td>\n",
       "      <td>...</td>\n",
       "      <td>0.0</td>\n",
       "      <td>0.0</td>\n",
       "      <td>1758.70</td>\n",
       "      <td>0.00</td>\n",
       "      <td>0.0</td>\n",
       "      <td>0.0</td>\n",
       "      <td>2018-12-31</td>\n",
       "      <td>NaN</td>\n",
       "      <td>NaN</td>\n",
       "      <td>2019-12-31</td>\n",
       "    </tr>\n",
       "    <tr>\n",
       "      <th>3</th>\n",
       "      <td>0107408</td>\n",
       "      <td>20.0</td>\n",
       "      <td>NaN</td>\n",
       "      <td>2.0</td>\n",
       "      <td>NaN</td>\n",
       "      <td>1.0</td>\n",
       "      <td>NaN</td>\n",
       "      <td>1.0</td>\n",
       "      <td>NaN</td>\n",
       "      <td>1.0</td>\n",
       "      <td>...</td>\n",
       "      <td>0.0</td>\n",
       "      <td>0.0</td>\n",
       "      <td>57943.00</td>\n",
       "      <td>0.00</td>\n",
       "      <td>0.0</td>\n",
       "      <td>0.0</td>\n",
       "      <td>2018-12-31</td>\n",
       "      <td>93212.000</td>\n",
       "      <td>1.0</td>\n",
       "      <td>2019-12-31</td>\n",
       "    </tr>\n",
       "    <tr>\n",
       "      <th>4</th>\n",
       "      <td>85101140503769936458</td>\n",
       "      <td>NaN</td>\n",
       "      <td>NaN</td>\n",
       "      <td>NaN</td>\n",
       "      <td>NaN</td>\n",
       "      <td>NaN</td>\n",
       "      <td>NaN</td>\n",
       "      <td>NaN</td>\n",
       "      <td>NaN</td>\n",
       "      <td>NaN</td>\n",
       "      <td>...</td>\n",
       "      <td>0.0</td>\n",
       "      <td>0.0</td>\n",
       "      <td>-8573.59</td>\n",
       "      <td>0.00</td>\n",
       "      <td>0.0</td>\n",
       "      <td>0.0</td>\n",
       "      <td>2018-12-31</td>\n",
       "      <td>NaN</td>\n",
       "      <td>NaN</td>\n",
       "      <td>2019-12-31</td>\n",
       "    </tr>\n",
       "  </tbody>\n",
       "</table>\n",
       "<p>5 rows × 41 columns</p>\n",
       "</div>"
      ],
      "text/plain": [
       "             CONTACT_ID  no_of_sales_12M_1  no_of_Redemption_12M_1  \\\n",
       "0               0047433               21.0                    38.0   \n",
       "1               4461312                NaN                     NaN   \n",
       "2               4491079                NaN                     NaN   \n",
       "3               0107408               20.0                     NaN   \n",
       "4  85101140503769936458                NaN                     NaN   \n",
       "\n",
       "   no_of_sales_12M_10K  no_of_Redemption_12M_10K  no_of_funds_sold_12M_1  \\\n",
       "0                  NaN                       1.0                     5.0   \n",
       "1                  NaN                       NaN                     NaN   \n",
       "2                  NaN                       NaN                     NaN   \n",
       "3                  2.0                       NaN                     1.0   \n",
       "4                  NaN                       NaN                     NaN   \n",
       "\n",
       "   no_of_funds_redeemed_12M_1  no_of_fund_sales_12M_10K  \\\n",
       "0                         5.0                       NaN   \n",
       "1                         NaN                       NaN   \n",
       "2                         NaN                       NaN   \n",
       "3                         NaN                       1.0   \n",
       "4                         NaN                       NaN   \n",
       "\n",
       "   no_of_funds_Redemption_12M_10K  no_of_assetclass_sold_12M_1  ...  \\\n",
       "0                             1.0                          2.0  ...   \n",
       "1                             NaN                          NaN  ...   \n",
       "2                             NaN                          NaN  ...   \n",
       "3                             NaN                          1.0  ...   \n",
       "4                             NaN                          NaN  ...   \n",
       "\n",
       "   aum_P_CEF  aum_P_ETF   aum_P_MF  aum_P_SMA  aum_P_UCITS  aum_P_UIT  \\\n",
       "0        0.0        0.0  122866.04  114614.07          0.0        0.0   \n",
       "1        0.0        0.0   19629.00       0.00          0.0        0.0   \n",
       "2        0.0        0.0    1758.70       0.00          0.0        0.0   \n",
       "3        0.0        0.0   57943.00       0.00          0.0        0.0   \n",
       "4        0.0        0.0   -8573.59       0.00          0.0        0.0   \n",
       "\n",
       "   refresh_date_x  sales_2019  new_fund_2019  refresh_date_y  \n",
       "0      2018-12-31   18633.105            NaN      2019-12-31  \n",
       "1      2018-12-31         NaN            NaN      2019-12-31  \n",
       "2      2018-12-31         NaN            NaN      2019-12-31  \n",
       "3      2018-12-31   93212.000            1.0      2019-12-31  \n",
       "4      2018-12-31         NaN            NaN      2019-12-31  \n",
       "\n",
       "[5 rows x 41 columns]"
      ]
     },
     "execution_count": 5,
     "metadata": {},
     "output_type": "execute_result"
    }
   ],
   "source": [
    "full_df.head()\n"
   ]
  },
  {
   "cell_type": "code",
   "execution_count": 6,
   "metadata": {},
   "outputs": [
    {
     "data": {
      "text/html": [
       "<div>\n",
       "<style scoped>\n",
       "    .dataframe tbody tr th:only-of-type {\n",
       "        vertical-align: middle;\n",
       "    }\n",
       "\n",
       "    .dataframe tbody tr th {\n",
       "        vertical-align: top;\n",
       "    }\n",
       "\n",
       "    .dataframe thead th {\n",
       "        text-align: right;\n",
       "    }\n",
       "</style>\n",
       "<table border=\"1\" class=\"dataframe\">\n",
       "  <thead>\n",
       "    <tr style=\"text-align: right;\">\n",
       "      <th></th>\n",
       "      <th>Unnamed: 0</th>\n",
       "      <th>no_of_sales_12M_1</th>\n",
       "      <th>no_of_Redemption_12M_1</th>\n",
       "      <th>no_of_sales_12M_10K</th>\n",
       "      <th>no_of_funds_sold_12M_1</th>\n",
       "      <th>no_of_funds_redeemed_12M_1</th>\n",
       "      <th>No_of_fund_curr</th>\n",
       "      <th>AUM</th>\n",
       "      <th>sales_curr</th>\n",
       "      <th>sales_12M_2018</th>\n",
       "      <th>redemption_curr</th>\n",
       "      <th>redemption_12M</th>\n",
       "      <th>new_Fund_added_12M_2018</th>\n",
       "      <th>aum_AC_EQUITY</th>\n",
       "      <th>aum_AC_FIXED_INCOME_MUNI</th>\n",
       "      <th>aum_AC_FIXED_INCOME_TAXABLE</th>\n",
       "      <th>aum_AC_MULTIPLE</th>\n",
       "      <th>aum_P_MF</th>\n",
       "      <th>aum_P_SMA</th>\n",
       "    </tr>\n",
       "  </thead>\n",
       "  <tbody>\n",
       "    <tr>\n",
       "      <th>0</th>\n",
       "      <td>1666</td>\n",
       "      <td>-0.199371</td>\n",
       "      <td>-0.030546</td>\n",
       "      <td>-0.207843</td>\n",
       "      <td>-0.573977</td>\n",
       "      <td>0.184764</td>\n",
       "      <td>-0.373415</td>\n",
       "      <td>-0.061582</td>\n",
       "      <td>-0.085083</td>\n",
       "      <td>-0.151783</td>\n",
       "      <td>0.091395</td>\n",
       "      <td>0.048131</td>\n",
       "      <td>-0.415778</td>\n",
       "      <td>0.060466</td>\n",
       "      <td>-0.078960</td>\n",
       "      <td>-0.073437</td>\n",
       "      <td>-0.022410</td>\n",
       "      <td>-0.024624</td>\n",
       "      <td>-0.056194</td>\n",
       "    </tr>\n",
       "    <tr>\n",
       "      <th>1</th>\n",
       "      <td>4027</td>\n",
       "      <td>-0.189437</td>\n",
       "      <td>-0.075336</td>\n",
       "      <td>-0.115750</td>\n",
       "      <td>-0.153081</td>\n",
       "      <td>0.997264</td>\n",
       "      <td>4.104365</td>\n",
       "      <td>0.483007</td>\n",
       "      <td>-0.085083</td>\n",
       "      <td>-0.129390</td>\n",
       "      <td>0.091395</td>\n",
       "      <td>0.119728</td>\n",
       "      <td>-0.415778</td>\n",
       "      <td>0.055576</td>\n",
       "      <td>0.331867</td>\n",
       "      <td>0.542411</td>\n",
       "      <td>-0.043019</td>\n",
       "      <td>0.291963</td>\n",
       "      <td>0.028260</td>\n",
       "    </tr>\n",
       "    <tr>\n",
       "      <th>2</th>\n",
       "      <td>241</td>\n",
       "      <td>0.962899</td>\n",
       "      <td>0.121740</td>\n",
       "      <td>-0.207843</td>\n",
       "      <td>4.476778</td>\n",
       "      <td>4.247261</td>\n",
       "      <td>2.185316</td>\n",
       "      <td>0.418069</td>\n",
       "      <td>-0.032015</td>\n",
       "      <td>-0.040016</td>\n",
       "      <td>0.091395</td>\n",
       "      <td>-0.261162</td>\n",
       "      <td>0.437090</td>\n",
       "      <td>-0.014580</td>\n",
       "      <td>-0.092261</td>\n",
       "      <td>-0.057885</td>\n",
       "      <td>-0.022410</td>\n",
       "      <td>0.546840</td>\n",
       "      <td>-0.056194</td>\n",
       "    </tr>\n",
       "    <tr>\n",
       "      <th>3</th>\n",
       "      <td>8902</td>\n",
       "      <td>0.019176</td>\n",
       "      <td>-0.035025</td>\n",
       "      <td>0.713083</td>\n",
       "      <td>1.109608</td>\n",
       "      <td>0.997264</td>\n",
       "      <td>2.185316</td>\n",
       "      <td>0.214598</td>\n",
       "      <td>0.022675</td>\n",
       "      <td>0.176991</td>\n",
       "      <td>0.089568</td>\n",
       "      <td>0.096260</td>\n",
       "      <td>-0.415778</td>\n",
       "      <td>0.051141</td>\n",
       "      <td>0.150777</td>\n",
       "      <td>-0.225239</td>\n",
       "      <td>1.434982</td>\n",
       "      <td>0.304421</td>\n",
       "      <td>-0.056194</td>\n",
       "    </tr>\n",
       "    <tr>\n",
       "      <th>4</th>\n",
       "      <td>1326</td>\n",
       "      <td>0.048977</td>\n",
       "      <td>0.023202</td>\n",
       "      <td>0.068435</td>\n",
       "      <td>1.530505</td>\n",
       "      <td>0.997264</td>\n",
       "      <td>0.266268</td>\n",
       "      <td>-0.075106</td>\n",
       "      <td>-0.085083</td>\n",
       "      <td>-0.089742</td>\n",
       "      <td>0.091395</td>\n",
       "      <td>0.151973</td>\n",
       "      <td>0.437090</td>\n",
       "      <td>-0.005306</td>\n",
       "      <td>-0.078280</td>\n",
       "      <td>0.020980</td>\n",
       "      <td>-0.022410</td>\n",
       "      <td>-0.040737</td>\n",
       "      <td>-0.056194</td>\n",
       "    </tr>\n",
       "  </tbody>\n",
       "</table>\n",
       "</div>"
      ],
      "text/plain": [
       "   Unnamed: 0  no_of_sales_12M_1  no_of_Redemption_12M_1  no_of_sales_12M_10K  \\\n",
       "0        1666          -0.199371               -0.030546            -0.207843   \n",
       "1        4027          -0.189437               -0.075336            -0.115750   \n",
       "2         241           0.962899                0.121740            -0.207843   \n",
       "3        8902           0.019176               -0.035025             0.713083   \n",
       "4        1326           0.048977                0.023202             0.068435   \n",
       "\n",
       "   no_of_funds_sold_12M_1  no_of_funds_redeemed_12M_1  No_of_fund_curr  \\\n",
       "0               -0.573977                    0.184764        -0.373415   \n",
       "1               -0.153081                    0.997264         4.104365   \n",
       "2                4.476778                    4.247261         2.185316   \n",
       "3                1.109608                    0.997264         2.185316   \n",
       "4                1.530505                    0.997264         0.266268   \n",
       "\n",
       "        AUM  sales_curr  sales_12M_2018  redemption_curr  redemption_12M  \\\n",
       "0 -0.061582   -0.085083       -0.151783         0.091395        0.048131   \n",
       "1  0.483007   -0.085083       -0.129390         0.091395        0.119728   \n",
       "2  0.418069   -0.032015       -0.040016         0.091395       -0.261162   \n",
       "3  0.214598    0.022675        0.176991         0.089568        0.096260   \n",
       "4 -0.075106   -0.085083       -0.089742         0.091395        0.151973   \n",
       "\n",
       "   new_Fund_added_12M_2018  aum_AC_EQUITY  aum_AC_FIXED_INCOME_MUNI  \\\n",
       "0                -0.415778       0.060466                 -0.078960   \n",
       "1                -0.415778       0.055576                  0.331867   \n",
       "2                 0.437090      -0.014580                 -0.092261   \n",
       "3                -0.415778       0.051141                  0.150777   \n",
       "4                 0.437090      -0.005306                 -0.078280   \n",
       "\n",
       "   aum_AC_FIXED_INCOME_TAXABLE  aum_AC_MULTIPLE  aum_P_MF  aum_P_SMA  \n",
       "0                    -0.073437        -0.022410 -0.024624  -0.056194  \n",
       "1                     0.542411        -0.043019  0.291963   0.028260  \n",
       "2                    -0.057885        -0.022410  0.546840  -0.056194  \n",
       "3                    -0.225239         1.434982  0.304421  -0.056194  \n",
       "4                     0.020980        -0.022410 -0.040737  -0.056194  "
      ]
     },
     "execution_count": 6,
     "metadata": {},
     "output_type": "execute_result"
    }
   ],
   "source": [
    "X_cleaned_classfn.head()\n"
   ]
  },
  {
   "cell_type": "code",
   "execution_count": 7,
   "metadata": {},
   "outputs": [],
   "source": [
    "firms_a = pd.read_excel('../data/Firm Information.xlsx', sheet_name= 'Asset fund summary', skiprows= 1)"
   ]
  },
  {
   "cell_type": "code",
   "execution_count": 8,
   "metadata": {},
   "outputs": [],
   "source": [
    "firms_rep_summary = pd.read_excel('../data/Firm Information.xlsx', sheet_name= 'Rep summary')"
   ]
  },
  {
   "cell_type": "code",
   "execution_count": 9,
   "metadata": {
    "scrolled": true
   },
   "outputs": [],
   "source": [
    "firms_rep_summary = firms_rep_summary.rename({'Contact ID':'CONTACT_ID'}, axis = 1)"
   ]
  },
  {
   "cell_type": "code",
   "execution_count": 10,
   "metadata": {
    "scrolled": true
   },
   "outputs": [
    {
     "data": {
      "text/html": [
       "<div>\n",
       "<style scoped>\n",
       "    .dataframe tbody tr th:only-of-type {\n",
       "        vertical-align: middle;\n",
       "    }\n",
       "\n",
       "    .dataframe tbody tr th {\n",
       "        vertical-align: top;\n",
       "    }\n",
       "\n",
       "    .dataframe thead th {\n",
       "        text-align: right;\n",
       "    }\n",
       "</style>\n",
       "<table border=\"1\" class=\"dataframe\">\n",
       "  <thead>\n",
       "    <tr style=\"text-align: right;\">\n",
       "      <th></th>\n",
       "      <th>CONTACT_ID</th>\n",
       "      <th>CustomerID</th>\n",
       "      <th>Firm ID</th>\n",
       "      <th>Office ID</th>\n",
       "      <th>Channel</th>\n",
       "      <th>Sub channel</th>\n",
       "      <th>Firm name</th>\n",
       "    </tr>\n",
       "  </thead>\n",
       "  <tbody>\n",
       "    <tr>\n",
       "      <th>0</th>\n",
       "      <td>0000286</td>\n",
       "      <td>1</td>\n",
       "      <td>1948520</td>\n",
       "      <td>17993101120</td>\n",
       "      <td>National Broker-Dealer</td>\n",
       "      <td>NACS</td>\n",
       "      <td>Morgan Stanley Wealth Management</td>\n",
       "    </tr>\n",
       "    <tr>\n",
       "      <th>1</th>\n",
       "      <td>0000422</td>\n",
       "      <td>2</td>\n",
       "      <td>1688552</td>\n",
       "      <td>85202111664692445495</td>\n",
       "      <td>National Broker-Dealer</td>\n",
       "      <td>NACS</td>\n",
       "      <td>UBS Financial Services, Inc.</td>\n",
       "    </tr>\n",
       "    <tr>\n",
       "      <th>2</th>\n",
       "      <td>0000508</td>\n",
       "      <td>3</td>\n",
       "      <td>1567450</td>\n",
       "      <td>15674503441</td>\n",
       "      <td>National Broker-Dealer</td>\n",
       "      <td>NACS</td>\n",
       "      <td>Merrill Lynch</td>\n",
       "    </tr>\n",
       "    <tr>\n",
       "      <th>3</th>\n",
       "      <td>0000604</td>\n",
       "      <td>4</td>\n",
       "      <td>0022885</td>\n",
       "      <td>85102132106001250782</td>\n",
       "      <td>Independent Dealer</td>\n",
       "      <td>IBD</td>\n",
       "      <td>LPL Financial LLC</td>\n",
       "    </tr>\n",
       "    <tr>\n",
       "      <th>4</th>\n",
       "      <td>0000657</td>\n",
       "      <td>5</td>\n",
       "      <td>1567450</td>\n",
       "      <td>15674501882</td>\n",
       "      <td>National Broker-Dealer</td>\n",
       "      <td>NACS</td>\n",
       "      <td>Merrill Lynch</td>\n",
       "    </tr>\n",
       "  </tbody>\n",
       "</table>\n",
       "</div>"
      ],
      "text/plain": [
       "  CONTACT_ID  CustomerID  Firm ID             Office ID  \\\n",
       "0    0000286           1  1948520           17993101120   \n",
       "1    0000422           2  1688552  85202111664692445495   \n",
       "2    0000508           3  1567450           15674503441   \n",
       "3    0000604           4  0022885  85102132106001250782   \n",
       "4    0000657           5  1567450           15674501882   \n",
       "\n",
       "                  Channel Sub channel                         Firm name  \n",
       "0  National Broker-Dealer        NACS  Morgan Stanley Wealth Management  \n",
       "1  National Broker-Dealer        NACS      UBS Financial Services, Inc.  \n",
       "2  National Broker-Dealer        NACS                     Merrill Lynch  \n",
       "3      Independent Dealer         IBD                 LPL Financial LLC  \n",
       "4  National Broker-Dealer        NACS                     Merrill Lynch  "
      ]
     },
     "execution_count": 10,
     "metadata": {},
     "output_type": "execute_result"
    }
   ],
   "source": [
    "firms_rep_summary.head()"
   ]
  },
  {
   "cell_type": "code",
   "execution_count": 11,
   "metadata": {},
   "outputs": [],
   "source": [
    "full_df = pd.merge(full_df, firms_rep_summary, on = 'CONTACT_ID')"
   ]
  },
  {
   "cell_type": "code",
   "execution_count": 12,
   "metadata": {},
   "outputs": [],
   "source": [
    "missing_diagrams = {\n",
    "    'heatmap' : True , 'dendrogram' : True, 'matrix' : True, 'bar' : True ,\n",
    "}"
   ]
  },
  {
   "cell_type": "code",
   "execution_count": 13,
   "metadata": {},
   "outputs": [
    {
     "ename": "NameError",
     "evalue": "name 'ProfileReport' is not defined",
     "output_type": "error",
     "traceback": [
      "\u001b[0;31m---------------------------------------------------------------------------\u001b[0m",
      "\u001b[0;31mNameError\u001b[0m                                 Traceback (most recent call last)",
      "\u001b[0;32m<ipython-input-13-255f54cd4eb0>\u001b[0m in \u001b[0;36m<module>\u001b[0;34m\u001b[0m\n\u001b[0;32m----> 1\u001b[0;31m \u001b[0mprofile\u001b[0m \u001b[0;34m=\u001b[0m \u001b[0mProfileReport\u001b[0m\u001b[0;34m(\u001b[0m\u001b[0mfull_df\u001b[0m\u001b[0;34m,\u001b[0m \u001b[0mtitle\u001b[0m \u001b[0;34m=\u001b[0m\u001b[0;34m'Nuveen Profile report'\u001b[0m\u001b[0;34m,\u001b[0m \u001b[0mmissing_diagrams\u001b[0m \u001b[0;34m=\u001b[0m \u001b[0mmissing_diagrams\u001b[0m\u001b[0;34m,\u001b[0m \u001b[0mminimal\u001b[0m \u001b[0;34m=\u001b[0m \u001b[0;32mTrue\u001b[0m\u001b[0;34m)\u001b[0m\u001b[0;34m\u001b[0m\u001b[0;34m\u001b[0m\u001b[0m\n\u001b[0m",
      "\u001b[0;31mNameError\u001b[0m: name 'ProfileReport' is not defined"
     ]
    }
   ],
   "source": [
    "profile = ProfileReport(full_df, title ='Nuveen Profile report', missing_diagrams = missing_diagrams, minimal = True)"
   ]
  },
  {
   "cell_type": "code",
   "execution_count": null,
   "metadata": {},
   "outputs": [],
   "source": [
    "profile.to_file(output_file = \"nuveen_profiling_initial.html\")"
   ]
  },
  {
   "cell_type": "code",
   "execution_count": null,
   "metadata": {},
   "outputs": [],
   "source": []
  },
  {
   "cell_type": "code",
   "execution_count": null,
   "metadata": {},
   "outputs": [],
   "source": [
    "sns.boxplot(full_df['no_of_sales_12M_1'])"
   ]
  },
  {
   "cell_type": "code",
   "execution_count": null,
   "metadata": {},
   "outputs": [],
   "source": [
    "full_df['no_of_sales_12M_1'].fillna(0, inplace = True)"
   ]
  },
  {
   "cell_type": "code",
   "execution_count": null,
   "metadata": {},
   "outputs": [],
   "source": [
    "select_columns = [i for i in full_df.columns if i.lower().startswith('no_of')]"
   ]
  },
  {
   "cell_type": "code",
   "execution_count": null,
   "metadata": {},
   "outputs": [],
   "source": [
    "select_columns"
   ]
  },
  {
   "cell_type": "code",
   "execution_count": null,
   "metadata": {},
   "outputs": [],
   "source": [
    "for i in full_df.columns:\n",
    "    if i.lower().startswith('no_of'):\n",
    "        full_df[i].fillna(0, inplace = True)"
   ]
  },
  {
   "cell_type": "code",
   "execution_count": null,
   "metadata": {},
   "outputs": [],
   "source": [
    "full_df[select_columns].describe()\n"
   ]
  },
  {
   "cell_type": "code",
   "execution_count": null,
   "metadata": {},
   "outputs": [],
   "source": [
    "full_df['AUM'].fillna(0, inplace = True)"
   ]
  },
  {
   "cell_type": "code",
   "execution_count": null,
   "metadata": {},
   "outputs": [],
   "source": [
    "for i in full_df.columns:\n",
    "    if i.lower().startswith('aum'):\n",
    "        #print(full_df[i].count()) #contains the count of elements in each column\n",
    "        full_df[i].fillna(0, inplace = True)"
   ]
  },
  {
   "cell_type": "code",
   "execution_count": null,
   "metadata": {},
   "outputs": [],
   "source": [
    "full_df.info()\n"
   ]
  },
  {
   "cell_type": "code",
   "execution_count": null,
   "metadata": {},
   "outputs": [],
   "source": [
    "full_df['AUM'].describe()"
   ]
  },
  {
   "cell_type": "code",
   "execution_count": null,
   "metadata": {},
   "outputs": [],
   "source": [
    "full_df['AUM'] = full_df['AUM'].apply(lambda x: x if x >=0 else 0)"
   ]
  },
  {
   "cell_type": "code",
   "execution_count": null,
   "metadata": {},
   "outputs": [],
   "source": [
    "full_df['AUM'].describe()"
   ]
  },
  {
   "cell_type": "code",
   "execution_count": null,
   "metadata": {},
   "outputs": [],
   "source": [
    "for i in full_df.columns:\n",
    "    if i.startswith('aum'):\n",
    "        full_df.drop(i, axis= 1,  inplace = True)"
   ]
  },
  {
   "cell_type": "code",
   "execution_count": null,
   "metadata": {},
   "outputs": [],
   "source": [
    "full_df.info()"
   ]
  },
  {
   "cell_type": "code",
   "execution_count": null,
   "metadata": {},
   "outputs": [],
   "source": [
    "for i in full_df.columns:\n",
    "    if i.startswith('refresh_date'):\n",
    "        full_df.drop(i, axis= 1,  inplace = True)"
   ]
  },
  {
   "cell_type": "code",
   "execution_count": null,
   "metadata": {},
   "outputs": [],
   "source": [
    "full_df.info()"
   ]
  },
  {
   "cell_type": "code",
   "execution_count": null,
   "metadata": {},
   "outputs": [],
   "source": [
    "for i in full_df.columns:\n",
    "    if i.lower().startswith('sales'):\n",
    "        full_df[i] = full_df[i].apply(lambda x: x if x >=0 else 0)\n",
    "    "
   ]
  },
  {
   "cell_type": "code",
   "execution_count": null,
   "metadata": {},
   "outputs": [],
   "source": [
    "full_df['sales_12M'].describe()"
   ]
  },
  {
   "cell_type": "code",
   "execution_count": null,
   "metadata": {},
   "outputs": [],
   "source": [
    "for i in full_df.columns:\n",
    "    if i.lower().startswith('new'):\n",
    "        full_df[i] = full_df[i].apply(lambda x: x if x >=0 else 0)"
   ]
  },
  {
   "cell_type": "code",
   "execution_count": null,
   "metadata": {},
   "outputs": [],
   "source": [
    "full_df['new_Fund_added_12M'].describe()"
   ]
  },
  {
   "cell_type": "code",
   "execution_count": null,
   "metadata": {},
   "outputs": [],
   "source": [
    "plt.figure(figsize = (20,15))\n",
    "sns.heatmap(full_df.corr(), annot = True)"
   ]
  },
  {
   "cell_type": "code",
   "execution_count": null,
   "metadata": {},
   "outputs": [],
   "source": [
    "plt.scatter(full_df['sales_12M'], full_df['sales_2019'])\n"
   ]
  },
  {
   "cell_type": "code",
   "execution_count": null,
   "metadata": {},
   "outputs": [],
   "source": []
  },
  {
   "cell_type": "code",
   "execution_count": null,
   "metadata": {},
   "outputs": [],
   "source": [
    "full_df.info()"
   ]
  },
  {
   "cell_type": "code",
   "execution_count": null,
   "metadata": {},
   "outputs": [],
   "source": [
    "full_df['redemption_curr'].head()"
   ]
  },
  {
   "cell_type": "code",
   "execution_count": null,
   "metadata": {},
   "outputs": [],
   "source": [
    "for i in full_df.columns:\n",
    "    if i.lower().startswith('redemption'):\n",
    "        full_df[i].fillna(0, inplace = True)"
   ]
  },
  {
   "cell_type": "code",
   "execution_count": null,
   "metadata": {},
   "outputs": [],
   "source": [
    "full_df['redemption_12M'].head()"
   ]
  },
  {
   "cell_type": "code",
   "execution_count": null,
   "metadata": {},
   "outputs": [],
   "source": [
    "full_df.info()"
   ]
  },
  {
   "cell_type": "code",
   "execution_count": null,
   "metadata": {},
   "outputs": [],
   "source": [
    "full_df.to_csv('../data/cleaned_eda_data.csv')"
   ]
  },
  {
   "cell_type": "code",
   "execution_count": null,
   "metadata": {},
   "outputs": [],
   "source": []
  },
  {
   "cell_type": "code",
   "execution_count": null,
   "metadata": {},
   "outputs": [],
   "source": []
  }
 ],
 "metadata": {
  "kernelspec": {
   "display_name": "Python 3",
   "language": "python",
   "name": "python3"
  },
  "language_info": {
   "codemirror_mode": {
    "name": "ipython",
    "version": 3
   },
   "file_extension": ".py",
   "mimetype": "text/x-python",
   "name": "python",
   "nbconvert_exporter": "python",
   "pygments_lexer": "ipython3",
   "version": "3.8.5"
  }
 },
 "nbformat": 4,
 "nbformat_minor": 4
}
