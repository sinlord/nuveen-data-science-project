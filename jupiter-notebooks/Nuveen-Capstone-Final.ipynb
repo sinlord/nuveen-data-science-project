{
 "cells": [
  {
   "cell_type": "markdown",
   "metadata": {},
   "source": [
    "# Capstone Week 7\n",
    "---"
   ]
  },
  {
   "cell_type": "markdown",
   "metadata": {},
   "source": [
    "# Index\n",
    "- [Capstone Objectives](#Capstone-Objectives)\n",
    "- [Read in Data](#Read-in-Data)\n",
    "    - [Merge 2018 and 2019](#Merge-2018-and-2019)\n",
    "    - [Make advisor and firm dictionary mapper](#Make-advisor-and-firm-dictionary-mapper)\n",
    "- [EDA](#EDA)\n",
    "- [Data Cleaning](#Data-Cleaning)\n",
    "    - [Train-Test-Split](#Train-Test-Split)\n",
    "    - [Custom Cleaning Functions](#Custom-Cleaning-Functions)\n",
    "    - [Create Cleaning Pipeline](#Create-Cleaning-Pipeline)\n",
    "- [Model building](#Model-building)\n",
    "    - [Regression](#Regression)\n",
    "        - [Calculate Baseline](#Calculate-Baseline)\n",
    "        - [`sklearn` Feature Selection](#sklearn-Feature-Selection)\n",
    "        - [Make function to output deciles](#Make-function-to-output-deciles)\n",
    "    - [Classification](#Classification)\n",
    "        - [Calculate Baseline-Classification](#Calculate-Baseline-Classification)\n",
    "        - [Classification Feature Selection](#Classification-Feature-Selection)\n",
    "- [Fairness and Bias](#Fairness-and-Bias)"
   ]
  },
  {
   "cell_type": "markdown",
   "metadata": {},
   "source": [
    "# Capstone Objectives\n",
    "- Assist sales and marketing by improving their targeting\n",
    "- Predict sales for 2019 using the data for 2018\n",
    "- Estimate the probability of adding a new fund in 2019"
   ]
  },
  {
   "cell_type": "code",
   "execution_count": 1,
   "metadata": {},
   "outputs": [],
   "source": [
    "import numpy as np\n",
    "import pandas as pd\n",
    "import matplotlib.pyplot as plt\n",
    "\n",
    "from sklearn.model_selection import train_test_split\n",
    "from sklearn.preprocessing import StandardScaler\n",
    "\n",
    "pd.set_option('display.max_columns', 50)"
   ]
  },
  {
   "cell_type": "markdown",
   "metadata": {},
   "source": [
    "[Back to Top](#Index)\n",
    "# Read in Data"
   ]
  },
  {
   "cell_type": "code",
   "execution_count": 2,
   "metadata": {},
   "outputs": [],
   "source": [
    "df18 = pd.read_excel(\"../Transaction Data.xlsx\", sheet_name='Transactions18')\n",
    "df19 = pd.read_excel(\"../Transaction Data.xlsx\", sheet_name='Transactions19')\n",
    "firm = pd.read_excel(\"../Firm Information.xlsx\", sheet_name=\"Rep summary\")"
   ]
  },
  {
   "cell_type": "markdown",
   "metadata": {},
   "source": [
    "## Merge 2018 and 2019"
   ]
  },
  {
   "cell_type": "code",
   "execution_count": 3,
   "metadata": {},
   "outputs": [
    {
     "data": {
      "text/html": [
       "<div>\n",
       "<style scoped>\n",
       "    .dataframe tbody tr th:only-of-type {\n",
       "        vertical-align: middle;\n",
       "    }\n",
       "\n",
       "    .dataframe tbody tr th {\n",
       "        vertical-align: top;\n",
       "    }\n",
       "\n",
       "    .dataframe thead th {\n",
       "        text-align: right;\n",
       "    }\n",
       "</style>\n",
       "<table border=\"1\" class=\"dataframe\">\n",
       "  <thead>\n",
       "    <tr style=\"text-align: right;\">\n",
       "      <th></th>\n",
       "      <th>CONTACT_ID</th>\n",
       "      <th>no_of_sales_12M_1</th>\n",
       "      <th>no_of_Redemption_12M_1</th>\n",
       "      <th>no_of_sales_12M_10K</th>\n",
       "      <th>no_of_Redemption_12M_10K</th>\n",
       "      <th>no_of_funds_sold_12M_1</th>\n",
       "      <th>no_of_funds_redeemed_12M_1</th>\n",
       "      <th>no_of_fund_sales_12M_10K</th>\n",
       "      <th>no_of_funds_Redemption_12M_10K</th>\n",
       "      <th>no_of_assetclass_sold_12M_1</th>\n",
       "      <th>no_of_assetclass_redeemed_12M_1</th>\n",
       "      <th>no_of_assetclass_sales_12M_10K</th>\n",
       "      <th>no_of_assetclass_Redemption_12M_10K</th>\n",
       "      <th>No_of_fund_curr</th>\n",
       "      <th>No_of_asset_curr</th>\n",
       "      <th>AUM</th>\n",
       "      <th>sales_curr</th>\n",
       "      <th>sales_12M_2018</th>\n",
       "      <th>redemption_curr</th>\n",
       "      <th>redemption_12M</th>\n",
       "      <th>new_Fund_added_12M_2018</th>\n",
       "      <th>aum_AC_EQUITY</th>\n",
       "      <th>aum_AC_FIXED_INCOME_MUNI</th>\n",
       "      <th>aum_AC_FIXED_INCOME_TAXABLE</th>\n",
       "      <th>aum_AC_MONEY</th>\n",
       "      <th>aum_AC_MULTIPLE</th>\n",
       "      <th>aum_AC_PHYSICAL_COMMODITY</th>\n",
       "      <th>aum_AC_REAL_ESTATE</th>\n",
       "      <th>aum_AC_TARGET</th>\n",
       "      <th>aum_P_529</th>\n",
       "      <th>aum_P_ALT</th>\n",
       "      <th>aum_P_CEF</th>\n",
       "      <th>aum_P_ETF</th>\n",
       "      <th>aum_P_MF</th>\n",
       "      <th>aum_P_SMA</th>\n",
       "      <th>aum_P_UCITS</th>\n",
       "      <th>aum_P_UIT</th>\n",
       "      <th>refresh_date_2018</th>\n",
       "      <th>sales_12M_2019</th>\n",
       "      <th>new_Fund_added_12M_2019</th>\n",
       "      <th>refresh_date_2019</th>\n",
       "    </tr>\n",
       "  </thead>\n",
       "  <tbody>\n",
       "    <tr>\n",
       "      <th>0</th>\n",
       "      <td>0047433</td>\n",
       "      <td>21.0</td>\n",
       "      <td>38.0</td>\n",
       "      <td>NaN</td>\n",
       "      <td>1.0</td>\n",
       "      <td>5.0</td>\n",
       "      <td>5.0</td>\n",
       "      <td>NaN</td>\n",
       "      <td>1.0</td>\n",
       "      <td>2.0</td>\n",
       "      <td>2.0</td>\n",
       "      <td>NaN</td>\n",
       "      <td>1.0</td>\n",
       "      <td>8.0</td>\n",
       "      <td>1.0</td>\n",
       "      <td>237480.11</td>\n",
       "      <td>250.0</td>\n",
       "      <td>19682.0</td>\n",
       "      <td>-1496.745</td>\n",
       "      <td>-102496.165</td>\n",
       "      <td>NaN</td>\n",
       "      <td>-47342.32</td>\n",
       "      <td>284737.93</td>\n",
       "      <td>84.5</td>\n",
       "      <td>0.0</td>\n",
       "      <td>0.0</td>\n",
       "      <td>0.0</td>\n",
       "      <td>0.0</td>\n",
       "      <td>0.0</td>\n",
       "      <td>0.0</td>\n",
       "      <td>0.0</td>\n",
       "      <td>0.0</td>\n",
       "      <td>0.0</td>\n",
       "      <td>122866.04</td>\n",
       "      <td>114614.07</td>\n",
       "      <td>0.0</td>\n",
       "      <td>0.0</td>\n",
       "      <td>2018-12-31</td>\n",
       "      <td>18633.105</td>\n",
       "      <td>NaN</td>\n",
       "      <td>2019-12-31</td>\n",
       "    </tr>\n",
       "    <tr>\n",
       "      <th>1</th>\n",
       "      <td>4461312</td>\n",
       "      <td>NaN</td>\n",
       "      <td>NaN</td>\n",
       "      <td>NaN</td>\n",
       "      <td>NaN</td>\n",
       "      <td>NaN</td>\n",
       "      <td>NaN</td>\n",
       "      <td>NaN</td>\n",
       "      <td>NaN</td>\n",
       "      <td>NaN</td>\n",
       "      <td>NaN</td>\n",
       "      <td>NaN</td>\n",
       "      <td>NaN</td>\n",
       "      <td>1.0</td>\n",
       "      <td>1.0</td>\n",
       "      <td>19629.00</td>\n",
       "      <td>NaN</td>\n",
       "      <td>NaN</td>\n",
       "      <td>NaN</td>\n",
       "      <td>NaN</td>\n",
       "      <td>NaN</td>\n",
       "      <td>0.00</td>\n",
       "      <td>19629.00</td>\n",
       "      <td>0.0</td>\n",
       "      <td>0.0</td>\n",
       "      <td>0.0</td>\n",
       "      <td>0.0</td>\n",
       "      <td>0.0</td>\n",
       "      <td>0.0</td>\n",
       "      <td>0.0</td>\n",
       "      <td>0.0</td>\n",
       "      <td>0.0</td>\n",
       "      <td>0.0</td>\n",
       "      <td>19629.00</td>\n",
       "      <td>0.00</td>\n",
       "      <td>0.0</td>\n",
       "      <td>0.0</td>\n",
       "      <td>2018-12-31</td>\n",
       "      <td>NaN</td>\n",
       "      <td>NaN</td>\n",
       "      <td>2019-12-31</td>\n",
       "    </tr>\n",
       "    <tr>\n",
       "      <th>2</th>\n",
       "      <td>4491079</td>\n",
       "      <td>NaN</td>\n",
       "      <td>NaN</td>\n",
       "      <td>NaN</td>\n",
       "      <td>NaN</td>\n",
       "      <td>NaN</td>\n",
       "      <td>NaN</td>\n",
       "      <td>NaN</td>\n",
       "      <td>NaN</td>\n",
       "      <td>NaN</td>\n",
       "      <td>NaN</td>\n",
       "      <td>NaN</td>\n",
       "      <td>NaN</td>\n",
       "      <td>NaN</td>\n",
       "      <td>NaN</td>\n",
       "      <td>1758.70</td>\n",
       "      <td>NaN</td>\n",
       "      <td>NaN</td>\n",
       "      <td>NaN</td>\n",
       "      <td>NaN</td>\n",
       "      <td>NaN</td>\n",
       "      <td>0.00</td>\n",
       "      <td>1758.70</td>\n",
       "      <td>0.0</td>\n",
       "      <td>0.0</td>\n",
       "      <td>0.0</td>\n",
       "      <td>0.0</td>\n",
       "      <td>0.0</td>\n",
       "      <td>0.0</td>\n",
       "      <td>0.0</td>\n",
       "      <td>0.0</td>\n",
       "      <td>0.0</td>\n",
       "      <td>0.0</td>\n",
       "      <td>1758.70</td>\n",
       "      <td>0.00</td>\n",
       "      <td>0.0</td>\n",
       "      <td>0.0</td>\n",
       "      <td>2018-12-31</td>\n",
       "      <td>NaN</td>\n",
       "      <td>NaN</td>\n",
       "      <td>2019-12-31</td>\n",
       "    </tr>\n",
       "    <tr>\n",
       "      <th>3</th>\n",
       "      <td>0107408</td>\n",
       "      <td>20.0</td>\n",
       "      <td>NaN</td>\n",
       "      <td>2.0</td>\n",
       "      <td>NaN</td>\n",
       "      <td>1.0</td>\n",
       "      <td>NaN</td>\n",
       "      <td>1.0</td>\n",
       "      <td>NaN</td>\n",
       "      <td>1.0</td>\n",
       "      <td>NaN</td>\n",
       "      <td>1.0</td>\n",
       "      <td>NaN</td>\n",
       "      <td>1.0</td>\n",
       "      <td>1.0</td>\n",
       "      <td>57943.00</td>\n",
       "      <td>5459.0</td>\n",
       "      <td>52484.0</td>\n",
       "      <td>NaN</td>\n",
       "      <td>NaN</td>\n",
       "      <td>1.0</td>\n",
       "      <td>0.00</td>\n",
       "      <td>0.00</td>\n",
       "      <td>57943.0</td>\n",
       "      <td>0.0</td>\n",
       "      <td>0.0</td>\n",
       "      <td>0.0</td>\n",
       "      <td>0.0</td>\n",
       "      <td>0.0</td>\n",
       "      <td>0.0</td>\n",
       "      <td>0.0</td>\n",
       "      <td>0.0</td>\n",
       "      <td>0.0</td>\n",
       "      <td>57943.00</td>\n",
       "      <td>0.00</td>\n",
       "      <td>0.0</td>\n",
       "      <td>0.0</td>\n",
       "      <td>2018-12-31</td>\n",
       "      <td>93212.000</td>\n",
       "      <td>1.0</td>\n",
       "      <td>2019-12-31</td>\n",
       "    </tr>\n",
       "    <tr>\n",
       "      <th>4</th>\n",
       "      <td>85101140503769936458</td>\n",
       "      <td>NaN</td>\n",
       "      <td>NaN</td>\n",
       "      <td>NaN</td>\n",
       "      <td>NaN</td>\n",
       "      <td>NaN</td>\n",
       "      <td>NaN</td>\n",
       "      <td>NaN</td>\n",
       "      <td>NaN</td>\n",
       "      <td>NaN</td>\n",
       "      <td>NaN</td>\n",
       "      <td>NaN</td>\n",
       "      <td>NaN</td>\n",
       "      <td>NaN</td>\n",
       "      <td>NaN</td>\n",
       "      <td>-8573.59</td>\n",
       "      <td>NaN</td>\n",
       "      <td>NaN</td>\n",
       "      <td>NaN</td>\n",
       "      <td>NaN</td>\n",
       "      <td>NaN</td>\n",
       "      <td>-8573.59</td>\n",
       "      <td>0.00</td>\n",
       "      <td>0.0</td>\n",
       "      <td>0.0</td>\n",
       "      <td>0.0</td>\n",
       "      <td>0.0</td>\n",
       "      <td>0.0</td>\n",
       "      <td>0.0</td>\n",
       "      <td>0.0</td>\n",
       "      <td>0.0</td>\n",
       "      <td>0.0</td>\n",
       "      <td>0.0</td>\n",
       "      <td>-8573.59</td>\n",
       "      <td>0.00</td>\n",
       "      <td>0.0</td>\n",
       "      <td>0.0</td>\n",
       "      <td>2018-12-31</td>\n",
       "      <td>NaN</td>\n",
       "      <td>NaN</td>\n",
       "      <td>2019-12-31</td>\n",
       "    </tr>\n",
       "  </tbody>\n",
       "</table>\n",
       "</div>"
      ],
      "text/plain": [
       "             CONTACT_ID  no_of_sales_12M_1  no_of_Redemption_12M_1  \\\n",
       "0               0047433               21.0                    38.0   \n",
       "1               4461312                NaN                     NaN   \n",
       "2               4491079                NaN                     NaN   \n",
       "3               0107408               20.0                     NaN   \n",
       "4  85101140503769936458                NaN                     NaN   \n",
       "\n",
       "   no_of_sales_12M_10K  no_of_Redemption_12M_10K  no_of_funds_sold_12M_1  \\\n",
       "0                  NaN                       1.0                     5.0   \n",
       "1                  NaN                       NaN                     NaN   \n",
       "2                  NaN                       NaN                     NaN   \n",
       "3                  2.0                       NaN                     1.0   \n",
       "4                  NaN                       NaN                     NaN   \n",
       "\n",
       "   no_of_funds_redeemed_12M_1  no_of_fund_sales_12M_10K  \\\n",
       "0                         5.0                       NaN   \n",
       "1                         NaN                       NaN   \n",
       "2                         NaN                       NaN   \n",
       "3                         NaN                       1.0   \n",
       "4                         NaN                       NaN   \n",
       "\n",
       "   no_of_funds_Redemption_12M_10K  no_of_assetclass_sold_12M_1  \\\n",
       "0                             1.0                          2.0   \n",
       "1                             NaN                          NaN   \n",
       "2                             NaN                          NaN   \n",
       "3                             NaN                          1.0   \n",
       "4                             NaN                          NaN   \n",
       "\n",
       "   no_of_assetclass_redeemed_12M_1  no_of_assetclass_sales_12M_10K  \\\n",
       "0                              2.0                             NaN   \n",
       "1                              NaN                             NaN   \n",
       "2                              NaN                             NaN   \n",
       "3                              NaN                             1.0   \n",
       "4                              NaN                             NaN   \n",
       "\n",
       "   no_of_assetclass_Redemption_12M_10K  No_of_fund_curr  No_of_asset_curr  \\\n",
       "0                                  1.0              8.0               1.0   \n",
       "1                                  NaN              1.0               1.0   \n",
       "2                                  NaN              NaN               NaN   \n",
       "3                                  NaN              1.0               1.0   \n",
       "4                                  NaN              NaN               NaN   \n",
       "\n",
       "         AUM  sales_curr  sales_12M_2018  redemption_curr  redemption_12M  \\\n",
       "0  237480.11       250.0         19682.0        -1496.745     -102496.165   \n",
       "1   19629.00         NaN             NaN              NaN             NaN   \n",
       "2    1758.70         NaN             NaN              NaN             NaN   \n",
       "3   57943.00      5459.0         52484.0              NaN             NaN   \n",
       "4   -8573.59         NaN             NaN              NaN             NaN   \n",
       "\n",
       "   new_Fund_added_12M_2018  aum_AC_EQUITY  aum_AC_FIXED_INCOME_MUNI  \\\n",
       "0                      NaN      -47342.32                 284737.93   \n",
       "1                      NaN           0.00                  19629.00   \n",
       "2                      NaN           0.00                   1758.70   \n",
       "3                      1.0           0.00                      0.00   \n",
       "4                      NaN       -8573.59                      0.00   \n",
       "\n",
       "   aum_AC_FIXED_INCOME_TAXABLE  aum_AC_MONEY  aum_AC_MULTIPLE  \\\n",
       "0                         84.5           0.0              0.0   \n",
       "1                          0.0           0.0              0.0   \n",
       "2                          0.0           0.0              0.0   \n",
       "3                      57943.0           0.0              0.0   \n",
       "4                          0.0           0.0              0.0   \n",
       "\n",
       "   aum_AC_PHYSICAL_COMMODITY  aum_AC_REAL_ESTATE  aum_AC_TARGET  aum_P_529  \\\n",
       "0                        0.0                 0.0            0.0        0.0   \n",
       "1                        0.0                 0.0            0.0        0.0   \n",
       "2                        0.0                 0.0            0.0        0.0   \n",
       "3                        0.0                 0.0            0.0        0.0   \n",
       "4                        0.0                 0.0            0.0        0.0   \n",
       "\n",
       "   aum_P_ALT  aum_P_CEF  aum_P_ETF   aum_P_MF  aum_P_SMA  aum_P_UCITS  \\\n",
       "0        0.0        0.0        0.0  122866.04  114614.07          0.0   \n",
       "1        0.0        0.0        0.0   19629.00       0.00          0.0   \n",
       "2        0.0        0.0        0.0    1758.70       0.00          0.0   \n",
       "3        0.0        0.0        0.0   57943.00       0.00          0.0   \n",
       "4        0.0        0.0        0.0   -8573.59       0.00          0.0   \n",
       "\n",
       "   aum_P_UIT refresh_date_2018  sales_12M_2019  new_Fund_added_12M_2019  \\\n",
       "0        0.0        2018-12-31       18633.105                      NaN   \n",
       "1        0.0        2018-12-31             NaN                      NaN   \n",
       "2        0.0        2018-12-31             NaN                      NaN   \n",
       "3        0.0        2018-12-31       93212.000                      1.0   \n",
       "4        0.0        2018-12-31             NaN                      NaN   \n",
       "\n",
       "  refresh_date_2019  \n",
       "0        2019-12-31  \n",
       "1        2019-12-31  \n",
       "2        2019-12-31  \n",
       "3        2019-12-31  \n",
       "4        2019-12-31  "
      ]
     },
     "execution_count": 3,
     "metadata": {},
     "output_type": "execute_result"
    }
   ],
   "source": [
    "df = pd.merge(\n",
    "    df18,\n",
    "    df19,\n",
    "    on='CONTACT_ID',\n",
    "    suffixes=['_2018', '_2019']\n",
    ")\n",
    "df.head()"
   ]
  },
  {
   "cell_type": "markdown",
   "metadata": {},
   "source": [
    "## Make advisor and firm dictionary mapper"
   ]
  },
  {
   "cell_type": "code",
   "execution_count": 4,
   "metadata": {},
   "outputs": [],
   "source": [
    "adviser_lookup = {\n",
    "    idx: contact_id \n",
    "        for idx, contact_id in enumerate(df['CONTACT_ID'])\n",
    "}"
   ]
  },
  {
   "cell_type": "code",
   "execution_count": 5,
   "metadata": {},
   "outputs": [
    {
     "data": {
      "text/plain": [
       "'85102150753418532658'"
      ]
     },
     "execution_count": 5,
     "metadata": {},
     "output_type": "execute_result"
    }
   ],
   "source": [
    "adviser_lookup[10]"
   ]
  },
  {
   "cell_type": "code",
   "execution_count": 6,
   "metadata": {},
   "outputs": [],
   "source": [
    "firm_lookup = {idx: contact_id for idx, contact_id in enumerate(firm['Contact ID'])}"
   ]
  },
  {
   "cell_type": "code",
   "execution_count": 7,
   "metadata": {},
   "outputs": [
    {
     "data": {
      "text/plain": [
       "'0001806'"
      ]
     },
     "execution_count": 7,
     "metadata": {},
     "output_type": "execute_result"
    }
   ],
   "source": [
    "firm_lookup[10]"
   ]
  },
  {
   "cell_type": "markdown",
   "metadata": {},
   "source": [
    "[Back to Top](#Index)\n",
    "# EDA"
   ]
  },
  {
   "cell_type": "code",
   "execution_count": 8,
   "metadata": {},
   "outputs": [],
   "source": [
    "# !conda install -yc conda-forge pandas-profiling"
   ]
  },
  {
   "cell_type": "code",
   "execution_count": 9,
   "metadata": {},
   "outputs": [],
   "source": [
    "# from pandas_profiling import ProfileReport\n",
    "\n",
    "# missing_diagrams = {\n",
    "#     'heatmap': True, 'dendrogram': True, 'matrix':True, 'bar': True,\n",
    "# }\n",
    "\n",
    "# profile = ProfileReport(df, title='Nuveen Profile Report', missing_diagrams=missing_diagrams)\n",
    "\n",
    "# profile.to_file(output_file=\"nuveen_profiling.html\")"
   ]
  },
  {
   "cell_type": "markdown",
   "metadata": {},
   "source": [
    "[Back to Top](#Index)\n",
    "# Data Cleaning"
   ]
  },
  {
   "cell_type": "code",
   "execution_count": 10,
   "metadata": {},
   "outputs": [],
   "source": [
    "# make a variable to keep all of the columns we want to drop\n",
    "COLS_TO_DROP = [\n",
    "    'refresh_date_2019', 'refresh_date_2018', 'CONTACT_ID',\n",
    "    'Contact ID', 'CustomerID', 'Firm ID', 'Office ID',\n",
    "    'Channel','Sub channel', 'Firm name'\n",
    "]\n",
    "\n",
    "COLS_TO_KEEP = [\n",
    "    'no_of_sales_12M_1', 'no_of_Redemption_12M_1', 'no_of_sales_12M_10K',\n",
    "    'no_of_Redemption_12M_10K', 'no_of_funds_sold_12M_1',\n",
    "    'no_of_funds_redeemed_12M_1', 'no_of_fund_sales_12M_10K',\n",
    "    'no_of_funds_Redemption_12M_10K', 'no_of_assetclass_sold_12M_1',\n",
    "    'no_of_assetclass_redeemed_12M_1', 'no_of_assetclass_sales_12M_10K',\n",
    "    'no_of_assetclass_Redemption_12M_10K', 'No_of_fund_curr',\n",
    "    'No_of_asset_curr', 'AUM', 'sales_curr', 'sales_12M_2018',\n",
    "    'redemption_curr', 'redemption_12M', 'new_Fund_added_12M_2018',\n",
    "    'aum_AC_EQUITY', 'aum_AC_FIXED_INCOME_MUNI',\n",
    "    'aum_AC_FIXED_INCOME_TAXABLE', 'aum_AC_MONEY', 'aum_AC_MULTIPLE',\n",
    "    'aum_AC_PHYSICAL_COMMODITY', 'aum_AC_REAL_ESTATE', 'aum_AC_TARGET',\n",
    "    'aum_P_529', 'aum_P_ALT', 'aum_P_CEF', 'aum_P_ETF', 'aum_P_MF',\n",
    "    'aum_P_SMA', 'aum_P_UCITS', 'aum_P_UIT', \n",
    "]\n",
    "\n",
    "FIRM_COLS = ['Contact ID', 'Channel','Sub channel',]"
   ]
  },
  {
   "cell_type": "markdown",
   "metadata": {},
   "source": [
    "# Make `Firm` data pipeline"
   ]
  },
  {
   "cell_type": "code",
   "execution_count": 11,
   "metadata": {},
   "outputs": [
    {
     "data": {
      "text/html": [
       "<div>\n",
       "<style scoped>\n",
       "    .dataframe tbody tr th:only-of-type {\n",
       "        vertical-align: middle;\n",
       "    }\n",
       "\n",
       "    .dataframe tbody tr th {\n",
       "        vertical-align: top;\n",
       "    }\n",
       "\n",
       "    .dataframe thead th {\n",
       "        text-align: right;\n",
       "    }\n",
       "</style>\n",
       "<table border=\"1\" class=\"dataframe\">\n",
       "  <thead>\n",
       "    <tr style=\"text-align: right;\">\n",
       "      <th></th>\n",
       "      <th>CONTACT_ID</th>\n",
       "      <th>no_of_sales_12M_1</th>\n",
       "      <th>no_of_Redemption_12M_1</th>\n",
       "      <th>no_of_sales_12M_10K</th>\n",
       "      <th>no_of_Redemption_12M_10K</th>\n",
       "      <th>no_of_funds_sold_12M_1</th>\n",
       "      <th>no_of_funds_redeemed_12M_1</th>\n",
       "      <th>no_of_fund_sales_12M_10K</th>\n",
       "      <th>no_of_funds_Redemption_12M_10K</th>\n",
       "      <th>no_of_assetclass_sold_12M_1</th>\n",
       "      <th>no_of_assetclass_redeemed_12M_1</th>\n",
       "      <th>no_of_assetclass_sales_12M_10K</th>\n",
       "      <th>no_of_assetclass_Redemption_12M_10K</th>\n",
       "      <th>No_of_fund_curr</th>\n",
       "      <th>No_of_asset_curr</th>\n",
       "      <th>AUM</th>\n",
       "      <th>sales_curr</th>\n",
       "      <th>sales_12M_2018</th>\n",
       "      <th>redemption_curr</th>\n",
       "      <th>redemption_12M</th>\n",
       "      <th>new_Fund_added_12M_2018</th>\n",
       "      <th>aum_AC_EQUITY</th>\n",
       "      <th>aum_AC_FIXED_INCOME_MUNI</th>\n",
       "      <th>aum_AC_FIXED_INCOME_TAXABLE</th>\n",
       "      <th>aum_AC_MONEY</th>\n",
       "      <th>aum_AC_MULTIPLE</th>\n",
       "      <th>aum_AC_PHYSICAL_COMMODITY</th>\n",
       "      <th>aum_AC_REAL_ESTATE</th>\n",
       "      <th>aum_AC_TARGET</th>\n",
       "      <th>aum_P_529</th>\n",
       "      <th>aum_P_ALT</th>\n",
       "      <th>aum_P_CEF</th>\n",
       "      <th>aum_P_ETF</th>\n",
       "      <th>aum_P_MF</th>\n",
       "      <th>aum_P_SMA</th>\n",
       "      <th>aum_P_UCITS</th>\n",
       "      <th>aum_P_UIT</th>\n",
       "      <th>refresh_date_2018</th>\n",
       "      <th>sales_12M_2019</th>\n",
       "      <th>new_Fund_added_12M_2019</th>\n",
       "      <th>refresh_date_2019</th>\n",
       "      <th>Contact ID</th>\n",
       "      <th>CustomerID</th>\n",
       "      <th>Firm ID</th>\n",
       "      <th>Office ID</th>\n",
       "      <th>Channel</th>\n",
       "      <th>Sub channel</th>\n",
       "      <th>Firm name</th>\n",
       "    </tr>\n",
       "  </thead>\n",
       "  <tbody>\n",
       "    <tr>\n",
       "      <th>0</th>\n",
       "      <td>0047433</td>\n",
       "      <td>21.0</td>\n",
       "      <td>38.0</td>\n",
       "      <td>NaN</td>\n",
       "      <td>1.0</td>\n",
       "      <td>5.0</td>\n",
       "      <td>5.0</td>\n",
       "      <td>NaN</td>\n",
       "      <td>1.0</td>\n",
       "      <td>2.0</td>\n",
       "      <td>2.0</td>\n",
       "      <td>NaN</td>\n",
       "      <td>1.0</td>\n",
       "      <td>8.0</td>\n",
       "      <td>1.0</td>\n",
       "      <td>237480.11</td>\n",
       "      <td>250.0</td>\n",
       "      <td>19682.0</td>\n",
       "      <td>-1496.745</td>\n",
       "      <td>-102496.165</td>\n",
       "      <td>NaN</td>\n",
       "      <td>-47342.32</td>\n",
       "      <td>284737.93</td>\n",
       "      <td>84.5</td>\n",
       "      <td>0.0</td>\n",
       "      <td>0.0</td>\n",
       "      <td>0.0</td>\n",
       "      <td>0.0</td>\n",
       "      <td>0.0</td>\n",
       "      <td>0.0</td>\n",
       "      <td>0.0</td>\n",
       "      <td>0.0</td>\n",
       "      <td>0.0</td>\n",
       "      <td>122866.04</td>\n",
       "      <td>114614.07</td>\n",
       "      <td>0.0</td>\n",
       "      <td>0.0</td>\n",
       "      <td>2018-12-31</td>\n",
       "      <td>18633.105</td>\n",
       "      <td>NaN</td>\n",
       "      <td>2019-12-31</td>\n",
       "      <td>0047433</td>\n",
       "      <td>240</td>\n",
       "      <td>1688552</td>\n",
       "      <td>85101152293608716061</td>\n",
       "      <td>National Broker-Dealer</td>\n",
       "      <td>NACS</td>\n",
       "      <td>UBS Financial Services, Inc.</td>\n",
       "    </tr>\n",
       "  </tbody>\n",
       "</table>\n",
       "</div>"
      ],
      "text/plain": [
       "  CONTACT_ID  no_of_sales_12M_1  no_of_Redemption_12M_1  no_of_sales_12M_10K  \\\n",
       "0    0047433               21.0                    38.0                  NaN   \n",
       "\n",
       "   no_of_Redemption_12M_10K  no_of_funds_sold_12M_1  \\\n",
       "0                       1.0                     5.0   \n",
       "\n",
       "   no_of_funds_redeemed_12M_1  no_of_fund_sales_12M_10K  \\\n",
       "0                         5.0                       NaN   \n",
       "\n",
       "   no_of_funds_Redemption_12M_10K  no_of_assetclass_sold_12M_1  \\\n",
       "0                             1.0                          2.0   \n",
       "\n",
       "   no_of_assetclass_redeemed_12M_1  no_of_assetclass_sales_12M_10K  \\\n",
       "0                              2.0                             NaN   \n",
       "\n",
       "   no_of_assetclass_Redemption_12M_10K  No_of_fund_curr  No_of_asset_curr  \\\n",
       "0                                  1.0              8.0               1.0   \n",
       "\n",
       "         AUM  sales_curr  sales_12M_2018  redemption_curr  redemption_12M  \\\n",
       "0  237480.11       250.0         19682.0        -1496.745     -102496.165   \n",
       "\n",
       "   new_Fund_added_12M_2018  aum_AC_EQUITY  aum_AC_FIXED_INCOME_MUNI  \\\n",
       "0                      NaN      -47342.32                 284737.93   \n",
       "\n",
       "   aum_AC_FIXED_INCOME_TAXABLE  aum_AC_MONEY  aum_AC_MULTIPLE  \\\n",
       "0                         84.5           0.0              0.0   \n",
       "\n",
       "   aum_AC_PHYSICAL_COMMODITY  aum_AC_REAL_ESTATE  aum_AC_TARGET  aum_P_529  \\\n",
       "0                        0.0                 0.0            0.0        0.0   \n",
       "\n",
       "   aum_P_ALT  aum_P_CEF  aum_P_ETF   aum_P_MF  aum_P_SMA  aum_P_UCITS  \\\n",
       "0        0.0        0.0        0.0  122866.04  114614.07          0.0   \n",
       "\n",
       "   aum_P_UIT refresh_date_2018  sales_12M_2019  new_Fund_added_12M_2019  \\\n",
       "0        0.0        2018-12-31       18633.105                      NaN   \n",
       "\n",
       "  refresh_date_2019 Contact ID  CustomerID  Firm ID             Office ID  \\\n",
       "0        2019-12-31    0047433         240  1688552  85101152293608716061   \n",
       "\n",
       "                  Channel Sub channel                     Firm name  \n",
       "0  National Broker-Dealer        NACS  UBS Financial Services, Inc.  "
      ]
     },
     "execution_count": 11,
     "metadata": {},
     "output_type": "execute_result"
    }
   ],
   "source": [
    "df = pd.merge(df, firm, left_on=\"CONTACT_ID\", right_on='Contact ID')\n",
    "df.head(1)"
   ]
  },
  {
   "cell_type": "code",
   "execution_count": 12,
   "metadata": {},
   "outputs": [],
   "source": [
    "X = df.drop(['sales_12M_2019', 'new_Fund_added_12M_2019'], axis=1)\n",
    "y_reg = df['sales_12M_2019']\n",
    "y_cl = df['new_Fund_added_12M_2019']"
   ]
  },
  {
   "cell_type": "markdown",
   "metadata": {},
   "source": [
    "## Train-Test-Split"
   ]
  },
  {
   "cell_type": "code",
   "execution_count": 13,
   "metadata": {},
   "outputs": [],
   "source": [
    "X_train, X_test, y_train_reg, y_test_reg = train_test_split(\n",
    "    X, y_reg, test_size=0.3, random_state=24\n",
    ")\n",
    "y_train_cl, y_test_cl = y_cl[y_train_reg.index], y_cl[y_test_reg.index]"
   ]
  },
  {
   "cell_type": "markdown",
   "metadata": {},
   "source": [
    "## Custom Cleaning Functions"
   ]
  },
  {
   "cell_type": "markdown",
   "metadata": {},
   "source": [
    "Let's create functions that do some basic housekeeping"
   ]
  },
  {
   "cell_type": "code",
   "execution_count": 14,
   "metadata": {},
   "outputs": [],
   "source": [
    "def extract_columns(df):\n",
    "    '''extract out columns not listed in COLS_TO_DROP variable'''\n",
    "    cols_to_keep = [col for col in df.columns if col not in COLS_TO_DROP]\n",
    "    return df.loc[:, cols_to_keep].copy()\n",
    "\n",
    "\n",
    "def fillna_values(df):\n",
    "    '''fill nan values with zero'''\n",
    "    if isinstance(df, type(pd.Series(dtype='float64'))):\n",
    "        return df.fillna(0)\n",
    "    num_df = df.select_dtypes(include=['number']).fillna(0)\n",
    "    non_num_df = df.select_dtypes(exclude=['number'])\n",
    "    return pd.concat([num_df, non_num_df], axis=1)\n",
    "\n",
    "\n",
    "def negative_to_zero(df):\n",
    "    if isinstance(df, type(pd.Series(dtype='float64'))):\n",
    "        return df.apply(lambda x: max(0, x))\n",
    "    else:\n",
    "        return df.select_dtypes(include='number').clip(lower=0)"
   ]
  },
  {
   "cell_type": "markdown",
   "metadata": {},
   "source": [
    "[Back to Top](#Index)\n",
    "## Create Cleaning Pipeline\n",
    "\n",
    "- Pipeline for target variable\n",
    "- Pipeline for features"
   ]
  },
  {
   "cell_type": "code",
   "execution_count": 15,
   "metadata": {},
   "outputs": [],
   "source": [
    "from sklearn.pipeline import Pipeline\n",
    "from sklearn.preprocessing import FunctionTransformer, PowerTransformer\n",
    "from sklearn.preprocessing import StandardScaler"
   ]
  },
  {
   "cell_type": "code",
   "execution_count": 16,
   "metadata": {},
   "outputs": [],
   "source": [
    "extract_columns_trans = FunctionTransformer(extract_columns)\n",
    "fillna_values_trans = FunctionTransformer(fillna_values)\n",
    "negative_to_zero_trans = FunctionTransformer(negative_to_zero)"
   ]
  },
  {
   "cell_type": "markdown",
   "metadata": {},
   "source": [
    "Make pipeline for regression target variable"
   ]
  },
  {
   "cell_type": "code",
   "execution_count": 17,
   "metadata": {},
   "outputs": [],
   "source": [
    "targ_pipe_reg = Pipeline([\n",
    "    ('fillna_values_trans', fillna_values_trans),\n",
    "    ('negative_to_zero_trans', negative_to_zero_trans),\n",
    "    ('PowerTransformer', PowerTransformer(standardize=False))\n",
    "])\n",
    "\n",
    "y_train_reg = pd.Series(\n",
    "    targ_pipe_reg.fit_transform(y_train_reg.to_frame()).squeeze(),\n",
    "    index=y_train_reg.index\n",
    ")\n",
    "y_test_reg = pd.Series(\n",
    "    targ_pipe_reg.transform(y_test_reg.to_frame()).squeeze(),\n",
    "    index=y_test_reg.index\n",
    ")"
   ]
  },
  {
   "cell_type": "markdown",
   "metadata": {},
   "source": [
    "Transform the classification target"
   ]
  },
  {
   "cell_type": "code",
   "execution_count": 18,
   "metadata": {},
   "outputs": [],
   "source": [
    "from sklearn.preprocessing import Binarizer\n",
    "\n",
    "targ_pipe_cl = Pipeline([\n",
    "    ('fillna_values_trans', fillna_values_trans),\n",
    "    ('Binarizer', Binarizer(threshold=0))\n",
    "])\n",
    "\n",
    "y_train_cl = pd.Series(\n",
    "    targ_pipe_cl\n",
    "        .fit_transform(y_train_cl.to_frame())\n",
    "        .reshape(-1), index=y_train_cl.index)\n",
    "\n",
    "y_test_cl = pd.Series(\n",
    "    targ_pipe_cl\n",
    "        .transform(y_test_cl.to_frame())\n",
    "        .reshape(-1), index=y_test_cl.index)"
   ]
  },
  {
   "cell_type": "markdown",
   "metadata": {},
   "source": [
    "Create the pipeline for the features"
   ]
  },
  {
   "cell_type": "code",
   "execution_count": 19,
   "metadata": {},
   "outputs": [],
   "source": [
    "feat_pipe = Pipeline([\n",
    "    ('extract_columns_trans', extract_columns_trans),\n",
    "    ('fillna_values_trans', fillna_values_trans),\n",
    "    ('StandardScaler', StandardScaler()),\n",
    "])\n",
    "\n",
    "X_train_prepared = feat_pipe.fit(X_train).transform(X_train)\n",
    "X_test_prepared = feat_pipe.transform(X_test)"
   ]
  },
  {
   "cell_type": "markdown",
   "metadata": {},
   "source": [
    "**TRANSFORM** Test set"
   ]
  },
  {
   "cell_type": "code",
   "execution_count": 20,
   "metadata": {},
   "outputs": [],
   "source": [
    "X_train_prepared = pd.DataFrame(\n",
    "    X_train_prepared,\n",
    "    index=X_train.index,\n",
    "    columns=COLS_TO_KEEP\n",
    ")\n",
    "\n",
    "X_test_prepared = pd.DataFrame(\n",
    "    feat_pipe.transform(X_test),\n",
    "    index=X_test.index,\n",
    "    columns=COLS_TO_KEEP\n",
    ")"
   ]
  },
  {
   "cell_type": "code",
   "execution_count": 21,
   "metadata": {},
   "outputs": [
    {
     "data": {
      "text/html": [
       "<div>\n",
       "<style scoped>\n",
       "    .dataframe tbody tr th:only-of-type {\n",
       "        vertical-align: middle;\n",
       "    }\n",
       "\n",
       "    .dataframe tbody tr th {\n",
       "        vertical-align: top;\n",
       "    }\n",
       "\n",
       "    .dataframe thead th {\n",
       "        text-align: right;\n",
       "    }\n",
       "</style>\n",
       "<table border=\"1\" class=\"dataframe\">\n",
       "  <thead>\n",
       "    <tr style=\"text-align: right;\">\n",
       "      <th></th>\n",
       "      <th>no_of_sales_12M_1</th>\n",
       "      <th>no_of_Redemption_12M_1</th>\n",
       "      <th>no_of_sales_12M_10K</th>\n",
       "      <th>no_of_Redemption_12M_10K</th>\n",
       "      <th>no_of_funds_sold_12M_1</th>\n",
       "      <th>no_of_funds_redeemed_12M_1</th>\n",
       "      <th>no_of_fund_sales_12M_10K</th>\n",
       "      <th>no_of_funds_Redemption_12M_10K</th>\n",
       "      <th>no_of_assetclass_sold_12M_1</th>\n",
       "      <th>no_of_assetclass_redeemed_12M_1</th>\n",
       "      <th>no_of_assetclass_sales_12M_10K</th>\n",
       "      <th>no_of_assetclass_Redemption_12M_10K</th>\n",
       "      <th>No_of_fund_curr</th>\n",
       "      <th>No_of_asset_curr</th>\n",
       "      <th>AUM</th>\n",
       "      <th>sales_curr</th>\n",
       "      <th>sales_12M_2018</th>\n",
       "      <th>redemption_curr</th>\n",
       "      <th>redemption_12M</th>\n",
       "      <th>new_Fund_added_12M_2018</th>\n",
       "      <th>aum_AC_EQUITY</th>\n",
       "      <th>aum_AC_FIXED_INCOME_MUNI</th>\n",
       "      <th>aum_AC_FIXED_INCOME_TAXABLE</th>\n",
       "      <th>aum_AC_MONEY</th>\n",
       "      <th>aum_AC_MULTIPLE</th>\n",
       "      <th>aum_AC_PHYSICAL_COMMODITY</th>\n",
       "      <th>aum_AC_REAL_ESTATE</th>\n",
       "      <th>aum_AC_TARGET</th>\n",
       "      <th>aum_P_529</th>\n",
       "      <th>aum_P_ALT</th>\n",
       "      <th>aum_P_CEF</th>\n",
       "      <th>aum_P_ETF</th>\n",
       "      <th>aum_P_MF</th>\n",
       "      <th>aum_P_SMA</th>\n",
       "      <th>aum_P_UCITS</th>\n",
       "      <th>aum_P_UIT</th>\n",
       "    </tr>\n",
       "  </thead>\n",
       "  <tbody>\n",
       "    <tr>\n",
       "      <th>2052</th>\n",
       "      <td>-0.199371</td>\n",
       "      <td>-0.093252</td>\n",
       "      <td>-0.207843</td>\n",
       "      <td>-0.089515</td>\n",
       "      <td>-0.573977</td>\n",
       "      <td>-0.221485</td>\n",
       "      <td>-0.430359</td>\n",
       "      <td>0.301512</td>\n",
       "      <td>-0.784078</td>\n",
       "      <td>0.083188</td>\n",
       "      <td>-0.536570</td>\n",
       "      <td>0.782602</td>\n",
       "      <td>-0.373415</td>\n",
       "      <td>0.063655</td>\n",
       "      <td>-0.258339</td>\n",
       "      <td>-0.085083</td>\n",
       "      <td>-0.151783</td>\n",
       "      <td>-0.609095</td>\n",
       "      <td>0.095688</td>\n",
       "      <td>-0.415778</td>\n",
       "      <td>-0.518275</td>\n",
       "      <td>-0.078960</td>\n",
       "      <td>-0.058282</td>\n",
       "      <td>-0.012892</td>\n",
       "      <td>-0.022410</td>\n",
       "      <td>6.269968</td>\n",
       "      <td>-0.03771</td>\n",
       "      <td>-0.041009</td>\n",
       "      <td>-0.076091</td>\n",
       "      <td>-0.030313</td>\n",
       "      <td>-0.094052</td>\n",
       "      <td>-0.019128</td>\n",
       "      <td>-0.259043</td>\n",
       "      <td>-0.056194</td>\n",
       "      <td>-0.01714</td>\n",
       "      <td>-0.070413</td>\n",
       "    </tr>\n",
       "    <tr>\n",
       "      <th>2758</th>\n",
       "      <td>-0.159635</td>\n",
       "      <td>-0.048462</td>\n",
       "      <td>-0.207843</td>\n",
       "      <td>-0.205862</td>\n",
       "      <td>-0.153081</td>\n",
       "      <td>0.591014</td>\n",
       "      <td>-0.430359</td>\n",
       "      <td>-0.442232</td>\n",
       "      <td>0.201190</td>\n",
       "      <td>1.035094</td>\n",
       "      <td>-0.536570</td>\n",
       "      <td>-0.561332</td>\n",
       "      <td>-0.693256</td>\n",
       "      <td>-0.888855</td>\n",
       "      <td>-0.102691</td>\n",
       "      <td>-0.083568</td>\n",
       "      <td>-0.151026</td>\n",
       "      <td>0.091395</td>\n",
       "      <td>0.146089</td>\n",
       "      <td>-0.415778</td>\n",
       "      <td>-0.039400</td>\n",
       "      <td>-0.078960</td>\n",
       "      <td>-0.065878</td>\n",
       "      <td>-0.012892</td>\n",
       "      <td>-0.022410</td>\n",
       "      <td>-0.042489</td>\n",
       "      <td>-0.03771</td>\n",
       "      <td>-0.041009</td>\n",
       "      <td>-0.076091</td>\n",
       "      <td>-0.030313</td>\n",
       "      <td>-0.094052</td>\n",
       "      <td>-0.019128</td>\n",
       "      <td>-0.073601</td>\n",
       "      <td>-0.056194</td>\n",
       "      <td>-0.01714</td>\n",
       "      <td>-0.070413</td>\n",
       "    </tr>\n",
       "    <tr>\n",
       "      <th>4334</th>\n",
       "      <td>-0.199371</td>\n",
       "      <td>-0.097731</td>\n",
       "      <td>-0.207843</td>\n",
       "      <td>-0.205862</td>\n",
       "      <td>-0.573977</td>\n",
       "      <td>-0.627735</td>\n",
       "      <td>-0.430359</td>\n",
       "      <td>-0.442232</td>\n",
       "      <td>-0.784078</td>\n",
       "      <td>-0.868718</td>\n",
       "      <td>-0.536570</td>\n",
       "      <td>-0.561332</td>\n",
       "      <td>-0.373415</td>\n",
       "      <td>0.063655</td>\n",
       "      <td>-0.093857</td>\n",
       "      <td>-0.085083</td>\n",
       "      <td>-0.151783</td>\n",
       "      <td>0.091395</td>\n",
       "      <td>0.155620</td>\n",
       "      <td>-0.415778</td>\n",
       "      <td>-0.027182</td>\n",
       "      <td>-0.079302</td>\n",
       "      <td>-0.040421</td>\n",
       "      <td>-0.012892</td>\n",
       "      <td>-0.018591</td>\n",
       "      <td>-0.042489</td>\n",
       "      <td>-0.03771</td>\n",
       "      <td>-0.041009</td>\n",
       "      <td>-0.076091</td>\n",
       "      <td>-0.030313</td>\n",
       "      <td>-0.094052</td>\n",
       "      <td>-0.019128</td>\n",
       "      <td>-0.063076</td>\n",
       "      <td>-0.056194</td>\n",
       "      <td>-0.01714</td>\n",
       "      <td>-0.070413</td>\n",
       "    </tr>\n",
       "    <tr>\n",
       "      <th>9047</th>\n",
       "      <td>0.118515</td>\n",
       "      <td>0.050076</td>\n",
       "      <td>-0.207843</td>\n",
       "      <td>-0.205862</td>\n",
       "      <td>0.688712</td>\n",
       "      <td>0.591014</td>\n",
       "      <td>-0.430359</td>\n",
       "      <td>-0.442232</td>\n",
       "      <td>1.186457</td>\n",
       "      <td>1.035094</td>\n",
       "      <td>-0.536570</td>\n",
       "      <td>-0.561332</td>\n",
       "      <td>-0.053573</td>\n",
       "      <td>0.063655</td>\n",
       "      <td>-0.096939</td>\n",
       "      <td>-0.073236</td>\n",
       "      <td>-0.133039</td>\n",
       "      <td>0.091103</td>\n",
       "      <td>0.144632</td>\n",
       "      <td>-0.415778</td>\n",
       "      <td>-0.014956</td>\n",
       "      <td>-0.085461</td>\n",
       "      <td>-0.058935</td>\n",
       "      <td>-0.012892</td>\n",
       "      <td>-0.022410</td>\n",
       "      <td>-0.042489</td>\n",
       "      <td>-0.03771</td>\n",
       "      <td>-0.041009</td>\n",
       "      <td>-0.076091</td>\n",
       "      <td>-0.030313</td>\n",
       "      <td>-0.094052</td>\n",
       "      <td>-0.019128</td>\n",
       "      <td>-0.066749</td>\n",
       "      <td>-0.056194</td>\n",
       "      <td>-0.01714</td>\n",
       "      <td>-0.070413</td>\n",
       "    </tr>\n",
       "    <tr>\n",
       "      <th>7001</th>\n",
       "      <td>0.009242</td>\n",
       "      <td>0.171009</td>\n",
       "      <td>-0.115750</td>\n",
       "      <td>0.259524</td>\n",
       "      <td>-0.153081</td>\n",
       "      <td>1.403513</td>\n",
       "      <td>0.318971</td>\n",
       "      <td>1.789002</td>\n",
       "      <td>0.201190</td>\n",
       "      <td>1.035094</td>\n",
       "      <td>0.858232</td>\n",
       "      <td>2.126536</td>\n",
       "      <td>0.266268</td>\n",
       "      <td>0.063655</td>\n",
       "      <td>-0.098609</td>\n",
       "      <td>-0.085083</td>\n",
       "      <td>-0.077280</td>\n",
       "      <td>0.070873</td>\n",
       "      <td>-0.189406</td>\n",
       "      <td>-0.415778</td>\n",
       "      <td>-0.037940</td>\n",
       "      <td>-0.079761</td>\n",
       "      <td>-0.037229</td>\n",
       "      <td>-0.012892</td>\n",
       "      <td>-0.022410</td>\n",
       "      <td>-0.042489</td>\n",
       "      <td>-0.03771</td>\n",
       "      <td>-0.041009</td>\n",
       "      <td>-0.076091</td>\n",
       "      <td>-0.030313</td>\n",
       "      <td>-0.094052</td>\n",
       "      <td>-0.019128</td>\n",
       "      <td>-0.068738</td>\n",
       "      <td>-0.056194</td>\n",
       "      <td>-0.01714</td>\n",
       "      <td>-0.070413</td>\n",
       "    </tr>\n",
       "    <tr>\n",
       "      <th>...</th>\n",
       "      <td>...</td>\n",
       "      <td>...</td>\n",
       "      <td>...</td>\n",
       "      <td>...</td>\n",
       "      <td>...</td>\n",
       "      <td>...</td>\n",
       "      <td>...</td>\n",
       "      <td>...</td>\n",
       "      <td>...</td>\n",
       "      <td>...</td>\n",
       "      <td>...</td>\n",
       "      <td>...</td>\n",
       "      <td>...</td>\n",
       "      <td>...</td>\n",
       "      <td>...</td>\n",
       "      <td>...</td>\n",
       "      <td>...</td>\n",
       "      <td>...</td>\n",
       "      <td>...</td>\n",
       "      <td>...</td>\n",
       "      <td>...</td>\n",
       "      <td>...</td>\n",
       "      <td>...</td>\n",
       "      <td>...</td>\n",
       "      <td>...</td>\n",
       "      <td>...</td>\n",
       "      <td>...</td>\n",
       "      <td>...</td>\n",
       "      <td>...</td>\n",
       "      <td>...</td>\n",
       "      <td>...</td>\n",
       "      <td>...</td>\n",
       "      <td>...</td>\n",
       "      <td>...</td>\n",
       "      <td>...</td>\n",
       "      <td>...</td>\n",
       "    </tr>\n",
       "    <tr>\n",
       "      <th>3541</th>\n",
       "      <td>0.376797</td>\n",
       "      <td>0.112782</td>\n",
       "      <td>1.357732</td>\n",
       "      <td>0.375870</td>\n",
       "      <td>1.109608</td>\n",
       "      <td>0.591014</td>\n",
       "      <td>1.817630</td>\n",
       "      <td>1.789002</td>\n",
       "      <td>2.171725</td>\n",
       "      <td>1.987000</td>\n",
       "      <td>3.647837</td>\n",
       "      <td>3.470469</td>\n",
       "      <td>0.905951</td>\n",
       "      <td>1.016164</td>\n",
       "      <td>0.240511</td>\n",
       "      <td>-0.085083</td>\n",
       "      <td>0.168188</td>\n",
       "      <td>-0.352809</td>\n",
       "      <td>-0.123876</td>\n",
       "      <td>1.289958</td>\n",
       "      <td>-0.098124</td>\n",
       "      <td>-0.029076</td>\n",
       "      <td>-0.138181</td>\n",
       "      <td>-0.012892</td>\n",
       "      <td>4.647680</td>\n",
       "      <td>-0.042489</td>\n",
       "      <td>-0.03771</td>\n",
       "      <td>-0.041009</td>\n",
       "      <td>-0.076091</td>\n",
       "      <td>-0.030313</td>\n",
       "      <td>-0.094052</td>\n",
       "      <td>-0.019128</td>\n",
       "      <td>0.335295</td>\n",
       "      <td>-0.056194</td>\n",
       "      <td>-0.01714</td>\n",
       "      <td>-0.070413</td>\n",
       "    </tr>\n",
       "    <tr>\n",
       "      <th>785</th>\n",
       "      <td>-0.199371</td>\n",
       "      <td>-0.097731</td>\n",
       "      <td>-0.207843</td>\n",
       "      <td>-0.205862</td>\n",
       "      <td>-0.573977</td>\n",
       "      <td>-0.627735</td>\n",
       "      <td>-0.430359</td>\n",
       "      <td>-0.442232</td>\n",
       "      <td>-0.784078</td>\n",
       "      <td>-0.868718</td>\n",
       "      <td>-0.536570</td>\n",
       "      <td>-0.561332</td>\n",
       "      <td>-0.693256</td>\n",
       "      <td>-0.888855</td>\n",
       "      <td>-0.097262</td>\n",
       "      <td>-0.085083</td>\n",
       "      <td>-0.151783</td>\n",
       "      <td>0.091395</td>\n",
       "      <td>0.155620</td>\n",
       "      <td>-0.415778</td>\n",
       "      <td>-0.029158</td>\n",
       "      <td>-0.078960</td>\n",
       "      <td>-0.058282</td>\n",
       "      <td>-0.012892</td>\n",
       "      <td>-0.022410</td>\n",
       "      <td>-0.042489</td>\n",
       "      <td>-0.03771</td>\n",
       "      <td>-0.041009</td>\n",
       "      <td>-0.076091</td>\n",
       "      <td>-0.030313</td>\n",
       "      <td>-0.094052</td>\n",
       "      <td>-0.019128</td>\n",
       "      <td>-0.067133</td>\n",
       "      <td>-0.056194</td>\n",
       "      <td>-0.01714</td>\n",
       "      <td>-0.070413</td>\n",
       "    </tr>\n",
       "    <tr>\n",
       "      <th>7614</th>\n",
       "      <td>-0.199371</td>\n",
       "      <td>-0.097731</td>\n",
       "      <td>-0.207843</td>\n",
       "      <td>-0.205862</td>\n",
       "      <td>-0.573977</td>\n",
       "      <td>-0.627735</td>\n",
       "      <td>-0.430359</td>\n",
       "      <td>-0.442232</td>\n",
       "      <td>-0.784078</td>\n",
       "      <td>-0.868718</td>\n",
       "      <td>-0.536570</td>\n",
       "      <td>-0.561332</td>\n",
       "      <td>-0.373415</td>\n",
       "      <td>0.063655</td>\n",
       "      <td>-0.085369</td>\n",
       "      <td>-0.085083</td>\n",
       "      <td>-0.151783</td>\n",
       "      <td>0.091395</td>\n",
       "      <td>0.155620</td>\n",
       "      <td>-0.415778</td>\n",
       "      <td>-0.029158</td>\n",
       "      <td>-0.065118</td>\n",
       "      <td>-0.058282</td>\n",
       "      <td>-0.012892</td>\n",
       "      <td>-0.022410</td>\n",
       "      <td>-0.042489</td>\n",
       "      <td>-0.03771</td>\n",
       "      <td>-0.041009</td>\n",
       "      <td>-0.076091</td>\n",
       "      <td>-0.030313</td>\n",
       "      <td>-0.094052</td>\n",
       "      <td>-0.019128</td>\n",
       "      <td>-0.052964</td>\n",
       "      <td>-0.056194</td>\n",
       "      <td>-0.01714</td>\n",
       "      <td>-0.070413</td>\n",
       "    </tr>\n",
       "    <tr>\n",
       "      <th>9577</th>\n",
       "      <td>-0.000692</td>\n",
       "      <td>-0.084294</td>\n",
       "      <td>-0.115750</td>\n",
       "      <td>-0.205862</td>\n",
       "      <td>0.688712</td>\n",
       "      <td>-0.221485</td>\n",
       "      <td>0.318971</td>\n",
       "      <td>-0.442232</td>\n",
       "      <td>1.186457</td>\n",
       "      <td>0.083188</td>\n",
       "      <td>0.858232</td>\n",
       "      <td>-0.561332</td>\n",
       "      <td>0.266268</td>\n",
       "      <td>1.016164</td>\n",
       "      <td>-0.065484</td>\n",
       "      <td>-0.079434</td>\n",
       "      <td>-0.123801</td>\n",
       "      <td>0.091395</td>\n",
       "      <td>0.155591</td>\n",
       "      <td>-0.415778</td>\n",
       "      <td>0.018326</td>\n",
       "      <td>-0.065245</td>\n",
       "      <td>-0.058282</td>\n",
       "      <td>-0.012892</td>\n",
       "      <td>-0.023818</td>\n",
       "      <td>-0.038570</td>\n",
       "      <td>-0.03771</td>\n",
       "      <td>-0.041009</td>\n",
       "      <td>-0.076091</td>\n",
       "      <td>-0.030313</td>\n",
       "      <td>-0.094052</td>\n",
       "      <td>-0.019128</td>\n",
       "      <td>-0.040609</td>\n",
       "      <td>-0.037756</td>\n",
       "      <td>-0.01714</td>\n",
       "      <td>-0.070413</td>\n",
       "    </tr>\n",
       "    <tr>\n",
       "      <th>1086</th>\n",
       "      <td>0.039043</td>\n",
       "      <td>-0.052941</td>\n",
       "      <td>0.160528</td>\n",
       "      <td>0.143178</td>\n",
       "      <td>-0.153081</td>\n",
       "      <td>-0.221485</td>\n",
       "      <td>0.318971</td>\n",
       "      <td>0.301512</td>\n",
       "      <td>0.201190</td>\n",
       "      <td>0.083188</td>\n",
       "      <td>0.858232</td>\n",
       "      <td>0.782602</td>\n",
       "      <td>-0.373415</td>\n",
       "      <td>0.063655</td>\n",
       "      <td>-0.019565</td>\n",
       "      <td>-0.054129</td>\n",
       "      <td>-0.060573</td>\n",
       "      <td>0.026957</td>\n",
       "      <td>0.058980</td>\n",
       "      <td>-0.415778</td>\n",
       "      <td>0.154688</td>\n",
       "      <td>-0.078960</td>\n",
       "      <td>-0.058282</td>\n",
       "      <td>-0.012892</td>\n",
       "      <td>-0.022410</td>\n",
       "      <td>-0.042489</td>\n",
       "      <td>-0.03771</td>\n",
       "      <td>-0.041009</td>\n",
       "      <td>-0.076091</td>\n",
       "      <td>-0.030313</td>\n",
       "      <td>-0.094052</td>\n",
       "      <td>-0.019128</td>\n",
       "      <td>0.025436</td>\n",
       "      <td>-0.056194</td>\n",
       "      <td>-0.01714</td>\n",
       "      <td>-0.070413</td>\n",
       "    </tr>\n",
       "  </tbody>\n",
       "</table>\n",
       "<p>3002 rows × 36 columns</p>\n",
       "</div>"
      ],
      "text/plain": [
       "      no_of_sales_12M_1  no_of_Redemption_12M_1  no_of_sales_12M_10K  \\\n",
       "2052          -0.199371               -0.093252            -0.207843   \n",
       "2758          -0.159635               -0.048462            -0.207843   \n",
       "4334          -0.199371               -0.097731            -0.207843   \n",
       "9047           0.118515                0.050076            -0.207843   \n",
       "7001           0.009242                0.171009            -0.115750   \n",
       "...                 ...                     ...                  ...   \n",
       "3541           0.376797                0.112782             1.357732   \n",
       "785           -0.199371               -0.097731            -0.207843   \n",
       "7614          -0.199371               -0.097731            -0.207843   \n",
       "9577          -0.000692               -0.084294            -0.115750   \n",
       "1086           0.039043               -0.052941             0.160528   \n",
       "\n",
       "      no_of_Redemption_12M_10K  no_of_funds_sold_12M_1  \\\n",
       "2052                 -0.089515               -0.573977   \n",
       "2758                 -0.205862               -0.153081   \n",
       "4334                 -0.205862               -0.573977   \n",
       "9047                 -0.205862                0.688712   \n",
       "7001                  0.259524               -0.153081   \n",
       "...                        ...                     ...   \n",
       "3541                  0.375870                1.109608   \n",
       "785                  -0.205862               -0.573977   \n",
       "7614                 -0.205862               -0.573977   \n",
       "9577                 -0.205862                0.688712   \n",
       "1086                  0.143178               -0.153081   \n",
       "\n",
       "      no_of_funds_redeemed_12M_1  no_of_fund_sales_12M_10K  \\\n",
       "2052                   -0.221485                 -0.430359   \n",
       "2758                    0.591014                 -0.430359   \n",
       "4334                   -0.627735                 -0.430359   \n",
       "9047                    0.591014                 -0.430359   \n",
       "7001                    1.403513                  0.318971   \n",
       "...                          ...                       ...   \n",
       "3541                    0.591014                  1.817630   \n",
       "785                    -0.627735                 -0.430359   \n",
       "7614                   -0.627735                 -0.430359   \n",
       "9577                   -0.221485                  0.318971   \n",
       "1086                   -0.221485                  0.318971   \n",
       "\n",
       "      no_of_funds_Redemption_12M_10K  no_of_assetclass_sold_12M_1  \\\n",
       "2052                        0.301512                    -0.784078   \n",
       "2758                       -0.442232                     0.201190   \n",
       "4334                       -0.442232                    -0.784078   \n",
       "9047                       -0.442232                     1.186457   \n",
       "7001                        1.789002                     0.201190   \n",
       "...                              ...                          ...   \n",
       "3541                        1.789002                     2.171725   \n",
       "785                        -0.442232                    -0.784078   \n",
       "7614                       -0.442232                    -0.784078   \n",
       "9577                       -0.442232                     1.186457   \n",
       "1086                        0.301512                     0.201190   \n",
       "\n",
       "      no_of_assetclass_redeemed_12M_1  no_of_assetclass_sales_12M_10K  \\\n",
       "2052                         0.083188                       -0.536570   \n",
       "2758                         1.035094                       -0.536570   \n",
       "4334                        -0.868718                       -0.536570   \n",
       "9047                         1.035094                       -0.536570   \n",
       "7001                         1.035094                        0.858232   \n",
       "...                               ...                             ...   \n",
       "3541                         1.987000                        3.647837   \n",
       "785                         -0.868718                       -0.536570   \n",
       "7614                        -0.868718                       -0.536570   \n",
       "9577                         0.083188                        0.858232   \n",
       "1086                         0.083188                        0.858232   \n",
       "\n",
       "      no_of_assetclass_Redemption_12M_10K  No_of_fund_curr  No_of_asset_curr  \\\n",
       "2052                             0.782602        -0.373415          0.063655   \n",
       "2758                            -0.561332        -0.693256         -0.888855   \n",
       "4334                            -0.561332        -0.373415          0.063655   \n",
       "9047                            -0.561332        -0.053573          0.063655   \n",
       "7001                             2.126536         0.266268          0.063655   \n",
       "...                                   ...              ...               ...   \n",
       "3541                             3.470469         0.905951          1.016164   \n",
       "785                             -0.561332        -0.693256         -0.888855   \n",
       "7614                            -0.561332        -0.373415          0.063655   \n",
       "9577                            -0.561332         0.266268          1.016164   \n",
       "1086                             0.782602        -0.373415          0.063655   \n",
       "\n",
       "           AUM  sales_curr  sales_12M_2018  redemption_curr  redemption_12M  \\\n",
       "2052 -0.258339   -0.085083       -0.151783        -0.609095        0.095688   \n",
       "2758 -0.102691   -0.083568       -0.151026         0.091395        0.146089   \n",
       "4334 -0.093857   -0.085083       -0.151783         0.091395        0.155620   \n",
       "9047 -0.096939   -0.073236       -0.133039         0.091103        0.144632   \n",
       "7001 -0.098609   -0.085083       -0.077280         0.070873       -0.189406   \n",
       "...        ...         ...             ...              ...             ...   \n",
       "3541  0.240511   -0.085083        0.168188        -0.352809       -0.123876   \n",
       "785  -0.097262   -0.085083       -0.151783         0.091395        0.155620   \n",
       "7614 -0.085369   -0.085083       -0.151783         0.091395        0.155620   \n",
       "9577 -0.065484   -0.079434       -0.123801         0.091395        0.155591   \n",
       "1086 -0.019565   -0.054129       -0.060573         0.026957        0.058980   \n",
       "\n",
       "      new_Fund_added_12M_2018  aum_AC_EQUITY  aum_AC_FIXED_INCOME_MUNI  \\\n",
       "2052                -0.415778      -0.518275                 -0.078960   \n",
       "2758                -0.415778      -0.039400                 -0.078960   \n",
       "4334                -0.415778      -0.027182                 -0.079302   \n",
       "9047                -0.415778      -0.014956                 -0.085461   \n",
       "7001                -0.415778      -0.037940                 -0.079761   \n",
       "...                       ...            ...                       ...   \n",
       "3541                 1.289958      -0.098124                 -0.029076   \n",
       "785                 -0.415778      -0.029158                 -0.078960   \n",
       "7614                -0.415778      -0.029158                 -0.065118   \n",
       "9577                -0.415778       0.018326                 -0.065245   \n",
       "1086                -0.415778       0.154688                 -0.078960   \n",
       "\n",
       "      aum_AC_FIXED_INCOME_TAXABLE  aum_AC_MONEY  aum_AC_MULTIPLE  \\\n",
       "2052                    -0.058282     -0.012892        -0.022410   \n",
       "2758                    -0.065878     -0.012892        -0.022410   \n",
       "4334                    -0.040421     -0.012892        -0.018591   \n",
       "9047                    -0.058935     -0.012892        -0.022410   \n",
       "7001                    -0.037229     -0.012892        -0.022410   \n",
       "...                           ...           ...              ...   \n",
       "3541                    -0.138181     -0.012892         4.647680   \n",
       "785                     -0.058282     -0.012892        -0.022410   \n",
       "7614                    -0.058282     -0.012892        -0.022410   \n",
       "9577                    -0.058282     -0.012892        -0.023818   \n",
       "1086                    -0.058282     -0.012892        -0.022410   \n",
       "\n",
       "      aum_AC_PHYSICAL_COMMODITY  aum_AC_REAL_ESTATE  aum_AC_TARGET  aum_P_529  \\\n",
       "2052                   6.269968            -0.03771      -0.041009  -0.076091   \n",
       "2758                  -0.042489            -0.03771      -0.041009  -0.076091   \n",
       "4334                  -0.042489            -0.03771      -0.041009  -0.076091   \n",
       "9047                  -0.042489            -0.03771      -0.041009  -0.076091   \n",
       "7001                  -0.042489            -0.03771      -0.041009  -0.076091   \n",
       "...                         ...                 ...            ...        ...   \n",
       "3541                  -0.042489            -0.03771      -0.041009  -0.076091   \n",
       "785                   -0.042489            -0.03771      -0.041009  -0.076091   \n",
       "7614                  -0.042489            -0.03771      -0.041009  -0.076091   \n",
       "9577                  -0.038570            -0.03771      -0.041009  -0.076091   \n",
       "1086                  -0.042489            -0.03771      -0.041009  -0.076091   \n",
       "\n",
       "      aum_P_ALT  aum_P_CEF  aum_P_ETF  aum_P_MF  aum_P_SMA  aum_P_UCITS  \\\n",
       "2052  -0.030313  -0.094052  -0.019128 -0.259043  -0.056194     -0.01714   \n",
       "2758  -0.030313  -0.094052  -0.019128 -0.073601  -0.056194     -0.01714   \n",
       "4334  -0.030313  -0.094052  -0.019128 -0.063076  -0.056194     -0.01714   \n",
       "9047  -0.030313  -0.094052  -0.019128 -0.066749  -0.056194     -0.01714   \n",
       "7001  -0.030313  -0.094052  -0.019128 -0.068738  -0.056194     -0.01714   \n",
       "...         ...        ...        ...       ...        ...          ...   \n",
       "3541  -0.030313  -0.094052  -0.019128  0.335295  -0.056194     -0.01714   \n",
       "785   -0.030313  -0.094052  -0.019128 -0.067133  -0.056194     -0.01714   \n",
       "7614  -0.030313  -0.094052  -0.019128 -0.052964  -0.056194     -0.01714   \n",
       "9577  -0.030313  -0.094052  -0.019128 -0.040609  -0.037756     -0.01714   \n",
       "1086  -0.030313  -0.094052  -0.019128  0.025436  -0.056194     -0.01714   \n",
       "\n",
       "      aum_P_UIT  \n",
       "2052  -0.070413  \n",
       "2758  -0.070413  \n",
       "4334  -0.070413  \n",
       "9047  -0.070413  \n",
       "7001  -0.070413  \n",
       "...         ...  \n",
       "3541  -0.070413  \n",
       "785   -0.070413  \n",
       "7614  -0.070413  \n",
       "9577  -0.070413  \n",
       "1086  -0.070413  \n",
       "\n",
       "[3002 rows x 36 columns]"
      ]
     },
     "execution_count": 21,
     "metadata": {},
     "output_type": "execute_result"
    }
   ],
   "source": [
    "X_test_prepared"
   ]
  },
  {
   "cell_type": "markdown",
   "metadata": {},
   "source": [
    "[Back to Top](#Index)\n",
    "# Model building\n",
    "- Evaluate baseline model\n",
    "- Create new models\n",
    "- Create evaluation function and cross validate"
   ]
  },
  {
   "cell_type": "markdown",
   "metadata": {},
   "source": [
    "[Back to Top](#Index)\n",
    "## Regression\n",
    "\n",
    "Predict the sales of an advisor"
   ]
  },
  {
   "cell_type": "code",
   "execution_count": 22,
   "metadata": {},
   "outputs": [],
   "source": [
    "from sklearn.ensemble import RandomForestRegressor\n",
    "\n",
    "from sklearn.metrics import mean_squared_error\n",
    "from sklearn.model_selection import cross_validate\n",
    "from sklearn.feature_selection import RFE"
   ]
  },
  {
   "cell_type": "markdown",
   "metadata": {},
   "source": [
    "### Calculate Baseline"
   ]
  },
  {
   "cell_type": "code",
   "execution_count": 23,
   "metadata": {},
   "outputs": [
    {
     "name": "stdout",
     "output_type": "stream",
     "text": [
      "4.27808136019108\n"
     ]
    }
   ],
   "source": [
    "y_baseline = y_test_reg.mean() * np.ones(y_test_reg.shape, dtype='float') # use mean as prediction\n",
    "print(np.sqrt(mean_squared_error(y_test_reg, y_baseline)))"
   ]
  },
  {
   "cell_type": "code",
   "execution_count": 24,
   "metadata": {},
   "outputs": [
    {
     "data": {
      "text/plain": [
       "array([4.09257969, 4.09257969, 4.09257969, ..., 4.09257969, 4.09257969,\n",
       "       4.09257969])"
      ]
     },
     "execution_count": 24,
     "metadata": {},
     "output_type": "execute_result"
    }
   ],
   "source": [
    "y_baseline"
   ]
  },
  {
   "cell_type": "markdown",
   "metadata": {},
   "source": [
    "### `sklearn` Feature Selection"
   ]
  },
  {
   "cell_type": "code",
   "execution_count": 25,
   "metadata": {},
   "outputs": [
    {
     "data": {
      "text/plain": [
       "RFE(estimator=RandomForestRegressor())"
      ]
     },
     "execution_count": 25,
     "metadata": {},
     "output_type": "execute_result"
    }
   ],
   "source": [
    "rf = RandomForestRegressor()\n",
    "rfe = RFE(rf)\n",
    "rfe.fit(X_train_prepared, y_train_reg)"
   ]
  },
  {
   "cell_type": "markdown",
   "metadata": {},
   "source": [
    "This is a boolean mask indicating which columns were selected from the `RFE` fitting"
   ]
  },
  {
   "cell_type": "code",
   "execution_count": 26,
   "metadata": {},
   "outputs": [
    {
     "data": {
      "text/plain": [
       "array([ True,  True,  True, False,  True,  True, False, False, False,\n",
       "       False, False, False,  True, False,  True,  True,  True,  True,\n",
       "        True,  True,  True,  True,  True, False,  True, False, False,\n",
       "       False, False, False, False, False,  True,  True, False, False])"
      ]
     },
     "execution_count": 26,
     "metadata": {},
     "output_type": "execute_result"
    }
   ],
   "source": [
    "rfe.support_"
   ]
  },
  {
   "cell_type": "code",
   "execution_count": 27,
   "metadata": {},
   "outputs": [
    {
     "data": {
      "text/plain": [
       "Index(['no_of_sales_12M_1', 'no_of_Redemption_12M_1', 'no_of_sales_12M_10K',\n",
       "       'no_of_funds_sold_12M_1', 'no_of_funds_redeemed_12M_1',\n",
       "       'No_of_fund_curr', 'AUM', 'sales_curr', 'sales_12M_2018',\n",
       "       'redemption_curr', 'redemption_12M', 'new_Fund_added_12M_2018',\n",
       "       'aum_AC_EQUITY', 'aum_AC_FIXED_INCOME_MUNI',\n",
       "       'aum_AC_FIXED_INCOME_TAXABLE', 'aum_AC_MULTIPLE', 'aum_P_MF',\n",
       "       'aum_P_SMA'],\n",
       "      dtype='object')"
      ]
     },
     "execution_count": 27,
     "metadata": {},
     "output_type": "execute_result"
    }
   ],
   "source": [
    "X_train_prepared.columns[rfe.support_]"
   ]
  },
  {
   "cell_type": "markdown",
   "metadata": {},
   "source": [
    "Select columns from RFE"
   ]
  },
  {
   "cell_type": "code",
   "execution_count": 28,
   "metadata": {},
   "outputs": [],
   "source": [
    "X_train_reg_rfe = X_train_prepared.loc[:, rfe.support_]\n",
    "X_test_reg_rfe = X_test_prepared.loc[:, rfe.support_]"
   ]
  },
  {
   "cell_type": "code",
   "execution_count": 29,
   "metadata": {},
   "outputs": [
    {
     "data": {
      "text/plain": [
       "RandomForestRegressor()"
      ]
     },
     "execution_count": 29,
     "metadata": {},
     "output_type": "execute_result"
    }
   ],
   "source": [
    "rf2 = RandomForestRegressor()\n",
    "rf2.fit(X_train_reg_rfe, y_train_reg)"
   ]
  },
  {
   "cell_type": "code",
   "execution_count": 30,
   "metadata": {},
   "outputs": [],
   "source": [
    "y_test_preds = rf2.predict(X_test_reg_rfe)"
   ]
  },
  {
   "cell_type": "code",
   "execution_count": 31,
   "metadata": {},
   "outputs": [
    {
     "name": "stdout",
     "output_type": "stream",
     "text": [
      "2.9003796310394865\n"
     ]
    }
   ],
   "source": [
    "print(np.sqrt(mean_squared_error(y_test_reg, y_test_preds)))"
   ]
  },
  {
   "cell_type": "markdown",
   "metadata": {},
   "source": [
    "Create a function to evaulate regression models"
   ]
  },
  {
   "cell_type": "code",
   "execution_count": 32,
   "metadata": {},
   "outputs": [],
   "source": [
    "def evaluate_regression(model, X, y, training=False,):\n",
    "    if training:\n",
    "        print(\"Training Cross Validation Scores:\")\n",
    "        print(-cross_validate(model, X, y, scoring='neg_root_mean_squared_error')['test_score'])\n",
    "        print('-'*55)\n",
    "        preds = model.predict(X)\n",
    "        lim = max(preds.max(), y.max())\n",
    "        fig, ax = plt.subplots(1,1,figsize=(7,5))\n",
    "        ax.scatter(x=y, y=preds, alpha=0.4)\n",
    "        ax.plot([0, lim], [0, lim])\n",
    "        ax.set_xlim([0, lim])\n",
    "        ax.set_ylim([0, lim])\n",
    "        ax.set_title(\"Actual vs Predicted - Regression\")\n",
    "        ax.set_xlabel(\"Actual\")\n",
    "        ax.set_ylabel(\"Predicted\");\n",
    "    else:\n",
    "        rmse = np.sqrt(mean_squared_error(y_test_reg, y_test_preds))\n",
    "        print(\"Testing Data Performance:\")\n",
    "        print('-'*55)\n",
    "        print(f\"RMSE:\\t{rmse}\")\n",
    "        preds = model.predict(X)\n",
    "        lim = max(preds.max(), y.max())\n",
    "        fig, ax = plt.subplots(1,1,figsize=(7,5))\n",
    "        ax.scatter(x=y, y=preds, alpha=0.4)\n",
    "        ax.plot([0, lim], [0, lim])\n",
    "        ax.set_xlim([0, lim])\n",
    "        ax.set_ylim([0, lim])\n",
    "        ax.set_title(\"Actual vs Predicted - Regression\")\n",
    "        ax.set_xlabel(\"Actual\")\n",
    "        ax.set_ylabel(\"Predicted\");"
   ]
  },
  {
   "cell_type": "code",
   "execution_count": 33,
   "metadata": {},
   "outputs": [
    {
     "name": "stdout",
     "output_type": "stream",
     "text": [
      "Training Cross Validation Scores:\n",
      "[3.04777058 2.99413259 3.0091948  2.98107082 2.73709506]\n",
      "-------------------------------------------------------\n"
     ]
    },
    {
     "data": {
      "image/png": "[encoded data removed]",
      "text/plain": [
       "<Figure size 504x360 with 1 Axes>"
      ]
     },
     "metadata": {
      "needs_background": "light"
     },
     "output_type": "display_data"
    }
   ],
   "source": [
    "evaluate_regression(rf2, X_train_reg_rfe, y_train_reg, training=True)"
   ]
  },
  {
   "cell_type": "code",
   "execution_count": 34,
   "metadata": {},
   "outputs": [
    {
     "name": "stdout",
     "output_type": "stream",
     "text": [
      "Testing Data Performance:\n",
      "-------------------------------------------------------\n",
      "RMSE:\t2.9003796310394865\n"
     ]
    },
    {
     "data": {
      "image/png": "[encoded data removed]",
      "text/plain": [
       "<Figure size 504x360 with 1 Axes>"
      ]
     },
     "metadata": {
      "needs_background": "light"
     },
     "output_type": "display_data"
    }
   ],
   "source": [
    "evaluate_regression(rf2, X_test_reg_rfe, y_test_reg)"
   ]
  },
  {
   "cell_type": "markdown",
   "metadata": {},
   "source": [
    "[Back to Top](#Index)\n",
    "### Make function to output deciles"
   ]
  },
  {
   "cell_type": "code",
   "execution_count": 35,
   "metadata": {},
   "outputs": [],
   "source": [
    "y_test_preds = pd.Series(rf2.predict(X_test_reg_rfe), index=y_test_reg.index)"
   ]
  },
  {
   "cell_type": "code",
   "execution_count": 36,
   "metadata": {},
   "outputs": [
    {
     "data": {
      "text/plain": [
       "array([2.54057806e+01, 3.69744200e+03, 5.11432515e+00, ...,\n",
       "       5.35514199e+01, 2.16477151e+04, 1.12565502e+05])"
      ]
     },
     "execution_count": 36,
     "metadata": {},
     "output_type": "execute_result"
    }
   ],
   "source": [
    "y_test_preds = (\n",
    "    targ_pipe_reg\n",
    "        .named_steps['PowerTransformer']\n",
    "        .inverse_transform(y_test_preds.to_frame())\n",
    "        .squeeze())\n",
    "y_test_preds"
   ]
  },
  {
   "cell_type": "code",
   "execution_count": 37,
   "metadata": {},
   "outputs": [],
   "source": [
    "def output_deciles(model, X, y, transform=False):\n",
    "    if transform:\n",
    "        results = pd.DataFrame(model.predict(X), index=X.index, columns=['predictions'])\n",
    "        results['actual'] = y.values\n",
    "        results['deciles'] = pd.qcut(results['predictions'], 10,labels=False)\n",
    "        results['predictions'] = (targ_pipe_reg\n",
    "            .named_steps['PowerTransformer']\n",
    "            .inverse_transform(results['predictions'].to_frame())\n",
    "            .squeeze())\n",
    "        results['actual'] = (targ_pipe_reg\n",
    "            .named_steps['PowerTransformer']\n",
    "            .inverse_transform(results['actual'].to_frame())\n",
    "            .squeeze())\n",
    "        results['contact_id'] = results.index.map(adviser_lookup)\n",
    "        return results\n",
    "    else:\n",
    "        results = pd.DataFrame(model.predict(X), index=X.index, columns=['predictions'])\n",
    "        results['actual'] = y.values\n",
    "        results['deciles'] = pd.qcut(results['predictions'], 10, labels=False)\n",
    "        results['contact_id'] = results.index.map(adviser_lookup)\n",
    "        return results"
   ]
  },
  {
   "cell_type": "code",
   "execution_count": 38,
   "metadata": {},
   "outputs": [],
   "source": [
    "regression_deciles = output_deciles(rf2, X_test_reg_rfe, y_test_reg, transform=True)"
   ]
  },
  {
   "cell_type": "code",
   "execution_count": 39,
   "metadata": {},
   "outputs": [
    {
     "data": {
      "text/html": [
       "<div>\n",
       "<style scoped>\n",
       "    .dataframe tbody tr th:only-of-type {\n",
       "        vertical-align: middle;\n",
       "    }\n",
       "\n",
       "    .dataframe tbody tr th {\n",
       "        vertical-align: top;\n",
       "    }\n",
       "\n",
       "    .dataframe thead th {\n",
       "        text-align: right;\n",
       "    }\n",
       "</style>\n",
       "<table border=\"1\" class=\"dataframe\">\n",
       "  <thead>\n",
       "    <tr style=\"text-align: right;\">\n",
       "      <th></th>\n",
       "      <th>predictions</th>\n",
       "      <th>actual</th>\n",
       "      <th>deciles</th>\n",
       "      <th>contact_id</th>\n",
       "    </tr>\n",
       "  </thead>\n",
       "  <tbody>\n",
       "    <tr>\n",
       "      <th>2052</th>\n",
       "      <td>25.405781</td>\n",
       "      <td>0.00</td>\n",
       "      <td>4</td>\n",
       "      <td>85101112703496609682</td>\n",
       "    </tr>\n",
       "    <tr>\n",
       "      <th>2758</th>\n",
       "      <td>3697.441998</td>\n",
       "      <td>5055.19</td>\n",
       "      <td>7</td>\n",
       "      <td>4478951</td>\n",
       "    </tr>\n",
       "    <tr>\n",
       "      <th>4334</th>\n",
       "      <td>5.114325</td>\n",
       "      <td>0.00</td>\n",
       "      <td>3</td>\n",
       "      <td>85102121286175700667</td>\n",
       "    </tr>\n",
       "    <tr>\n",
       "      <th>9047</th>\n",
       "      <td>13413.981994</td>\n",
       "      <td>100777.23</td>\n",
       "      <td>7</td>\n",
       "      <td>85101131446010585430</td>\n",
       "    </tr>\n",
       "    <tr>\n",
       "      <th>7001</th>\n",
       "      <td>402.352977</td>\n",
       "      <td>22500.00</td>\n",
       "      <td>6</td>\n",
       "      <td>85202162573702072494</td>\n",
       "    </tr>\n",
       "    <tr>\n",
       "      <th>...</th>\n",
       "      <td>...</td>\n",
       "      <td>...</td>\n",
       "      <td>...</td>\n",
       "      <td>...</td>\n",
       "    </tr>\n",
       "    <tr>\n",
       "      <th>3541</th>\n",
       "      <td>136590.406336</td>\n",
       "      <td>495457.51</td>\n",
       "      <td>8</td>\n",
       "      <td>4420073</td>\n",
       "    </tr>\n",
       "    <tr>\n",
       "      <th>785</th>\n",
       "      <td>144.376556</td>\n",
       "      <td>0.00</td>\n",
       "      <td>5</td>\n",
       "      <td>10751191354315089820</td>\n",
       "    </tr>\n",
       "    <tr>\n",
       "      <th>7614</th>\n",
       "      <td>53.551420</td>\n",
       "      <td>0.00</td>\n",
       "      <td>4</td>\n",
       "      <td>0301701</td>\n",
       "    </tr>\n",
       "    <tr>\n",
       "      <th>9577</th>\n",
       "      <td>21647.715112</td>\n",
       "      <td>1908.85</td>\n",
       "      <td>8</td>\n",
       "      <td>85202133384955811399</td>\n",
       "    </tr>\n",
       "    <tr>\n",
       "      <th>1086</th>\n",
       "      <td>112565.501561</td>\n",
       "      <td>79408.60</td>\n",
       "      <td>8</td>\n",
       "      <td>10751171745870913713</td>\n",
       "    </tr>\n",
       "  </tbody>\n",
       "</table>\n",
       "<p>3002 rows × 4 columns</p>\n",
       "</div>"
      ],
      "text/plain": [
       "        predictions     actual  deciles            contact_id\n",
       "2052      25.405781       0.00        4  85101112703496609682\n",
       "2758    3697.441998    5055.19        7               4478951\n",
       "4334       5.114325       0.00        3  85102121286175700667\n",
       "9047   13413.981994  100777.23        7  85101131446010585430\n",
       "7001     402.352977   22500.00        6  85202162573702072494\n",
       "...             ...        ...      ...                   ...\n",
       "3541  136590.406336  495457.51        8               4420073\n",
       "785      144.376556       0.00        5  10751191354315089820\n",
       "7614      53.551420       0.00        4               0301701\n",
       "9577   21647.715112    1908.85        8  85202133384955811399\n",
       "1086  112565.501561   79408.60        8  10751171745870913713\n",
       "\n",
       "[3002 rows x 4 columns]"
      ]
     },
     "execution_count": 39,
     "metadata": {},
     "output_type": "execute_result"
    }
   ],
   "source": [
    "regression_deciles"
   ]
  },
  {
   "cell_type": "code",
   "execution_count": 40,
   "metadata": {},
   "outputs": [],
   "source": [
    "reg_chart = (regression_deciles\n",
    "    .groupby('deciles')\n",
    "    .agg({'actual': ['mean', 'count']})\n",
    "    .droplevel(0, axis=1)\n",
    "    .reset_index()\n",
    ")"
   ]
  },
  {
   "cell_type": "code",
   "execution_count": 41,
   "metadata": {},
   "outputs": [],
   "source": [
    "reg_chart['deciles'] = reg_chart['deciles'].apply(lambda x: (x-10)*-1)"
   ]
  },
  {
   "cell_type": "code",
   "execution_count": 42,
   "metadata": {},
   "outputs": [
    {
     "data": {
      "image/png": "[encoded data removed]",
      "text/plain": [
       "<Figure size 720x432 with 1 Axes>"
      ]
     },
     "metadata": {
      "needs_background": "light"
     },
     "output_type": "display_data"
    }
   ],
   "source": [
    "fig, axes = plt.subplots(figsize=(10,6))\n",
    "reg_chart.plot(kind='bar', x='deciles', y='mean', ax=axes, legend=None)\n",
    "axes.set_xlabel(\"Deciles\", fontsize=14)\n",
    "axes.set_ylabel(\"Average Predicted Sales\", fontsize=14)\n",
    "axes.set_title(\"Average Predicted Sales by Decile\", fontsize=16)\n",
    "axes.spines['top'].set_visible(False);\n",
    "axes.spines['right'].set_visible(False);"
   ]
  },
  {
   "cell_type": "code",
   "execution_count": 43,
   "metadata": {},
   "outputs": [
    {
     "data": {
      "text/html": [
       "<div>\n",
       "<style scoped>\n",
       "    .dataframe tbody tr th:only-of-type {\n",
       "        vertical-align: middle;\n",
       "    }\n",
       "\n",
       "    .dataframe tbody tr th {\n",
       "        vertical-align: top;\n",
       "    }\n",
       "\n",
       "    .dataframe thead th {\n",
       "        text-align: right;\n",
       "    }\n",
       "</style>\n",
       "<table border=\"1\" class=\"dataframe\">\n",
       "  <thead>\n",
       "    <tr style=\"text-align: right;\">\n",
       "      <th></th>\n",
       "      <th>predictions</th>\n",
       "      <th>actual</th>\n",
       "      <th>deciles</th>\n",
       "      <th>contact_id</th>\n",
       "    </tr>\n",
       "  </thead>\n",
       "  <tbody>\n",
       "    <tr>\n",
       "      <th>7558</th>\n",
       "      <td>0.000000e+00</td>\n",
       "      <td>0.000000e+00</td>\n",
       "      <td>0</td>\n",
       "      <td>4468469</td>\n",
       "    </tr>\n",
       "    <tr>\n",
       "      <th>7400</th>\n",
       "      <td>0.000000e+00</td>\n",
       "      <td>0.000000e+00</td>\n",
       "      <td>0</td>\n",
       "      <td>4493743</td>\n",
       "    </tr>\n",
       "    <tr>\n",
       "      <th>5940</th>\n",
       "      <td>0.000000e+00</td>\n",
       "      <td>0.000000e+00</td>\n",
       "      <td>0</td>\n",
       "      <td>4306896</td>\n",
       "    </tr>\n",
       "    <tr>\n",
       "      <th>1370</th>\n",
       "      <td>0.000000e+00</td>\n",
       "      <td>0.000000e+00</td>\n",
       "      <td>0</td>\n",
       "      <td>85202142205901896573</td>\n",
       "    </tr>\n",
       "    <tr>\n",
       "      <th>8736</th>\n",
       "      <td>0.000000e+00</td>\n",
       "      <td>0.000000e+00</td>\n",
       "      <td>0</td>\n",
       "      <td>0315549</td>\n",
       "    </tr>\n",
       "    <tr>\n",
       "      <th>...</th>\n",
       "      <td>...</td>\n",
       "      <td>...</td>\n",
       "      <td>...</td>\n",
       "      <td>...</td>\n",
       "    </tr>\n",
       "    <tr>\n",
       "      <th>7716</th>\n",
       "      <td>3.110169e+05</td>\n",
       "      <td>2.176292e+05</td>\n",
       "      <td>9</td>\n",
       "      <td>1420926</td>\n",
       "    </tr>\n",
       "    <tr>\n",
       "      <th>4403</th>\n",
       "      <td>2.163255e+05</td>\n",
       "      <td>3.149614e+05</td>\n",
       "      <td>9</td>\n",
       "      <td>4316668</td>\n",
       "    </tr>\n",
       "    <tr>\n",
       "      <th>4420</th>\n",
       "      <td>1.559224e+05</td>\n",
       "      <td>1.085495e+06</td>\n",
       "      <td>9</td>\n",
       "      <td>10751172303434633848</td>\n",
       "    </tr>\n",
       "    <tr>\n",
       "      <th>4986</th>\n",
       "      <td>1.625581e+06</td>\n",
       "      <td>9.572984e+05</td>\n",
       "      <td>9</td>\n",
       "      <td>4320517</td>\n",
       "    </tr>\n",
       "    <tr>\n",
       "      <th>8181</th>\n",
       "      <td>1.399396e+05</td>\n",
       "      <td>8.034895e+04</td>\n",
       "      <td>9</td>\n",
       "      <td>4430765</td>\n",
       "    </tr>\n",
       "  </tbody>\n",
       "</table>\n",
       "<p>3002 rows × 4 columns</p>\n",
       "</div>"
      ],
      "text/plain": [
       "       predictions        actual  deciles            contact_id\n",
       "7558  0.000000e+00  0.000000e+00        0               4468469\n",
       "7400  0.000000e+00  0.000000e+00        0               4493743\n",
       "5940  0.000000e+00  0.000000e+00        0               4306896\n",
       "1370  0.000000e+00  0.000000e+00        0  85202142205901896573\n",
       "8736  0.000000e+00  0.000000e+00        0               0315549\n",
       "...            ...           ...      ...                   ...\n",
       "7716  3.110169e+05  2.176292e+05        9               1420926\n",
       "4403  2.163255e+05  3.149614e+05        9               4316668\n",
       "4420  1.559224e+05  1.085495e+06        9  10751172303434633848\n",
       "4986  1.625581e+06  9.572984e+05        9               4320517\n",
       "8181  1.399396e+05  8.034895e+04        9               4430765\n",
       "\n",
       "[3002 rows x 4 columns]"
      ]
     },
     "execution_count": 43,
     "metadata": {},
     "output_type": "execute_result"
    }
   ],
   "source": [
    "regression_deciles.sort_values(by='deciles')"
   ]
  },
  {
   "cell_type": "markdown",
   "metadata": {},
   "source": [
    "[Back to Top](#Index)\n",
    "## Classification\n",
    "\n",
    "Predict if an advisor will make at least one sale"
   ]
  },
  {
   "cell_type": "code",
   "execution_count": 44,
   "metadata": {},
   "outputs": [],
   "source": [
    "from sklearn.ensemble import GradientBoostingClassifier\n",
    "from sklearn.metrics import classification_report"
   ]
  },
  {
   "cell_type": "markdown",
   "metadata": {},
   "source": [
    "### Calculate Baseline-Classification"
   ]
  },
  {
   "cell_type": "code",
   "execution_count": 45,
   "metadata": {},
   "outputs": [],
   "source": [
    "from sklearn.dummy import DummyClassifier"
   ]
  },
  {
   "cell_type": "code",
   "execution_count": 46,
   "metadata": {},
   "outputs": [],
   "source": [
    "dummy_cl = DummyClassifier(strategy='most_frequent') # use majority"
   ]
  },
  {
   "cell_type": "code",
   "execution_count": 47,
   "metadata": {},
   "outputs": [
    {
     "name": "stdout",
     "output_type": "stream",
     "text": [
      "              precision    recall  f1-score   support\n",
      "\n",
      "         0.0       0.74      1.00      0.85      2236\n",
      "         1.0       0.00      0.00      0.00       766\n",
      "\n",
      "    accuracy                           0.74      3002\n",
      "   macro avg       0.37      0.50      0.43      3002\n",
      "weighted avg       0.55      0.74      0.64      3002\n",
      "\n"
     ]
    }
   ],
   "source": [
    "dummy_cl.fit(X_train_prepared, y_train_cl)\n",
    "y_baseline = dummy_cl.predict(X_test)\n",
    "print(classification_report(y_test_cl, y_baseline, zero_division=0))"
   ]
  },
  {
   "cell_type": "markdown",
   "metadata": {},
   "source": [
    "### Classification Feature Selection"
   ]
  },
  {
   "cell_type": "code",
   "execution_count": 48,
   "metadata": {},
   "outputs": [],
   "source": [
    "from sklearn.feature_selection import SelectFromModel"
   ]
  },
  {
   "cell_type": "code",
   "execution_count": 49,
   "metadata": {},
   "outputs": [
    {
     "data": {
      "text/plain": [
       "GradientBoostingClassifier()"
      ]
     },
     "execution_count": 49,
     "metadata": {},
     "output_type": "execute_result"
    }
   ],
   "source": [
    "gbc = GradientBoostingClassifier()\n",
    "\n",
    "# find subset of features\n",
    "sfm = SelectFromModel(gbc, threshold='median')\n",
    "sfm.fit(X_train_prepared, y_train_cl)\n",
    "X_train_cl_sfm = pd.DataFrame(\n",
    "    sfm.transform(X_train_prepared),\n",
    "    index=X_train_prepared.index,\n",
    "    columns=X_train_prepared.columns[sfm.get_support()])\n",
    "X_test_cl_sfm = pd.DataFrame(\n",
    "    sfm.transform(X_test_prepared),\n",
    "    index=X_test_prepared.index,\n",
    "    columns=X_test_prepared.columns[sfm.get_support()])\n",
    "\n",
    "# fit model with selected features\n",
    "gbc.fit(X_train_cl_sfm, y_train_cl)"
   ]
  },
  {
   "cell_type": "markdown",
   "metadata": {},
   "source": [
    "Create predictions"
   ]
  },
  {
   "cell_type": "code",
   "execution_count": 50,
   "metadata": {},
   "outputs": [],
   "source": [
    "y_test_preds = gbc.predict(X_test_cl_sfm)"
   ]
  },
  {
   "cell_type": "code",
   "execution_count": 51,
   "metadata": {},
   "outputs": [
    {
     "name": "stdout",
     "output_type": "stream",
     "text": [
      "              precision    recall  f1-score   support\n",
      "\n",
      "         0.0       0.78      0.93      0.85      2236\n",
      "         1.0       0.55      0.26      0.35       766\n",
      "\n",
      "    accuracy                           0.76      3002\n",
      "   macro avg       0.67      0.59      0.60      3002\n",
      "weighted avg       0.72      0.76      0.72      3002\n",
      "\n"
     ]
    }
   ],
   "source": [
    "print(classification_report(y_test_cl, y_test_preds))"
   ]
  },
  {
   "cell_type": "markdown",
   "metadata": {},
   "source": [
    "Create function to evaluate model"
   ]
  },
  {
   "cell_type": "code",
   "execution_count": 52,
   "metadata": {},
   "outputs": [],
   "source": [
    "def evaluate_classifier(cl_model, X, y, training=False):\n",
    "    if training:\n",
    "        print(\"Training Cross Validation Scores:\")\n",
    "        print(-cross_validate(cl_model, X, y, scoring='f1')['test_score'])\n",
    "        print('-'*55)\n",
    "        preds = cl_model.predict(X)\n",
    "        print(classification_report(y, preds))\n",
    "    else:\n",
    "        print(\"Testing Data Performance:\")\n",
    "        print('-'*55)\n",
    "        preds = cl_model.predict(X)\n",
    "        print(classification_report(y, preds))"
   ]
  },
  {
   "cell_type": "code",
   "execution_count": 53,
   "metadata": {},
   "outputs": [
    {
     "name": "stdout",
     "output_type": "stream",
     "text": [
      "Training Cross Validation Scores:\n",
      "[-0.15347722 -0.17874396 -0.3618677  -0.3515625  -0.35502959]\n",
      "-------------------------------------------------------\n",
      "              precision    recall  f1-score   support\n",
      "\n",
      "         0.0       0.81      0.96      0.88      5248\n",
      "         1.0       0.72      0.32      0.44      1755\n",
      "\n",
      "    accuracy                           0.80      7003\n",
      "   macro avg       0.76      0.64      0.66      7003\n",
      "weighted avg       0.79      0.80      0.77      7003\n",
      "\n"
     ]
    }
   ],
   "source": [
    "evaluate_classifier(gbc, X_train_cl_sfm, y_train_cl, training=True)"
   ]
  },
  {
   "cell_type": "code",
   "execution_count": 54,
   "metadata": {},
   "outputs": [
    {
     "name": "stdout",
     "output_type": "stream",
     "text": [
      "Testing Data Performance:\n",
      "-------------------------------------------------------\n",
      "              precision    recall  f1-score   support\n",
      "\n",
      "         0.0       0.78      0.93      0.85      2236\n",
      "         1.0       0.55      0.26      0.35       766\n",
      "\n",
      "    accuracy                           0.76      3002\n",
      "   macro avg       0.67      0.59      0.60      3002\n",
      "weighted avg       0.72      0.76      0.72      3002\n",
      "\n"
     ]
    }
   ],
   "source": [
    "evaluate_classifier(gbc, X_test_cl_sfm, y_test_cl)"
   ]
  },
  {
   "cell_type": "code",
   "execution_count": 55,
   "metadata": {},
   "outputs": [
    {
     "data": {
      "text/plain": [
       "array([0.19891948, 0.26435827, 0.1118309 , ..., 0.1106749 , 0.36389482,\n",
       "       0.219157  ])"
      ]
     },
     "execution_count": 55,
     "metadata": {},
     "output_type": "execute_result"
    }
   ],
   "source": [
    "gbc.predict_proba(X_test_cl_sfm)[:, 1]"
   ]
  },
  {
   "cell_type": "code",
   "execution_count": 56,
   "metadata": {},
   "outputs": [],
   "source": [
    "def output_deciles_class(model, X, y):\n",
    "    results = pd.DataFrame(model.predict_proba(X)[:, 1], index=X.index, columns=['predictions'])\n",
    "    results['actual'] = y.values\n",
    "    results['deciles'] = pd.qcut(results['predictions'], 10, labels=False)\n",
    "    results['contact_id'] = results.index.map(adviser_lookup)\n",
    "    return results"
   ]
  },
  {
   "cell_type": "code",
   "execution_count": 57,
   "metadata": {},
   "outputs": [],
   "source": [
    "class_results = output_deciles_class(gbc, X_test_cl_sfm, y_test_cl)"
   ]
  },
  {
   "cell_type": "code",
   "execution_count": 58,
   "metadata": {},
   "outputs": [
    {
     "data": {
      "text/html": [
       "<div>\n",
       "<style scoped>\n",
       "    .dataframe tbody tr th:only-of-type {\n",
       "        vertical-align: middle;\n",
       "    }\n",
       "\n",
       "    .dataframe tbody tr th {\n",
       "        vertical-align: top;\n",
       "    }\n",
       "\n",
       "    .dataframe thead th {\n",
       "        text-align: right;\n",
       "    }\n",
       "</style>\n",
       "<table border=\"1\" class=\"dataframe\">\n",
       "  <thead>\n",
       "    <tr style=\"text-align: right;\">\n",
       "      <th></th>\n",
       "      <th>predictions</th>\n",
       "      <th>actual</th>\n",
       "      <th>deciles</th>\n",
       "      <th>contact_id</th>\n",
       "    </tr>\n",
       "  </thead>\n",
       "  <tbody>\n",
       "    <tr>\n",
       "      <th>2052</th>\n",
       "      <td>0.198919</td>\n",
       "      <td>0.0</td>\n",
       "      <td>4</td>\n",
       "      <td>85101112703496609682</td>\n",
       "    </tr>\n",
       "    <tr>\n",
       "      <th>2758</th>\n",
       "      <td>0.264358</td>\n",
       "      <td>1.0</td>\n",
       "      <td>6</td>\n",
       "      <td>4478951</td>\n",
       "    </tr>\n",
       "    <tr>\n",
       "      <th>4334</th>\n",
       "      <td>0.111831</td>\n",
       "      <td>0.0</td>\n",
       "      <td>2</td>\n",
       "      <td>85102121286175700667</td>\n",
       "    </tr>\n",
       "    <tr>\n",
       "      <th>9047</th>\n",
       "      <td>0.289096</td>\n",
       "      <td>1.0</td>\n",
       "      <td>6</td>\n",
       "      <td>85101131446010585430</td>\n",
       "    </tr>\n",
       "    <tr>\n",
       "      <th>7001</th>\n",
       "      <td>0.250771</td>\n",
       "      <td>0.0</td>\n",
       "      <td>6</td>\n",
       "      <td>85202162573702072494</td>\n",
       "    </tr>\n",
       "    <tr>\n",
       "      <th>...</th>\n",
       "      <td>...</td>\n",
       "      <td>...</td>\n",
       "      <td>...</td>\n",
       "      <td>...</td>\n",
       "    </tr>\n",
       "    <tr>\n",
       "      <th>3541</th>\n",
       "      <td>0.529455</td>\n",
       "      <td>1.0</td>\n",
       "      <td>9</td>\n",
       "      <td>4420073</td>\n",
       "    </tr>\n",
       "    <tr>\n",
       "      <th>785</th>\n",
       "      <td>0.505723</td>\n",
       "      <td>0.0</td>\n",
       "      <td>8</td>\n",
       "      <td>10751191354315089820</td>\n",
       "    </tr>\n",
       "    <tr>\n",
       "      <th>7614</th>\n",
       "      <td>0.110675</td>\n",
       "      <td>0.0</td>\n",
       "      <td>2</td>\n",
       "      <td>0301701</td>\n",
       "    </tr>\n",
       "    <tr>\n",
       "      <th>9577</th>\n",
       "      <td>0.363895</td>\n",
       "      <td>0.0</td>\n",
       "      <td>7</td>\n",
       "      <td>85202133384955811399</td>\n",
       "    </tr>\n",
       "    <tr>\n",
       "      <th>1086</th>\n",
       "      <td>0.219157</td>\n",
       "      <td>0.0</td>\n",
       "      <td>5</td>\n",
       "      <td>10751171745870913713</td>\n",
       "    </tr>\n",
       "  </tbody>\n",
       "</table>\n",
       "<p>3002 rows × 4 columns</p>\n",
       "</div>"
      ],
      "text/plain": [
       "      predictions  actual  deciles            contact_id\n",
       "2052     0.198919     0.0        4  85101112703496609682\n",
       "2758     0.264358     1.0        6               4478951\n",
       "4334     0.111831     0.0        2  85102121286175700667\n",
       "9047     0.289096     1.0        6  85101131446010585430\n",
       "7001     0.250771     0.0        6  85202162573702072494\n",
       "...           ...     ...      ...                   ...\n",
       "3541     0.529455     1.0        9               4420073\n",
       "785      0.505723     0.0        8  10751191354315089820\n",
       "7614     0.110675     0.0        2               0301701\n",
       "9577     0.363895     0.0        7  85202133384955811399\n",
       "1086     0.219157     0.0        5  10751171745870913713\n",
       "\n",
       "[3002 rows x 4 columns]"
      ]
     },
     "execution_count": 58,
     "metadata": {},
     "output_type": "execute_result"
    }
   ],
   "source": [
    "class_results"
   ]
  },
  {
   "cell_type": "code",
   "execution_count": 59,
   "metadata": {},
   "outputs": [],
   "source": [
    "class_res1 = (class_results\n",
    "                  .groupby('deciles')\n",
    "                  .agg({'actual': 'sum', 'contact_id': 'count'})\n",
    "                  .rename(columns={'contact_id': 'count'})\n",
    "                  .reset_index()\n",
    "             )\n",
    "class_res1['deciles'] = class_res1['deciles'].apply(lambda x: (x - 10)*-1)\n",
    "class_res1 = class_res1.sort_values(by='deciles')\n",
    "class_res1.to_csv('class_lift.csv', index=False)"
   ]
  },
  {
   "cell_type": "code",
   "execution_count": 60,
   "metadata": {},
   "outputs": [
    {
     "data": {
      "text/plain": [
       "0.0    6228\n",
       "1.0     775\n",
       "dtype: int64"
      ]
     },
     "execution_count": 60,
     "metadata": {},
     "output_type": "execute_result"
    }
   ],
   "source": [
    "cl_preds = pd.Series(gbc.predict(X_train_cl_sfm), index=X_train_cl_sfm.index)\n",
    "cl_preds.value_counts()"
   ]
  },
  {
   "cell_type": "code",
   "execution_count": 61,
   "metadata": {},
   "outputs": [],
   "source": [
    "# !pip install scikit-plot"
   ]
  },
  {
   "cell_type": "code",
   "execution_count": 62,
   "metadata": {},
   "outputs": [],
   "source": [
    "import scikitplot as skplt"
   ]
  },
  {
   "cell_type": "code",
   "execution_count": 63,
   "metadata": {},
   "outputs": [],
   "source": [
    "y_test_cl_preds = gbc.predict_proba(X_test_cl_sfm)"
   ]
  },
  {
   "cell_type": "code",
   "execution_count": 64,
   "metadata": {},
   "outputs": [
    {
     "data": {
      "image/png": "[encoded data removed]",
      "text/plain": [
       "<Figure size 432x288 with 1 Axes>"
      ]
     },
     "metadata": {
      "needs_background": "light"
     },
     "output_type": "display_data"
    }
   ],
   "source": [
    "skplt.metrics.plot_lift_curve(y_test_cl, y_test_cl_preds);"
   ]
  },
  {
   "cell_type": "markdown",
   "metadata": {},
   "source": [
    "[Back to Top](#Index)\n",
    "## Fairness and Bias\n",
    "1. [Visit the Aequitas project website](http://www.datasciencepublicpolicy.org/projects/aequitas/)\n",
    "2. [Aequitas Fairness GitHub](https://github.com/dssg/aequitas)\n",
    "3. [Aequitas API Docs](https://dssg.github.io/aequitas/api/aequitas.html)\n",
    "4. [Aequitas Example](https://dssg.github.io/aequitas/examples/compas_demo.html)"
   ]
  },
  {
   "cell_type": "code",
   "execution_count": 65,
   "metadata": {},
   "outputs": [],
   "source": [
    "# !pip install aequitas"
   ]
  },
  {
   "cell_type": "code",
   "execution_count": 66,
   "metadata": {},
   "outputs": [],
   "source": [
    "import seaborn as sns\n",
    "import matplotlib.pyplot as plt\n",
    "\n",
    "from aequitas.group import Group\n",
    "from aequitas.bias import Bias\n",
    "from aequitas.fairness import Fairness\n",
    "from aequitas.plotting import Plot\n",
    "\n",
    "import warnings; warnings.simplefilter('ignore')"
   ]
  },
  {
   "cell_type": "code",
   "execution_count": 67,
   "metadata": {},
   "outputs": [],
   "source": [
    "plt.rcParams[\"figure.figsize\"] = [6.4, 4.8]"
   ]
  },
  {
   "cell_type": "markdown",
   "metadata": {},
   "source": [
    "### Load sample data"
   ]
  },
  {
   "cell_type": "code",
   "execution_count": 68,
   "metadata": {},
   "outputs": [],
   "source": [
    "RAW_DATA = 'https://raw.githubusercontent.com/dssg/aequitas/master/examples/data/compas_for_aequitas.csv'\n",
    "df = pd.read_csv(RAW_DATA)"
   ]
  },
  {
   "cell_type": "code",
   "execution_count": 69,
   "metadata": {
    "scrolled": true
   },
   "outputs": [
    {
     "data": {
      "text/html": [
       "<div>\n",
       "<style scoped>\n",
       "    .dataframe tbody tr th:only-of-type {\n",
       "        vertical-align: middle;\n",
       "    }\n",
       "\n",
       "    .dataframe tbody tr th {\n",
       "        vertical-align: top;\n",
       "    }\n",
       "\n",
       "    .dataframe thead th {\n",
       "        text-align: right;\n",
       "    }\n",
       "</style>\n",
       "<table border=\"1\" class=\"dataframe\">\n",
       "  <thead>\n",
       "    <tr style=\"text-align: right;\">\n",
       "      <th></th>\n",
       "      <th>entity_id</th>\n",
       "      <th>score</th>\n",
       "      <th>label_value</th>\n",
       "      <th>race</th>\n",
       "      <th>sex</th>\n",
       "      <th>age_cat</th>\n",
       "    </tr>\n",
       "  </thead>\n",
       "  <tbody>\n",
       "    <tr>\n",
       "      <th>0</th>\n",
       "      <td>1</td>\n",
       "      <td>0.0</td>\n",
       "      <td>0</td>\n",
       "      <td>Other</td>\n",
       "      <td>Male</td>\n",
       "      <td>Greater than 45</td>\n",
       "    </tr>\n",
       "    <tr>\n",
       "      <th>1</th>\n",
       "      <td>3</td>\n",
       "      <td>0.0</td>\n",
       "      <td>1</td>\n",
       "      <td>African-American</td>\n",
       "      <td>Male</td>\n",
       "      <td>25 - 45</td>\n",
       "    </tr>\n",
       "    <tr>\n",
       "      <th>2</th>\n",
       "      <td>4</td>\n",
       "      <td>0.0</td>\n",
       "      <td>1</td>\n",
       "      <td>African-American</td>\n",
       "      <td>Male</td>\n",
       "      <td>Less than 25</td>\n",
       "    </tr>\n",
       "    <tr>\n",
       "      <th>3</th>\n",
       "      <td>5</td>\n",
       "      <td>1.0</td>\n",
       "      <td>0</td>\n",
       "      <td>African-American</td>\n",
       "      <td>Male</td>\n",
       "      <td>Less than 25</td>\n",
       "    </tr>\n",
       "    <tr>\n",
       "      <th>4</th>\n",
       "      <td>6</td>\n",
       "      <td>0.0</td>\n",
       "      <td>0</td>\n",
       "      <td>Other</td>\n",
       "      <td>Male</td>\n",
       "      <td>25 - 45</td>\n",
       "    </tr>\n",
       "  </tbody>\n",
       "</table>\n",
       "</div>"
      ],
      "text/plain": [
       "   entity_id  score  label_value              race   sex          age_cat\n",
       "0          1    0.0            0             Other  Male  Greater than 45\n",
       "1          3    0.0            1  African-American  Male          25 - 45\n",
       "2          4    0.0            1  African-American  Male     Less than 25\n",
       "3          5    1.0            0  African-American  Male     Less than 25\n",
       "4          6    0.0            0             Other  Male          25 - 45"
      ]
     },
     "execution_count": 69,
     "metadata": {},
     "output_type": "execute_result"
    }
   ],
   "source": [
    "df.head()"
   ]
  },
  {
   "cell_type": "markdown",
   "metadata": {},
   "source": [
    "### About the data\n",
    "Risk assessment by race\n",
    "\n",
    "COMPAS produces a risk score that predicts a person’s likelihood of commiting a crime in the next two years. The output is a score between 1 and 10 that maps to low, medium or high. For Aequitas, we collapse this to a binary prediction. A score of 0 indicates a prediction of “low” risk according to COMPAS, while a 1 indicates “high” or “medium” risk."
   ]
  },
  {
   "cell_type": "code",
   "execution_count": 70,
   "metadata": {},
   "outputs": [],
   "source": [
    "aq_palette = sns.diverging_palette(225, 35, n=2)"
   ]
  },
  {
   "cell_type": "markdown",
   "metadata": {},
   "source": [
    "Look at the prediction distributons along the race, sex, and age attributes."
   ]
  },
  {
   "cell_type": "code",
   "execution_count": 71,
   "metadata": {},
   "outputs": [
    {
     "data": {
      "image/png": "[encoded data removed]",
      "text/plain": [
       "<Figure size 460.8x345.6 with 1 Axes>"
      ]
     },
     "metadata": {
      "needs_background": "light"
     },
     "output_type": "display_data"
    }
   ],
   "source": [
    "by_race = sns.countplot(\n",
    "            x=\"race\", hue=\"score\", \n",
    "            data=df[df.race.isin(['African-American', 'Caucasian', 'Hispanic'])],\n",
    "            palette=aq_palette\n",
    ")"
   ]
  },
  {
   "cell_type": "markdown",
   "metadata": {},
   "source": [
    "Race by label"
   ]
  },
  {
   "cell_type": "code",
   "execution_count": 72,
   "metadata": {},
   "outputs": [
    {
     "data": {
      "image/png": "[encoded data removed]",
      "text/plain": [
       "<Figure size 460.8x345.6 with 1 Axes>"
      ]
     },
     "metadata": {
      "needs_background": "light"
     },
     "output_type": "display_data"
    }
   ],
   "source": [
    "label_by_race = sns.countplot(\n",
    "    x=\"race\", hue=\"label_value\", \n",
    "    data=df[df.race.isin(['African-American', 'Caucasian', 'Hispanic'])], \n",
    "    palette=aq_palette\n",
    ")"
   ]
  },
  {
   "cell_type": "markdown",
   "metadata": {},
   "source": [
    "Predictions by Sex"
   ]
  },
  {
   "cell_type": "code",
   "execution_count": 73,
   "metadata": {},
   "outputs": [
    {
     "data": {
      "image/png": "[encoded data removed]",
      "text/plain": [
       "<Figure size 460.8x345.6 with 1 Axes>"
      ]
     },
     "metadata": {
      "needs_background": "light"
     },
     "output_type": "display_data"
    }
   ],
   "source": [
    "by_sex = sns.countplot(x=\"sex\", hue=\"score\", data=df, palette=aq_palette)"
   ]
  },
  {
   "cell_type": "markdown",
   "metadata": {},
   "source": [
    "Labels by Sex"
   ]
  },
  {
   "cell_type": "code",
   "execution_count": 74,
   "metadata": {},
   "outputs": [
    {
     "data": {
      "image/png": "[encoded data removed]",
      "text/plain": [
       "<Figure size 460.8x345.6 with 1 Axes>"
      ]
     },
     "metadata": {
      "needs_background": "light"
     },
     "output_type": "display_data"
    }
   ],
   "source": [
    "label_by_age = sns.countplot(\n",
    "    x=\"sex\", hue=\"label_value\", \n",
    "    data=df, palette=aq_palette\n",
    ")"
   ]
  },
  {
   "cell_type": "markdown",
   "metadata": {},
   "source": [
    "Predictions by Age"
   ]
  },
  {
   "cell_type": "code",
   "execution_count": 75,
   "metadata": {},
   "outputs": [
    {
     "data": {
      "image/png": "[encoded data removed]",
      "text/plain": [
       "<Figure size 460.8x345.6 with 1 Axes>"
      ]
     },
     "metadata": {
      "needs_background": "light"
     },
     "output_type": "display_data"
    }
   ],
   "source": [
    "by_age = sns.countplot(x=\"age_cat\", hue=\"score\", data=df, palette=aq_palette)"
   ]
  },
  {
   "cell_type": "markdown",
   "metadata": {},
   "source": [
    "Labels by Age"
   ]
  },
  {
   "cell_type": "code",
   "execution_count": 76,
   "metadata": {},
   "outputs": [
    {
     "data": {
      "image/png": "[encoded data removed]",
      "text/plain": [
       "<Figure size 460.8x345.6 with 1 Axes>"
      ]
     },
     "metadata": {
      "needs_background": "light"
     },
     "output_type": "display_data"
    }
   ],
   "source": [
    "label_by_sex = sns.countplot(\n",
    "    x=\"age_cat\", hue=\"label_value\", \n",
    "    data=df, palette=aq_palette\n",
    ")"
   ]
  },
  {
   "cell_type": "markdown",
   "metadata": {},
   "source": [
    "The graphs above show the base rates for recidivism are higher for black defendants compared to white defendants (.51 vs .39), though the predictions do not match the base rates."
   ]
  },
  {
   "cell_type": "markdown",
   "metadata": {},
   "source": [
    "#### Initialize a `Group()` instance to see metrics in cross tabulations"
   ]
  },
  {
   "cell_type": "code",
   "execution_count": 77,
   "metadata": {},
   "outputs": [
    {
     "name": "stdout",
     "output_type": "stream",
     "text": [
      "model_id, score_thresholds 0 {'rank_abs': [3317]}\n"
     ]
    }
   ],
   "source": [
    "g = Group()\n",
    "xtab, _ = g.get_crosstabs(df)"
   ]
  },
  {
   "cell_type": "code",
   "execution_count": 78,
   "metadata": {},
   "outputs": [
    {
     "data": {
      "text/html": [
       "<div>\n",
       "<style scoped>\n",
       "    .dataframe tbody tr th:only-of-type {\n",
       "        vertical-align: middle;\n",
       "    }\n",
       "\n",
       "    .dataframe tbody tr th {\n",
       "        vertical-align: top;\n",
       "    }\n",
       "\n",
       "    .dataframe thead th {\n",
       "        text-align: right;\n",
       "    }\n",
       "</style>\n",
       "<table border=\"1\" class=\"dataframe\">\n",
       "  <thead>\n",
       "    <tr style=\"text-align: right;\">\n",
       "      <th></th>\n",
       "      <th>model_id</th>\n",
       "      <th>score_threshold</th>\n",
       "      <th>k</th>\n",
       "      <th>attribute_name</th>\n",
       "      <th>attribute_value</th>\n",
       "      <th>tpr</th>\n",
       "      <th>tnr</th>\n",
       "      <th>for</th>\n",
       "      <th>fdr</th>\n",
       "      <th>fpr</th>\n",
       "      <th>fnr</th>\n",
       "      <th>npv</th>\n",
       "      <th>precision</th>\n",
       "      <th>pp</th>\n",
       "      <th>pn</th>\n",
       "      <th>ppr</th>\n",
       "      <th>pprev</th>\n",
       "      <th>fp</th>\n",
       "      <th>fn</th>\n",
       "      <th>tn</th>\n",
       "      <th>tp</th>\n",
       "      <th>group_label_pos</th>\n",
       "      <th>group_label_neg</th>\n",
       "      <th>group_size</th>\n",
       "      <th>total_entities</th>\n",
       "      <th>prev</th>\n",
       "    </tr>\n",
       "  </thead>\n",
       "  <tbody>\n",
       "    <tr>\n",
       "      <th>0</th>\n",
       "      <td>0</td>\n",
       "      <td>binary 0/1</td>\n",
       "      <td>3317</td>\n",
       "      <td>race</td>\n",
       "      <td>African-American</td>\n",
       "      <td>0.720147</td>\n",
       "      <td>0.551532</td>\n",
       "      <td>0.349540</td>\n",
       "      <td>0.370285</td>\n",
       "      <td>0.448468</td>\n",
       "      <td>0.279853</td>\n",
       "      <td>0.650460</td>\n",
       "      <td>0.629715</td>\n",
       "      <td>2174</td>\n",
       "      <td>1522</td>\n",
       "      <td>0.655412</td>\n",
       "      <td>0.588203</td>\n",
       "      <td>805</td>\n",
       "      <td>532</td>\n",
       "      <td>990</td>\n",
       "      <td>1369</td>\n",
       "      <td>1901</td>\n",
       "      <td>1795</td>\n",
       "      <td>3696</td>\n",
       "      <td>7214</td>\n",
       "      <td>0.514340</td>\n",
       "    </tr>\n",
       "    <tr>\n",
       "      <th>1</th>\n",
       "      <td>0</td>\n",
       "      <td>binary 0/1</td>\n",
       "      <td>3317</td>\n",
       "      <td>race</td>\n",
       "      <td>Asian</td>\n",
       "      <td>0.666667</td>\n",
       "      <td>0.913043</td>\n",
       "      <td>0.125000</td>\n",
       "      <td>0.250000</td>\n",
       "      <td>0.086957</td>\n",
       "      <td>0.333333</td>\n",
       "      <td>0.875000</td>\n",
       "      <td>0.750000</td>\n",
       "      <td>8</td>\n",
       "      <td>24</td>\n",
       "      <td>0.002412</td>\n",
       "      <td>0.250000</td>\n",
       "      <td>2</td>\n",
       "      <td>3</td>\n",
       "      <td>21</td>\n",
       "      <td>6</td>\n",
       "      <td>9</td>\n",
       "      <td>23</td>\n",
       "      <td>32</td>\n",
       "      <td>7214</td>\n",
       "      <td>0.281250</td>\n",
       "    </tr>\n",
       "    <tr>\n",
       "      <th>2</th>\n",
       "      <td>0</td>\n",
       "      <td>binary 0/1</td>\n",
       "      <td>3317</td>\n",
       "      <td>race</td>\n",
       "      <td>Caucasian</td>\n",
       "      <td>0.522774</td>\n",
       "      <td>0.765457</td>\n",
       "      <td>0.288125</td>\n",
       "      <td>0.408665</td>\n",
       "      <td>0.234543</td>\n",
       "      <td>0.477226</td>\n",
       "      <td>0.711875</td>\n",
       "      <td>0.591335</td>\n",
       "      <td>854</td>\n",
       "      <td>1600</td>\n",
       "      <td>0.257462</td>\n",
       "      <td>0.348003</td>\n",
       "      <td>349</td>\n",
       "      <td>461</td>\n",
       "      <td>1139</td>\n",
       "      <td>505</td>\n",
       "      <td>966</td>\n",
       "      <td>1488</td>\n",
       "      <td>2454</td>\n",
       "      <td>7214</td>\n",
       "      <td>0.393643</td>\n",
       "    </tr>\n",
       "    <tr>\n",
       "      <th>3</th>\n",
       "      <td>0</td>\n",
       "      <td>binary 0/1</td>\n",
       "      <td>3317</td>\n",
       "      <td>race</td>\n",
       "      <td>Hispanic</td>\n",
       "      <td>0.443966</td>\n",
       "      <td>0.785185</td>\n",
       "      <td>0.288591</td>\n",
       "      <td>0.457895</td>\n",
       "      <td>0.214815</td>\n",
       "      <td>0.556034</td>\n",
       "      <td>0.711409</td>\n",
       "      <td>0.542105</td>\n",
       "      <td>190</td>\n",
       "      <td>447</td>\n",
       "      <td>0.057281</td>\n",
       "      <td>0.298273</td>\n",
       "      <td>87</td>\n",
       "      <td>129</td>\n",
       "      <td>318</td>\n",
       "      <td>103</td>\n",
       "      <td>232</td>\n",
       "      <td>405</td>\n",
       "      <td>637</td>\n",
       "      <td>7214</td>\n",
       "      <td>0.364207</td>\n",
       "    </tr>\n",
       "    <tr>\n",
       "      <th>4</th>\n",
       "      <td>0</td>\n",
       "      <td>binary 0/1</td>\n",
       "      <td>3317</td>\n",
       "      <td>race</td>\n",
       "      <td>Native American</td>\n",
       "      <td>0.900000</td>\n",
       "      <td>0.625000</td>\n",
       "      <td>0.166667</td>\n",
       "      <td>0.250000</td>\n",
       "      <td>0.375000</td>\n",
       "      <td>0.100000</td>\n",
       "      <td>0.833333</td>\n",
       "      <td>0.750000</td>\n",
       "      <td>12</td>\n",
       "      <td>6</td>\n",
       "      <td>0.003618</td>\n",
       "      <td>0.666667</td>\n",
       "      <td>3</td>\n",
       "      <td>1</td>\n",
       "      <td>5</td>\n",
       "      <td>9</td>\n",
       "      <td>10</td>\n",
       "      <td>8</td>\n",
       "      <td>18</td>\n",
       "      <td>7214</td>\n",
       "      <td>0.555556</td>\n",
       "    </tr>\n",
       "    <tr>\n",
       "      <th>5</th>\n",
       "      <td>0</td>\n",
       "      <td>binary 0/1</td>\n",
       "      <td>3317</td>\n",
       "      <td>race</td>\n",
       "      <td>Other</td>\n",
       "      <td>0.323308</td>\n",
       "      <td>0.852459</td>\n",
       "      <td>0.302013</td>\n",
       "      <td>0.455696</td>\n",
       "      <td>0.147541</td>\n",
       "      <td>0.676692</td>\n",
       "      <td>0.697987</td>\n",
       "      <td>0.544304</td>\n",
       "      <td>79</td>\n",
       "      <td>298</td>\n",
       "      <td>0.023817</td>\n",
       "      <td>0.209549</td>\n",
       "      <td>36</td>\n",
       "      <td>90</td>\n",
       "      <td>208</td>\n",
       "      <td>43</td>\n",
       "      <td>133</td>\n",
       "      <td>244</td>\n",
       "      <td>377</td>\n",
       "      <td>7214</td>\n",
       "      <td>0.352785</td>\n",
       "    </tr>\n",
       "    <tr>\n",
       "      <th>6</th>\n",
       "      <td>0</td>\n",
       "      <td>binary 0/1</td>\n",
       "      <td>3317</td>\n",
       "      <td>sex</td>\n",
       "      <td>Female</td>\n",
       "      <td>0.608434</td>\n",
       "      <td>0.678930</td>\n",
       "      <td>0.242537</td>\n",
       "      <td>0.487310</td>\n",
       "      <td>0.321070</td>\n",
       "      <td>0.391566</td>\n",
       "      <td>0.757463</td>\n",
       "      <td>0.512690</td>\n",
       "      <td>591</td>\n",
       "      <td>804</td>\n",
       "      <td>0.178173</td>\n",
       "      <td>0.423656</td>\n",
       "      <td>288</td>\n",
       "      <td>195</td>\n",
       "      <td>609</td>\n",
       "      <td>303</td>\n",
       "      <td>498</td>\n",
       "      <td>897</td>\n",
       "      <td>1395</td>\n",
       "      <td>7214</td>\n",
       "      <td>0.356989</td>\n",
       "    </tr>\n",
       "    <tr>\n",
       "      <th>7</th>\n",
       "      <td>0</td>\n",
       "      <td>binary 0/1</td>\n",
       "      <td>3317</td>\n",
       "      <td>sex</td>\n",
       "      <td>Male</td>\n",
       "      <td>0.629132</td>\n",
       "      <td>0.675799</td>\n",
       "      <td>0.330100</td>\n",
       "      <td>0.364637</td>\n",
       "      <td>0.324201</td>\n",
       "      <td>0.370868</td>\n",
       "      <td>0.669900</td>\n",
       "      <td>0.635363</td>\n",
       "      <td>2726</td>\n",
       "      <td>3093</td>\n",
       "      <td>0.821827</td>\n",
       "      <td>0.468465</td>\n",
       "      <td>994</td>\n",
       "      <td>1021</td>\n",
       "      <td>2072</td>\n",
       "      <td>1732</td>\n",
       "      <td>2753</td>\n",
       "      <td>3066</td>\n",
       "      <td>5819</td>\n",
       "      <td>7214</td>\n",
       "      <td>0.473105</td>\n",
       "    </tr>\n",
       "    <tr>\n",
       "      <th>8</th>\n",
       "      <td>0</td>\n",
       "      <td>binary 0/1</td>\n",
       "      <td>3317</td>\n",
       "      <td>age_cat</td>\n",
       "      <td>25 - 45</td>\n",
       "      <td>0.626257</td>\n",
       "      <td>0.666216</td>\n",
       "      <td>0.323112</td>\n",
       "      <td>0.385135</td>\n",
       "      <td>0.333784</td>\n",
       "      <td>0.373743</td>\n",
       "      <td>0.676888</td>\n",
       "      <td>0.614865</td>\n",
       "      <td>1924</td>\n",
       "      <td>2185</td>\n",
       "      <td>0.580042</td>\n",
       "      <td>0.468240</td>\n",
       "      <td>741</td>\n",
       "      <td>706</td>\n",
       "      <td>1479</td>\n",
       "      <td>1183</td>\n",
       "      <td>1889</td>\n",
       "      <td>2220</td>\n",
       "      <td>4109</td>\n",
       "      <td>7214</td>\n",
       "      <td>0.459723</td>\n",
       "    </tr>\n",
       "    <tr>\n",
       "      <th>9</th>\n",
       "      <td>0</td>\n",
       "      <td>binary 0/1</td>\n",
       "      <td>3317</td>\n",
       "      <td>age_cat</td>\n",
       "      <td>Greater than 45</td>\n",
       "      <td>0.427711</td>\n",
       "      <td>0.832096</td>\n",
       "      <td>0.241117</td>\n",
       "      <td>0.459391</td>\n",
       "      <td>0.167904</td>\n",
       "      <td>0.572289</td>\n",
       "      <td>0.758883</td>\n",
       "      <td>0.540609</td>\n",
       "      <td>394</td>\n",
       "      <td>1182</td>\n",
       "      <td>0.118782</td>\n",
       "      <td>0.250000</td>\n",
       "      <td>181</td>\n",
       "      <td>285</td>\n",
       "      <td>897</td>\n",
       "      <td>213</td>\n",
       "      <td>498</td>\n",
       "      <td>1078</td>\n",
       "      <td>1576</td>\n",
       "      <td>7214</td>\n",
       "      <td>0.315990</td>\n",
       "    </tr>\n",
       "    <tr>\n",
       "      <th>10</th>\n",
       "      <td>0</td>\n",
       "      <td>binary 0/1</td>\n",
       "      <td>3317</td>\n",
       "      <td>age_cat</td>\n",
       "      <td>Less than 25</td>\n",
       "      <td>0.739583</td>\n",
       "      <td>0.458647</td>\n",
       "      <td>0.424528</td>\n",
       "      <td>0.360360</td>\n",
       "      <td>0.541353</td>\n",
       "      <td>0.260417</td>\n",
       "      <td>0.575472</td>\n",
       "      <td>0.639640</td>\n",
       "      <td>999</td>\n",
       "      <td>530</td>\n",
       "      <td>0.301176</td>\n",
       "      <td>0.653368</td>\n",
       "      <td>360</td>\n",
       "      <td>225</td>\n",
       "      <td>305</td>\n",
       "      <td>639</td>\n",
       "      <td>864</td>\n",
       "      <td>665</td>\n",
       "      <td>1529</td>\n",
       "      <td>7214</td>\n",
       "      <td>0.565075</td>\n",
       "    </tr>\n",
       "  </tbody>\n",
       "</table>\n",
       "</div>"
      ],
      "text/plain": [
       "    model_id score_threshold     k attribute_name   attribute_value       tpr  \\\n",
       "0          0      binary 0/1  3317           race  African-American  0.720147   \n",
       "1          0      binary 0/1  3317           race             Asian  0.666667   \n",
       "2          0      binary 0/1  3317           race         Caucasian  0.522774   \n",
       "3          0      binary 0/1  3317           race          Hispanic  0.443966   \n",
       "4          0      binary 0/1  3317           race   Native American  0.900000   \n",
       "5          0      binary 0/1  3317           race             Other  0.323308   \n",
       "6          0      binary 0/1  3317            sex            Female  0.608434   \n",
       "7          0      binary 0/1  3317            sex              Male  0.629132   \n",
       "8          0      binary 0/1  3317        age_cat           25 - 45  0.626257   \n",
       "9          0      binary 0/1  3317        age_cat   Greater than 45  0.427711   \n",
       "10         0      binary 0/1  3317        age_cat      Less than 25  0.739583   \n",
       "\n",
       "         tnr       for       fdr       fpr       fnr       npv  precision  \\\n",
       "0   0.551532  0.349540  0.370285  0.448468  0.279853  0.650460   0.629715   \n",
       "1   0.913043  0.125000  0.250000  0.086957  0.333333  0.875000   0.750000   \n",
       "2   0.765457  0.288125  0.408665  0.234543  0.477226  0.711875   0.591335   \n",
       "3   0.785185  0.288591  0.457895  0.214815  0.556034  0.711409   0.542105   \n",
       "4   0.625000  0.166667  0.250000  0.375000  0.100000  0.833333   0.750000   \n",
       "5   0.852459  0.302013  0.455696  0.147541  0.676692  0.697987   0.544304   \n",
       "6   0.678930  0.242537  0.487310  0.321070  0.391566  0.757463   0.512690   \n",
       "7   0.675799  0.330100  0.364637  0.324201  0.370868  0.669900   0.635363   \n",
       "8   0.666216  0.323112  0.385135  0.333784  0.373743  0.676888   0.614865   \n",
       "9   0.832096  0.241117  0.459391  0.167904  0.572289  0.758883   0.540609   \n",
       "10  0.458647  0.424528  0.360360  0.541353  0.260417  0.575472   0.639640   \n",
       "\n",
       "      pp    pn       ppr     pprev   fp    fn    tn    tp  group_label_pos  \\\n",
       "0   2174  1522  0.655412  0.588203  805   532   990  1369             1901   \n",
       "1      8    24  0.002412  0.250000    2     3    21     6                9   \n",
       "2    854  1600  0.257462  0.348003  349   461  1139   505              966   \n",
       "3    190   447  0.057281  0.298273   87   129   318   103              232   \n",
       "4     12     6  0.003618  0.666667    3     1     5     9               10   \n",
       "5     79   298  0.023817  0.209549   36    90   208    43              133   \n",
       "6    591   804  0.178173  0.423656  288   195   609   303              498   \n",
       "7   2726  3093  0.821827  0.468465  994  1021  2072  1732             2753   \n",
       "8   1924  2185  0.580042  0.468240  741   706  1479  1183             1889   \n",
       "9    394  1182  0.118782  0.250000  181   285   897   213              498   \n",
       "10   999   530  0.301176  0.653368  360   225   305   639              864   \n",
       "\n",
       "    group_label_neg  group_size  total_entities      prev  \n",
       "0              1795        3696            7214  0.514340  \n",
       "1                23          32            7214  0.281250  \n",
       "2              1488        2454            7214  0.393643  \n",
       "3               405         637            7214  0.364207  \n",
       "4                 8          18            7214  0.555556  \n",
       "5               244         377            7214  0.352785  \n",
       "6               897        1395            7214  0.356989  \n",
       "7              3066        5819            7214  0.473105  \n",
       "8              2220        4109            7214  0.459723  \n",
       "9              1078        1576            7214  0.315990  \n",
       "10              665        1529            7214  0.565075  "
      ]
     },
     "execution_count": 78,
     "metadata": {},
     "output_type": "execute_result"
    }
   ],
   "source": [
    "xtab"
   ]
  },
  {
   "cell_type": "markdown",
   "metadata": {},
   "source": [
    "#### Plot the false negative rates\n",
    "\n",
    "These show how often the model misses someone that does commit another crime within that group."
   ]
  },
  {
   "cell_type": "code",
   "execution_count": 79,
   "metadata": {},
   "outputs": [],
   "source": [
    "aqp = Plot()"
   ]
  },
  {
   "cell_type": "code",
   "execution_count": 80,
   "metadata": {},
   "outputs": [
    {
     "data": {
      "image/png": "[encoded data removed]",
      "text/plain": [
       "<Figure size 720x360 with 1 Axes>"
      ]
     },
     "metadata": {
      "needs_background": "light"
     },
     "output_type": "display_data"
    }
   ],
   "source": [
    "fnr = aqp.plot_group_metric(xtab, 'fnr', min_group_size=0.05)"
   ]
  },
  {
   "cell_type": "code",
   "execution_count": null,
   "metadata": {},
   "outputs": [],
   "source": [
    "a = aqp.plot_group_metric_all(xtab, ncols=3)"
   ]
  },
  {
   "cell_type": "code",
   "execution_count": null,
   "metadata": {},
   "outputs": [],
   "source": []
  },
  {
   "cell_type": "code",
   "execution_count": null,
   "metadata": {},
   "outputs": [],
   "source": []
  },
  {
   "cell_type": "code",
   "execution_count": null,
   "metadata": {},
   "outputs": [],
   "source": []
  },
  {
   "cell_type": "code",
   "execution_count": null,
   "metadata": {},
   "outputs": [],
   "source": []
  }
 ],
 "metadata": {
  "kernelspec": {
   "display_name": "Python 3",
   "language": "python",
   "name": "python3"
  },
  "language_info": {
   "codemirror_mode": {
    "name": "ipython",
    "version": 3
   },
   "file_extension": ".py",
   "mimetype": "text/x-python",
   "name": "python",
   "nbconvert_exporter": "python",
   "pygments_lexer": "ipython3",
   "version": "3.8.5"
  }
 },
 "nbformat": 4,
 "nbformat_minor": 4
}
