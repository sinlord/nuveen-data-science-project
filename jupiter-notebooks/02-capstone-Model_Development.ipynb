{
 "cells": [
  {
   "cell_type": "code",
   "execution_count": 1,
   "metadata": {},
   "outputs": [
    {
     "name": "stdout",
     "output_type": "stream",
     "text": [
      "Requirement already up-to-date: scikit-plot in /opt/anaconda3/lib/python3.8/site-packages (0.3.7)\n",
      "Requirement already satisfied, skipping upgrade: scipy>=0.9 in /opt/anaconda3/lib/python3.8/site-packages (from scikit-plot) (1.5.2)\n",
      "Requirement already satisfied, skipping upgrade: joblib>=0.10 in /opt/anaconda3/lib/python3.8/site-packages (from scikit-plot) (0.17.0)\n",
      "Requirement already satisfied, skipping upgrade: matplotlib>=1.4.0 in /opt/anaconda3/lib/python3.8/site-packages (from scikit-plot) (3.3.2)\n",
      "Requirement already satisfied, skipping upgrade: scikit-learn>=0.18 in /opt/anaconda3/lib/python3.8/site-packages (from scikit-plot) (0.24.1)\n",
      "Requirement already satisfied, skipping upgrade: numpy>=1.14.5 in /opt/anaconda3/lib/python3.8/site-packages (from scipy>=0.9->scikit-plot) (1.19.2)\n",
      "Requirement already satisfied, skipping upgrade: kiwisolver>=1.0.1 in /opt/anaconda3/lib/python3.8/site-packages (from matplotlib>=1.4.0->scikit-plot) (1.3.0)\n",
      "Requirement already satisfied, skipping upgrade: certifi>=2020.06.20 in /opt/anaconda3/lib/python3.8/site-packages (from matplotlib>=1.4.0->scikit-plot) (2020.6.20)\n",
      "Requirement already satisfied, skipping upgrade: pillow>=6.2.0 in /opt/anaconda3/lib/python3.8/site-packages (from matplotlib>=1.4.0->scikit-plot) (8.0.1)\n",
      "Requirement already satisfied, skipping upgrade: python-dateutil>=2.1 in /opt/anaconda3/lib/python3.8/site-packages (from matplotlib>=1.4.0->scikit-plot) (2.8.1)\n",
      "Requirement already satisfied, skipping upgrade: pyparsing!=2.0.4,!=2.1.2,!=2.1.6,>=2.0.3 in /opt/anaconda3/lib/python3.8/site-packages (from matplotlib>=1.4.0->scikit-plot) (2.4.7)\n",
      "Requirement already satisfied, skipping upgrade: cycler>=0.10 in /opt/anaconda3/lib/python3.8/site-packages (from matplotlib>=1.4.0->scikit-plot) (0.10.0)\n",
      "Requirement already satisfied, skipping upgrade: threadpoolctl>=2.0.0 in /opt/anaconda3/lib/python3.8/site-packages (from scikit-learn>=0.18->scikit-plot) (2.1.0)\n",
      "Requirement already satisfied, skipping upgrade: six>=1.5 in /opt/anaconda3/lib/python3.8/site-packages (from python-dateutil>=2.1->matplotlib>=1.4.0->scikit-plot) (1.15.0)\n",
      "Note: you may need to restart the kernel to use updated packages.\n"
     ]
    }
   ],
   "source": [
    "%pip install -U scikit-plot"
   ]
  },
  {
   "cell_type": "code",
   "execution_count": 257,
   "metadata": {},
   "outputs": [],
   "source": [
    "import pandas as pd\n",
    "import matplotlib.pyplot as plt\n",
    "import seaborn as sns\n",
    "import numpy as np\n",
    "\n",
    "from sklearn.model_selection import train_test_split, GridSearchCV\n",
    "from sklearn.preprocessing import StandardScaler\n",
    "from sklearn.linear_model import LinearRegression\n",
    "from sklearn.ensemble import GradientBoostingRegressor, RandomForestRegressor, RandomForestClassifier\n",
    "\n",
    "from sklearn.decomposition import PCA\n",
    "from sklearn.pipeline import make_pipeline\n",
    "\n",
    "from sklearn.metrics import r2_score, mean_squared_error, classification_report\n",
    "from sklearn.ensemble import RandomForestClassifier\n",
    "from sklearn.model_selection import cross_val_predict\n",
    "\n",
    "from sklearn.linear_model import (\n",
    "    LinearRegression, TheilSenRegressor, RANSACRegressor, HuberRegressor, Ridge)\n",
    "#from pandas_profiling import ProfileReport\n",
    "from sklearn.feature_selection import SelectKBest, f_regression\n",
    "import scikitplot as skplt\n",
    "from sklearn.preprocessing import Binarizer"
   ]
  },
  {
   "cell_type": "code",
   "execution_count": 84,
   "metadata": {},
   "outputs": [],
   "source": [
    "#to Supress scientif format and help in comparison\n",
    "pd.options.display.float_format = '{:.3f}'.format"
   ]
  },
  {
   "cell_type": "code",
   "execution_count": 85,
   "metadata": {},
   "outputs": [],
   "source": [
    "df = pd.read_csv('../data/final_eda_base_data.csv', index_col= 0)"
   ]
  },
  {
   "cell_type": "code",
   "execution_count": 86,
   "metadata": {},
   "outputs": [
    {
     "name": "stdout",
     "output_type": "stream",
     "text": [
      "<class 'pandas.core.frame.DataFrame'>\n",
      "Int64Index: 10005 entries, 0 to 10004\n",
      "Data columns (total 42 columns):\n",
      " #   Column                               Non-Null Count  Dtype  \n",
      "---  ------                               --------------  -----  \n",
      " 0   no_of_sales_12M_1                    10005 non-null  float64\n",
      " 1   no_of_Redemption_12M_1               10005 non-null  float64\n",
      " 2   no_of_sales_12M_10K                  10005 non-null  float64\n",
      " 3   no_of_Redemption_12M_10K             10005 non-null  float64\n",
      " 4   no_of_funds_sold_12M_1               10005 non-null  float64\n",
      " 5   no_of_funds_redeemed_12M_1           10005 non-null  float64\n",
      " 6   no_of_fund_sales_12M_10K             10005 non-null  float64\n",
      " 7   no_of_funds_Redemption_12M_10K       10005 non-null  float64\n",
      " 8   no_of_assetclass_sold_12M_1          10005 non-null  float64\n",
      " 9   no_of_assetclass_redeemed_12M_1      10005 non-null  float64\n",
      " 10  no_of_assetclass_sales_12M_10K       10005 non-null  float64\n",
      " 11  no_of_assetclass_Redemption_12M_10K  10005 non-null  float64\n",
      " 12  No_of_fund_curr                      10005 non-null  float64\n",
      " 13  No_of_asset_curr                     10005 non-null  float64\n",
      " 14  AUM                                  10005 non-null  float64\n",
      " 15  sales_curr                           10005 non-null  float64\n",
      " 16  sales_12M                            10005 non-null  float64\n",
      " 17  redemption_curr                      10005 non-null  float64\n",
      " 18  redemption_12M                       10005 non-null  float64\n",
      " 19  new_Fund_added_12M                   10005 non-null  float64\n",
      " 20  sales_2019                           10005 non-null  float64\n",
      " 21  new_fund_2019                        10005 non-null  float64\n",
      " 22  Firm name                            10005 non-null  object \n",
      " 23  Channel_Asset Manager                10005 non-null  int64  \n",
      " 24  Channel_Bank/Trust                   10005 non-null  int64  \n",
      " 25  Channel_Discount                     10005 non-null  int64  \n",
      " 26  Channel_Dual                         10005 non-null  int64  \n",
      " 27  Channel_Fee-Based Adviser            10005 non-null  int64  \n",
      " 28  Channel_Independent Dealer           10005 non-null  int64  \n",
      " 29  Channel_International Outlet         10005 non-null  int64  \n",
      " 30  Channel_Low/Non Producer             10005 non-null  int64  \n",
      " 31  Channel_National Broker-Dealer       10005 non-null  int64  \n",
      " 32  Channel_Networker                    10005 non-null  int64  \n",
      " 33  Channel_Private Client Group         10005 non-null  int64  \n",
      " 34  Sub channel_Affiliated               10005 non-null  int64  \n",
      " 35  Sub channel_DCIO                     10005 non-null  int64  \n",
      " 36  Sub channel_Global                   10005 non-null  int64  \n",
      " 37  Sub channel_IBD                      10005 non-null  int64  \n",
      " 38  Sub channel_NACS                     10005 non-null  int64  \n",
      " 39  Sub channel_Other                    10005 non-null  int64  \n",
      " 40  Sub channel_RIA                      10005 non-null  int64  \n",
      " 41  Sub channel_USBT                     10005 non-null  int64  \n",
      "dtypes: float64(22), int64(19), object(1)\n",
      "memory usage: 3.3+ MB\n"
     ]
    }
   ],
   "source": [
    "df.info()"
   ]
  },
  {
   "cell_type": "code",
   "execution_count": 87,
   "metadata": {},
   "outputs": [],
   "source": [
    "#df.drop(df.iloc[:, 22:40], inplace = True, axis=1)"
   ]
  },
  {
   "cell_type": "code",
   "execution_count": 88,
   "metadata": {},
   "outputs": [],
   "source": [
    "# see the increase or decrease in Total sales"
   ]
  },
  {
   "cell_type": "code",
   "execution_count": 89,
   "metadata": {},
   "outputs": [],
   "source": [
    "total_sales_2018 = df['sales_12M'].sum()\n",
    "total_sales_2018_curr = df['sales_curr'].sum()\n",
    "total_sales_2019 = df['sales_2019'].sum()"
   ]
  },
  {
   "cell_type": "code",
   "execution_count": 90,
   "metadata": {},
   "outputs": [
    {
     "data": {
      "text/plain": [
       "-19460114.22761917"
      ]
     },
     "execution_count": 90,
     "metadata": {},
     "output_type": "execute_result"
    }
   ],
   "source": [
    "total_sales_2019 - 2160628225 "
   ]
  },
  {
   "cell_type": "code",
   "execution_count": 91,
   "metadata": {},
   "outputs": [
    {
     "data": {
      "text/plain": [
       "12.406626312261182"
      ]
     },
     "execution_count": 91,
     "metadata": {},
     "output_type": "execute_result"
    }
   ],
   "source": [
    "\n",
    "#total sales increase in percentage: in 2018 - 2019\n",
    "((total_sales_2019 - total_sales_2018 - total_sales_2018_curr)/(total_sales_2018 + total_sales_2018_curr))*100"
   ]
  },
  {
   "cell_type": "code",
   "execution_count": 92,
   "metadata": {
    "scrolled": true
   },
   "outputs": [
    {
     "data": {
      "text/plain": [
       "13.42823959753883"
      ]
     },
     "execution_count": 92,
     "metadata": {},
     "output_type": "execute_result"
    }
   ],
   "source": [
    "((2160628225 - total_sales_2018 - total_sales_2018_curr)/(total_sales_2018+total_sales_2018_curr))*100"
   ]
  },
  {
   "cell_type": "markdown",
   "metadata": {},
   "source": [
    "## As per the given data model predicts 13% increase in the sales from 2018 to 2019! which is significant"
   ]
  },
  {
   "cell_type": "code",
   "execution_count": 93,
   "metadata": {},
   "outputs": [],
   "source": [
    "#Drop some highly correlated columns - \n",
    "#'no_of_sales_12M_10K' , 'no_of_Redemption_12M_10K', 'no_of_assetclass_sales_12M_10K', 'redemption_12M', 'redemption_12M'\n",
    "#'no_of_fund_sales_12M_10K'"
   ]
  },
  {
   "cell_type": "code",
   "execution_count": 94,
   "metadata": {},
   "outputs": [],
   "source": [
    "X = df.drop(['no_of_sales_12M_10K', 'no_of_Redemption_12M_10K', 'no_of_assetclass_sales_12M_10K', 'redemption_12M', 'redemption_12M','no_of_fund_sales_12M_10K'], axis=1, inplace= True)"
   ]
  },
  {
   "cell_type": "code",
   "execution_count": 95,
   "metadata": {},
   "outputs": [],
   "source": [
    "X = df.drop(['Firm name'], axis = 1, inplace= True)"
   ]
  },
  {
   "cell_type": "markdown",
   "metadata": {},
   "source": [
    "# Prepare the target variable for Regression and Classification"
   ]
  },
  {
   "cell_type": "code",
   "execution_count": 96,
   "metadata": {},
   "outputs": [],
   "source": [
    "X = df.drop(['sales_2019', 'new_fund_2019'], axis=1)\n",
    "y_reg = df['sales_2019']\n",
    "y_cl = df['new_fund_2019']"
   ]
  },
  {
   "cell_type": "code",
   "execution_count": 97,
   "metadata": {},
   "outputs": [],
   "source": [
    "X = (X-X.mean())/X.std()"
   ]
  },
  {
   "cell_type": "code",
   "execution_count": 98,
   "metadata": {},
   "outputs": [],
   "source": [
    "#draw histogram to see the distribution"
   ]
  },
  {
   "cell_type": "code",
   "execution_count": 99,
   "metadata": {},
   "outputs": [
    {
     "name": "stdout",
     "output_type": "stream",
     "text": [
      "<class 'pandas.core.frame.DataFrame'>\n",
      "Int64Index: 10005 entries, 0 to 10004\n",
      "Data columns (total 34 columns):\n",
      " #   Column                               Non-Null Count  Dtype  \n",
      "---  ------                               --------------  -----  \n",
      " 0   no_of_sales_12M_1                    10005 non-null  float64\n",
      " 1   no_of_Redemption_12M_1               10005 non-null  float64\n",
      " 2   no_of_funds_sold_12M_1               10005 non-null  float64\n",
      " 3   no_of_funds_redeemed_12M_1           10005 non-null  float64\n",
      " 4   no_of_funds_Redemption_12M_10K       10005 non-null  float64\n",
      " 5   no_of_assetclass_sold_12M_1          10005 non-null  float64\n",
      " 6   no_of_assetclass_redeemed_12M_1      10005 non-null  float64\n",
      " 7   no_of_assetclass_Redemption_12M_10K  10005 non-null  float64\n",
      " 8   No_of_fund_curr                      10005 non-null  float64\n",
      " 9   No_of_asset_curr                     10005 non-null  float64\n",
      " 10  AUM                                  10005 non-null  float64\n",
      " 11  sales_curr                           10005 non-null  float64\n",
      " 12  sales_12M                            10005 non-null  float64\n",
      " 13  redemption_curr                      10005 non-null  float64\n",
      " 14  new_Fund_added_12M                   10005 non-null  float64\n",
      " 15  Channel_Asset Manager                10005 non-null  float64\n",
      " 16  Channel_Bank/Trust                   10005 non-null  float64\n",
      " 17  Channel_Discount                     10005 non-null  float64\n",
      " 18  Channel_Dual                         10005 non-null  float64\n",
      " 19  Channel_Fee-Based Adviser            10005 non-null  float64\n",
      " 20  Channel_Independent Dealer           10005 non-null  float64\n",
      " 21  Channel_International Outlet         10005 non-null  float64\n",
      " 22  Channel_Low/Non Producer             10005 non-null  float64\n",
      " 23  Channel_National Broker-Dealer       10005 non-null  float64\n",
      " 24  Channel_Networker                    10005 non-null  float64\n",
      " 25  Channel_Private Client Group         10005 non-null  float64\n",
      " 26  Sub channel_Affiliated               10005 non-null  float64\n",
      " 27  Sub channel_DCIO                     10005 non-null  float64\n",
      " 28  Sub channel_Global                   10005 non-null  float64\n",
      " 29  Sub channel_IBD                      10005 non-null  float64\n",
      " 30  Sub channel_NACS                     10005 non-null  float64\n",
      " 31  Sub channel_Other                    10005 non-null  float64\n",
      " 32  Sub channel_RIA                      10005 non-null  float64\n",
      " 33  Sub channel_USBT                     10005 non-null  float64\n",
      "dtypes: float64(34)\n",
      "memory usage: 2.7 MB\n"
     ]
    }
   ],
   "source": [
    "X.info()"
   ]
  },
  {
   "cell_type": "code",
   "execution_count": 100,
   "metadata": {},
   "outputs": [],
   "source": [
    "## Decreasing the random state to 12 yeilds a better performance - .50 score on Test data"
   ]
  },
  {
   "cell_type": "markdown",
   "metadata": {},
   "source": [
    "# Test-Train Split for Regression"
   ]
  },
  {
   "cell_type": "code",
   "execution_count": 101,
   "metadata": {},
   "outputs": [],
   "source": [
    "X_train, X_test, y_train_reg, y_test_reg = train_test_split(X, y_reg, test_size=0.25, random_state=20)"
   ]
  },
  {
   "cell_type": "code",
   "execution_count": 102,
   "metadata": {},
   "outputs": [
    {
     "data": {
      "image/png": "[encoded data removed]",
      "text/plain": [
       "<Figure size 432x288 with 1 Axes>"
      ]
     },
     "metadata": {
      "needs_background": "light"
     },
     "output_type": "display_data"
    }
   ],
   "source": [
    "np.log1p(y_train_reg).hist(bins=30);"
   ]
  },
  {
   "cell_type": "code",
   "execution_count": 103,
   "metadata": {},
   "outputs": [],
   "source": [
    "pred_baseline = np.ones(len(y_train_reg))*np.mean(y_train_reg)"
   ]
  },
  {
   "cell_type": "code",
   "execution_count": 104,
   "metadata": {},
   "outputs": [
    {
     "data": {
      "text/plain": [
       "0.0"
      ]
     },
     "execution_count": 104,
     "metadata": {},
     "output_type": "execute_result"
    }
   ],
   "source": [
    "r2_score(y_train_reg, pred_baseline)"
   ]
  },
  {
   "cell_type": "code",
   "execution_count": 105,
   "metadata": {},
   "outputs": [
    {
     "data": {
      "text/plain": [
       "1185311.8594254837"
      ]
     },
     "execution_count": 105,
     "metadata": {},
     "output_type": "execute_result"
    }
   ],
   "source": [
    "mean_squared_error(y_train_reg, pred_baseline, squared= False)"
   ]
  },
  {
   "cell_type": "code",
   "execution_count": 106,
   "metadata": {},
   "outputs": [],
   "source": [
    "lr_pipeline = make_pipeline(PCA(0.8), LinearRegression())"
   ]
  },
  {
   "cell_type": "code",
   "execution_count": 107,
   "metadata": {},
   "outputs": [
    {
     "data": {
      "text/html": [
       "<div>\n",
       "<style scoped>\n",
       "    .dataframe tbody tr th:only-of-type {\n",
       "        vertical-align: middle;\n",
       "    }\n",
       "\n",
       "    .dataframe tbody tr th {\n",
       "        vertical-align: top;\n",
       "    }\n",
       "\n",
       "    .dataframe thead th {\n",
       "        text-align: right;\n",
       "    }\n",
       "</style>\n",
       "<table border=\"1\" class=\"dataframe\">\n",
       "  <thead>\n",
       "    <tr style=\"text-align: right;\">\n",
       "      <th></th>\n",
       "      <th>no_of_sales_12M_1</th>\n",
       "      <th>no_of_Redemption_12M_1</th>\n",
       "      <th>no_of_funds_sold_12M_1</th>\n",
       "      <th>no_of_funds_redeemed_12M_1</th>\n",
       "      <th>no_of_funds_Redemption_12M_10K</th>\n",
       "      <th>no_of_assetclass_sold_12M_1</th>\n",
       "      <th>no_of_assetclass_redeemed_12M_1</th>\n",
       "      <th>no_of_assetclass_Redemption_12M_10K</th>\n",
       "      <th>No_of_fund_curr</th>\n",
       "      <th>No_of_asset_curr</th>\n",
       "      <th>...</th>\n",
       "      <th>Channel_Networker</th>\n",
       "      <th>Channel_Private Client Group</th>\n",
       "      <th>Sub channel_Affiliated</th>\n",
       "      <th>Sub channel_DCIO</th>\n",
       "      <th>Sub channel_Global</th>\n",
       "      <th>Sub channel_IBD</th>\n",
       "      <th>Sub channel_NACS</th>\n",
       "      <th>Sub channel_Other</th>\n",
       "      <th>Sub channel_RIA</th>\n",
       "      <th>Sub channel_USBT</th>\n",
       "    </tr>\n",
       "  </thead>\n",
       "  <tbody>\n",
       "    <tr>\n",
       "      <th>count</th>\n",
       "      <td>7503.000</td>\n",
       "      <td>7503.000</td>\n",
       "      <td>7503.000</td>\n",
       "      <td>7503.000</td>\n",
       "      <td>7503.000</td>\n",
       "      <td>7503.000</td>\n",
       "      <td>7503.000</td>\n",
       "      <td>7503.000</td>\n",
       "      <td>7503.000</td>\n",
       "      <td>7503.000</td>\n",
       "      <td>...</td>\n",
       "      <td>7503.000</td>\n",
       "      <td>7503.000</td>\n",
       "      <td>7503.000</td>\n",
       "      <td>7503.000</td>\n",
       "      <td>7503.000</td>\n",
       "      <td>7503.000</td>\n",
       "      <td>7503.000</td>\n",
       "      <td>7503.000</td>\n",
       "      <td>7503.000</td>\n",
       "      <td>7503.000</td>\n",
       "    </tr>\n",
       "    <tr>\n",
       "      <th>mean</th>\n",
       "      <td>0.003</td>\n",
       "      <td>0.006</td>\n",
       "      <td>-0.001</td>\n",
       "      <td>-0.001</td>\n",
       "      <td>0.002</td>\n",
       "      <td>-0.004</td>\n",
       "      <td>-0.006</td>\n",
       "      <td>-0.001</td>\n",
       "      <td>-0.003</td>\n",
       "      <td>-0.001</td>\n",
       "      <td>...</td>\n",
       "      <td>0.003</td>\n",
       "      <td>0.006</td>\n",
       "      <td>0.004</td>\n",
       "      <td>-0.010</td>\n",
       "      <td>0.006</td>\n",
       "      <td>-0.001</td>\n",
       "      <td>-0.001</td>\n",
       "      <td>0.006</td>\n",
       "      <td>0.005</td>\n",
       "      <td>-0.003</td>\n",
       "    </tr>\n",
       "    <tr>\n",
       "      <th>std</th>\n",
       "      <td>1.071</td>\n",
       "      <td>1.140</td>\n",
       "      <td>1.001</td>\n",
       "      <td>1.004</td>\n",
       "      <td>1.003</td>\n",
       "      <td>1.000</td>\n",
       "      <td>0.999</td>\n",
       "      <td>1.002</td>\n",
       "      <td>0.995</td>\n",
       "      <td>1.000</td>\n",
       "      <td>...</td>\n",
       "      <td>1.044</td>\n",
       "      <td>1.043</td>\n",
       "      <td>1.069</td>\n",
       "      <td>0.667</td>\n",
       "      <td>1.155</td>\n",
       "      <td>1.000</td>\n",
       "      <td>1.000</td>\n",
       "      <td>1.155</td>\n",
       "      <td>1.017</td>\n",
       "      <td>0.958</td>\n",
       "    </tr>\n",
       "    <tr>\n",
       "      <th>min</th>\n",
       "      <td>-0.204</td>\n",
       "      <td>-0.110</td>\n",
       "      <td>-0.571</td>\n",
       "      <td>-0.626</td>\n",
       "      <td>-0.447</td>\n",
       "      <td>-0.782</td>\n",
       "      <td>-0.866</td>\n",
       "      <td>-0.565</td>\n",
       "      <td>-0.684</td>\n",
       "      <td>-0.883</td>\n",
       "      <td>...</td>\n",
       "      <td>-0.033</td>\n",
       "      <td>-0.070</td>\n",
       "      <td>-0.026</td>\n",
       "      <td>-0.017</td>\n",
       "      <td>-0.017</td>\n",
       "      <td>-1.417</td>\n",
       "      <td>-0.666</td>\n",
       "      <td>-0.017</td>\n",
       "      <td>-0.150</td>\n",
       "      <td>-0.040</td>\n",
       "    </tr>\n",
       "    <tr>\n",
       "      <th>25%</th>\n",
       "      <td>-0.204</td>\n",
       "      <td>-0.110</td>\n",
       "      <td>-0.571</td>\n",
       "      <td>-0.626</td>\n",
       "      <td>-0.447</td>\n",
       "      <td>-0.782</td>\n",
       "      <td>-0.866</td>\n",
       "      <td>-0.565</td>\n",
       "      <td>-0.684</td>\n",
       "      <td>-0.883</td>\n",
       "      <td>...</td>\n",
       "      <td>-0.033</td>\n",
       "      <td>-0.070</td>\n",
       "      <td>-0.026</td>\n",
       "      <td>-0.017</td>\n",
       "      <td>-0.017</td>\n",
       "      <td>-1.417</td>\n",
       "      <td>-0.666</td>\n",
       "      <td>-0.017</td>\n",
       "      <td>-0.150</td>\n",
       "      <td>-0.040</td>\n",
       "    </tr>\n",
       "    <tr>\n",
       "      <th>50%</th>\n",
       "      <td>-0.204</td>\n",
       "      <td>-0.104</td>\n",
       "      <td>-0.571</td>\n",
       "      <td>-0.221</td>\n",
       "      <td>-0.447</td>\n",
       "      <td>-0.782</td>\n",
       "      <td>0.089</td>\n",
       "      <td>-0.565</td>\n",
       "      <td>-0.365</td>\n",
       "      <td>0.077</td>\n",
       "      <td>...</td>\n",
       "      <td>-0.033</td>\n",
       "      <td>-0.070</td>\n",
       "      <td>-0.026</td>\n",
       "      <td>-0.017</td>\n",
       "      <td>-0.017</td>\n",
       "      <td>0.706</td>\n",
       "      <td>-0.666</td>\n",
       "      <td>-0.017</td>\n",
       "      <td>-0.150</td>\n",
       "      <td>-0.040</td>\n",
       "    </tr>\n",
       "    <tr>\n",
       "      <th>75%</th>\n",
       "      <td>-0.123</td>\n",
       "      <td>-0.068</td>\n",
       "      <td>0.269</td>\n",
       "      <td>0.185</td>\n",
       "      <td>0.289</td>\n",
       "      <td>0.213</td>\n",
       "      <td>1.044</td>\n",
       "      <td>0.774</td>\n",
       "      <td>0.273</td>\n",
       "      <td>0.077</td>\n",
       "      <td>...</td>\n",
       "      <td>-0.033</td>\n",
       "      <td>-0.070</td>\n",
       "      <td>-0.026</td>\n",
       "      <td>-0.017</td>\n",
       "      <td>-0.017</td>\n",
       "      <td>0.706</td>\n",
       "      <td>1.501</td>\n",
       "      <td>-0.017</td>\n",
       "      <td>-0.150</td>\n",
       "      <td>-0.040</td>\n",
       "    </tr>\n",
       "    <tr>\n",
       "      <th>max</th>\n",
       "      <td>44.442</td>\n",
       "      <td>63.330</td>\n",
       "      <td>12.875</td>\n",
       "      <td>12.747</td>\n",
       "      <td>14.272</td>\n",
       "      <td>4.194</td>\n",
       "      <td>3.910</td>\n",
       "      <td>4.792</td>\n",
       "      <td>9.519</td>\n",
       "      <td>4.873</td>\n",
       "      <td>...</td>\n",
       "      <td>30.141</td>\n",
       "      <td>14.254</td>\n",
       "      <td>37.791</td>\n",
       "      <td>57.738</td>\n",
       "      <td>57.738</td>\n",
       "      <td>0.706</td>\n",
       "      <td>1.501</td>\n",
       "      <td>57.738</td>\n",
       "      <td>6.684</td>\n",
       "      <td>24.985</td>\n",
       "    </tr>\n",
       "  </tbody>\n",
       "</table>\n",
       "<p>8 rows × 34 columns</p>\n",
       "</div>"
      ],
      "text/plain": [
       "       no_of_sales_12M_1  no_of_Redemption_12M_1  no_of_funds_sold_12M_1  \\\n",
       "count           7503.000                7503.000                7503.000   \n",
       "mean               0.003                   0.006                  -0.001   \n",
       "std                1.071                   1.140                   1.001   \n",
       "min               -0.204                  -0.110                  -0.571   \n",
       "25%               -0.204                  -0.110                  -0.571   \n",
       "50%               -0.204                  -0.104                  -0.571   \n",
       "75%               -0.123                  -0.068                   0.269   \n",
       "max               44.442                  63.330                  12.875   \n",
       "\n",
       "       no_of_funds_redeemed_12M_1  no_of_funds_Redemption_12M_10K  \\\n",
       "count                    7503.000                        7503.000   \n",
       "mean                       -0.001                           0.002   \n",
       "std                         1.004                           1.003   \n",
       "min                        -0.626                          -0.447   \n",
       "25%                        -0.626                          -0.447   \n",
       "50%                        -0.221                          -0.447   \n",
       "75%                         0.185                           0.289   \n",
       "max                        12.747                          14.272   \n",
       "\n",
       "       no_of_assetclass_sold_12M_1  no_of_assetclass_redeemed_12M_1  \\\n",
       "count                     7503.000                         7503.000   \n",
       "mean                        -0.004                           -0.006   \n",
       "std                          1.000                            0.999   \n",
       "min                         -0.782                           -0.866   \n",
       "25%                         -0.782                           -0.866   \n",
       "50%                         -0.782                            0.089   \n",
       "75%                          0.213                            1.044   \n",
       "max                          4.194                            3.910   \n",
       "\n",
       "       no_of_assetclass_Redemption_12M_10K  No_of_fund_curr  No_of_asset_curr  \\\n",
       "count                             7503.000         7503.000          7503.000   \n",
       "mean                                -0.001           -0.003            -0.001   \n",
       "std                                  1.002            0.995             1.000   \n",
       "min                                 -0.565           -0.684            -0.883   \n",
       "25%                                 -0.565           -0.684            -0.883   \n",
       "50%                                 -0.565           -0.365             0.077   \n",
       "75%                                  0.774            0.273             0.077   \n",
       "max                                  4.792            9.519             4.873   \n",
       "\n",
       "       ...  Channel_Networker  Channel_Private Client Group  \\\n",
       "count  ...           7503.000                      7503.000   \n",
       "mean   ...              0.003                         0.006   \n",
       "std    ...              1.044                         1.043   \n",
       "min    ...             -0.033                        -0.070   \n",
       "25%    ...             -0.033                        -0.070   \n",
       "50%    ...             -0.033                        -0.070   \n",
       "75%    ...             -0.033                        -0.070   \n",
       "max    ...             30.141                        14.254   \n",
       "\n",
       "       Sub channel_Affiliated  Sub channel_DCIO  Sub channel_Global  \\\n",
       "count                7503.000          7503.000            7503.000   \n",
       "mean                    0.004            -0.010               0.006   \n",
       "std                     1.069             0.667               1.155   \n",
       "min                    -0.026            -0.017              -0.017   \n",
       "25%                    -0.026            -0.017              -0.017   \n",
       "50%                    -0.026            -0.017              -0.017   \n",
       "75%                    -0.026            -0.017              -0.017   \n",
       "max                    37.791            57.738              57.738   \n",
       "\n",
       "       Sub channel_IBD  Sub channel_NACS  Sub channel_Other  Sub channel_RIA  \\\n",
       "count         7503.000          7503.000           7503.000         7503.000   \n",
       "mean            -0.001            -0.001              0.006            0.005   \n",
       "std              1.000             1.000              1.155            1.017   \n",
       "min             -1.417            -0.666             -0.017           -0.150   \n",
       "25%             -1.417            -0.666             -0.017           -0.150   \n",
       "50%              0.706            -0.666             -0.017           -0.150   \n",
       "75%              0.706             1.501             -0.017           -0.150   \n",
       "max              0.706             1.501             57.738            6.684   \n",
       "\n",
       "       Sub channel_USBT  \n",
       "count          7503.000  \n",
       "mean             -0.003  \n",
       "std               0.958  \n",
       "min              -0.040  \n",
       "25%              -0.040  \n",
       "50%              -0.040  \n",
       "75%              -0.040  \n",
       "max              24.985  \n",
       "\n",
       "[8 rows x 34 columns]"
      ]
     },
     "execution_count": 107,
     "metadata": {},
     "output_type": "execute_result"
    }
   ],
   "source": [
    "X_train.describe()"
   ]
  },
  {
   "cell_type": "code",
   "execution_count": 108,
   "metadata": {
    "scrolled": true
   },
   "outputs": [
    {
     "name": "stdout",
     "output_type": "stream",
     "text": [
      "<class 'pandas.core.frame.DataFrame'>\n",
      "Int64Index: 7503 entries, 6967 to 4367\n",
      "Data columns (total 34 columns):\n",
      " #   Column                               Non-Null Count  Dtype  \n",
      "---  ------                               --------------  -----  \n",
      " 0   no_of_sales_12M_1                    7503 non-null   float64\n",
      " 1   no_of_Redemption_12M_1               7503 non-null   float64\n",
      " 2   no_of_funds_sold_12M_1               7503 non-null   float64\n",
      " 3   no_of_funds_redeemed_12M_1           7503 non-null   float64\n",
      " 4   no_of_funds_Redemption_12M_10K       7503 non-null   float64\n",
      " 5   no_of_assetclass_sold_12M_1          7503 non-null   float64\n",
      " 6   no_of_assetclass_redeemed_12M_1      7503 non-null   float64\n",
      " 7   no_of_assetclass_Redemption_12M_10K  7503 non-null   float64\n",
      " 8   No_of_fund_curr                      7503 non-null   float64\n",
      " 9   No_of_asset_curr                     7503 non-null   float64\n",
      " 10  AUM                                  7503 non-null   float64\n",
      " 11  sales_curr                           7503 non-null   float64\n",
      " 12  sales_12M                            7503 non-null   float64\n",
      " 13  redemption_curr                      7503 non-null   float64\n",
      " 14  new_Fund_added_12M                   7503 non-null   float64\n",
      " 15  Channel_Asset Manager                7503 non-null   float64\n",
      " 16  Channel_Bank/Trust                   7503 non-null   float64\n",
      " 17  Channel_Discount                     7503 non-null   float64\n",
      " 18  Channel_Dual                         7503 non-null   float64\n",
      " 19  Channel_Fee-Based Adviser            7503 non-null   float64\n",
      " 20  Channel_Independent Dealer           7503 non-null   float64\n",
      " 21  Channel_International Outlet         7503 non-null   float64\n",
      " 22  Channel_Low/Non Producer             7503 non-null   float64\n",
      " 23  Channel_National Broker-Dealer       7503 non-null   float64\n",
      " 24  Channel_Networker                    7503 non-null   float64\n",
      " 25  Channel_Private Client Group         7503 non-null   float64\n",
      " 26  Sub channel_Affiliated               7503 non-null   float64\n",
      " 27  Sub channel_DCIO                     7503 non-null   float64\n",
      " 28  Sub channel_Global                   7503 non-null   float64\n",
      " 29  Sub channel_IBD                      7503 non-null   float64\n",
      " 30  Sub channel_NACS                     7503 non-null   float64\n",
      " 31  Sub channel_Other                    7503 non-null   float64\n",
      " 32  Sub channel_RIA                      7503 non-null   float64\n",
      " 33  Sub channel_USBT                     7503 non-null   float64\n",
      "dtypes: float64(34)\n",
      "memory usage: 2.0 MB\n"
     ]
    }
   ],
   "source": [
    "X_train.info()"
   ]
  },
  {
   "cell_type": "code",
   "execution_count": 109,
   "metadata": {},
   "outputs": [],
   "source": [
    "##Write the X_train to a CSV for easy comparison"
   ]
  },
  {
   "cell_type": "code",
   "execution_count": 110,
   "metadata": {},
   "outputs": [],
   "source": [
    "X_train.to_excel('../data/X_train-for-comparison.xlsx')"
   ]
  },
  {
   "cell_type": "code",
   "execution_count": 111,
   "metadata": {},
   "outputs": [],
   "source": [
    "## Selecting K best columns in X_train"
   ]
  },
  {
   "cell_type": "code",
   "execution_count": 112,
   "metadata": {},
   "outputs": [],
   "source": [
    "X_new = SelectKBest(f_regression, k =16).fit_transform(X_train, y_train_reg)"
   ]
  },
  {
   "cell_type": "code",
   "execution_count": 113,
   "metadata": {},
   "outputs": [],
   "source": [
    "#Convert Numpy array to pandas DataFrame to analyze better"
   ]
  },
  {
   "cell_type": "code",
   "execution_count": 172,
   "metadata": {},
   "outputs": [],
   "source": [
    "df_X_Kbest = X[['no_of_sales_12M_1','no_of_Redemption_12M_1','no_of_funds_sold_12M_1',\n",
    "                                  'no_of_funds_redeemed_12M_1','no_of_assetclass_sold_12M_1','no_of_assetclass_redeemed_12M_1',\n",
    "                                  'No_of_fund_curr','No_of_asset_curr',  'AUM',\n",
    "                                  'sales_curr','sales_12M','redemption_curr']]"
   ]
  },
  {
   "cell_type": "code",
   "execution_count": 173,
   "metadata": {
    "scrolled": false
   },
   "outputs": [
    {
     "name": "stdout",
     "output_type": "stream",
     "text": [
      "<class 'pandas.core.frame.DataFrame'>\n",
      "Int64Index: 10005 entries, 0 to 10004\n",
      "Data columns (total 12 columns):\n",
      " #   Column                           Non-Null Count  Dtype  \n",
      "---  ------                           --------------  -----  \n",
      " 0   no_of_sales_12M_1                10005 non-null  float64\n",
      " 1   no_of_Redemption_12M_1           10005 non-null  float64\n",
      " 2   no_of_funds_sold_12M_1           10005 non-null  float64\n",
      " 3   no_of_funds_redeemed_12M_1       10005 non-null  float64\n",
      " 4   no_of_assetclass_sold_12M_1      10005 non-null  float64\n",
      " 5   no_of_assetclass_redeemed_12M_1  10005 non-null  float64\n",
      " 6   No_of_fund_curr                  10005 non-null  float64\n",
      " 7   No_of_asset_curr                 10005 non-null  float64\n",
      " 8   AUM                              10005 non-null  float64\n",
      " 9   sales_curr                       10005 non-null  float64\n",
      " 10  sales_12M                        10005 non-null  float64\n",
      " 11  redemption_curr                  10005 non-null  float64\n",
      "dtypes: float64(12)\n",
      "memory usage: 1.3 MB\n"
     ]
    }
   ],
   "source": [
    "df_X_Kbest.info()"
   ]
  },
  {
   "cell_type": "markdown",
   "metadata": {},
   "source": [
    "## These are the 16 best features as per SelectKBest \n",
    "no_of_sales_12M_1 -0.193845 0\n",
    "no_of_Redemption_12M_1 -0.109508 1\n",
    "no_of_funds_sold_12M_1 -0.151235 2\n",
    "\n",
    "no_of_funds_redeemed_12M_1, (-0.625797) 3\n",
    "no_of_funds_Redemption_12M_10K (-0.447401) 4 # not required as both above are co-related\n",
    "no_of_assetclass_sold_12M_1 0.212778 5\n",
    "\n",
    "no_of_assetclass_redeemed_12M_1 -0.866220 6\n",
    "no_of_assetclass_Redemption_12M_10K  -0.565465 7 # not required as co-related\n",
    "No_of_fund_curr -0.683590 8\n",
    "\n",
    "No_of_asset_curr -0.882629 9\n",
    "AUM,-0.162021 10\n",
    "sales_curr,\t  -0.089097 11\n",
    "\n",
    "sales_12M,    -0.153225 12\n",
    "redemption_curr,  0.094081 13\n",
    "new_Fund_added_12M 0.423093 14\n",
    "\n",
    "Channel_Networker -0.033175 15"
   ]
  },
  {
   "cell_type": "code",
   "execution_count": 116,
   "metadata": {},
   "outputs": [],
   "source": [
    "## Evaluate model performance for only the select columns from selectkbest suggestion to see if the score increases"
   ]
  },
  {
   "cell_type": "code",
   "execution_count": 117,
   "metadata": {},
   "outputs": [],
   "source": [
    "df_X_train_selectKbest = X_train[['no_of_sales_12M_1','no_of_Redemption_12M_1','no_of_funds_sold_12M_1',\n",
    "                                  'no_of_funds_redeemed_12M_1','no_of_assetclass_sold_12M_1','no_of_assetclass_redeemed_12M_1',\n",
    "                                  'No_of_fund_curr','No_of_asset_curr',  'AUM',\n",
    "                                  'sales_curr','sales_12M','redemption_curr']]"
   ]
  },
  {
   "cell_type": "code",
   "execution_count": 118,
   "metadata": {},
   "outputs": [
    {
     "name": "stdout",
     "output_type": "stream",
     "text": [
      "<class 'pandas.core.frame.DataFrame'>\n",
      "Int64Index: 7503 entries, 6967 to 4367\n",
      "Data columns (total 12 columns):\n",
      " #   Column                           Non-Null Count  Dtype  \n",
      "---  ------                           --------------  -----  \n",
      " 0   no_of_sales_12M_1                7503 non-null   float64\n",
      " 1   no_of_Redemption_12M_1           7503 non-null   float64\n",
      " 2   no_of_funds_sold_12M_1           7503 non-null   float64\n",
      " 3   no_of_funds_redeemed_12M_1       7503 non-null   float64\n",
      " 4   no_of_assetclass_sold_12M_1      7503 non-null   float64\n",
      " 5   no_of_assetclass_redeemed_12M_1  7503 non-null   float64\n",
      " 6   No_of_fund_curr                  7503 non-null   float64\n",
      " 7   No_of_asset_curr                 7503 non-null   float64\n",
      " 8   AUM                              7503 non-null   float64\n",
      " 9   sales_curr                       7503 non-null   float64\n",
      " 10  sales_12M                        7503 non-null   float64\n",
      " 11  redemption_curr                  7503 non-null   float64\n",
      "dtypes: float64(12)\n",
      "memory usage: 762.0 KB\n"
     ]
    }
   ],
   "source": [
    "df_X_train_selectKbest.info()"
   ]
  },
  {
   "cell_type": "code",
   "execution_count": 119,
   "metadata": {},
   "outputs": [],
   "source": [
    "df_X_test_selectKbest = X_test[['no_of_sales_12M_1','no_of_Redemption_12M_1','no_of_funds_sold_12M_1',\n",
    "                                  'no_of_funds_redeemed_12M_1','no_of_assetclass_sold_12M_1','no_of_assetclass_redeemed_12M_1',\n",
    "                                   'No_of_fund_curr','No_of_asset_curr', 'AUM',\n",
    "                                  'sales_curr','sales_12M','redemption_curr']]"
   ]
  },
  {
   "cell_type": "code",
   "execution_count": 120,
   "metadata": {},
   "outputs": [
    {
     "data": {
      "text/plain": [
       "Pipeline(steps=[('pca', PCA(n_components=0.8)),\n",
       "                ('linearregression', LinearRegression())])"
      ]
     },
     "execution_count": 120,
     "metadata": {},
     "output_type": "execute_result"
    }
   ],
   "source": [
    "lr_pipeline.fit(df_X_train_selectKbest, y_train_reg)"
   ]
  },
  {
   "cell_type": "code",
   "execution_count": 121,
   "metadata": {},
   "outputs": [
    {
     "data": {
      "text/plain": [
       "0.49226546796196813"
      ]
     },
     "execution_count": 121,
     "metadata": {},
     "output_type": "execute_result"
    }
   ],
   "source": [
    "lr_pipeline.score(df_X_train_selectKbest, y_train_reg)"
   ]
  },
  {
   "cell_type": "code",
   "execution_count": 122,
   "metadata": {},
   "outputs": [
    {
     "data": {
      "text/plain": [
       "0.4947272453219089"
      ]
     },
     "execution_count": 122,
     "metadata": {},
     "output_type": "execute_result"
    }
   ],
   "source": [
    "lr_pipeline.score(df_X_test_selectKbest, y_test_reg)"
   ]
  },
  {
   "cell_type": "code",
   "execution_count": 123,
   "metadata": {},
   "outputs": [],
   "source": [
    "### - Model performance with only the features selected from selectkbest is .47 which is very minimal better than .46 without any pre-selection"
   ]
  },
  {
   "cell_type": "code",
   "execution_count": 124,
   "metadata": {},
   "outputs": [
    {
     "data": {
      "text/plain": [
       "Pipeline(steps=[('pca', PCA(n_components=0.8)),\n",
       "                ('linearregression', LinearRegression())])"
      ]
     },
     "execution_count": 124,
     "metadata": {},
     "output_type": "execute_result"
    }
   ],
   "source": [
    "lr_pipeline.fit(X_train, y_train_reg)"
   ]
  },
  {
   "cell_type": "code",
   "execution_count": 125,
   "metadata": {},
   "outputs": [
    {
     "data": {
      "text/plain": [
       "0.49467781162185154"
      ]
     },
     "execution_count": 125,
     "metadata": {},
     "output_type": "execute_result"
    }
   ],
   "source": [
    "lr_pipeline.score(X_train, y_train_reg)"
   ]
  },
  {
   "cell_type": "code",
   "execution_count": 126,
   "metadata": {},
   "outputs": [
    {
     "data": {
      "text/plain": [
       "0.49940056729873794"
      ]
     },
     "execution_count": 126,
     "metadata": {},
     "output_type": "execute_result"
    }
   ],
   "source": [
    "lr_pipeline.score(X_test, y_test_reg)"
   ]
  },
  {
   "cell_type": "code",
   "execution_count": null,
   "metadata": {},
   "outputs": [],
   "source": []
  },
  {
   "cell_type": "code",
   "execution_count": 127,
   "metadata": {},
   "outputs": [],
   "source": [
    "## Total number of Principal components to explain a variation of 80%"
   ]
  },
  {
   "cell_type": "code",
   "execution_count": 128,
   "metadata": {},
   "outputs": [
    {
     "data": {
      "text/plain": [
       "15"
      ]
     },
     "execution_count": 128,
     "metadata": {},
     "output_type": "execute_result"
    }
   ],
   "source": [
    "lr_pipeline.named_steps['pca'].n_components_"
   ]
  },
  {
   "cell_type": "code",
   "execution_count": 129,
   "metadata": {},
   "outputs": [],
   "source": [
    "np_PCA = lr_pipeline.named_steps['pca'].components_"
   ]
  },
  {
   "cell_type": "code",
   "execution_count": 130,
   "metadata": {},
   "outputs": [
    {
     "data": {
      "text/plain": [
       "array([[ 2.06916306e-01,  1.49382975e-01,  3.26551715e-01,\n",
       "         3.36218257e-01,  3.07104920e-01,  3.06402772e-01,\n",
       "         3.03114251e-01,  2.94311567e-01,  3.03460638e-01,\n",
       "         2.49042403e-01,  1.64896647e-01,  1.29554557e-01,\n",
       "         1.78618622e-01, -9.67957521e-02,  2.00414643e-01,\n",
       "        -2.26779902e-02, -2.03425879e-02, -1.44125440e-02,\n",
       "        -2.29851664e-02, -8.79290473e-03, -8.75849187e-02,\n",
       "        -8.74824355e-03, -4.84805341e-03,  1.24757285e-01,\n",
       "         6.16113747e-02, -6.19069674e-03, -9.53783480e-03,\n",
       "        -2.27867192e-03, -8.05805703e-03, -1.36830121e-01,\n",
       "         1.36578232e-01, -4.21106804e-03, -3.68124013e-04,\n",
       "         5.00581911e-02],\n",
       "       [ 8.29649483e-02,  5.98077752e-02,  1.23619262e-01,\n",
       "         1.11199211e-01,  7.34745189e-02,  8.70141206e-02,\n",
       "         8.37247386e-02,  5.17847641e-02,  2.19340292e-04,\n",
       "        -1.21061591e-02, -1.87352609e-02,  3.95800857e-02,\n",
       "         2.58520804e-02, -2.34324849e-02,  1.25767860e-01,\n",
       "        -1.77633279e-02, -9.84378586e-03, -2.81303902e-03,\n",
       "        -9.89817244e-03, -2.12097146e-02,  4.45373269e-01,\n",
       "        -4.86945300e-02, -1.22706521e-03, -4.75722384e-01,\n",
       "         3.99225123e-02, -8.49044013e-02, -2.39375500e-02,\n",
       "        -6.90722681e-04, -4.24148142e-02,  4.90997196e-01,\n",
       "        -4.85643107e-01, -2.00778932e-02, -4.76283441e-02,\n",
       "         3.67171102e-02],\n",
       "       [ 1.11085433e-01,  1.63001708e-01, -1.00679206e-01,\n",
       "        -4.23243203e-02,  6.16967725e-02, -1.62022641e-01,\n",
       "        -1.39468277e-01, -4.53869710e-02, -9.57092876e-02,\n",
       "        -1.49091570e-01,  2.69895100e-01,  3.47325877e-01,\n",
       "         2.87850748e-01, -1.67254155e-01, -1.16558171e-01,\n",
       "         3.28723741e-02,  3.18676340e-02,  1.91867444e-02,\n",
       "         6.02417114e-02,  5.97424248e-02, -7.16234998e-02,\n",
       "         3.32035954e-01,  7.18659368e-03, -4.68007057e-02,\n",
       "         3.85055934e-01,  1.29550972e-02,  2.38102769e-02,\n",
       "         1.38734956e-03,  3.32195691e-01,  4.01960362e-03,\n",
       "        -7.80057017e-02,  2.17472618e-01,  7.61057910e-02,\n",
       "         3.20125205e-01],\n",
       "       [-7.06372331e-02, -1.10520757e-01,  8.28338692e-02,\n",
       "         4.62405846e-02, -1.70138310e-02,  1.12256954e-01,\n",
       "         9.62309800e-02,  3.91406029e-02,  6.37769429e-02,\n",
       "         9.45869573e-02, -2.06165956e-01, -2.17980149e-01,\n",
       "        -2.03910239e-01,  9.90255120e-02,  9.06984710e-02,\n",
       "        -2.82371230e-02, -9.23804778e-03, -1.50850444e-02,\n",
       "        -4.51929901e-02, -4.45294721e-02,  5.00839349e-02,\n",
       "         5.74105630e-01, -5.72987781e-03, -2.84789721e-02,\n",
       "        -1.50391807e-01, -2.14062332e-02, -2.17298989e-02,\n",
       "        -1.15837732e-03,  6.12978627e-01,  8.21018760e-03,\n",
       "        -4.31608093e-03,  1.55128660e-01, -5.86887582e-02,\n",
       "        -1.49980666e-01],\n",
       "       [ 2.49420383e-01,  2.96147039e-01, -2.41133936e-02,\n",
       "        -7.16629345e-02, -1.23849306e-01, -5.60766473e-02,\n",
       "        -8.61941588e-02, -8.09526070e-02, -1.68902177e-02,\n",
       "         1.36320727e-03,  3.70708239e-01,  5.04587348e-02,\n",
       "         3.08029791e-01,  1.28600432e-02, -8.69203761e-03,\n",
       "         2.41758394e-02, -1.35634533e-03,  1.42983270e-02,\n",
       "         8.43100821e-02,  5.72762490e-02, -9.77055210e-03,\n",
       "         7.24013408e-02,  4.06633409e-03, -2.28008252e-02,\n",
       "        -5.34275408e-01,  8.62289004e-03,  1.85264453e-02,\n",
       "         2.45312972e-04,  1.21735077e-01,  4.55553063e-02,\n",
       "        -3.95310415e-02, -1.89749030e-01,  1.07103312e-01,\n",
       "        -4.55705869e-01],\n",
       "       [-1.77158469e-01, -1.31536523e-01, -7.13010122e-02,\n",
       "        -6.29595417e-02, -1.26981720e-02, -2.80907698e-02,\n",
       "        -2.35678680e-02, -9.77905113e-03,  3.26365282e-02,\n",
       "         5.40010039e-02,  2.81330228e-01,  8.45390654e-02,\n",
       "         2.03376771e-01, -4.09061599e-02, -8.98416915e-02,\n",
       "        -8.22197490e-02, -5.07154722e-02, -1.60002601e-02,\n",
       "        -3.96291932e-01, -4.47521959e-01,  2.79598394e-01,\n",
       "         1.50072712e-02, -9.33974245e-03,  8.88752911e-02,\n",
       "        -2.72240464e-02,  2.80317411e-02, -8.13283941e-02,\n",
       "         2.09982288e-03,  2.28978436e-02,  2.00019952e-02,\n",
       "         1.62349797e-01, -3.08302124e-02, -5.56144803e-01,\n",
       "        -1.75840471e-02],\n",
       "       [-2.33046599e-02, -2.84557586e-02,  1.75373719e-02,\n",
       "         7.66577113e-03,  1.16441702e-02,  1.00117961e-02,\n",
       "         4.38827083e-04,  9.18149048e-03,  2.78720898e-02,\n",
       "         3.70951660e-02,  4.48121706e-03, -1.57397530e-02,\n",
       "        -1.14866812e-03,  1.77824540e-03,  1.19153359e-02,\n",
       "         6.63452746e-01,  8.19132455e-03,  6.59479747e-04,\n",
       "        -5.54074773e-02, -8.34343741e-02, -3.07485660e-02,\n",
       "         2.40485622e-03, -1.18457168e-03, -1.80466782e-02,\n",
       "        -5.67011634e-03, -1.19780132e-02,  7.27948027e-01,\n",
       "        -9.24698296e-04,  4.56337805e-03,  2.19349744e-02,\n",
       "        -2.82769859e-02, -4.62642495e-03, -1.11396412e-01,\n",
       "        -5.45040061e-03],\n",
       "       [ 4.17375235e-01,  6.58459201e-01, -5.66689717e-02,\n",
       "         4.54010483e-02,  2.03208820e-02, -7.13346113e-02,\n",
       "         9.55562869e-03,  1.59418151e-02, -1.12211571e-01,\n",
       "        -1.35693712e-01, -3.14489790e-01, -1.76057850e-01,\n",
       "        -1.82639033e-01,  2.21224499e-03, -1.33573045e-01,\n",
       "        -3.91481228e-03, -8.54184193e-03, -1.20671498e-02,\n",
       "        -5.49980877e-02, -2.92204849e-01,  5.93140455e-02,\n",
       "        -6.85492104e-03,  1.71003486e-02,  7.15480191e-02,\n",
       "         4.78425338e-02,  9.46887546e-03, -2.97039038e-03,\n",
       "         2.34739971e-03, -4.72528735e-02, -3.03603209e-02,\n",
       "         9.06323895e-02,  1.23826652e-01, -2.03976042e-01,\n",
       "         2.61080933e-02],\n",
       "       [ 5.18897220e-03, -2.80061386e-02,  3.45127631e-02,\n",
       "        -4.26656824e-02, -8.96444276e-02,  3.38063528e-02,\n",
       "        -2.46567957e-02, -6.07169464e-02,  5.29280499e-02,\n",
       "         8.67099434e-02,  1.14152772e-01, -7.21483055e-02,\n",
       "         7.45258968e-02,  4.42357413e-02,  6.99214798e-02,\n",
       "        -3.55183086e-03,  1.80824375e-01,  1.16630248e-02,\n",
       "         2.02985549e-02, -1.18670450e-02, -2.64956123e-02,\n",
       "         7.25535057e-04, -4.47169588e-01, -2.21511519e-02,\n",
       "        -4.36651112e-02,  2.17596592e-03, -7.52358623e-03,\n",
       "        -1.12132297e-03, -2.58437979e-01,  2.12966383e-02,\n",
       "        -2.42923340e-02,  7.77796972e-01, -2.75830722e-03,\n",
       "        -1.80044302e-01],\n",
       "       [-1.01450833e-02, -3.41110213e-02,  2.37362138e-02,\n",
       "        -1.67575939e-02, -3.73117118e-02,  2.04063061e-02,\n",
       "        -1.01376919e-02, -2.29984086e-02,  2.92012609e-02,\n",
       "         4.09618968e-02,  6.13657794e-02, -3.79393650e-02,\n",
       "         4.03358612e-02,  2.23183679e-02,  4.19874874e-02,\n",
       "        -3.44603154e-03,  1.06527921e-01,  1.30309475e-02,\n",
       "         1.19132710e-02, -1.45664816e-02, -4.11092429e-02,\n",
       "         5.95813978e-04,  8.93142957e-01, -9.10391211e-03,\n",
       "        -2.64835013e-02, -4.18953211e-03, -8.55826273e-03,\n",
       "        -1.13027873e-03, -1.26188106e-01,  2.65243477e-02,\n",
       "        -2.11593037e-02,  3.81268982e-01, -2.16140234e-02,\n",
       "        -9.36073817e-02],\n",
       "       [-2.67648463e-02, -5.00908451e-02,  8.12825595e-03,\n",
       "         2.03753909e-02,  5.76968474e-02, -1.17559928e-02,\n",
       "         7.86193807e-03,  5.81655349e-02,  8.63760924e-03,\n",
       "        -9.86024449e-03, -1.52778186e-03, -3.85899035e-02,\n",
       "         7.01281572e-03, -5.24956376e-03, -3.05539521e-03,\n",
       "        -7.57689366e-03,  4.98536581e-01,  6.54663787e-01,\n",
       "         2.75861013e-01, -2.32870600e-01, -2.68931698e-01,\n",
       "        -1.18806026e-02, -3.08434317e-02,  3.51622606e-02,\n",
       "        -7.72990102e-03, -9.78343129e-02, -6.15468676e-02,\n",
       "        -5.33794995e-03,  4.66991916e-02,  1.51542759e-01,\n",
       "        -8.65606402e-02, -1.43022901e-01, -1.96535424e-01,\n",
       "         1.73637808e-02],\n",
       "       [ 1.13014109e-01,  1.76401537e-02,  1.61387042e-01,\n",
       "        -8.86694376e-02, -2.29201741e-01,  1.04717555e-01,\n",
       "        -1.38070932e-01, -2.84278299e-01,  6.26860285e-02,\n",
       "         1.01044102e-01, -3.87510580e-02,  4.45453631e-02,\n",
       "        -8.59763242e-03,  5.62699241e-03,  3.14332857e-01,\n",
       "        -3.36098681e-03, -4.15088877e-01,  5.04478405e-01,\n",
       "        -9.67200557e-03, -7.59211384e-02,  8.23937185e-02,\n",
       "         2.01122706e-03,  1.24646911e-02, -6.26948322e-02,\n",
       "         8.25369576e-02,  4.52623170e-01,  1.69726976e-02,\n",
       "         1.58169816e-03, -7.81841556e-03, -7.57535719e-02,\n",
       "         5.21026337e-02,  1.55884393e-02,  5.45385230e-02,\n",
       "         7.64731243e-02],\n",
       "       [-5.24207180e-02,  5.39787611e-02, -9.53222568e-02,\n",
       "         4.97490379e-02,  1.10832141e-01, -4.31989840e-02,\n",
       "         7.26748487e-02,  1.40013482e-01, -5.79679134e-02,\n",
       "        -7.72986225e-02, -7.81300265e-03,  9.64577505e-03,\n",
       "        -1.07764847e-02,  2.11447565e-03, -1.75186847e-01,\n",
       "         4.05375394e-03, -2.97606058e-01,  5.34539835e-01,\n",
       "        -3.88921042e-01,  3.35642183e-01,  1.15799712e-01,\n",
       "         1.20760363e-02,  7.73321833e-03,  6.87712695e-02,\n",
       "        -5.46935945e-02, -4.59422425e-01,  2.97699440e-02,\n",
       "         2.52783884e-03, -3.94691713e-02, -4.62554235e-02,\n",
       "         2.43203456e-02,  1.24989489e-01,  7.75570006e-02,\n",
       "        -7.73522471e-02],\n",
       "       [-7.50362335e-02,  3.95881578e-02, -1.00851356e-01,\n",
       "         9.66396332e-02,  1.94917727e-01, -7.30529798e-02,\n",
       "         1.10819363e-01,  2.22412837e-01, -5.58898896e-02,\n",
       "        -7.76042301e-02,  9.20530193e-04, -4.84761603e-02,\n",
       "        -2.97037253e-02, -4.49289083e-03, -2.17610273e-01,\n",
       "         5.38085624e-03,  2.53863068e-01,  1.01569072e-01,\n",
       "        -3.18803334e-01,  2.92785084e-01, -1.51714053e-02,\n",
       "         1.92325759e-03, -7.54277620e-04, -1.40285717e-01,\n",
       "        -6.97114195e-02,  7.17957270e-01,  8.82172419e-03,\n",
       "        -8.15689778e-04, -6.81640641e-04,  2.30047908e-02,\n",
       "        -1.37172167e-02,  1.26424239e-02, -1.45994908e-02,\n",
       "        -7.00281540e-02],\n",
       "       [-1.04733010e-01, -1.21077218e-01, -1.47495710e-01,\n",
       "         8.22321678e-02,  2.26508787e-01, -9.81570446e-02,\n",
       "         1.33996869e-01,  2.87781459e-01, -4.14611941e-02,\n",
       "        -5.30893257e-02,  9.50445625e-02, -1.17675589e-01,\n",
       "         3.56619744e-02,  6.34127260e-03, -3.08134858e-01,\n",
       "         4.38928080e-03, -5.05360494e-01,  6.22030083e-02,\n",
       "         5.17770862e-01, -2.71083082e-01,  8.36353654e-03,\n",
       "         1.65207184e-02,  5.72278744e-04, -4.45272090e-02,\n",
       "        -5.56295951e-02,  1.58455567e-01,  9.48308255e-03,\n",
       "        -5.94488056e-04, -4.16830814e-02,  2.38350531e-02,\n",
       "        -3.05733535e-02,  1.31745733e-01,  3.09230300e-02,\n",
       "        -8.62516003e-02]])"
      ]
     },
     "execution_count": 130,
     "metadata": {},
     "output_type": "execute_result"
    }
   ],
   "source": [
    "np_PCA"
   ]
  },
  {
   "cell_type": "code",
   "execution_count": 131,
   "metadata": {},
   "outputs": [],
   "source": [
    "## convert the "
   ]
  },
  {
   "cell_type": "code",
   "execution_count": 132,
   "metadata": {},
   "outputs": [],
   "source": [
    "df_PCA = pd.DataFrame(np_PCA)"
   ]
  },
  {
   "cell_type": "code",
   "execution_count": 133,
   "metadata": {},
   "outputs": [
    {
     "data": {
      "text/html": [
       "<div>\n",
       "<style scoped>\n",
       "    .dataframe tbody tr th:only-of-type {\n",
       "        vertical-align: middle;\n",
       "    }\n",
       "\n",
       "    .dataframe tbody tr th {\n",
       "        vertical-align: top;\n",
       "    }\n",
       "\n",
       "    .dataframe thead th {\n",
       "        text-align: right;\n",
       "    }\n",
       "</style>\n",
       "<table border=\"1\" class=\"dataframe\">\n",
       "  <thead>\n",
       "    <tr style=\"text-align: right;\">\n",
       "      <th></th>\n",
       "      <th>0</th>\n",
       "      <th>1</th>\n",
       "      <th>2</th>\n",
       "      <th>3</th>\n",
       "      <th>4</th>\n",
       "      <th>5</th>\n",
       "      <th>6</th>\n",
       "      <th>7</th>\n",
       "      <th>8</th>\n",
       "      <th>9</th>\n",
       "      <th>...</th>\n",
       "      <th>24</th>\n",
       "      <th>25</th>\n",
       "      <th>26</th>\n",
       "      <th>27</th>\n",
       "      <th>28</th>\n",
       "      <th>29</th>\n",
       "      <th>30</th>\n",
       "      <th>31</th>\n",
       "      <th>32</th>\n",
       "      <th>33</th>\n",
       "    </tr>\n",
       "  </thead>\n",
       "  <tbody>\n",
       "    <tr>\n",
       "      <th>0</th>\n",
       "      <td>0.207</td>\n",
       "      <td>0.149</td>\n",
       "      <td>0.327</td>\n",
       "      <td>0.336</td>\n",
       "      <td>0.307</td>\n",
       "      <td>0.306</td>\n",
       "      <td>0.303</td>\n",
       "      <td>0.294</td>\n",
       "      <td>0.303</td>\n",
       "      <td>0.249</td>\n",
       "      <td>...</td>\n",
       "      <td>0.062</td>\n",
       "      <td>-0.006</td>\n",
       "      <td>-0.010</td>\n",
       "      <td>-0.002</td>\n",
       "      <td>-0.008</td>\n",
       "      <td>-0.137</td>\n",
       "      <td>0.137</td>\n",
       "      <td>-0.004</td>\n",
       "      <td>-0.000</td>\n",
       "      <td>0.050</td>\n",
       "    </tr>\n",
       "    <tr>\n",
       "      <th>1</th>\n",
       "      <td>0.083</td>\n",
       "      <td>0.060</td>\n",
       "      <td>0.124</td>\n",
       "      <td>0.111</td>\n",
       "      <td>0.073</td>\n",
       "      <td>0.087</td>\n",
       "      <td>0.084</td>\n",
       "      <td>0.052</td>\n",
       "      <td>0.000</td>\n",
       "      <td>-0.012</td>\n",
       "      <td>...</td>\n",
       "      <td>0.040</td>\n",
       "      <td>-0.085</td>\n",
       "      <td>-0.024</td>\n",
       "      <td>-0.001</td>\n",
       "      <td>-0.042</td>\n",
       "      <td>0.491</td>\n",
       "      <td>-0.486</td>\n",
       "      <td>-0.020</td>\n",
       "      <td>-0.048</td>\n",
       "      <td>0.037</td>\n",
       "    </tr>\n",
       "    <tr>\n",
       "      <th>2</th>\n",
       "      <td>0.111</td>\n",
       "      <td>0.163</td>\n",
       "      <td>-0.101</td>\n",
       "      <td>-0.042</td>\n",
       "      <td>0.062</td>\n",
       "      <td>-0.162</td>\n",
       "      <td>-0.139</td>\n",
       "      <td>-0.045</td>\n",
       "      <td>-0.096</td>\n",
       "      <td>-0.149</td>\n",
       "      <td>...</td>\n",
       "      <td>0.385</td>\n",
       "      <td>0.013</td>\n",
       "      <td>0.024</td>\n",
       "      <td>0.001</td>\n",
       "      <td>0.332</td>\n",
       "      <td>0.004</td>\n",
       "      <td>-0.078</td>\n",
       "      <td>0.217</td>\n",
       "      <td>0.076</td>\n",
       "      <td>0.320</td>\n",
       "    </tr>\n",
       "    <tr>\n",
       "      <th>3</th>\n",
       "      <td>-0.071</td>\n",
       "      <td>-0.111</td>\n",
       "      <td>0.083</td>\n",
       "      <td>0.046</td>\n",
       "      <td>-0.017</td>\n",
       "      <td>0.112</td>\n",
       "      <td>0.096</td>\n",
       "      <td>0.039</td>\n",
       "      <td>0.064</td>\n",
       "      <td>0.095</td>\n",
       "      <td>...</td>\n",
       "      <td>-0.150</td>\n",
       "      <td>-0.021</td>\n",
       "      <td>-0.022</td>\n",
       "      <td>-0.001</td>\n",
       "      <td>0.613</td>\n",
       "      <td>0.008</td>\n",
       "      <td>-0.004</td>\n",
       "      <td>0.155</td>\n",
       "      <td>-0.059</td>\n",
       "      <td>-0.150</td>\n",
       "    </tr>\n",
       "    <tr>\n",
       "      <th>4</th>\n",
       "      <td>0.249</td>\n",
       "      <td>0.296</td>\n",
       "      <td>-0.024</td>\n",
       "      <td>-0.072</td>\n",
       "      <td>-0.124</td>\n",
       "      <td>-0.056</td>\n",
       "      <td>-0.086</td>\n",
       "      <td>-0.081</td>\n",
       "      <td>-0.017</td>\n",
       "      <td>0.001</td>\n",
       "      <td>...</td>\n",
       "      <td>-0.534</td>\n",
       "      <td>0.009</td>\n",
       "      <td>0.019</td>\n",
       "      <td>0.000</td>\n",
       "      <td>0.122</td>\n",
       "      <td>0.046</td>\n",
       "      <td>-0.040</td>\n",
       "      <td>-0.190</td>\n",
       "      <td>0.107</td>\n",
       "      <td>-0.456</td>\n",
       "    </tr>\n",
       "  </tbody>\n",
       "</table>\n",
       "<p>5 rows × 34 columns</p>\n",
       "</div>"
      ],
      "text/plain": [
       "      0      1      2      3      4      5      6      7      8      9   ...  \\\n",
       "0  0.207  0.149  0.327  0.336  0.307  0.306  0.303  0.294  0.303  0.249  ...   \n",
       "1  0.083  0.060  0.124  0.111  0.073  0.087  0.084  0.052  0.000 -0.012  ...   \n",
       "2  0.111  0.163 -0.101 -0.042  0.062 -0.162 -0.139 -0.045 -0.096 -0.149  ...   \n",
       "3 -0.071 -0.111  0.083  0.046 -0.017  0.112  0.096  0.039  0.064  0.095  ...   \n",
       "4  0.249  0.296 -0.024 -0.072 -0.124 -0.056 -0.086 -0.081 -0.017  0.001  ...   \n",
       "\n",
       "      24     25     26     27     28     29     30     31     32     33  \n",
       "0  0.062 -0.006 -0.010 -0.002 -0.008 -0.137  0.137 -0.004 -0.000  0.050  \n",
       "1  0.040 -0.085 -0.024 -0.001 -0.042  0.491 -0.486 -0.020 -0.048  0.037  \n",
       "2  0.385  0.013  0.024  0.001  0.332  0.004 -0.078  0.217  0.076  0.320  \n",
       "3 -0.150 -0.021 -0.022 -0.001  0.613  0.008 -0.004  0.155 -0.059 -0.150  \n",
       "4 -0.534  0.009  0.019  0.000  0.122  0.046 -0.040 -0.190  0.107 -0.456  \n",
       "\n",
       "[5 rows x 34 columns]"
      ]
     },
     "execution_count": 133,
     "metadata": {},
     "output_type": "execute_result"
    }
   ],
   "source": [
    "df_PCA.head()"
   ]
  },
  {
   "cell_type": "code",
   "execution_count": 134,
   "metadata": {},
   "outputs": [],
   "source": [
    "import scikitplot as skplt"
   ]
  },
  {
   "cell_type": "code",
   "execution_count": 135,
   "metadata": {},
   "outputs": [],
   "source": [
    "import matplotlib.pyplot as plt"
   ]
  },
  {
   "cell_type": "code",
   "execution_count": 136,
   "metadata": {},
   "outputs": [],
   "source": [
    "y_test_reg_preds = lr_pipeline.predict(X_test)"
   ]
  },
  {
   "cell_type": "code",
   "execution_count": 137,
   "metadata": {},
   "outputs": [
    {
     "data": {
      "text/plain": [
       "519033263.6208689"
      ]
     },
     "execution_count": 137,
     "metadata": {},
     "output_type": "execute_result"
    }
   ],
   "source": [
    "y_test_reg_preds.sum()"
   ]
  },
  {
   "cell_type": "code",
   "execution_count": 138,
   "metadata": {},
   "outputs": [],
   "source": [
    "#skplt.metrics.plot_lift_curve(y_test, y_test_reg_preds)"
   ]
  },
  {
   "cell_type": "code",
   "execution_count": 139,
   "metadata": {},
   "outputs": [
    {
     "data": {
      "text/plain": [
       "<matplotlib.collections.PathCollection at 0x7fa360f62580>"
      ]
     },
     "execution_count": 139,
     "metadata": {},
     "output_type": "execute_result"
    },
    {
     "data": {
      "image/png": "[encoded data removed]",
      "text/plain": [
       "<Figure size 432x288 with 1 Axes>"
      ]
     },
     "metadata": {
      "needs_background": "light"
     },
     "output_type": "display_data"
    }
   ],
   "source": [
    "plt.scatter(y_test_reg,y_test_reg_preds)"
   ]
  },
  {
   "cell_type": "code",
   "execution_count": 140,
   "metadata": {},
   "outputs": [
    {
     "data": {
      "image/png": "[encoded data removed]",
      "text/plain": [
       "<Figure size 576x432 with 1 Axes>"
      ]
     },
     "metadata": {
      "needs_background": "light"
     },
     "output_type": "display_data"
    }
   ],
   "source": [
    "fig, axes = plt.subplots(figsize=(8, 6))\n",
    "\n",
    "axes.scatter(x=y_test_reg, y=y_test_reg_preds)\n",
    "\n",
    "axes.plot([0, 20000000], [0,20000000])\n",
    "axes.set_title(\"Actual vs Predicted - Regression\")\n",
    "axes.set_xlabel(\"Actual\")\n",
    "axes.set_ylabel(\"Predicted\");"
   ]
  },
  {
   "cell_type": "code",
   "execution_count": 141,
   "metadata": {},
   "outputs": [
    {
     "name": "stdout",
     "output_type": "stream",
     "text": [
      "zsh:1: no matches found: pandas-profiling[notebook]\n",
      "Enabling notebook extension jupyter-js-widgets/extension...\n",
      "      - Validating: \u001b[32mOK\u001b[0m\n"
     ]
    }
   ],
   "source": [
    "import sys\n",
    "!{sys.executable} -m pip install -U pandas-profiling[notebook]\n",
    "!jupyter nbextension enable --py widgetsnbextension"
   ]
  },
  {
   "cell_type": "markdown",
   "metadata": {},
   "source": [
    "## How does our model perform predictions and how far off is it on the Testing data set"
   ]
  },
  {
   "cell_type": "code",
   "execution_count": 142,
   "metadata": {},
   "outputs": [
    {
     "data": {
      "image/png": "[encoded data removed]",
      "text/plain": [
       "<Figure size 432x288 with 1 Axes>"
      ]
     },
     "metadata": {
      "needs_background": "light"
     },
     "output_type": "display_data"
    }
   ],
   "source": [
    "g=plt.plot(y_test_reg - y_test_reg_preds,marker='o',linestyle='')"
   ]
  },
  {
   "cell_type": "code",
   "execution_count": 143,
   "metadata": {},
   "outputs": [],
   "source": [
    "#skplt.metrics.plot_lift_curve(y_test_cl, y_test_cl_preds);"
   ]
  },
  {
   "cell_type": "markdown",
   "metadata": {},
   "source": [
    "## make function to output deciles"
   ]
  },
  {
   "cell_type": "code",
   "execution_count": 144,
   "metadata": {},
   "outputs": [],
   "source": [
    "def output_deciles(model, X, y):\n",
    "    results = pd.DataFrame(model.predict(X), index = X.index, columns = ['predictions'])\n",
    "    results['actual'] = y.values\n",
    "    results['deciles'] = pd.qcut(results['predictions'],10, labels= False)\n",
    "    #results['contact_id'] = results.index.map(adviser_lookup)\n",
    "    return results"
   ]
  },
  {
   "cell_type": "code",
   "execution_count": 145,
   "metadata": {
    "scrolled": true
   },
   "outputs": [],
   "source": [
    "regression_deciles = output_deciles(lr_pipeline,X_test,y_test_reg )"
   ]
  },
  {
   "cell_type": "code",
   "execution_count": 146,
   "metadata": {},
   "outputs": [
    {
     "name": "stdout",
     "output_type": "stream",
     "text": [
      "<class 'pandas.core.frame.DataFrame'>\n",
      "Int64Index: 2502 entries, 6697 to 347\n",
      "Data columns (total 3 columns):\n",
      " #   Column       Non-Null Count  Dtype  \n",
      "---  ------       --------------  -----  \n",
      " 0   predictions  2502 non-null   float64\n",
      " 1   actual       2502 non-null   float64\n",
      " 2   deciles      2502 non-null   int64  \n",
      "dtypes: float64(2), int64(1)\n",
      "memory usage: 78.2 KB\n"
     ]
    }
   ],
   "source": [
    "regression_deciles.info()"
   ]
  },
  {
   "cell_type": "code",
   "execution_count": 147,
   "metadata": {
    "scrolled": true
   },
   "outputs": [
    {
     "data": {
      "text/html": [
       "<div>\n",
       "<style scoped>\n",
       "    .dataframe tbody tr th:only-of-type {\n",
       "        vertical-align: middle;\n",
       "    }\n",
       "\n",
       "    .dataframe tbody tr th {\n",
       "        vertical-align: top;\n",
       "    }\n",
       "\n",
       "    .dataframe thead th {\n",
       "        text-align: right;\n",
       "    }\n",
       "</style>\n",
       "<table border=\"1\" class=\"dataframe\">\n",
       "  <thead>\n",
       "    <tr style=\"text-align: right;\">\n",
       "      <th></th>\n",
       "      <th>actual</th>\n",
       "      <th>predictions</th>\n",
       "    </tr>\n",
       "    <tr>\n",
       "      <th>deciles</th>\n",
       "      <th></th>\n",
       "      <th></th>\n",
       "    </tr>\n",
       "  </thead>\n",
       "  <tbody>\n",
       "    <tr>\n",
       "      <th>0</th>\n",
       "      <td>23733.164</td>\n",
       "      <td>-36098.569</td>\n",
       "    </tr>\n",
       "    <tr>\n",
       "      <th>1</th>\n",
       "      <td>28237.834</td>\n",
       "      <td>-10015.310</td>\n",
       "    </tr>\n",
       "    <tr>\n",
       "      <th>2</th>\n",
       "      <td>80510.085</td>\n",
       "      <td>-3914.011</td>\n",
       "    </tr>\n",
       "    <tr>\n",
       "      <th>3</th>\n",
       "      <td>54562.438</td>\n",
       "      <td>16505.585</td>\n",
       "    </tr>\n",
       "    <tr>\n",
       "      <th>4</th>\n",
       "      <td>38672.029</td>\n",
       "      <td>38046.770</td>\n",
       "    </tr>\n",
       "    <tr>\n",
       "      <th>5</th>\n",
       "      <td>48406.378</td>\n",
       "      <td>63742.640</td>\n",
       "    </tr>\n",
       "    <tr>\n",
       "      <th>6</th>\n",
       "      <td>45396.855</td>\n",
       "      <td>104619.085</td>\n",
       "    </tr>\n",
       "    <tr>\n",
       "      <th>7</th>\n",
       "      <td>95153.898</td>\n",
       "      <td>184676.484</td>\n",
       "    </tr>\n",
       "    <tr>\n",
       "      <th>8</th>\n",
       "      <td>284951.861</td>\n",
       "      <td>336603.153</td>\n",
       "    </tr>\n",
       "    <tr>\n",
       "      <th>9</th>\n",
       "      <td>1318598.496</td>\n",
       "      <td>1379546.464</td>\n",
       "    </tr>\n",
       "  </tbody>\n",
       "</table>\n",
       "</div>"
      ],
      "text/plain": [
       "             actual  predictions\n",
       "deciles                         \n",
       "0         23733.164   -36098.569\n",
       "1         28237.834   -10015.310\n",
       "2         80510.085    -3914.011\n",
       "3         54562.438    16505.585\n",
       "4         38672.029    38046.770\n",
       "5         48406.378    63742.640\n",
       "6         45396.855   104619.085\n",
       "7         95153.898   184676.484\n",
       "8        284951.861   336603.153\n",
       "9       1318598.496  1379546.464"
      ]
     },
     "execution_count": 147,
     "metadata": {},
     "output_type": "execute_result"
    }
   ],
   "source": [
    "regression_deciles.groupby('deciles')[['actual','predictions']].mean()"
   ]
  },
  {
   "cell_type": "markdown",
   "metadata": {},
   "source": [
    "# Classification models - to predict the probability of adding new funds in 2019"
   ]
  },
  {
   "cell_type": "markdown",
   "metadata": {},
   "source": [
    "##prepare the test train split for classification"
   ]
  },
  {
   "cell_type": "code",
   "execution_count": 148,
   "metadata": {},
   "outputs": [
    {
     "data": {
      "text/plain": [
       "<bound method NDFrame.head of 0       0.000\n",
       "1       0.000\n",
       "2       0.000\n",
       "3       1.000\n",
       "4       0.000\n",
       "         ... \n",
       "10000   4.000\n",
       "10001   4.000\n",
       "10002   3.000\n",
       "10003   0.000\n",
       "10004   0.000\n",
       "Name: new_fund_2019, Length: 10005, dtype: float64>"
      ]
     },
     "execution_count": 148,
     "metadata": {},
     "output_type": "execute_result"
    }
   ],
   "source": [
    "#y_cl = df['new_fund_2019']\n",
    "y_cl.head"
   ]
  },
  {
   "cell_type": "code",
   "execution_count": 232,
   "metadata": {},
   "outputs": [],
   "source": [
    "#makes the colums 0 or 1 depending on whether values are greater than or equal to 0 - df_X_Kbest"
   ]
  },
  {
   "cell_type": "code",
   "execution_count": 241,
   "metadata": {},
   "outputs": [],
   "source": [
    "y_cl_binarized = np.where(y_cl > 0, 1,0)"
   ]
  },
  {
   "cell_type": "code",
   "execution_count": 248,
   "metadata": {},
   "outputs": [],
   "source": [
    "X_train_cl, X_test_cl, y_train_cl, y_test_cl = train_test_split(X, y_cl_binarized, test_size=0.25, random_state=20)"
   ]
  },
  {
   "cell_type": "code",
   "execution_count": 249,
   "metadata": {},
   "outputs": [],
   "source": [
    "rf_cl = RandomForestClassifier(max_depth= 4)"
   ]
  },
  {
   "cell_type": "code",
   "execution_count": 250,
   "metadata": {},
   "outputs": [],
   "source": [
    "#Fit the training set"
   ]
  },
  {
   "cell_type": "code",
   "execution_count": 251,
   "metadata": {},
   "outputs": [
    {
     "data": {
      "text/plain": [
       "RandomForestClassifier(max_depth=4)"
      ]
     },
     "execution_count": 251,
     "metadata": {},
     "output_type": "execute_result"
    }
   ],
   "source": [
    "rf_cl.fit(X_train_cl, y_train_cl)"
   ]
  },
  {
   "cell_type": "code",
   "execution_count": 252,
   "metadata": {},
   "outputs": [],
   "source": [
    "#Score the testing set - with max_depth= 5 there could be slight overfitting."
   ]
  },
  {
   "cell_type": "code",
   "execution_count": 253,
   "metadata": {},
   "outputs": [
    {
     "data": {
      "text/plain": [
       "0.7561950439648282"
      ]
     },
     "execution_count": 253,
     "metadata": {},
     "output_type": "execute_result"
    }
   ],
   "source": [
    "rf_cl.score(X_test_cl, y_test_cl)"
   ]
  },
  {
   "cell_type": "code",
   "execution_count": 271,
   "metadata": {},
   "outputs": [],
   "source": [
    "cl_preds = rf_cl.predict(X)"
   ]
  },
  {
   "cell_type": "code",
   "execution_count": 275,
   "metadata": {},
   "outputs": [
    {
     "data": {
      "text/plain": [
       "0    9782\n",
       "1     223\n",
       "dtype: int64"
      ]
     },
     "execution_count": 275,
     "metadata": {},
     "output_type": "execute_result"
    }
   ],
   "source": [
    "pd.value_counts(cl_preds)"
   ]
  },
  {
   "cell_type": "code",
   "execution_count": 276,
   "metadata": {},
   "outputs": [
    {
     "data": {
      "text/plain": [
       "0    7484\n",
       "1    2521\n",
       "dtype: int64"
      ]
     },
     "execution_count": 276,
     "metadata": {},
     "output_type": "execute_result"
    }
   ],
   "source": [
    "pd.value_counts(y_cl_binarized)"
   ]
  },
  {
   "cell_type": "code",
   "execution_count": 273,
   "metadata": {},
   "outputs": [
    {
     "name": "stdout",
     "output_type": "stream",
     "text": [
      "              precision    recall  f1-score   support\n",
      "\n",
      "           0       0.99      0.76      0.86      9782\n",
      "           1       0.06      0.70      0.11       223\n",
      "\n",
      "    accuracy                           0.76     10005\n",
      "   macro avg       0.53      0.73      0.49     10005\n",
      "weighted avg       0.97      0.76      0.84     10005\n",
      "\n"
     ]
    }
   ],
   "source": [
    "print(classification_report(cl_preds ,y_cl_binarized))"
   ]
  },
  {
   "cell_type": "markdown",
   "metadata": {},
   "source": [
    "# Final predictions - combining Regression and Classification"
   ]
  },
  {
   "cell_type": "markdown",
   "metadata": {},
   "source": [
    "STEP 1 : select the advisors that sold anything - coming from Regression Model"
   ]
  },
  {
   "cell_type": "code",
   "execution_count": null,
   "metadata": {},
   "outputs": [],
   "source": []
  }
 ],
 "metadata": {
  "kernelspec": {
   "display_name": "Python 3",
   "language": "python",
   "name": "python3"
  },
  "language_info": {
   "codemirror_mode": {
    "name": "ipython",
    "version": 3
   },
   "file_extension": ".py",
   "mimetype": "text/x-python",
   "name": "python",
   "nbconvert_exporter": "python",
   "pygments_lexer": "ipython3",
   "version": "3.8.5"
  }
 },
 "nbformat": 4,
 "nbformat_minor": 4
}
