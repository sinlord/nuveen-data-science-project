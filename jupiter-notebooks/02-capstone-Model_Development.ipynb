{
 "cells": [
  {
   "cell_type": "code",
   "execution_count": 92,
   "metadata": {
    "scrolled": true
   },
   "outputs": [
    {
     "name": "stdout",
     "output_type": "stream",
     "text": [
      "Requirement already up-to-date: scikit-plot in /opt/anaconda3/lib/python3.8/site-packages (0.3.7)\n",
      "Requirement already satisfied, skipping upgrade: scikit-learn>=0.18 in /opt/anaconda3/lib/python3.8/site-packages (from scikit-plot) (0.24.1)\n",
      "Requirement already satisfied, skipping upgrade: joblib>=0.10 in /opt/anaconda3/lib/python3.8/site-packages (from scikit-plot) (0.17.0)\n",
      "Requirement already satisfied, skipping upgrade: matplotlib>=1.4.0 in /opt/anaconda3/lib/python3.8/site-packages (from scikit-plot) (3.3.2)\n",
      "Requirement already satisfied, skipping upgrade: scipy>=0.9 in /opt/anaconda3/lib/python3.8/site-packages (from scikit-plot) (1.5.2)\n",
      "Requirement already satisfied, skipping upgrade: numpy>=1.13.3 in /opt/anaconda3/lib/python3.8/site-packages (from scikit-learn>=0.18->scikit-plot) (1.19.2)\n",
      "Requirement already satisfied, skipping upgrade: threadpoolctl>=2.0.0 in /opt/anaconda3/lib/python3.8/site-packages (from scikit-learn>=0.18->scikit-plot) (2.1.0)\n",
      "Requirement already satisfied, skipping upgrade: kiwisolver>=1.0.1 in /opt/anaconda3/lib/python3.8/site-packages (from matplotlib>=1.4.0->scikit-plot) (1.3.0)\n",
      "Requirement already satisfied, skipping upgrade: python-dateutil>=2.1 in /opt/anaconda3/lib/python3.8/site-packages (from matplotlib>=1.4.0->scikit-plot) (2.8.1)\n",
      "Requirement already satisfied, skipping upgrade: pyparsing!=2.0.4,!=2.1.2,!=2.1.6,>=2.0.3 in /opt/anaconda3/lib/python3.8/site-packages (from matplotlib>=1.4.0->scikit-plot) (2.4.7)\n",
      "Requirement already satisfied, skipping upgrade: pillow>=6.2.0 in /opt/anaconda3/lib/python3.8/site-packages (from matplotlib>=1.4.0->scikit-plot) (8.0.1)\n",
      "Requirement already satisfied, skipping upgrade: cycler>=0.10 in /opt/anaconda3/lib/python3.8/site-packages (from matplotlib>=1.4.0->scikit-plot) (0.10.0)\n",
      "Requirement already satisfied, skipping upgrade: certifi>=2020.06.20 in /opt/anaconda3/lib/python3.8/site-packages (from matplotlib>=1.4.0->scikit-plot) (2020.6.20)\n",
      "Requirement already satisfied, skipping upgrade: six>=1.5 in /opt/anaconda3/lib/python3.8/site-packages (from python-dateutil>=2.1->matplotlib>=1.4.0->scikit-plot) (1.15.0)\n",
      "Note: you may need to restart the kernel to use updated packages.\n"
     ]
    }
   ],
   "source": [
    "%pip install -U scikit-plot"
   ]
  },
  {
   "cell_type": "code",
   "execution_count": 93,
   "metadata": {},
   "outputs": [],
   "source": [
    "import pandas as pd\n",
    "import matplotlib.pyplot as plt\n",
    "import seaborn as sns\n",
    "import numpy as np\n",
    "\n",
    "from sklearn.model_selection import train_test_split, GridSearchCV\n",
    "from sklearn.preprocessing import StandardScaler\n",
    "from sklearn.linear_model import LinearRegression\n",
    "from sklearn.ensemble import GradientBoostingRegressor, RandomForestRegressor, RandomForestClassifier, GradientBoostingClassifier\n",
    "\n",
    "from sklearn.decomposition import PCA\n",
    "from sklearn.pipeline import make_pipeline\n",
    "\n",
    "from sklearn.metrics import r2_score, mean_squared_error, classification_report\n",
    "from sklearn.ensemble import RandomForestClassifier\n",
    "from sklearn.model_selection import cross_val_predict\n",
    "\n",
    "from sklearn.linear_model import (\n",
    "    LinearRegression, TheilSenRegressor, RANSACRegressor, HuberRegressor, Ridge)\n",
    "#from pandas_profiling import ProfileReport\n",
    "from sklearn.feature_selection import SelectKBest, f_regression\n",
    "import scikitplot as skplt\n",
    "from sklearn.preprocessing import Binarizer"
   ]
  },
  {
   "cell_type": "code",
   "execution_count": 94,
   "metadata": {},
   "outputs": [],
   "source": [
    "#to Supress scientif format and help in comparison\n",
    "pd.options.display.float_format = '{:.3f}'.format"
   ]
  },
  {
   "cell_type": "code",
   "execution_count": 95,
   "metadata": {},
   "outputs": [],
   "source": [
    "df = pd.read_csv('../data/final_eda_base_data.csv', index_col= 0)\n",
    "X_cleaned_classfn_orig = pd.read_csv('../data/X_cleaned_classfn_based_on_rfe.csv')\n",
    "y_cleaned_classfn_orig = pd.read_csv('../data/y_cleaned_classfn_based_on_rfe.csv')"
   ]
  },
  {
   "cell_type": "code",
   "execution_count": 96,
   "metadata": {
    "scrolled": true
   },
   "outputs": [
    {
     "data": {
      "text/html": [
       "<div>\n",
       "<style scoped>\n",
       "    .dataframe tbody tr th:only-of-type {\n",
       "        vertical-align: middle;\n",
       "    }\n",
       "\n",
       "    .dataframe tbody tr th {\n",
       "        vertical-align: top;\n",
       "    }\n",
       "\n",
       "    .dataframe thead th {\n",
       "        text-align: right;\n",
       "    }\n",
       "</style>\n",
       "<table border=\"1\" class=\"dataframe\">\n",
       "  <thead>\n",
       "    <tr style=\"text-align: right;\">\n",
       "      <th></th>\n",
       "      <th>no_of_sales_12M_1</th>\n",
       "      <th>no_of_Redemption_12M_1</th>\n",
       "      <th>no_of_sales_12M_10K</th>\n",
       "      <th>no_of_Redemption_12M_10K</th>\n",
       "      <th>no_of_funds_sold_12M_1</th>\n",
       "      <th>no_of_funds_redeemed_12M_1</th>\n",
       "      <th>no_of_fund_sales_12M_10K</th>\n",
       "      <th>no_of_funds_Redemption_12M_10K</th>\n",
       "      <th>no_of_assetclass_sold_12M_1</th>\n",
       "      <th>no_of_assetclass_redeemed_12M_1</th>\n",
       "      <th>...</th>\n",
       "      <th>Channel_Networker</th>\n",
       "      <th>Channel_Private Client Group</th>\n",
       "      <th>Sub channel_Affiliated</th>\n",
       "      <th>Sub channel_DCIO</th>\n",
       "      <th>Sub channel_Global</th>\n",
       "      <th>Sub channel_IBD</th>\n",
       "      <th>Sub channel_NACS</th>\n",
       "      <th>Sub channel_Other</th>\n",
       "      <th>Sub channel_RIA</th>\n",
       "      <th>Sub channel_USBT</th>\n",
       "    </tr>\n",
       "  </thead>\n",
       "  <tbody>\n",
       "    <tr>\n",
       "      <th>0</th>\n",
       "      <td>21.000</td>\n",
       "      <td>38.000</td>\n",
       "      <td>0.000</td>\n",
       "      <td>1.000</td>\n",
       "      <td>5.000</td>\n",
       "      <td>5.000</td>\n",
       "      <td>0.000</td>\n",
       "      <td>1.000</td>\n",
       "      <td>2.000</td>\n",
       "      <td>2.000</td>\n",
       "      <td>...</td>\n",
       "      <td>0</td>\n",
       "      <td>0</td>\n",
       "      <td>0</td>\n",
       "      <td>0</td>\n",
       "      <td>0</td>\n",
       "      <td>0</td>\n",
       "      <td>1</td>\n",
       "      <td>0</td>\n",
       "      <td>0</td>\n",
       "      <td>0</td>\n",
       "    </tr>\n",
       "    <tr>\n",
       "      <th>1</th>\n",
       "      <td>0.000</td>\n",
       "      <td>0.000</td>\n",
       "      <td>0.000</td>\n",
       "      <td>0.000</td>\n",
       "      <td>0.000</td>\n",
       "      <td>0.000</td>\n",
       "      <td>0.000</td>\n",
       "      <td>0.000</td>\n",
       "      <td>0.000</td>\n",
       "      <td>0.000</td>\n",
       "      <td>...</td>\n",
       "      <td>0</td>\n",
       "      <td>0</td>\n",
       "      <td>0</td>\n",
       "      <td>0</td>\n",
       "      <td>0</td>\n",
       "      <td>1</td>\n",
       "      <td>0</td>\n",
       "      <td>0</td>\n",
       "      <td>0</td>\n",
       "      <td>0</td>\n",
       "    </tr>\n",
       "    <tr>\n",
       "      <th>2</th>\n",
       "      <td>0.000</td>\n",
       "      <td>0.000</td>\n",
       "      <td>0.000</td>\n",
       "      <td>0.000</td>\n",
       "      <td>0.000</td>\n",
       "      <td>0.000</td>\n",
       "      <td>0.000</td>\n",
       "      <td>0.000</td>\n",
       "      <td>0.000</td>\n",
       "      <td>0.000</td>\n",
       "      <td>...</td>\n",
       "      <td>0</td>\n",
       "      <td>0</td>\n",
       "      <td>0</td>\n",
       "      <td>0</td>\n",
       "      <td>0</td>\n",
       "      <td>0</td>\n",
       "      <td>0</td>\n",
       "      <td>0</td>\n",
       "      <td>1</td>\n",
       "      <td>0</td>\n",
       "    </tr>\n",
       "    <tr>\n",
       "      <th>3</th>\n",
       "      <td>20.000</td>\n",
       "      <td>0.000</td>\n",
       "      <td>2.000</td>\n",
       "      <td>0.000</td>\n",
       "      <td>1.000</td>\n",
       "      <td>0.000</td>\n",
       "      <td>1.000</td>\n",
       "      <td>0.000</td>\n",
       "      <td>1.000</td>\n",
       "      <td>0.000</td>\n",
       "      <td>...</td>\n",
       "      <td>0</td>\n",
       "      <td>0</td>\n",
       "      <td>0</td>\n",
       "      <td>0</td>\n",
       "      <td>0</td>\n",
       "      <td>1</td>\n",
       "      <td>0</td>\n",
       "      <td>0</td>\n",
       "      <td>0</td>\n",
       "      <td>0</td>\n",
       "    </tr>\n",
       "    <tr>\n",
       "      <th>4</th>\n",
       "      <td>0.000</td>\n",
       "      <td>0.000</td>\n",
       "      <td>0.000</td>\n",
       "      <td>0.000</td>\n",
       "      <td>0.000</td>\n",
       "      <td>0.000</td>\n",
       "      <td>0.000</td>\n",
       "      <td>0.000</td>\n",
       "      <td>0.000</td>\n",
       "      <td>0.000</td>\n",
       "      <td>...</td>\n",
       "      <td>0</td>\n",
       "      <td>0</td>\n",
       "      <td>0</td>\n",
       "      <td>0</td>\n",
       "      <td>0</td>\n",
       "      <td>0</td>\n",
       "      <td>0</td>\n",
       "      <td>0</td>\n",
       "      <td>1</td>\n",
       "      <td>0</td>\n",
       "    </tr>\n",
       "  </tbody>\n",
       "</table>\n",
       "<p>5 rows × 42 columns</p>\n",
       "</div>"
      ],
      "text/plain": [
       "   no_of_sales_12M_1  no_of_Redemption_12M_1  no_of_sales_12M_10K  \\\n",
       "0             21.000                  38.000                0.000   \n",
       "1              0.000                   0.000                0.000   \n",
       "2              0.000                   0.000                0.000   \n",
       "3             20.000                   0.000                2.000   \n",
       "4              0.000                   0.000                0.000   \n",
       "\n",
       "   no_of_Redemption_12M_10K  no_of_funds_sold_12M_1  \\\n",
       "0                     1.000                   5.000   \n",
       "1                     0.000                   0.000   \n",
       "2                     0.000                   0.000   \n",
       "3                     0.000                   1.000   \n",
       "4                     0.000                   0.000   \n",
       "\n",
       "   no_of_funds_redeemed_12M_1  no_of_fund_sales_12M_10K  \\\n",
       "0                       5.000                     0.000   \n",
       "1                       0.000                     0.000   \n",
       "2                       0.000                     0.000   \n",
       "3                       0.000                     1.000   \n",
       "4                       0.000                     0.000   \n",
       "\n",
       "   no_of_funds_Redemption_12M_10K  no_of_assetclass_sold_12M_1  \\\n",
       "0                           1.000                        2.000   \n",
       "1                           0.000                        0.000   \n",
       "2                           0.000                        0.000   \n",
       "3                           0.000                        1.000   \n",
       "4                           0.000                        0.000   \n",
       "\n",
       "   no_of_assetclass_redeemed_12M_1  ...  Channel_Networker  \\\n",
       "0                            2.000  ...                  0   \n",
       "1                            0.000  ...                  0   \n",
       "2                            0.000  ...                  0   \n",
       "3                            0.000  ...                  0   \n",
       "4                            0.000  ...                  0   \n",
       "\n",
       "   Channel_Private Client Group  Sub channel_Affiliated  Sub channel_DCIO  \\\n",
       "0                             0                       0                 0   \n",
       "1                             0                       0                 0   \n",
       "2                             0                       0                 0   \n",
       "3                             0                       0                 0   \n",
       "4                             0                       0                 0   \n",
       "\n",
       "   Sub channel_Global  Sub channel_IBD  Sub channel_NACS  Sub channel_Other  \\\n",
       "0                   0                0                 1                  0   \n",
       "1                   0                1                 0                  0   \n",
       "2                   0                0                 0                  0   \n",
       "3                   0                1                 0                  0   \n",
       "4                   0                0                 0                  0   \n",
       "\n",
       "   Sub channel_RIA  Sub channel_USBT  \n",
       "0                0                 0  \n",
       "1                0                 0  \n",
       "2                1                 0  \n",
       "3                0                 0  \n",
       "4                1                 0  \n",
       "\n",
       "[5 rows x 42 columns]"
      ]
     },
     "execution_count": 96,
     "metadata": {},
     "output_type": "execute_result"
    }
   ],
   "source": [
    "df.head(5)"
   ]
  },
  {
   "cell_type": "code",
   "execution_count": 97,
   "metadata": {
    "scrolled": true
   },
   "outputs": [],
   "source": [
    "X_cleaned_classfn = X_cleaned_classfn_orig.drop('Unnamed: 0', axis =1)"
   ]
  },
  {
   "cell_type": "code",
   "execution_count": 98,
   "metadata": {},
   "outputs": [],
   "source": [
    "y_cleaned_classfn = y_cleaned_classfn_orig.drop('Unnamed: 0', axis =1)"
   ]
  },
  {
   "cell_type": "code",
   "execution_count": 99,
   "metadata": {},
   "outputs": [],
   "source": [
    "#df.drop(df.iloc[:, 22:40], inplace = True, axis=1)"
   ]
  },
  {
   "cell_type": "code",
   "execution_count": 100,
   "metadata": {},
   "outputs": [],
   "source": [
    "# see the increase or decrease in Total sales"
   ]
  },
  {
   "cell_type": "code",
   "execution_count": 101,
   "metadata": {},
   "outputs": [],
   "source": [
    "total_sales_2018 = df['sales_12M'].sum()\n",
    "total_sales_2018_curr = df['sales_curr'].sum()\n",
    "total_sales_2019 = df['sales_2019'].sum()"
   ]
  },
  {
   "cell_type": "code",
   "execution_count": 102,
   "metadata": {},
   "outputs": [
    {
     "data": {
      "text/plain": [
       "-19460114.22761917"
      ]
     },
     "execution_count": 102,
     "metadata": {},
     "output_type": "execute_result"
    }
   ],
   "source": [
    "total_sales_2019 - 2160628225 "
   ]
  },
  {
   "cell_type": "code",
   "execution_count": 103,
   "metadata": {},
   "outputs": [
    {
     "data": {
      "text/plain": [
       "12.406626312261182"
      ]
     },
     "execution_count": 103,
     "metadata": {},
     "output_type": "execute_result"
    }
   ],
   "source": [
    "\n",
    "#total sales increase in percentage: in 2018 - 2019\n",
    "((total_sales_2019 - total_sales_2018 - total_sales_2018_curr)/(total_sales_2018 + total_sales_2018_curr))*100"
   ]
  },
  {
   "cell_type": "code",
   "execution_count": 104,
   "metadata": {
    "scrolled": true
   },
   "outputs": [
    {
     "data": {
      "text/plain": [
       "13.42823959753883"
      ]
     },
     "execution_count": 104,
     "metadata": {},
     "output_type": "execute_result"
    }
   ],
   "source": [
    "((2160628225 - total_sales_2018 - total_sales_2018_curr)/(total_sales_2018+total_sales_2018_curr))*100"
   ]
  },
  {
   "cell_type": "markdown",
   "metadata": {},
   "source": [
    "## As per the given data model predicts 13% increase in the sales from 2018 to 2019! which is significant"
   ]
  },
  {
   "cell_type": "code",
   "execution_count": 105,
   "metadata": {},
   "outputs": [],
   "source": [
    "#Drop some highly correlated columns - \n",
    "#'no_of_sales_12M_10K' , 'no_of_Redemption_12M_10K', 'no_of_assetclass_sales_12M_10K', 'redemption_12M', 'redemption_12M'\n",
    "#'no_of_fund_sales_12M_10K'"
   ]
  },
  {
   "cell_type": "code",
   "execution_count": 106,
   "metadata": {},
   "outputs": [],
   "source": [
    "X = df.drop(['no_of_sales_12M_10K', 'no_of_Redemption_12M_10K', 'no_of_assetclass_sales_12M_10K', 'redemption_12M', 'redemption_12M','no_of_fund_sales_12M_10K'], axis=1, inplace= True)"
   ]
  },
  {
   "cell_type": "code",
   "execution_count": 107,
   "metadata": {},
   "outputs": [],
   "source": [
    "X = df.drop(['Firm name'], axis = 1, inplace= True)"
   ]
  },
  {
   "cell_type": "markdown",
   "metadata": {},
   "source": [
    "# Prepare the target variable for Regression and Classification"
   ]
  },
  {
   "cell_type": "code",
   "execution_count": 108,
   "metadata": {},
   "outputs": [],
   "source": [
    "X = df.drop(['sales_2019', 'new_fund_2019'], axis=1)\n",
    "y_reg = df['sales_2019']\n",
    "y_cl = df['new_fund_2019']"
   ]
  },
  {
   "cell_type": "code",
   "execution_count": 109,
   "metadata": {},
   "outputs": [],
   "source": [
    "X = (X-X.mean())/X.std()"
   ]
  },
  {
   "cell_type": "code",
   "execution_count": 110,
   "metadata": {},
   "outputs": [],
   "source": [
    "#draw histogram to see the distribution"
   ]
  },
  {
   "cell_type": "code",
   "execution_count": 111,
   "metadata": {},
   "outputs": [
    {
     "name": "stdout",
     "output_type": "stream",
     "text": [
      "<class 'pandas.core.frame.DataFrame'>\n",
      "Int64Index: 10005 entries, 0 to 10004\n",
      "Data columns (total 34 columns):\n",
      " #   Column                               Non-Null Count  Dtype  \n",
      "---  ------                               --------------  -----  \n",
      " 0   no_of_sales_12M_1                    10005 non-null  float64\n",
      " 1   no_of_Redemption_12M_1               10005 non-null  float64\n",
      " 2   no_of_funds_sold_12M_1               10005 non-null  float64\n",
      " 3   no_of_funds_redeemed_12M_1           10005 non-null  float64\n",
      " 4   no_of_funds_Redemption_12M_10K       10005 non-null  float64\n",
      " 5   no_of_assetclass_sold_12M_1          10005 non-null  float64\n",
      " 6   no_of_assetclass_redeemed_12M_1      10005 non-null  float64\n",
      " 7   no_of_assetclass_Redemption_12M_10K  10005 non-null  float64\n",
      " 8   No_of_fund_curr                      10005 non-null  float64\n",
      " 9   No_of_asset_curr                     10005 non-null  float64\n",
      " 10  AUM                                  10005 non-null  float64\n",
      " 11  sales_curr                           10005 non-null  float64\n",
      " 12  sales_12M                            10005 non-null  float64\n",
      " 13  redemption_curr                      10005 non-null  float64\n",
      " 14  new_Fund_added_12M                   10005 non-null  float64\n",
      " 15  Channel_Asset Manager                10005 non-null  float64\n",
      " 16  Channel_Bank/Trust                   10005 non-null  float64\n",
      " 17  Channel_Discount                     10005 non-null  float64\n",
      " 18  Channel_Dual                         10005 non-null  float64\n",
      " 19  Channel_Fee-Based Adviser            10005 non-null  float64\n",
      " 20  Channel_Independent Dealer           10005 non-null  float64\n",
      " 21  Channel_International Outlet         10005 non-null  float64\n",
      " 22  Channel_Low/Non Producer             10005 non-null  float64\n",
      " 23  Channel_National Broker-Dealer       10005 non-null  float64\n",
      " 24  Channel_Networker                    10005 non-null  float64\n",
      " 25  Channel_Private Client Group         10005 non-null  float64\n",
      " 26  Sub channel_Affiliated               10005 non-null  float64\n",
      " 27  Sub channel_DCIO                     10005 non-null  float64\n",
      " 28  Sub channel_Global                   10005 non-null  float64\n",
      " 29  Sub channel_IBD                      10005 non-null  float64\n",
      " 30  Sub channel_NACS                     10005 non-null  float64\n",
      " 31  Sub channel_Other                    10005 non-null  float64\n",
      " 32  Sub channel_RIA                      10005 non-null  float64\n",
      " 33  Sub channel_USBT                     10005 non-null  float64\n",
      "dtypes: float64(34)\n",
      "memory usage: 2.7 MB\n"
     ]
    }
   ],
   "source": [
    "X.info()"
   ]
  },
  {
   "cell_type": "code",
   "execution_count": 112,
   "metadata": {},
   "outputs": [],
   "source": [
    "## Decreasing the random state to 12 yeilds a better performance - .50 score on Test data"
   ]
  },
  {
   "cell_type": "markdown",
   "metadata": {},
   "source": [
    "# Test-Train Split for Regression"
   ]
  },
  {
   "cell_type": "code",
   "execution_count": 113,
   "metadata": {},
   "outputs": [],
   "source": [
    "X_train, X_test, y_train_reg, y_test_reg = train_test_split(X, y_reg, test_size=0.3, random_state=24)"
   ]
  },
  {
   "cell_type": "code",
   "execution_count": 114,
   "metadata": {},
   "outputs": [
    {
     "data": {
      "image/png": "[encoded data removed]",
      "text/plain": [
       "<Figure size 432x288 with 1 Axes>"
      ]
     },
     "metadata": {
      "needs_background": "light"
     },
     "output_type": "display_data"
    }
   ],
   "source": [
    "np.log1p(y_train_reg).hist(bins=30);"
   ]
  },
  {
   "cell_type": "code",
   "execution_count": 115,
   "metadata": {},
   "outputs": [],
   "source": [
    "pred_baseline = np.ones(len(y_train_reg))*np.mean(y_train_reg)"
   ]
  },
  {
   "cell_type": "code",
   "execution_count": 116,
   "metadata": {},
   "outputs": [
    {
     "data": {
      "text/plain": [
       "0.0"
      ]
     },
     "execution_count": 116,
     "metadata": {},
     "output_type": "execute_result"
    }
   ],
   "source": [
    "r2_score(y_train_reg, pred_baseline)"
   ]
  },
  {
   "cell_type": "code",
   "execution_count": 117,
   "metadata": {},
   "outputs": [
    {
     "data": {
      "text/plain": [
       "1209342.029779798"
      ]
     },
     "execution_count": 117,
     "metadata": {},
     "output_type": "execute_result"
    }
   ],
   "source": [
    "mean_squared_error(y_train_reg, pred_baseline, squared= False)"
   ]
  },
  {
   "cell_type": "code",
   "execution_count": 118,
   "metadata": {},
   "outputs": [],
   "source": [
    "lr_pipeline = make_pipeline(PCA(0.8), LinearRegression())"
   ]
  },
  {
   "cell_type": "code",
   "execution_count": 30,
   "metadata": {},
   "outputs": [],
   "source": [
    "##Write the X_train to a CSV for easy comparison"
   ]
  },
  {
   "cell_type": "code",
   "execution_count": 31,
   "metadata": {},
   "outputs": [],
   "source": [
    "X_train.to_excel('../data/X_train-for-comparison.xlsx')"
   ]
  },
  {
   "cell_type": "code",
   "execution_count": 32,
   "metadata": {},
   "outputs": [],
   "source": [
    "## Selecting K best columns in X_train"
   ]
  },
  {
   "cell_type": "code",
   "execution_count": 79,
   "metadata": {},
   "outputs": [],
   "source": [
    "X_new = SelectKBest(f_regression, k =16)"
   ]
  },
  {
   "cell_type": "code",
   "execution_count": 90,
   "metadata": {},
   "outputs": [],
   "source": [
    "# Create and fit SelectKBest selector\n",
    "selector = SelectKBest(f_regression, k=11)\n",
    "selector.fit(X_train, y_train_reg)\n",
    "# Get columns to keep and create new dataframe with those columns\n",
    "cols = selector.get_support(indices=True)\n",
    "features_df_new = X_train.iloc[:,cols]"
   ]
  },
  {
   "cell_type": "code",
   "execution_count": 91,
   "metadata": {},
   "outputs": [
    {
     "name": "stdout",
     "output_type": "stream",
     "text": [
      "<class 'pandas.core.frame.DataFrame'>\n",
      "Int64Index: 7003 entries, 1666 to 899\n",
      "Data columns (total 11 columns):\n",
      " #   Column                               Non-Null Count  Dtype  \n",
      "---  ------                               --------------  -----  \n",
      " 0   no_of_sales_12M_1                    7003 non-null   float64\n",
      " 1   no_of_funds_sold_12M_1               7003 non-null   float64\n",
      " 2   no_of_funds_redeemed_12M_1           7003 non-null   float64\n",
      " 3   no_of_funds_Redemption_12M_10K       7003 non-null   float64\n",
      " 4   no_of_assetclass_sold_12M_1          7003 non-null   float64\n",
      " 5   no_of_assetclass_Redemption_12M_10K  7003 non-null   float64\n",
      " 6   No_of_fund_curr                      7003 non-null   float64\n",
      " 7   AUM                                  7003 non-null   float64\n",
      " 8   sales_curr                           7003 non-null   float64\n",
      " 9   sales_12M                            7003 non-null   float64\n",
      " 10  redemption_curr                      7003 non-null   float64\n",
      "dtypes: float64(11)\n",
      "memory usage: 656.5 KB\n"
     ]
    }
   ],
   "source": [
    "features_df_new.info()"
   ]
  },
  {
   "cell_type": "code",
   "execution_count": 71,
   "metadata": {},
   "outputs": [
    {
     "data": {
      "text/plain": [
       "array([[-0.20400321, -0.0312    , -0.57142386, ...,  0.09412646,\n",
       "        -0.41067622, -0.66609203],\n",
       "       [-0.19384478, -0.08340525, -0.15123455, ...,  0.09412646,\n",
       "        -0.41067622,  1.50114399],\n",
       "       [ 0.9845331 ,  0.14629783,  4.47084787, ...,  0.09412646,\n",
       "         0.42309318, -0.66609203],\n",
       "       ...,\n",
       "       [-0.05162676, -0.08340525, -0.15123455, ...,  0.07446322,\n",
       "        -0.41067622, -0.66609203],\n",
       "       [-0.19384478, -0.06774368, -0.15123455, ...,  0.05587641,\n",
       "         0.42309318, -0.66609203],\n",
       "       [-0.20400321, -0.10950787, -0.57142386, ...,  0.09412646,\n",
       "        -0.41067622, -0.66609203]])"
      ]
     },
     "execution_count": 71,
     "metadata": {},
     "output_type": "execute_result"
    }
   ],
   "source": [
    "X_new.fit_transform(X_train, y_train_reg)"
   ]
  },
  {
   "cell_type": "code",
   "execution_count": 34,
   "metadata": {},
   "outputs": [],
   "source": [
    "#Convert Numpy array to pandas DataFrame to analyze better"
   ]
  },
  {
   "cell_type": "code",
   "execution_count": 35,
   "metadata": {},
   "outputs": [],
   "source": [
    "df_X_Kbest = X[['no_of_sales_12M_1','no_of_Redemption_12M_1','no_of_funds_sold_12M_1',\n",
    "                                  'no_of_funds_redeemed_12M_1','no_of_assetclass_sold_12M_1','no_of_assetclass_redeemed_12M_1',\n",
    "                                  'No_of_fund_curr','No_of_asset_curr',  'AUM',\n",
    "                                  'sales_curr','sales_12M','redemption_curr']]"
   ]
  },
  {
   "cell_type": "markdown",
   "metadata": {},
   "source": [
    "## These are the 16 best features as per SelectKBest \n",
    "no_of_sales_12M_1 -0.193845 0\n",
    "no_of_Redemption_12M_1 -0.109508 1\n",
    "no_of_funds_sold_12M_1 -0.151235 2\n",
    "\n",
    "no_of_funds_redeemed_12M_1, (-0.625797) 3\n",
    "no_of_funds_Redemption_12M_10K (-0.447401) 4 # not required as both above are co-related\n",
    "no_of_assetclass_sold_12M_1 0.212778 5\n",
    "\n",
    "no_of_assetclass_redeemed_12M_1 -0.866220 6\n",
    "no_of_assetclass_Redemption_12M_10K  -0.565465 7 # not required as co-related\n",
    "No_of_fund_curr -0.683590 8\n",
    "\n",
    "No_of_asset_curr -0.882629 9\n",
    "AUM,-0.162021 10\n",
    "sales_curr,\t  -0.089097 11\n",
    "\n",
    "sales_12M,    -0.153225 12\n",
    "redemption_curr,  0.094081 13\n",
    "new_Fund_added_12M 0.423093 14\n",
    "\n",
    "Channel_Networker -0.033175 15"
   ]
  },
  {
   "cell_type": "code",
   "execution_count": 37,
   "metadata": {},
   "outputs": [],
   "source": [
    "## Evaluate model performance for only the select columns from selectkbest suggestion to see if the score increases"
   ]
  },
  {
   "cell_type": "code",
   "execution_count": 120,
   "metadata": {},
   "outputs": [],
   "source": [
    "df_X_train_selectKbest = X_train[['no_of_sales_12M_1','no_of_Redemption_12M_1','no_of_funds_sold_12M_1',\n",
    "                                  'no_of_funds_redeemed_12M_1','no_of_assetclass_sold_12M_1','no_of_assetclass_redeemed_12M_1',\n",
    "                                  'No_of_fund_curr','No_of_asset_curr',  'AUM',\n",
    "                                  'sales_curr','sales_12M','redemption_curr']]"
   ]
  },
  {
   "cell_type": "code",
   "execution_count": 121,
   "metadata": {},
   "outputs": [],
   "source": [
    "df_X_test_selectKbest = X_test[['no_of_sales_12M_1','no_of_Redemption_12M_1','no_of_funds_sold_12M_1',\n",
    "                                  'no_of_funds_redeemed_12M_1','no_of_assetclass_sold_12M_1','no_of_assetclass_redeemed_12M_1',\n",
    "                                   'No_of_fund_curr','No_of_asset_curr', 'AUM',\n",
    "                                  'sales_curr','sales_12M','redemption_curr']]"
   ]
  },
  {
   "cell_type": "code",
   "execution_count": 122,
   "metadata": {},
   "outputs": [
    {
     "data": {
      "text/plain": [
       "Pipeline(steps=[('pca', PCA(n_components=0.8)),\n",
       "                ('linearregression', LinearRegression())])"
      ]
     },
     "execution_count": 122,
     "metadata": {},
     "output_type": "execute_result"
    }
   ],
   "source": [
    "lr_pipeline.fit(X_train, y_train_reg)"
   ]
  },
  {
   "cell_type": "code",
   "execution_count": 123,
   "metadata": {},
   "outputs": [
    {
     "data": {
      "text/plain": [
       "Pipeline(steps=[('pca', PCA(n_components=0.8)),\n",
       "                ('linearregression', LinearRegression())])"
      ]
     },
     "execution_count": 123,
     "metadata": {},
     "output_type": "execute_result"
    }
   ],
   "source": [
    "lr_pipeline.fit(df_X_train_selectKbest, y_train_reg)"
   ]
  },
  {
   "cell_type": "code",
   "execution_count": 124,
   "metadata": {},
   "outputs": [
    {
     "data": {
      "text/plain": [
       "0.5147333090226286"
      ]
     },
     "execution_count": 124,
     "metadata": {},
     "output_type": "execute_result"
    }
   ],
   "source": [
    "lr_pipeline.score(df_X_train_selectKbest, y_train_reg)"
   ]
  },
  {
   "cell_type": "code",
   "execution_count": 125,
   "metadata": {},
   "outputs": [
    {
     "data": {
      "text/plain": [
       "0.4030098356041324"
      ]
     },
     "execution_count": 125,
     "metadata": {},
     "output_type": "execute_result"
    }
   ],
   "source": [
    "lr_pipeline.score(df_X_test_selectKbest, y_test_reg)"
   ]
  },
  {
   "cell_type": "code",
   "execution_count": 128,
   "metadata": {},
   "outputs": [],
   "source": [
    "rf2 = RandomForestRegressor()"
   ]
  },
  {
   "cell_type": "code",
   "execution_count": 129,
   "metadata": {},
   "outputs": [
    {
     "data": {
      "text/plain": [
       "RandomForestRegressor()"
      ]
     },
     "execution_count": 129,
     "metadata": {},
     "output_type": "execute_result"
    }
   ],
   "source": [
    "rf2.fit(df_X_train_selectKbest, y_train_reg)"
   ]
  },
  {
   "cell_type": "code",
   "execution_count": 131,
   "metadata": {},
   "outputs": [
    {
     "data": {
      "text/plain": [
       "0.8267920606771533"
      ]
     },
     "execution_count": 131,
     "metadata": {},
     "output_type": "execute_result"
    }
   ],
   "source": [
    "rf2.score(df_X_train_selectKbest, y_train_reg)"
   ]
  },
  {
   "cell_type": "code",
   "execution_count": 130,
   "metadata": {},
   "outputs": [
    {
     "data": {
      "text/plain": [
       "0.36279801301425807"
      ]
     },
     "execution_count": 130,
     "metadata": {},
     "output_type": "execute_result"
    }
   ],
   "source": [
    "rf2.score(df_X_test_selectKbest, y_test_reg)"
   ]
  },
  {
   "cell_type": "code",
   "execution_count": 126,
   "metadata": {},
   "outputs": [
    {
     "ename": "ValueError",
     "evalue": "X has 34 features, but PCA is expecting 12 features as input.",
     "output_type": "error",
     "traceback": [
      "\u001b[0;31m---------------------------------------------------------------------------\u001b[0m",
      "\u001b[0;31mValueError\u001b[0m                                Traceback (most recent call last)",
      "\u001b[0;32m<ipython-input-126-f6a2bb3f9263>\u001b[0m in \u001b[0;36m<module>\u001b[0;34m\u001b[0m\n\u001b[0;32m----> 1\u001b[0;31m \u001b[0mlr_pipeline\u001b[0m\u001b[0;34m.\u001b[0m\u001b[0mscore\u001b[0m\u001b[0;34m(\u001b[0m\u001b[0mX_train\u001b[0m\u001b[0;34m,\u001b[0m \u001b[0my_train_reg\u001b[0m\u001b[0;34m)\u001b[0m\u001b[0;34m\u001b[0m\u001b[0;34m\u001b[0m\u001b[0m\n\u001b[0m",
      "\u001b[0;32m/opt/anaconda3/lib/python3.8/site-packages/sklearn/utils/metaestimators.py\u001b[0m in \u001b[0;36m<lambda>\u001b[0;34m(*args, **kwargs)\u001b[0m\n\u001b[1;32m    118\u001b[0m \u001b[0;34m\u001b[0m\u001b[0m\n\u001b[1;32m    119\u001b[0m         \u001b[0;31m# lambda, but not partial, allows help() to work with update_wrapper\u001b[0m\u001b[0;34m\u001b[0m\u001b[0;34m\u001b[0m\u001b[0;34m\u001b[0m\u001b[0m\n\u001b[0;32m--> 120\u001b[0;31m         \u001b[0mout\u001b[0m \u001b[0;34m=\u001b[0m \u001b[0;32mlambda\u001b[0m \u001b[0;34m*\u001b[0m\u001b[0margs\u001b[0m\u001b[0;34m,\u001b[0m \u001b[0;34m**\u001b[0m\u001b[0mkwargs\u001b[0m\u001b[0;34m:\u001b[0m \u001b[0mself\u001b[0m\u001b[0;34m.\u001b[0m\u001b[0mfn\u001b[0m\u001b[0;34m(\u001b[0m\u001b[0mobj\u001b[0m\u001b[0;34m,\u001b[0m \u001b[0;34m*\u001b[0m\u001b[0margs\u001b[0m\u001b[0;34m,\u001b[0m \u001b[0;34m**\u001b[0m\u001b[0mkwargs\u001b[0m\u001b[0;34m)\u001b[0m\u001b[0;34m\u001b[0m\u001b[0;34m\u001b[0m\u001b[0m\n\u001b[0m\u001b[1;32m    121\u001b[0m         \u001b[0;31m# update the docstring of the returned function\u001b[0m\u001b[0;34m\u001b[0m\u001b[0;34m\u001b[0m\u001b[0;34m\u001b[0m\u001b[0m\n\u001b[1;32m    122\u001b[0m         \u001b[0mupdate_wrapper\u001b[0m\u001b[0;34m(\u001b[0m\u001b[0mout\u001b[0m\u001b[0;34m,\u001b[0m \u001b[0mself\u001b[0m\u001b[0;34m.\u001b[0m\u001b[0mfn\u001b[0m\u001b[0;34m)\u001b[0m\u001b[0;34m\u001b[0m\u001b[0;34m\u001b[0m\u001b[0m\n",
      "\u001b[0;32m/opt/anaconda3/lib/python3.8/site-packages/sklearn/pipeline.py\u001b[0m in \u001b[0;36mscore\u001b[0;34m(self, X, y, sample_weight)\u001b[0m\n\u001b[1;32m    616\u001b[0m         \u001b[0mXt\u001b[0m \u001b[0;34m=\u001b[0m \u001b[0mX\u001b[0m\u001b[0;34m\u001b[0m\u001b[0;34m\u001b[0m\u001b[0m\n\u001b[1;32m    617\u001b[0m         \u001b[0;32mfor\u001b[0m \u001b[0m_\u001b[0m\u001b[0;34m,\u001b[0m \u001b[0mname\u001b[0m\u001b[0;34m,\u001b[0m \u001b[0mtransform\u001b[0m \u001b[0;32min\u001b[0m \u001b[0mself\u001b[0m\u001b[0;34m.\u001b[0m\u001b[0m_iter\u001b[0m\u001b[0;34m(\u001b[0m\u001b[0mwith_final\u001b[0m\u001b[0;34m=\u001b[0m\u001b[0;32mFalse\u001b[0m\u001b[0;34m)\u001b[0m\u001b[0;34m:\u001b[0m\u001b[0;34m\u001b[0m\u001b[0;34m\u001b[0m\u001b[0m\n\u001b[0;32m--> 618\u001b[0;31m             \u001b[0mXt\u001b[0m \u001b[0;34m=\u001b[0m \u001b[0mtransform\u001b[0m\u001b[0;34m.\u001b[0m\u001b[0mtransform\u001b[0m\u001b[0;34m(\u001b[0m\u001b[0mXt\u001b[0m\u001b[0;34m)\u001b[0m\u001b[0;34m\u001b[0m\u001b[0;34m\u001b[0m\u001b[0m\n\u001b[0m\u001b[1;32m    619\u001b[0m         \u001b[0mscore_params\u001b[0m \u001b[0;34m=\u001b[0m \u001b[0;34m{\u001b[0m\u001b[0;34m}\u001b[0m\u001b[0;34m\u001b[0m\u001b[0;34m\u001b[0m\u001b[0m\n\u001b[1;32m    620\u001b[0m         \u001b[0;32mif\u001b[0m \u001b[0msample_weight\u001b[0m \u001b[0;32mis\u001b[0m \u001b[0;32mnot\u001b[0m \u001b[0;32mNone\u001b[0m\u001b[0;34m:\u001b[0m\u001b[0;34m\u001b[0m\u001b[0;34m\u001b[0m\u001b[0m\n",
      "\u001b[0;32m/opt/anaconda3/lib/python3.8/site-packages/sklearn/decomposition/_base.py\u001b[0m in \u001b[0;36mtransform\u001b[0;34m(self, X)\u001b[0m\n\u001b[1;32m    124\u001b[0m         \u001b[0mcheck_is_fitted\u001b[0m\u001b[0;34m(\u001b[0m\u001b[0mself\u001b[0m\u001b[0;34m)\u001b[0m\u001b[0;34m\u001b[0m\u001b[0;34m\u001b[0m\u001b[0m\n\u001b[1;32m    125\u001b[0m \u001b[0;34m\u001b[0m\u001b[0m\n\u001b[0;32m--> 126\u001b[0;31m         \u001b[0mX\u001b[0m \u001b[0;34m=\u001b[0m \u001b[0mself\u001b[0m\u001b[0;34m.\u001b[0m\u001b[0m_validate_data\u001b[0m\u001b[0;34m(\u001b[0m\u001b[0mX\u001b[0m\u001b[0;34m,\u001b[0m \u001b[0mdtype\u001b[0m\u001b[0;34m=\u001b[0m\u001b[0;34m[\u001b[0m\u001b[0mnp\u001b[0m\u001b[0;34m.\u001b[0m\u001b[0mfloat64\u001b[0m\u001b[0;34m,\u001b[0m \u001b[0mnp\u001b[0m\u001b[0;34m.\u001b[0m\u001b[0mfloat32\u001b[0m\u001b[0;34m]\u001b[0m\u001b[0;34m,\u001b[0m \u001b[0mreset\u001b[0m\u001b[0;34m=\u001b[0m\u001b[0;32mFalse\u001b[0m\u001b[0;34m)\u001b[0m\u001b[0;34m\u001b[0m\u001b[0;34m\u001b[0m\u001b[0m\n\u001b[0m\u001b[1;32m    127\u001b[0m         \u001b[0;32mif\u001b[0m \u001b[0mself\u001b[0m\u001b[0;34m.\u001b[0m\u001b[0mmean_\u001b[0m \u001b[0;32mis\u001b[0m \u001b[0;32mnot\u001b[0m \u001b[0;32mNone\u001b[0m\u001b[0;34m:\u001b[0m\u001b[0;34m\u001b[0m\u001b[0;34m\u001b[0m\u001b[0m\n\u001b[1;32m    128\u001b[0m             \u001b[0mX\u001b[0m \u001b[0;34m=\u001b[0m \u001b[0mX\u001b[0m \u001b[0;34m-\u001b[0m \u001b[0mself\u001b[0m\u001b[0;34m.\u001b[0m\u001b[0mmean_\u001b[0m\u001b[0;34m\u001b[0m\u001b[0;34m\u001b[0m\u001b[0m\n",
      "\u001b[0;32m/opt/anaconda3/lib/python3.8/site-packages/sklearn/base.py\u001b[0m in \u001b[0;36m_validate_data\u001b[0;34m(self, X, y, reset, validate_separately, **check_params)\u001b[0m\n\u001b[1;32m    435\u001b[0m \u001b[0;34m\u001b[0m\u001b[0m\n\u001b[1;32m    436\u001b[0m         \u001b[0;32mif\u001b[0m \u001b[0mcheck_params\u001b[0m\u001b[0;34m.\u001b[0m\u001b[0mget\u001b[0m\u001b[0;34m(\u001b[0m\u001b[0;34m'ensure_2d'\u001b[0m\u001b[0;34m,\u001b[0m \u001b[0;32mTrue\u001b[0m\u001b[0;34m)\u001b[0m\u001b[0;34m:\u001b[0m\u001b[0;34m\u001b[0m\u001b[0;34m\u001b[0m\u001b[0m\n\u001b[0;32m--> 437\u001b[0;31m             \u001b[0mself\u001b[0m\u001b[0;34m.\u001b[0m\u001b[0m_check_n_features\u001b[0m\u001b[0;34m(\u001b[0m\u001b[0mX\u001b[0m\u001b[0;34m,\u001b[0m \u001b[0mreset\u001b[0m\u001b[0;34m=\u001b[0m\u001b[0mreset\u001b[0m\u001b[0;34m)\u001b[0m\u001b[0;34m\u001b[0m\u001b[0;34m\u001b[0m\u001b[0m\n\u001b[0m\u001b[1;32m    438\u001b[0m \u001b[0;34m\u001b[0m\u001b[0m\n\u001b[1;32m    439\u001b[0m         \u001b[0;32mreturn\u001b[0m \u001b[0mout\u001b[0m\u001b[0;34m\u001b[0m\u001b[0;34m\u001b[0m\u001b[0m\n",
      "\u001b[0;32m/opt/anaconda3/lib/python3.8/site-packages/sklearn/base.py\u001b[0m in \u001b[0;36m_check_n_features\u001b[0;34m(self, X, reset)\u001b[0m\n\u001b[1;32m    363\u001b[0m \u001b[0;34m\u001b[0m\u001b[0m\n\u001b[1;32m    364\u001b[0m         \u001b[0;32mif\u001b[0m \u001b[0mn_features\u001b[0m \u001b[0;34m!=\u001b[0m \u001b[0mself\u001b[0m\u001b[0;34m.\u001b[0m\u001b[0mn_features_in_\u001b[0m\u001b[0;34m:\u001b[0m\u001b[0;34m\u001b[0m\u001b[0;34m\u001b[0m\u001b[0m\n\u001b[0;32m--> 365\u001b[0;31m             raise ValueError(\n\u001b[0m\u001b[1;32m    366\u001b[0m                 \u001b[0;34mf\"X has {n_features} features, but {self.__class__.__name__} \"\u001b[0m\u001b[0;34m\u001b[0m\u001b[0;34m\u001b[0m\u001b[0m\n\u001b[1;32m    367\u001b[0m                 f\"is expecting {self.n_features_in_} features as input.\")\n",
      "\u001b[0;31mValueError\u001b[0m: X has 34 features, but PCA is expecting 12 features as input."
     ]
    }
   ],
   "source": [
    "lr_pipeline.score(X_train, y_train_reg)"
   ]
  },
  {
   "cell_type": "code",
   "execution_count": 127,
   "metadata": {},
   "outputs": [
    {
     "ename": "ValueError",
     "evalue": "X has 34 features, but PCA is expecting 12 features as input.",
     "output_type": "error",
     "traceback": [
      "\u001b[0;31m---------------------------------------------------------------------------\u001b[0m",
      "\u001b[0;31mValueError\u001b[0m                                Traceback (most recent call last)",
      "\u001b[0;32m<ipython-input-127-fcb4814f2df1>\u001b[0m in \u001b[0;36m<module>\u001b[0;34m\u001b[0m\n\u001b[0;32m----> 1\u001b[0;31m \u001b[0mlr_pipeline\u001b[0m\u001b[0;34m.\u001b[0m\u001b[0mscore\u001b[0m\u001b[0;34m(\u001b[0m\u001b[0mX_test\u001b[0m\u001b[0;34m,\u001b[0m \u001b[0my_test_reg\u001b[0m\u001b[0;34m)\u001b[0m\u001b[0;34m\u001b[0m\u001b[0;34m\u001b[0m\u001b[0m\n\u001b[0m",
      "\u001b[0;32m/opt/anaconda3/lib/python3.8/site-packages/sklearn/utils/metaestimators.py\u001b[0m in \u001b[0;36m<lambda>\u001b[0;34m(*args, **kwargs)\u001b[0m\n\u001b[1;32m    118\u001b[0m \u001b[0;34m\u001b[0m\u001b[0m\n\u001b[1;32m    119\u001b[0m         \u001b[0;31m# lambda, but not partial, allows help() to work with update_wrapper\u001b[0m\u001b[0;34m\u001b[0m\u001b[0;34m\u001b[0m\u001b[0;34m\u001b[0m\u001b[0m\n\u001b[0;32m--> 120\u001b[0;31m         \u001b[0mout\u001b[0m \u001b[0;34m=\u001b[0m \u001b[0;32mlambda\u001b[0m \u001b[0;34m*\u001b[0m\u001b[0margs\u001b[0m\u001b[0;34m,\u001b[0m \u001b[0;34m**\u001b[0m\u001b[0mkwargs\u001b[0m\u001b[0;34m:\u001b[0m \u001b[0mself\u001b[0m\u001b[0;34m.\u001b[0m\u001b[0mfn\u001b[0m\u001b[0;34m(\u001b[0m\u001b[0mobj\u001b[0m\u001b[0;34m,\u001b[0m \u001b[0;34m*\u001b[0m\u001b[0margs\u001b[0m\u001b[0;34m,\u001b[0m \u001b[0;34m**\u001b[0m\u001b[0mkwargs\u001b[0m\u001b[0;34m)\u001b[0m\u001b[0;34m\u001b[0m\u001b[0;34m\u001b[0m\u001b[0m\n\u001b[0m\u001b[1;32m    121\u001b[0m         \u001b[0;31m# update the docstring of the returned function\u001b[0m\u001b[0;34m\u001b[0m\u001b[0;34m\u001b[0m\u001b[0;34m\u001b[0m\u001b[0m\n\u001b[1;32m    122\u001b[0m         \u001b[0mupdate_wrapper\u001b[0m\u001b[0;34m(\u001b[0m\u001b[0mout\u001b[0m\u001b[0;34m,\u001b[0m \u001b[0mself\u001b[0m\u001b[0;34m.\u001b[0m\u001b[0mfn\u001b[0m\u001b[0;34m)\u001b[0m\u001b[0;34m\u001b[0m\u001b[0;34m\u001b[0m\u001b[0m\n",
      "\u001b[0;32m/opt/anaconda3/lib/python3.8/site-packages/sklearn/pipeline.py\u001b[0m in \u001b[0;36mscore\u001b[0;34m(self, X, y, sample_weight)\u001b[0m\n\u001b[1;32m    616\u001b[0m         \u001b[0mXt\u001b[0m \u001b[0;34m=\u001b[0m \u001b[0mX\u001b[0m\u001b[0;34m\u001b[0m\u001b[0;34m\u001b[0m\u001b[0m\n\u001b[1;32m    617\u001b[0m         \u001b[0;32mfor\u001b[0m \u001b[0m_\u001b[0m\u001b[0;34m,\u001b[0m \u001b[0mname\u001b[0m\u001b[0;34m,\u001b[0m \u001b[0mtransform\u001b[0m \u001b[0;32min\u001b[0m \u001b[0mself\u001b[0m\u001b[0;34m.\u001b[0m\u001b[0m_iter\u001b[0m\u001b[0;34m(\u001b[0m\u001b[0mwith_final\u001b[0m\u001b[0;34m=\u001b[0m\u001b[0;32mFalse\u001b[0m\u001b[0;34m)\u001b[0m\u001b[0;34m:\u001b[0m\u001b[0;34m\u001b[0m\u001b[0;34m\u001b[0m\u001b[0m\n\u001b[0;32m--> 618\u001b[0;31m             \u001b[0mXt\u001b[0m \u001b[0;34m=\u001b[0m \u001b[0mtransform\u001b[0m\u001b[0;34m.\u001b[0m\u001b[0mtransform\u001b[0m\u001b[0;34m(\u001b[0m\u001b[0mXt\u001b[0m\u001b[0;34m)\u001b[0m\u001b[0;34m\u001b[0m\u001b[0;34m\u001b[0m\u001b[0m\n\u001b[0m\u001b[1;32m    619\u001b[0m         \u001b[0mscore_params\u001b[0m \u001b[0;34m=\u001b[0m \u001b[0;34m{\u001b[0m\u001b[0;34m}\u001b[0m\u001b[0;34m\u001b[0m\u001b[0;34m\u001b[0m\u001b[0m\n\u001b[1;32m    620\u001b[0m         \u001b[0;32mif\u001b[0m \u001b[0msample_weight\u001b[0m \u001b[0;32mis\u001b[0m \u001b[0;32mnot\u001b[0m \u001b[0;32mNone\u001b[0m\u001b[0;34m:\u001b[0m\u001b[0;34m\u001b[0m\u001b[0;34m\u001b[0m\u001b[0m\n",
      "\u001b[0;32m/opt/anaconda3/lib/python3.8/site-packages/sklearn/decomposition/_base.py\u001b[0m in \u001b[0;36mtransform\u001b[0;34m(self, X)\u001b[0m\n\u001b[1;32m    124\u001b[0m         \u001b[0mcheck_is_fitted\u001b[0m\u001b[0;34m(\u001b[0m\u001b[0mself\u001b[0m\u001b[0;34m)\u001b[0m\u001b[0;34m\u001b[0m\u001b[0;34m\u001b[0m\u001b[0m\n\u001b[1;32m    125\u001b[0m \u001b[0;34m\u001b[0m\u001b[0m\n\u001b[0;32m--> 126\u001b[0;31m         \u001b[0mX\u001b[0m \u001b[0;34m=\u001b[0m \u001b[0mself\u001b[0m\u001b[0;34m.\u001b[0m\u001b[0m_validate_data\u001b[0m\u001b[0;34m(\u001b[0m\u001b[0mX\u001b[0m\u001b[0;34m,\u001b[0m \u001b[0mdtype\u001b[0m\u001b[0;34m=\u001b[0m\u001b[0;34m[\u001b[0m\u001b[0mnp\u001b[0m\u001b[0;34m.\u001b[0m\u001b[0mfloat64\u001b[0m\u001b[0;34m,\u001b[0m \u001b[0mnp\u001b[0m\u001b[0;34m.\u001b[0m\u001b[0mfloat32\u001b[0m\u001b[0;34m]\u001b[0m\u001b[0;34m,\u001b[0m \u001b[0mreset\u001b[0m\u001b[0;34m=\u001b[0m\u001b[0;32mFalse\u001b[0m\u001b[0;34m)\u001b[0m\u001b[0;34m\u001b[0m\u001b[0;34m\u001b[0m\u001b[0m\n\u001b[0m\u001b[1;32m    127\u001b[0m         \u001b[0;32mif\u001b[0m \u001b[0mself\u001b[0m\u001b[0;34m.\u001b[0m\u001b[0mmean_\u001b[0m \u001b[0;32mis\u001b[0m \u001b[0;32mnot\u001b[0m \u001b[0;32mNone\u001b[0m\u001b[0;34m:\u001b[0m\u001b[0;34m\u001b[0m\u001b[0;34m\u001b[0m\u001b[0m\n\u001b[1;32m    128\u001b[0m             \u001b[0mX\u001b[0m \u001b[0;34m=\u001b[0m \u001b[0mX\u001b[0m \u001b[0;34m-\u001b[0m \u001b[0mself\u001b[0m\u001b[0;34m.\u001b[0m\u001b[0mmean_\u001b[0m\u001b[0;34m\u001b[0m\u001b[0;34m\u001b[0m\u001b[0m\n",
      "\u001b[0;32m/opt/anaconda3/lib/python3.8/site-packages/sklearn/base.py\u001b[0m in \u001b[0;36m_validate_data\u001b[0;34m(self, X, y, reset, validate_separately, **check_params)\u001b[0m\n\u001b[1;32m    435\u001b[0m \u001b[0;34m\u001b[0m\u001b[0m\n\u001b[1;32m    436\u001b[0m         \u001b[0;32mif\u001b[0m \u001b[0mcheck_params\u001b[0m\u001b[0;34m.\u001b[0m\u001b[0mget\u001b[0m\u001b[0;34m(\u001b[0m\u001b[0;34m'ensure_2d'\u001b[0m\u001b[0;34m,\u001b[0m \u001b[0;32mTrue\u001b[0m\u001b[0;34m)\u001b[0m\u001b[0;34m:\u001b[0m\u001b[0;34m\u001b[0m\u001b[0;34m\u001b[0m\u001b[0m\n\u001b[0;32m--> 437\u001b[0;31m             \u001b[0mself\u001b[0m\u001b[0;34m.\u001b[0m\u001b[0m_check_n_features\u001b[0m\u001b[0;34m(\u001b[0m\u001b[0mX\u001b[0m\u001b[0;34m,\u001b[0m \u001b[0mreset\u001b[0m\u001b[0;34m=\u001b[0m\u001b[0mreset\u001b[0m\u001b[0;34m)\u001b[0m\u001b[0;34m\u001b[0m\u001b[0;34m\u001b[0m\u001b[0m\n\u001b[0m\u001b[1;32m    438\u001b[0m \u001b[0;34m\u001b[0m\u001b[0m\n\u001b[1;32m    439\u001b[0m         \u001b[0;32mreturn\u001b[0m \u001b[0mout\u001b[0m\u001b[0;34m\u001b[0m\u001b[0;34m\u001b[0m\u001b[0m\n",
      "\u001b[0;32m/opt/anaconda3/lib/python3.8/site-packages/sklearn/base.py\u001b[0m in \u001b[0;36m_check_n_features\u001b[0;34m(self, X, reset)\u001b[0m\n\u001b[1;32m    363\u001b[0m \u001b[0;34m\u001b[0m\u001b[0m\n\u001b[1;32m    364\u001b[0m         \u001b[0;32mif\u001b[0m \u001b[0mn_features\u001b[0m \u001b[0;34m!=\u001b[0m \u001b[0mself\u001b[0m\u001b[0;34m.\u001b[0m\u001b[0mn_features_in_\u001b[0m\u001b[0;34m:\u001b[0m\u001b[0;34m\u001b[0m\u001b[0;34m\u001b[0m\u001b[0m\n\u001b[0;32m--> 365\u001b[0;31m             raise ValueError(\n\u001b[0m\u001b[1;32m    366\u001b[0m                 \u001b[0;34mf\"X has {n_features} features, but {self.__class__.__name__} \"\u001b[0m\u001b[0;34m\u001b[0m\u001b[0;34m\u001b[0m\u001b[0m\n\u001b[1;32m    367\u001b[0m                 f\"is expecting {self.n_features_in_} features as input.\")\n",
      "\u001b[0;31mValueError\u001b[0m: X has 34 features, but PCA is expecting 12 features as input."
     ]
    }
   ],
   "source": [
    "lr_pipeline.score(X_test, y_test_reg)"
   ]
  },
  {
   "cell_type": "code",
   "execution_count": null,
   "metadata": {},
   "outputs": [],
   "source": []
  },
  {
   "cell_type": "code",
   "execution_count": 48,
   "metadata": {},
   "outputs": [],
   "source": [
    "## Total number of Principal components to explain a variation of 80%"
   ]
  },
  {
   "cell_type": "code",
   "execution_count": 49,
   "metadata": {},
   "outputs": [
    {
     "data": {
      "text/plain": [
       "16"
      ]
     },
     "execution_count": 49,
     "metadata": {},
     "output_type": "execute_result"
    }
   ],
   "source": [
    "lr_pipeline.named_steps['pca'].n_components_"
   ]
  },
  {
   "cell_type": "code",
   "execution_count": 50,
   "metadata": {},
   "outputs": [],
   "source": [
    "np_PCA = lr_pipeline.named_steps['pca'].components_"
   ]
  },
  {
   "cell_type": "code",
   "execution_count": 51,
   "metadata": {},
   "outputs": [
    {
     "data": {
      "text/plain": [
       "array([[ 1.99653187e-01,  1.49248724e-01,  3.27223355e-01,\n",
       "         3.34335967e-01,  3.01587808e-01,  3.12847667e-01,\n",
       "         3.06364603e-01,  2.91051203e-01,  3.07603284e-01,\n",
       "         2.56509829e-01,  1.68251715e-01,  1.13583310e-01,\n",
       "         1.74209154e-01, -1.14197030e-01,  1.95006536e-01,\n",
       "        -2.03529945e-02, -2.10663394e-02, -1.28885667e-02,\n",
       "        -2.20358607e-02, -6.51129374e-03, -8.96467935e-02,\n",
       "        -7.45805185e-03, -5.45070150e-03,  1.26397281e-01,\n",
       "         4.60346514e-02, -4.80079022e-03, -4.50567195e-03,\n",
       "        -5.46451123e-03, -5.72025179e-03, -1.39908427e-01,\n",
       "         1.40424072e-01, -5.40048615e-03,  3.21909930e-04,\n",
       "         3.69681316e-02],\n",
       "       [ 9.09755325e-02,  6.73130457e-02,  1.26653405e-01,\n",
       "         1.14834724e-01,  7.85355282e-02,  8.48097320e-02,\n",
       "         8.28803963e-02,  5.45880571e-02,  3.97950825e-03,\n",
       "        -9.89833160e-03, -3.39499059e-03,  3.11475336e-02,\n",
       "         2.99659910e-02, -3.30574201e-02,  1.21708112e-01,\n",
       "        -9.40903152e-03, -1.12290858e-02, -2.47833802e-03,\n",
       "        -5.66588059e-03, -1.86128463e-02,  4.44566535e-01,\n",
       "        -3.13548045e-02, -1.42729044e-03, -4.80093775e-01,\n",
       "         2.41093691e-02, -7.78538579e-02, -9.03354203e-03,\n",
       "        -1.87311912e-03, -1.90673086e-02,  4.90057744e-01,\n",
       "        -4.86958540e-01, -2.16021657e-02, -4.19192499e-02,\n",
       "         2.32700009e-02],\n",
       "       [ 1.50842464e-01,  2.38094962e-01, -1.24976010e-01,\n",
       "        -8.96625725e-02,  3.95638900e-03, -1.98127790e-01,\n",
       "        -1.89723744e-01, -8.86274038e-02, -1.02722478e-01,\n",
       "        -1.41485424e-01,  5.08573211e-01,  3.65339595e-01,\n",
       "         4.70512582e-01, -3.35285559e-01, -1.24893189e-01,\n",
       "         2.63603709e-02,  2.64111468e-02,  2.07147638e-02,\n",
       "         6.44242390e-02,  5.53495278e-02, -5.62480969e-02,\n",
       "         3.66200898e-02,  1.02711002e-02, -2.07193500e-02,\n",
       "         8.52405424e-02,  2.77327093e-02,  8.18869531e-03,\n",
       "         5.32902588e-03,  2.49969985e-02,  1.70189333e-02,\n",
       "        -5.44363093e-02,  5.68297891e-02,  8.56876004e-02,\n",
       "         7.09694430e-02],\n",
       "       [-4.99767081e-02, -5.69916118e-02, -1.45622033e-02,\n",
       "         5.24411686e-02,  1.24848556e-01, -2.62963265e-02,\n",
       "         7.84892334e-03,  5.25094282e-02, -2.89526485e-02,\n",
       "        -6.49748220e-02, -1.41517057e-01, -1.53045923e-02,\n",
       "        -9.97683522e-02,  4.82420870e-03, -2.54561824e-02,\n",
       "         3.34458855e-03,  4.65945790e-02, -7.12799076e-05,\n",
       "         1.29340913e-02,  1.54186483e-02, -5.39746132e-02,\n",
       "         3.26949011e-01,  2.52039605e-03, -3.41171239e-02,\n",
       "         5.65314936e-01, -5.09751549e-03,  1.54833317e-03,\n",
       "         3.80245942e-04,  2.13756353e-01, -2.50118797e-02,\n",
       "        -4.29715416e-02,  5.07165983e-01,  9.00488054e-03,\n",
       "         4.44533432e-01],\n",
       "       [ 6.18025174e-02,  6.15850265e-02,  4.70374676e-02,\n",
       "        -2.83385784e-02, -1.09470739e-01,  4.92665981e-02,\n",
       "         5.51820192e-03, -4.54439304e-02,  4.08773609e-02,\n",
       "         7.71317767e-02,  6.11945215e-02, -2.91269750e-02,\n",
       "         3.38117537e-02,  3.79387905e-02,  5.79522450e-02,\n",
       "        -8.65116623e-03,  1.49648113e-02, -3.25555822e-03,\n",
       "        -1.26000160e-02, -1.86356480e-02,  2.91869003e-02,\n",
       "         5.72675855e-01, -7.27193789e-03, -2.64865435e-02,\n",
       "        -3.87527037e-01, -1.06991551e-02, -3.43620522e-03,\n",
       "        -2.48485307e-03,  4.76181277e-01,  1.83456904e-02,\n",
       "        -9.28183442e-03,  2.99544739e-01, -1.24758416e-02,\n",
       "        -3.96191849e-01],\n",
       "       [-2.73092309e-01, -3.35809727e-01, -4.71247943e-02,\n",
       "        -4.72221921e-02, -1.30032897e-03,  6.39055700e-03,\n",
       "         2.87634543e-03,  9.15505585e-03,  5.87410040e-02,\n",
       "         8.33792346e-02,  2.27360464e-01,  5.70433581e-02,\n",
       "         1.60245598e-01, -7.31654502e-02, -4.62308158e-02,\n",
       "        -3.11813065e-02, -5.92379526e-02, -1.88728822e-02,\n",
       "        -3.89982558e-01, -4.15792772e-01,  2.73167033e-01,\n",
       "         1.96300651e-02, -2.60037088e-02,  7.11711349e-02,\n",
       "         4.40322129e-02,  1.80697141e-02, -1.17198806e-02,\n",
       "         5.72353612e-03,  9.47293359e-03,  1.50337475e-02,\n",
       "         1.45740616e-01,  3.34535373e-02, -5.21962064e-01,\n",
       "         3.79325618e-02],\n",
       "       [ 3.48315442e-01,  6.80850464e-01, -7.95810532e-02,\n",
       "         3.33649203e-02,  3.74051357e-02, -9.17321234e-02,\n",
       "        -4.92940736e-03,  2.13197926e-02, -1.07387416e-01,\n",
       "        -1.32715912e-01, -2.11661516e-01, -1.00588380e-01,\n",
       "        -1.37853190e-01,  3.38845313e-02, -1.56607908e-01,\n",
       "        -6.25612203e-03, -4.86829247e-02, -1.73393554e-02,\n",
       "        -1.41381389e-01, -3.40683102e-01,  1.15024494e-01,\n",
       "        -4.82349072e-03,  5.91533080e-02,  8.68337730e-02,\n",
       "         1.63685182e-02,  1.36421702e-02, -2.23854958e-03,\n",
       "         1.23977174e-02, -2.09793453e-03, -2.62460848e-02,\n",
       "         1.20015716e-01, -1.31557152e-02, -2.98795892e-01,\n",
       "         2.04825881e-02],\n",
       "       [-2.80616636e-02, -5.29281697e-02,  9.78186844e-03,\n",
       "         1.83399103e-03,  2.81992648e-03,  8.88896578e-03,\n",
       "         2.87877348e-03,  4.41740910e-03,  9.10103609e-03,\n",
       "         6.56192718e-03,  1.44813272e-02,  3.19557271e-03,\n",
       "         9.76351039e-03, -8.53207669e-04,  1.35297118e-02,\n",
       "         1.60313497e-03,  9.74926128e-03,  2.63086694e-03,\n",
       "        -8.76430024e-04,  2.13485489e-03, -2.23893193e-02,\n",
       "         4.36204361e-03,  9.97221866e-01, -2.45612530e-03,\n",
       "        -6.41232942e-03, -3.29289563e-03,  2.19436188e-04,\n",
       "        -2.41546903e-03,  4.98194793e-03,  1.32385503e-02,\n",
       "        -1.01521877e-02, -2.15963914e-03, -9.01831102e-03,\n",
       "        -6.14655976e-03],\n",
       "       [ 4.42023293e-02,  4.97593512e-02,  3.77931678e-02,\n",
       "        -3.80042051e-02, -1.01717416e-01,  3.64761635e-02,\n",
       "        -1.85024860e-02, -6.81694864e-02,  4.57376024e-02,\n",
       "         7.85387168e-02,  4.64654262e-02, -3.30814815e-02,\n",
       "         1.80009815e-02,  4.76713503e-02,  5.78265303e-02,\n",
       "         1.03685275e-02,  2.18386238e-01,  1.40614330e-02,\n",
       "         5.06192521e-03, -4.18341254e-02, -3.25429991e-02,\n",
       "        -2.71606974e-01,  1.08243667e-03,  3.57062261e-04,\n",
       "        -8.42297849e-02, -4.21453817e-03,  3.54032320e-03,\n",
       "        -6.71824234e-03, -4.87455181e-01,  2.93964594e-02,\n",
       "        -7.37406773e-03,  7.31798310e-01, -3.83097998e-02,\n",
       "        -2.26440297e-01],\n",
       "       [ 3.97563947e-02,  5.42713752e-02,  1.08877400e-02,\n",
       "        -4.49998869e-02, -9.99142805e-02,  3.13939082e-02,\n",
       "        -3.58243650e-02, -1.10658877e-01,  4.33879433e-03,\n",
       "         3.92527589e-02, -3.31215288e-04,  3.63809026e-02,\n",
       "        -5.97811243e-03,  1.18139961e-02,  4.67001971e-02,\n",
       "        -2.85383574e-01, -7.06179013e-01, -1.93194257e-01,\n",
       "        -2.25987256e-01,  2.24649091e-01,  3.00618157e-01,\n",
       "        -2.54809362e-02,  2.44222616e-02, -1.98255040e-02,\n",
       "         3.63244914e-02,  6.63192041e-02, -1.25689873e-01,\n",
       "         4.43953283e-02, -8.71377212e-02, -1.69904015e-01,\n",
       "         1.00845722e-01,  1.62966847e-01,  2.36430285e-01,\n",
       "         3.92505132e-03],\n",
       "       [ 7.84444149e-02,  2.11596297e-02,  1.21822938e-01,\n",
       "        -6.88475473e-02, -1.60221369e-01,  6.90552641e-02,\n",
       "        -1.21884441e-01, -2.14254379e-01,  8.70598067e-02,\n",
       "         1.24372500e-01,  2.09470791e-03,  1.69278361e-03,\n",
       "         1.43424661e-03,  3.85298881e-02,  2.16255125e-01,\n",
       "         6.84117914e-01, -3.54422403e-01,  2.24852700e-01,\n",
       "         6.17575729e-02, -1.07704400e-01, -2.32889576e-02,\n",
       "        -6.54469451e-04,  1.36195934e-03, -1.97700958e-02,\n",
       "         7.41471361e-02,  1.39561790e-01,  3.45739223e-01,\n",
       "        -8.60978010e-03, -5.30356249e-03, -7.78707356e-03,\n",
       "        -6.89363252e-03,  4.79412877e-03, -3.36862967e-02,\n",
       "         6.99247504e-02],\n",
       "       [-6.97402701e-02, -1.44480896e-02, -1.12422157e-01,\n",
       "         5.29381534e-02,  1.33493175e-01, -6.53623809e-02,\n",
       "         9.32257266e-02,  1.79838239e-01, -3.99484895e-02,\n",
       "        -5.89904423e-02, -3.51154298e-03,  5.81636746e-03,\n",
       "        -4.89523237e-03, -2.95033764e-02, -2.11317015e-01,\n",
       "         4.33435623e-01, -4.89098294e-02, -5.65277259e-01,\n",
       "        -1.41499945e-01,  1.49617993e-01,  4.35126165e-02,\n",
       "        -4.78164819e-03,  1.20821916e-03,  6.19454551e-02,\n",
       "        -6.45320597e-02, -4.91488329e-01,  2.21830325e-01,\n",
       "         1.21722424e-02, -2.78982734e-02, -9.36900085e-03,\n",
       "        -1.22739570e-02,  6.05691586e-02,  4.45830039e-02,\n",
       "        -7.72977601e-02],\n",
       "       [-5.48897138e-03,  2.46410490e-03, -1.54006058e-02,\n",
       "        -1.43671804e-02, -1.73826855e-02,  3.59828610e-03,\n",
       "        -3.87578970e-03, -1.09393148e-02,  3.62434208e-03,\n",
       "         3.44166673e-03, -1.00433664e-02,  2.26446188e-02,\n",
       "         9.74533463e-03, -1.22504049e-02, -1.69024844e-02,\n",
       "        -1.07818959e-01, -1.87073788e-01,  5.84037794e-01,\n",
       "         2.99142377e-02, -1.46283330e-02,  4.88420605e-04,\n",
       "        -2.68904285e-03, -1.38523044e-03,  1.38984980e-01,\n",
       "         5.63149527e-03, -7.64981572e-01, -5.64047648e-02,\n",
       "         1.44937355e-03, -1.47029110e-02,  1.31112828e-02,\n",
       "        -1.00719016e-02,  2.89180765e-02, -1.57111587e-03,\n",
       "        -1.98472475e-03],\n",
       "       [-7.72140765e-02,  4.59391362e-02, -1.13923645e-01,\n",
       "         7.96912108e-02,  1.82806109e-01, -6.95903531e-02,\n",
       "         9.80689868e-02,  2.22124024e-01, -5.50646826e-02,\n",
       "        -6.89253281e-02, -1.41487526e-02, -5.32630231e-03,\n",
       "        -3.36982168e-02,  1.48400131e-02, -2.19484447e-01,\n",
       "         1.73143549e-01,  6.88958620e-02,  4.69589162e-01,\n",
       "        -5.35214471e-01,  4.13127221e-01,  4.57691430e-02,\n",
       "        -1.51000776e-03,  2.60816939e-03, -6.97462098e-02,\n",
       "        -7.73529362e-02,  2.67332000e-01,  9.20214682e-02,\n",
       "         1.23813466e-02, -1.88839231e-02, -1.62512635e-02,\n",
       "         2.40357199e-03,  4.51129534e-02,  4.72542127e-02,\n",
       "        -8.68221426e-02],\n",
       "       [ 9.66888577e-02,  1.43233520e-01,  1.48814527e-01,\n",
       "        -1.04772510e-01, -2.54907718e-01,  1.07030263e-01,\n",
       "        -1.58392448e-01, -3.32088821e-01,  7.99828748e-02,\n",
       "         1.08361322e-01, -6.52600472e-03,  5.81388987e-02,\n",
       "        -3.32282953e-03,  7.52401084e-02,  3.04277433e-01,\n",
       "        -2.22354875e-02,  4.18051959e-01, -1.21773519e-01,\n",
       "        -4.93833067e-01,  2.44435508e-01,  3.72587063e-02,\n",
       "         6.30588302e-03,  2.80351652e-03,  3.10935763e-02,\n",
       "         1.13412187e-01, -2.11895994e-01, -8.14142812e-03,\n",
       "         2.49916746e-02,  6.56983709e-02, -4.56230537e-02,\n",
       "         3.26896493e-02, -1.42041445e-01,  9.86195710e-03,\n",
       "         1.51931517e-01],\n",
       "       [ 2.20553153e-03, -2.36701421e-02,  1.25785251e-02,\n",
       "         8.77092583e-03,  1.18862716e-02,  2.42385886e-03,\n",
       "         1.74112742e-03,  1.01324441e-02, -8.09174105e-03,\n",
       "        -2.13249133e-02, -8.13774417e-03,  1.28673130e-03,\n",
       "         2.04321958e-03, -9.70972325e-03,  1.58475522e-02,\n",
       "         1.42503800e-02,  2.85571852e-02,  1.77219862e-02,\n",
       "         3.16717748e-02, -3.32434648e-02, -4.43082046e-03,\n",
       "        -7.14496899e-04,  8.43845366e-04, -1.27593827e-02,\n",
       "        -9.09828471e-03,  3.84913641e-03,  1.02661621e-02,\n",
       "         9.96621693e-01, -4.90593483e-04, -2.59669097e-02,\n",
       "        -1.21087040e-02,  9.11435732e-04,  4.46842724e-03,\n",
       "        -9.21314632e-03]])"
      ]
     },
     "execution_count": 51,
     "metadata": {},
     "output_type": "execute_result"
    }
   ],
   "source": [
    "np_PCA"
   ]
  },
  {
   "cell_type": "code",
   "execution_count": 52,
   "metadata": {},
   "outputs": [],
   "source": [
    "## convert the "
   ]
  },
  {
   "cell_type": "code",
   "execution_count": 53,
   "metadata": {},
   "outputs": [],
   "source": [
    "df_PCA = pd.DataFrame(np_PCA)"
   ]
  },
  {
   "cell_type": "code",
   "execution_count": 54,
   "metadata": {},
   "outputs": [
    {
     "data": {
      "text/html": [
       "<div>\n",
       "<style scoped>\n",
       "    .dataframe tbody tr th:only-of-type {\n",
       "        vertical-align: middle;\n",
       "    }\n",
       "\n",
       "    .dataframe tbody tr th {\n",
       "        vertical-align: top;\n",
       "    }\n",
       "\n",
       "    .dataframe thead th {\n",
       "        text-align: right;\n",
       "    }\n",
       "</style>\n",
       "<table border=\"1\" class=\"dataframe\">\n",
       "  <thead>\n",
       "    <tr style=\"text-align: right;\">\n",
       "      <th></th>\n",
       "      <th>0</th>\n",
       "      <th>1</th>\n",
       "      <th>2</th>\n",
       "      <th>3</th>\n",
       "      <th>4</th>\n",
       "      <th>5</th>\n",
       "      <th>6</th>\n",
       "      <th>7</th>\n",
       "      <th>8</th>\n",
       "      <th>9</th>\n",
       "      <th>...</th>\n",
       "      <th>24</th>\n",
       "      <th>25</th>\n",
       "      <th>26</th>\n",
       "      <th>27</th>\n",
       "      <th>28</th>\n",
       "      <th>29</th>\n",
       "      <th>30</th>\n",
       "      <th>31</th>\n",
       "      <th>32</th>\n",
       "      <th>33</th>\n",
       "    </tr>\n",
       "  </thead>\n",
       "  <tbody>\n",
       "    <tr>\n",
       "      <th>0</th>\n",
       "      <td>0.200</td>\n",
       "      <td>0.149</td>\n",
       "      <td>0.327</td>\n",
       "      <td>0.334</td>\n",
       "      <td>0.302</td>\n",
       "      <td>0.313</td>\n",
       "      <td>0.306</td>\n",
       "      <td>0.291</td>\n",
       "      <td>0.308</td>\n",
       "      <td>0.257</td>\n",
       "      <td>...</td>\n",
       "      <td>0.046</td>\n",
       "      <td>-0.005</td>\n",
       "      <td>-0.005</td>\n",
       "      <td>-0.005</td>\n",
       "      <td>-0.006</td>\n",
       "      <td>-0.140</td>\n",
       "      <td>0.140</td>\n",
       "      <td>-0.005</td>\n",
       "      <td>0.000</td>\n",
       "      <td>0.037</td>\n",
       "    </tr>\n",
       "    <tr>\n",
       "      <th>1</th>\n",
       "      <td>0.091</td>\n",
       "      <td>0.067</td>\n",
       "      <td>0.127</td>\n",
       "      <td>0.115</td>\n",
       "      <td>0.079</td>\n",
       "      <td>0.085</td>\n",
       "      <td>0.083</td>\n",
       "      <td>0.055</td>\n",
       "      <td>0.004</td>\n",
       "      <td>-0.010</td>\n",
       "      <td>...</td>\n",
       "      <td>0.024</td>\n",
       "      <td>-0.078</td>\n",
       "      <td>-0.009</td>\n",
       "      <td>-0.002</td>\n",
       "      <td>-0.019</td>\n",
       "      <td>0.490</td>\n",
       "      <td>-0.487</td>\n",
       "      <td>-0.022</td>\n",
       "      <td>-0.042</td>\n",
       "      <td>0.023</td>\n",
       "    </tr>\n",
       "    <tr>\n",
       "      <th>2</th>\n",
       "      <td>0.151</td>\n",
       "      <td>0.238</td>\n",
       "      <td>-0.125</td>\n",
       "      <td>-0.090</td>\n",
       "      <td>0.004</td>\n",
       "      <td>-0.198</td>\n",
       "      <td>-0.190</td>\n",
       "      <td>-0.089</td>\n",
       "      <td>-0.103</td>\n",
       "      <td>-0.141</td>\n",
       "      <td>...</td>\n",
       "      <td>0.085</td>\n",
       "      <td>0.028</td>\n",
       "      <td>0.008</td>\n",
       "      <td>0.005</td>\n",
       "      <td>0.025</td>\n",
       "      <td>0.017</td>\n",
       "      <td>-0.054</td>\n",
       "      <td>0.057</td>\n",
       "      <td>0.086</td>\n",
       "      <td>0.071</td>\n",
       "    </tr>\n",
       "    <tr>\n",
       "      <th>3</th>\n",
       "      <td>-0.050</td>\n",
       "      <td>-0.057</td>\n",
       "      <td>-0.015</td>\n",
       "      <td>0.052</td>\n",
       "      <td>0.125</td>\n",
       "      <td>-0.026</td>\n",
       "      <td>0.008</td>\n",
       "      <td>0.053</td>\n",
       "      <td>-0.029</td>\n",
       "      <td>-0.065</td>\n",
       "      <td>...</td>\n",
       "      <td>0.565</td>\n",
       "      <td>-0.005</td>\n",
       "      <td>0.002</td>\n",
       "      <td>0.000</td>\n",
       "      <td>0.214</td>\n",
       "      <td>-0.025</td>\n",
       "      <td>-0.043</td>\n",
       "      <td>0.507</td>\n",
       "      <td>0.009</td>\n",
       "      <td>0.445</td>\n",
       "    </tr>\n",
       "    <tr>\n",
       "      <th>4</th>\n",
       "      <td>0.062</td>\n",
       "      <td>0.062</td>\n",
       "      <td>0.047</td>\n",
       "      <td>-0.028</td>\n",
       "      <td>-0.109</td>\n",
       "      <td>0.049</td>\n",
       "      <td>0.006</td>\n",
       "      <td>-0.045</td>\n",
       "      <td>0.041</td>\n",
       "      <td>0.077</td>\n",
       "      <td>...</td>\n",
       "      <td>-0.388</td>\n",
       "      <td>-0.011</td>\n",
       "      <td>-0.003</td>\n",
       "      <td>-0.002</td>\n",
       "      <td>0.476</td>\n",
       "      <td>0.018</td>\n",
       "      <td>-0.009</td>\n",
       "      <td>0.300</td>\n",
       "      <td>-0.012</td>\n",
       "      <td>-0.396</td>\n",
       "    </tr>\n",
       "  </tbody>\n",
       "</table>\n",
       "<p>5 rows × 34 columns</p>\n",
       "</div>"
      ],
      "text/plain": [
       "      0      1      2      3      4      5      6      7      8      9   ...  \\\n",
       "0  0.200  0.149  0.327  0.334  0.302  0.313  0.306  0.291  0.308  0.257  ...   \n",
       "1  0.091  0.067  0.127  0.115  0.079  0.085  0.083  0.055  0.004 -0.010  ...   \n",
       "2  0.151  0.238 -0.125 -0.090  0.004 -0.198 -0.190 -0.089 -0.103 -0.141  ...   \n",
       "3 -0.050 -0.057 -0.015  0.052  0.125 -0.026  0.008  0.053 -0.029 -0.065  ...   \n",
       "4  0.062  0.062  0.047 -0.028 -0.109  0.049  0.006 -0.045  0.041  0.077  ...   \n",
       "\n",
       "      24     25     26     27     28     29     30     31     32     33  \n",
       "0  0.046 -0.005 -0.005 -0.005 -0.006 -0.140  0.140 -0.005  0.000  0.037  \n",
       "1  0.024 -0.078 -0.009 -0.002 -0.019  0.490 -0.487 -0.022 -0.042  0.023  \n",
       "2  0.085  0.028  0.008  0.005  0.025  0.017 -0.054  0.057  0.086  0.071  \n",
       "3  0.565 -0.005  0.002  0.000  0.214 -0.025 -0.043  0.507  0.009  0.445  \n",
       "4 -0.388 -0.011 -0.003 -0.002  0.476  0.018 -0.009  0.300 -0.012 -0.396  \n",
       "\n",
       "[5 rows x 34 columns]"
      ]
     },
     "execution_count": 54,
     "metadata": {},
     "output_type": "execute_result"
    }
   ],
   "source": [
    "df_PCA.head()"
   ]
  },
  {
   "cell_type": "code",
   "execution_count": 55,
   "metadata": {},
   "outputs": [],
   "source": [
    "import scikitplot as skplt"
   ]
  },
  {
   "cell_type": "code",
   "execution_count": 56,
   "metadata": {},
   "outputs": [],
   "source": [
    "import matplotlib.pyplot as plt"
   ]
  },
  {
   "cell_type": "code",
   "execution_count": 57,
   "metadata": {},
   "outputs": [],
   "source": [
    "y_test_reg_preds = lr_pipeline.predict(X_test)"
   ]
  },
  {
   "cell_type": "code",
   "execution_count": 58,
   "metadata": {},
   "outputs": [
    {
     "data": {
      "text/plain": [
       "662185417.1772194"
      ]
     },
     "execution_count": 58,
     "metadata": {},
     "output_type": "execute_result"
    }
   ],
   "source": [
    "y_test_reg_preds.sum()"
   ]
  },
  {
   "cell_type": "code",
   "execution_count": 59,
   "metadata": {},
   "outputs": [],
   "source": [
    "#skplt.metrics.plot_lift_curve(y_test, y_test_reg_preds)"
   ]
  },
  {
   "cell_type": "code",
   "execution_count": 60,
   "metadata": {},
   "outputs": [
    {
     "data": {
      "text/plain": [
       "<matplotlib.collections.PathCollection at 0x7fc87b980b20>"
      ]
     },
     "execution_count": 60,
     "metadata": {},
     "output_type": "execute_result"
    },
    {
     "data": {
      "image/png": "[encoded data removed]",
      "text/plain": [
       "<Figure size 432x288 with 1 Axes>"
      ]
     },
     "metadata": {
      "needs_background": "light"
     },
     "output_type": "display_data"
    }
   ],
   "source": [
    "plt.scatter(y_test_reg,y_test_reg_preds)"
   ]
  },
  {
   "cell_type": "code",
   "execution_count": 61,
   "metadata": {},
   "outputs": [
    {
     "data": {
      "image/png": "[encoded data removed]",
      "text/plain": [
       "<Figure size 576x432 with 1 Axes>"
      ]
     },
     "metadata": {
      "needs_background": "light"
     },
     "output_type": "display_data"
    }
   ],
   "source": [
    "fig, axes = plt.subplots(figsize=(8, 6))\n",
    "\n",
    "axes.scatter(x=y_test_reg, y=y_test_reg_preds)\n",
    "\n",
    "axes.plot([0, 20000000], [0,20000000])\n",
    "axes.set_title(\"Actual vs Predicted - Regression\")\n",
    "axes.set_xlabel(\"Actual\")\n",
    "axes.set_ylabel(\"Predicted\");"
   ]
  },
  {
   "cell_type": "code",
   "execution_count": 62,
   "metadata": {},
   "outputs": [
    {
     "name": "stdout",
     "output_type": "stream",
     "text": [
      "zsh:1: no matches found: pandas-profiling[notebook]\n",
      "Enabling notebook extension jupyter-js-widgets/extension...\n",
      "      - Validating: \u001b[32mOK\u001b[0m\n"
     ]
    }
   ],
   "source": [
    "import sys\n",
    "!{sys.executable} -m pip install -U pandas-profiling[notebook]\n",
    "!jupyter nbextension enable --py widgetsnbextension"
   ]
  },
  {
   "cell_type": "markdown",
   "metadata": {},
   "source": [
    "## How does our model perform predictions and how far off is it on the Testing data set"
   ]
  },
  {
   "cell_type": "code",
   "execution_count": 63,
   "metadata": {},
   "outputs": [
    {
     "data": {
      "image/png": "[encoded data removed]",
      "text/plain": [
       "<Figure size 432x288 with 1 Axes>"
      ]
     },
     "metadata": {
      "needs_background": "light"
     },
     "output_type": "display_data"
    }
   ],
   "source": [
    "g=plt.plot(y_test_reg - y_test_reg_preds,marker='o',linestyle='')"
   ]
  },
  {
   "cell_type": "code",
   "execution_count": 64,
   "metadata": {},
   "outputs": [],
   "source": [
    "#skplt.metrics.plot_lift_curve(y_test_cl, y_test_cl_preds);"
   ]
  },
  {
   "cell_type": "markdown",
   "metadata": {},
   "source": [
    "## make function to output deciles"
   ]
  },
  {
   "cell_type": "code",
   "execution_count": 65,
   "metadata": {},
   "outputs": [],
   "source": [
    "def output_deciles(model, X, y):\n",
    "    results = pd.DataFrame(model.predict(X), index = X.index, columns = ['predictions'])\n",
    "    results['actual'] = y.values\n",
    "    results['deciles'] = pd.qcut(results['predictions'],10, labels= False)\n",
    "    #results['contact_id'] = results.index.map(adviser_lookup)\n",
    "    return results"
   ]
  },
  {
   "cell_type": "code",
   "execution_count": 66,
   "metadata": {
    "scrolled": true
   },
   "outputs": [
    {
     "ename": "ValueError",
     "evalue": "Bin edges must be unique: array([-2.59621087e+05, -2.48920262e+04, -1.37222426e+04, -1.37222426e+04,\n        1.64614546e+04,  4.13192589e+04,  7.95254066e+04,  1.38100988e+05,\n        2.36232543e+05,  5.08750084e+05,  1.37275200e+07]).\nYou can drop duplicate edges by setting the 'duplicates' kwarg",
     "output_type": "error",
     "traceback": [
      "\u001b[0;31m---------------------------------------------------------------------------\u001b[0m",
      "\u001b[0;31mValueError\u001b[0m                                Traceback (most recent call last)",
      "\u001b[0;32m<ipython-input-66-0bc9e10450eb>\u001b[0m in \u001b[0;36m<module>\u001b[0;34m\u001b[0m\n\u001b[0;32m----> 1\u001b[0;31m \u001b[0mregression_deciles\u001b[0m \u001b[0;34m=\u001b[0m \u001b[0moutput_deciles\u001b[0m\u001b[0;34m(\u001b[0m\u001b[0mlr_pipeline\u001b[0m\u001b[0;34m,\u001b[0m\u001b[0mX_test\u001b[0m\u001b[0;34m,\u001b[0m\u001b[0my_test_reg\u001b[0m \u001b[0;34m)\u001b[0m\u001b[0;34m\u001b[0m\u001b[0;34m\u001b[0m\u001b[0m\n\u001b[0m",
      "\u001b[0;32m<ipython-input-65-5e3d563ce5cc>\u001b[0m in \u001b[0;36moutput_deciles\u001b[0;34m(model, X, y)\u001b[0m\n\u001b[1;32m      2\u001b[0m     \u001b[0mresults\u001b[0m \u001b[0;34m=\u001b[0m \u001b[0mpd\u001b[0m\u001b[0;34m.\u001b[0m\u001b[0mDataFrame\u001b[0m\u001b[0;34m(\u001b[0m\u001b[0mmodel\u001b[0m\u001b[0;34m.\u001b[0m\u001b[0mpredict\u001b[0m\u001b[0;34m(\u001b[0m\u001b[0mX\u001b[0m\u001b[0;34m)\u001b[0m\u001b[0;34m,\u001b[0m \u001b[0mindex\u001b[0m \u001b[0;34m=\u001b[0m \u001b[0mX\u001b[0m\u001b[0;34m.\u001b[0m\u001b[0mindex\u001b[0m\u001b[0;34m,\u001b[0m \u001b[0mcolumns\u001b[0m \u001b[0;34m=\u001b[0m \u001b[0;34m[\u001b[0m\u001b[0;34m'predictions'\u001b[0m\u001b[0;34m]\u001b[0m\u001b[0;34m)\u001b[0m\u001b[0;34m\u001b[0m\u001b[0;34m\u001b[0m\u001b[0m\n\u001b[1;32m      3\u001b[0m     \u001b[0mresults\u001b[0m\u001b[0;34m[\u001b[0m\u001b[0;34m'actual'\u001b[0m\u001b[0;34m]\u001b[0m \u001b[0;34m=\u001b[0m \u001b[0my\u001b[0m\u001b[0;34m.\u001b[0m\u001b[0mvalues\u001b[0m\u001b[0;34m\u001b[0m\u001b[0;34m\u001b[0m\u001b[0m\n\u001b[0;32m----> 4\u001b[0;31m     \u001b[0mresults\u001b[0m\u001b[0;34m[\u001b[0m\u001b[0;34m'deciles'\u001b[0m\u001b[0;34m]\u001b[0m \u001b[0;34m=\u001b[0m \u001b[0mpd\u001b[0m\u001b[0;34m.\u001b[0m\u001b[0mqcut\u001b[0m\u001b[0;34m(\u001b[0m\u001b[0mresults\u001b[0m\u001b[0;34m[\u001b[0m\u001b[0;34m'predictions'\u001b[0m\u001b[0;34m]\u001b[0m\u001b[0;34m,\u001b[0m\u001b[0;36m10\u001b[0m\u001b[0;34m,\u001b[0m \u001b[0mlabels\u001b[0m\u001b[0;34m=\u001b[0m \u001b[0;32mFalse\u001b[0m\u001b[0;34m)\u001b[0m\u001b[0;34m\u001b[0m\u001b[0;34m\u001b[0m\u001b[0m\n\u001b[0m\u001b[1;32m      5\u001b[0m     \u001b[0;31m#results['contact_id'] = results.index.map(adviser_lookup)\u001b[0m\u001b[0;34m\u001b[0m\u001b[0;34m\u001b[0m\u001b[0;34m\u001b[0m\u001b[0m\n\u001b[1;32m      6\u001b[0m     \u001b[0;32mreturn\u001b[0m \u001b[0mresults\u001b[0m\u001b[0;34m\u001b[0m\u001b[0;34m\u001b[0m\u001b[0m\n",
      "\u001b[0;32m/opt/anaconda3/lib/python3.8/site-packages/pandas/core/reshape/tile.py\u001b[0m in \u001b[0;36mqcut\u001b[0;34m(x, q, labels, retbins, precision, duplicates)\u001b[0m\n\u001b[1;32m    358\u001b[0m         \u001b[0mquantiles\u001b[0m \u001b[0;34m=\u001b[0m \u001b[0mq\u001b[0m\u001b[0;34m\u001b[0m\u001b[0;34m\u001b[0m\u001b[0m\n\u001b[1;32m    359\u001b[0m     \u001b[0mbins\u001b[0m \u001b[0;34m=\u001b[0m \u001b[0malgos\u001b[0m\u001b[0;34m.\u001b[0m\u001b[0mquantile\u001b[0m\u001b[0;34m(\u001b[0m\u001b[0mx\u001b[0m\u001b[0;34m,\u001b[0m \u001b[0mquantiles\u001b[0m\u001b[0;34m)\u001b[0m\u001b[0;34m\u001b[0m\u001b[0;34m\u001b[0m\u001b[0m\n\u001b[0;32m--> 360\u001b[0;31m     fac, bins = _bins_to_cuts(\n\u001b[0m\u001b[1;32m    361\u001b[0m         \u001b[0mx\u001b[0m\u001b[0;34m,\u001b[0m\u001b[0;34m\u001b[0m\u001b[0;34m\u001b[0m\u001b[0m\n\u001b[1;32m    362\u001b[0m         \u001b[0mbins\u001b[0m\u001b[0;34m,\u001b[0m\u001b[0;34m\u001b[0m\u001b[0;34m\u001b[0m\u001b[0m\n",
      "\u001b[0;32m/opt/anaconda3/lib/python3.8/site-packages/pandas/core/reshape/tile.py\u001b[0m in \u001b[0;36m_bins_to_cuts\u001b[0;34m(x, bins, right, labels, precision, include_lowest, dtype, duplicates, ordered)\u001b[0m\n\u001b[1;32m    399\u001b[0m     \u001b[0;32mif\u001b[0m \u001b[0mlen\u001b[0m\u001b[0;34m(\u001b[0m\u001b[0munique_bins\u001b[0m\u001b[0;34m)\u001b[0m \u001b[0;34m<\u001b[0m \u001b[0mlen\u001b[0m\u001b[0;34m(\u001b[0m\u001b[0mbins\u001b[0m\u001b[0;34m)\u001b[0m \u001b[0;32mand\u001b[0m \u001b[0mlen\u001b[0m\u001b[0;34m(\u001b[0m\u001b[0mbins\u001b[0m\u001b[0;34m)\u001b[0m \u001b[0;34m!=\u001b[0m \u001b[0;36m2\u001b[0m\u001b[0;34m:\u001b[0m\u001b[0;34m\u001b[0m\u001b[0;34m\u001b[0m\u001b[0m\n\u001b[1;32m    400\u001b[0m         \u001b[0;32mif\u001b[0m \u001b[0mduplicates\u001b[0m \u001b[0;34m==\u001b[0m \u001b[0;34m\"raise\"\u001b[0m\u001b[0;34m:\u001b[0m\u001b[0;34m\u001b[0m\u001b[0;34m\u001b[0m\u001b[0m\n\u001b[0;32m--> 401\u001b[0;31m             raise ValueError(\n\u001b[0m\u001b[1;32m    402\u001b[0m                 \u001b[0;34mf\"Bin edges must be unique: {repr(bins)}.\\n\"\u001b[0m\u001b[0;34m\u001b[0m\u001b[0;34m\u001b[0m\u001b[0m\n\u001b[1;32m    403\u001b[0m                 \u001b[0;34mf\"You can drop duplicate edges by setting the 'duplicates' kwarg\"\u001b[0m\u001b[0;34m\u001b[0m\u001b[0;34m\u001b[0m\u001b[0m\n",
      "\u001b[0;31mValueError\u001b[0m: Bin edges must be unique: array([-2.59621087e+05, -2.48920262e+04, -1.37222426e+04, -1.37222426e+04,\n        1.64614546e+04,  4.13192589e+04,  7.95254066e+04,  1.38100988e+05,\n        2.36232543e+05,  5.08750084e+05,  1.37275200e+07]).\nYou can drop duplicate edges by setting the 'duplicates' kwarg"
     ]
    }
   ],
   "source": [
    "regression_deciles = output_deciles(lr_pipeline,X_test,y_test_reg )"
   ]
  },
  {
   "cell_type": "code",
   "execution_count": null,
   "metadata": {},
   "outputs": [],
   "source": [
    "regression_deciles.info()"
   ]
  },
  {
   "cell_type": "code",
   "execution_count": null,
   "metadata": {
    "scrolled": true
   },
   "outputs": [],
   "source": [
    "regression_deciles.groupby('deciles')[['actual','predictions']].mean()"
   ]
  },
  {
   "cell_type": "markdown",
   "metadata": {},
   "source": [
    "# Classification models - to predict the probability of adding new funds in 2019"
   ]
  },
  {
   "cell_type": "markdown",
   "metadata": {},
   "source": [
    "##prepare the test train split for classification"
   ]
  },
  {
   "cell_type": "code",
   "execution_count": null,
   "metadata": {},
   "outputs": [],
   "source": [
    "# what is the X to be used:"
   ]
  },
  {
   "cell_type": "code",
   "execution_count": null,
   "metadata": {
    "scrolled": true
   },
   "outputs": [],
   "source": [
    "df_X_Kbest.info()"
   ]
  },
  {
   "cell_type": "code",
   "execution_count": null,
   "metadata": {},
   "outputs": [],
   "source": [
    "X_cleaned_classfn.info()"
   ]
  },
  {
   "cell_type": "code",
   "execution_count": null,
   "metadata": {},
   "outputs": [],
   "source": [
    "y_cleaned_classfn.head()"
   ]
  },
  {
   "cell_type": "code",
   "execution_count": null,
   "metadata": {},
   "outputs": [],
   "source": [
    "rfe_support_ = ['no_of_sales_12M_1', 'no_of_Redemption_12M_1', 'no_of_sales_12M_10K',\n",
    "       'no_of_funds_sold_12M_1', 'no_of_funds_redeemed_12M_1',\n",
    "       'No_of_fund_curr', 'AUM', 'sales_curr', 'sales_12M_2018',\n",
    "       'redemption_curr', 'redemption_12M', 'new_Fund_added_12M_2018',\n",
    "       'aum_AC_EQUITY', 'aum_AC_FIXED_INCOME_MUNI',\n",
    "       'aum_AC_FIXED_INCOME_TAXABLE', 'aum_AC_MULTIPLE', 'aum_P_MF',\n",
    "       'aum_P_SMA']"
   ]
  },
  {
   "cell_type": "code",
   "execution_count": null,
   "metadata": {},
   "outputs": [],
   "source": [
    "#y_cl = df['new_fund_2019']\n",
    "y_cl.head"
   ]
  },
  {
   "cell_type": "code",
   "execution_count": null,
   "metadata": {},
   "outputs": [],
   "source": [
    "#makes the colums 0 or 1 depending on whether values are greater than or equal to 0 - df_X_Kbest"
   ]
  },
  {
   "cell_type": "code",
   "execution_count": null,
   "metadata": {},
   "outputs": [],
   "source": [
    "y_cl_binarized = np.where(y_cl > 0, 1,0)"
   ]
  },
  {
   "cell_type": "code",
   "execution_count": null,
   "metadata": {},
   "outputs": [],
   "source": [
    "y_cl_binarized.size"
   ]
  },
  {
   "cell_type": "code",
   "execution_count": null,
   "metadata": {},
   "outputs": [],
   "source": [
    "pd.value_counts(y_cl_binarized)"
   ]
  },
  {
   "cell_type": "code",
   "execution_count": null,
   "metadata": {},
   "outputs": [],
   "source": [
    "X_train_cl, X_test_cl, y_train_cl, y_test_cl = train_test_split(X, y_cl_binarized, test_size=0.25, random_state=20)"
   ]
  },
  {
   "cell_type": "code",
   "execution_count": null,
   "metadata": {},
   "outputs": [],
   "source": [
    "rf_cl = RandomForestClassifier(max_depth= 4)"
   ]
  },
  {
   "cell_type": "code",
   "execution_count": null,
   "metadata": {},
   "outputs": [],
   "source": [
    "gbc = GradientBoostingClassifier()"
   ]
  },
  {
   "cell_type": "code",
   "execution_count": null,
   "metadata": {},
   "outputs": [],
   "source": [
    "#Fit the training set"
   ]
  },
  {
   "cell_type": "code",
   "execution_count": null,
   "metadata": {},
   "outputs": [],
   "source": [
    "rf_cl.fit(X_train_cl, y_train_cl)"
   ]
  },
  {
   "cell_type": "code",
   "execution_count": null,
   "metadata": {},
   "outputs": [],
   "source": [
    "gbc.fit(X_train_cl, y_train_cl)"
   ]
  },
  {
   "cell_type": "code",
   "execution_count": null,
   "metadata": {},
   "outputs": [],
   "source": [
    "#Score the testing set - with max_depth= 5 there could be slight overfitting."
   ]
  },
  {
   "cell_type": "code",
   "execution_count": null,
   "metadata": {},
   "outputs": [],
   "source": [
    "rf_cl.score(X_test_cl, y_test_cl)"
   ]
  },
  {
   "cell_type": "code",
   "execution_count": null,
   "metadata": {},
   "outputs": [],
   "source": [
    "gbc.score(X_test_cl, y_test_cl)"
   ]
  },
  {
   "cell_type": "code",
   "execution_count": null,
   "metadata": {},
   "outputs": [],
   "source": [
    "#Predict results of Random Forrest\n",
    "cl_preds_rf = rf_cl.predict(X)"
   ]
  },
  {
   "cell_type": "code",
   "execution_count": null,
   "metadata": {},
   "outputs": [],
   "source": [
    "#Prediction results from Gradient Boosted Trees\n",
    "cl_preds_gbc = gbc.predict(X)"
   ]
  },
  {
   "cell_type": "code",
   "execution_count": null,
   "metadata": {},
   "outputs": [],
   "source": [
    "#No. of 1's and 0 from Random Forrest\n",
    "pd.value_counts(cl_preds_rf)"
   ]
  },
  {
   "cell_type": "code",
   "execution_count": null,
   "metadata": {},
   "outputs": [],
   "source": [
    "##No. of 1's and 0 from Gradient Boost for total data set X\n",
    "pd.value_counts(cl_preds_gbc)"
   ]
  },
  {
   "cell_type": "code",
   "execution_count": null,
   "metadata": {},
   "outputs": [],
   "source": [
    "##No. of 1's and 0 from Gradient Boost for training data set X_train_cl"
   ]
  },
  {
   "cell_type": "code",
   "execution_count": null,
   "metadata": {},
   "outputs": [],
   "source": [
    "cl_preds = pd.Series(gbc.predict(X_train_cl), index=X_train_cl.index)\n",
    "cl_preds.value_counts()"
   ]
  },
  {
   "cell_type": "code",
   "execution_count": null,
   "metadata": {},
   "outputs": [],
   "source": [
    "##No. of 1's and 0 in target variable - Ground Truth\n",
    "pd.value_counts(y_cl_binarized)"
   ]
  },
  {
   "cell_type": "code",
   "execution_count": null,
   "metadata": {},
   "outputs": [],
   "source": [
    "#Classification results of Random Forrest\n",
    "print(classification_report(cl_preds_rf,y_cl_binarized))"
   ]
  },
  {
   "cell_type": "code",
   "execution_count": null,
   "metadata": {},
   "outputs": [],
   "source": [
    "##Classification results of Gradient Boosted trees\n",
    "print(classification_report(cl_preds_gbc,y_cl_binarized))"
   ]
  },
  {
   "cell_type": "code",
   "execution_count": null,
   "metadata": {},
   "outputs": [],
   "source": [
    "## trying the data set from rfe recommendation"
   ]
  },
  {
   "cell_type": "code",
   "execution_count": null,
   "metadata": {},
   "outputs": [],
   "source": [
    "X_train_cl1, X_test_cl1, y_train_cl1, y_test_cl1 = train_test_split(X_cleaned_classfn, y_cleaned_classfn, test_size=0.30, random_state=20)"
   ]
  },
  {
   "cell_type": "code",
   "execution_count": null,
   "metadata": {},
   "outputs": [],
   "source": [
    "gbc.fit(X_train_cl1, y_train_cl1)"
   ]
  },
  {
   "cell_type": "code",
   "execution_count": null,
   "metadata": {},
   "outputs": [],
   "source": [
    "gbc.score(X_test_cl1, y_test_cl1)"
   ]
  },
  {
   "cell_type": "code",
   "execution_count": null,
   "metadata": {},
   "outputs": [],
   "source": [
    "cl_preds_gbc_rfe = pd.Series(gbc.predict(X_train_cl1), index=X_train_cl1.index)\n",
    "cl_preds_gbc_rfe.value_counts()"
   ]
  },
  {
   "cell_type": "code",
   "execution_count": null,
   "metadata": {},
   "outputs": [],
   "source": [
    "print(classification_report(cl_preds_gbc_rfe,y_train_cl1))"
   ]
  },
  {
   "cell_type": "markdown",
   "metadata": {},
   "source": [
    "# Final predictions - combining Regression and Classification"
   ]
  },
  {
   "cell_type": "markdown",
   "metadata": {},
   "source": [
    "STEP 1 : select the advisors that sold anything - coming from Regression Model"
   ]
  },
  {
   "cell_type": "code",
   "execution_count": null,
   "metadata": {},
   "outputs": [],
   "source": []
  },
  {
   "cell_type": "code",
   "execution_count": null,
   "metadata": {},
   "outputs": [],
   "source": []
  }
 ],
 "metadata": {
  "kernelspec": {
   "display_name": "Python 3",
   "language": "python",
   "name": "python3"
  },
  "language_info": {
   "codemirror_mode": {
    "name": "ipython",
    "version": 3
   },
   "file_extension": ".py",
   "mimetype": "text/x-python",
   "name": "python",
   "nbconvert_exporter": "python",
   "pygments_lexer": "ipython3",
   "version": "3.8.5"
  }
 },
 "nbformat": 4,
 "nbformat_minor": 4
}
