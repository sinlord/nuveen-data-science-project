{
 "cells": [
  {
   "cell_type": "code",
   "execution_count": 75,
   "metadata": {},
   "outputs": [],
   "source": [
    "import pandas as pd\n",
    "import matplotlib.pyplot as plt\n",
    "import seaborn as sns\n",
    "import numpy as np\n",
    "\n",
    "from sklearn.model_selection import train_test_split\n",
    "from sklearn.preprocessing import StandardScaler\n",
    "from sklearn.linear_model import LinearRegression\n",
    "from sklearn.ensemble import GradientBoostingRegressor, RandomForestRegressor\n",
    "\n",
    "from sklearn.decomposition import PCA\n",
    "from sklearn.pipeline import make_pipeline\n",
    "\n",
    "from sklearn.metrics import r2_score, mean_squared_error\n",
    "\n",
    "from sklearn.linear_model import (\n",
    "    LinearRegression, TheilSenRegressor, RANSACRegressor, HuberRegressor, Ridge)\n",
    "from pandas_profiling import ProfileReport"
   ]
  },
  {
   "cell_type": "code",
   "execution_count": 76,
   "metadata": {},
   "outputs": [],
   "source": [
    "df = pd.read_csv('../data/final_eda_base_data.csv', index_col= 0)"
   ]
  },
  {
   "cell_type": "code",
   "execution_count": 77,
   "metadata": {},
   "outputs": [
    {
     "name": "stdout",
     "output_type": "stream",
     "text": [
      "<class 'pandas.core.frame.DataFrame'>\n",
      "Int64Index: 10005 entries, 0 to 10004\n",
      "Data columns (total 42 columns):\n",
      " #   Column                               Non-Null Count  Dtype  \n",
      "---  ------                               --------------  -----  \n",
      " 0   no_of_sales_12M_1                    10005 non-null  float64\n",
      " 1   no_of_Redemption_12M_1               10005 non-null  float64\n",
      " 2   no_of_sales_12M_10K                  10005 non-null  float64\n",
      " 3   no_of_Redemption_12M_10K             10005 non-null  float64\n",
      " 4   no_of_funds_sold_12M_1               10005 non-null  float64\n",
      " 5   no_of_funds_redeemed_12M_1           10005 non-null  float64\n",
      " 6   no_of_fund_sales_12M_10K             10005 non-null  float64\n",
      " 7   no_of_funds_Redemption_12M_10K       10005 non-null  float64\n",
      " 8   no_of_assetclass_sold_12M_1          10005 non-null  float64\n",
      " 9   no_of_assetclass_redeemed_12M_1      10005 non-null  float64\n",
      " 10  no_of_assetclass_sales_12M_10K       10005 non-null  float64\n",
      " 11  no_of_assetclass_Redemption_12M_10K  10005 non-null  float64\n",
      " 12  No_of_fund_curr                      10005 non-null  float64\n",
      " 13  No_of_asset_curr                     10005 non-null  float64\n",
      " 14  AUM                                  10005 non-null  float64\n",
      " 15  sales_curr                           10005 non-null  float64\n",
      " 16  sales_12M                            10005 non-null  float64\n",
      " 17  redemption_curr                      10005 non-null  float64\n",
      " 18  redemption_12M                       10005 non-null  float64\n",
      " 19  new_Fund_added_12M                   10005 non-null  float64\n",
      " 20  sales_2019                           10005 non-null  float64\n",
      " 21  new_fund_2019                        10005 non-null  float64\n",
      " 22  Firm name                            10005 non-null  object \n",
      " 23  Channel_Asset Manager                10005 non-null  int64  \n",
      " 24  Channel_Bank/Trust                   10005 non-null  int64  \n",
      " 25  Channel_Discount                     10005 non-null  int64  \n",
      " 26  Channel_Dual                         10005 non-null  int64  \n",
      " 27  Channel_Fee-Based Adviser            10005 non-null  int64  \n",
      " 28  Channel_Independent Dealer           10005 non-null  int64  \n",
      " 29  Channel_International Outlet         10005 non-null  int64  \n",
      " 30  Channel_Low/Non Producer             10005 non-null  int64  \n",
      " 31  Channel_National Broker-Dealer       10005 non-null  int64  \n",
      " 32  Channel_Networker                    10005 non-null  int64  \n",
      " 33  Channel_Private Client Group         10005 non-null  int64  \n",
      " 34  Sub channel_Affiliated               10005 non-null  int64  \n",
      " 35  Sub channel_DCIO                     10005 non-null  int64  \n",
      " 36  Sub channel_Global                   10005 non-null  int64  \n",
      " 37  Sub channel_IBD                      10005 non-null  int64  \n",
      " 38  Sub channel_NACS                     10005 non-null  int64  \n",
      " 39  Sub channel_Other                    10005 non-null  int64  \n",
      " 40  Sub channel_RIA                      10005 non-null  int64  \n",
      " 41  Sub channel_USBT                     10005 non-null  int64  \n",
      "dtypes: float64(22), int64(19), object(1)\n",
      "memory usage: 3.3+ MB\n"
     ]
    }
   ],
   "source": [
    "df.info()"
   ]
  },
  {
   "cell_type": "code",
   "execution_count": 78,
   "metadata": {},
   "outputs": [],
   "source": [
    "#df.drop(df.iloc[:, 22:40], inplace = True, axis=1)"
   ]
  },
  {
   "cell_type": "code",
   "execution_count": 79,
   "metadata": {},
   "outputs": [
    {
     "name": "stdout",
     "output_type": "stream",
     "text": [
      "<class 'pandas.core.frame.DataFrame'>\n",
      "Int64Index: 10005 entries, 0 to 10004\n",
      "Data columns (total 42 columns):\n",
      " #   Column                               Non-Null Count  Dtype  \n",
      "---  ------                               --------------  -----  \n",
      " 0   no_of_sales_12M_1                    10005 non-null  float64\n",
      " 1   no_of_Redemption_12M_1               10005 non-null  float64\n",
      " 2   no_of_sales_12M_10K                  10005 non-null  float64\n",
      " 3   no_of_Redemption_12M_10K             10005 non-null  float64\n",
      " 4   no_of_funds_sold_12M_1               10005 non-null  float64\n",
      " 5   no_of_funds_redeemed_12M_1           10005 non-null  float64\n",
      " 6   no_of_fund_sales_12M_10K             10005 non-null  float64\n",
      " 7   no_of_funds_Redemption_12M_10K       10005 non-null  float64\n",
      " 8   no_of_assetclass_sold_12M_1          10005 non-null  float64\n",
      " 9   no_of_assetclass_redeemed_12M_1      10005 non-null  float64\n",
      " 10  no_of_assetclass_sales_12M_10K       10005 non-null  float64\n",
      " 11  no_of_assetclass_Redemption_12M_10K  10005 non-null  float64\n",
      " 12  No_of_fund_curr                      10005 non-null  float64\n",
      " 13  No_of_asset_curr                     10005 non-null  float64\n",
      " 14  AUM                                  10005 non-null  float64\n",
      " 15  sales_curr                           10005 non-null  float64\n",
      " 16  sales_12M                            10005 non-null  float64\n",
      " 17  redemption_curr                      10005 non-null  float64\n",
      " 18  redemption_12M                       10005 non-null  float64\n",
      " 19  new_Fund_added_12M                   10005 non-null  float64\n",
      " 20  sales_2019                           10005 non-null  float64\n",
      " 21  new_fund_2019                        10005 non-null  float64\n",
      " 22  Firm name                            10005 non-null  object \n",
      " 23  Channel_Asset Manager                10005 non-null  int64  \n",
      " 24  Channel_Bank/Trust                   10005 non-null  int64  \n",
      " 25  Channel_Discount                     10005 non-null  int64  \n",
      " 26  Channel_Dual                         10005 non-null  int64  \n",
      " 27  Channel_Fee-Based Adviser            10005 non-null  int64  \n",
      " 28  Channel_Independent Dealer           10005 non-null  int64  \n",
      " 29  Channel_International Outlet         10005 non-null  int64  \n",
      " 30  Channel_Low/Non Producer             10005 non-null  int64  \n",
      " 31  Channel_National Broker-Dealer       10005 non-null  int64  \n",
      " 32  Channel_Networker                    10005 non-null  int64  \n",
      " 33  Channel_Private Client Group         10005 non-null  int64  \n",
      " 34  Sub channel_Affiliated               10005 non-null  int64  \n",
      " 35  Sub channel_DCIO                     10005 non-null  int64  \n",
      " 36  Sub channel_Global                   10005 non-null  int64  \n",
      " 37  Sub channel_IBD                      10005 non-null  int64  \n",
      " 38  Sub channel_NACS                     10005 non-null  int64  \n",
      " 39  Sub channel_Other                    10005 non-null  int64  \n",
      " 40  Sub channel_RIA                      10005 non-null  int64  \n",
      " 41  Sub channel_USBT                     10005 non-null  int64  \n",
      "dtypes: float64(22), int64(19), object(1)\n",
      "memory usage: 3.3+ MB\n"
     ]
    }
   ],
   "source": [
    "df.info()"
   ]
  },
  {
   "cell_type": "code",
   "execution_count": 80,
   "metadata": {},
   "outputs": [],
   "source": [
    "##Prepare the test train split"
   ]
  },
  {
   "cell_type": "code",
   "execution_count": 81,
   "metadata": {},
   "outputs": [],
   "source": [
    "X = df.drop(['sales_2019', 'new_fund_2019','Firm name'], axis=1)\n",
    "y = df['sales_2019']"
   ]
  },
  {
   "cell_type": "code",
   "execution_count": 82,
   "metadata": {},
   "outputs": [],
   "source": [
    "X = (X-X.mean())/X.std()"
   ]
  },
  {
   "cell_type": "code",
   "execution_count": 83,
   "metadata": {},
   "outputs": [],
   "source": [
    "#draw histogram to see the distribution"
   ]
  },
  {
   "cell_type": "code",
   "execution_count": null,
   "metadata": {},
   "outputs": [],
   "source": []
  },
  {
   "cell_type": "code",
   "execution_count": 84,
   "metadata": {},
   "outputs": [],
   "source": [
    "## Decreasing the random state to 12 yeilds a better performance - .50 score on Test data"
   ]
  },
  {
   "cell_type": "code",
   "execution_count": 85,
   "metadata": {},
   "outputs": [],
   "source": [
    "X_train, X_test, y_train, y_test = train_test_split(X, y, test_size=0.25, random_state=20)"
   ]
  },
  {
   "cell_type": "code",
   "execution_count": 86,
   "metadata": {},
   "outputs": [
    {
     "data": {
      "image/png": "[encoded data removed]",
      "text/plain": [
       "<Figure size 432x288 with 1 Axes>"
      ]
     },
     "metadata": {
      "needs_background": "light"
     },
     "output_type": "display_data"
    }
   ],
   "source": [
    "np.log1p(y_train).hist(bins=30);"
   ]
  },
  {
   "cell_type": "code",
   "execution_count": 87,
   "metadata": {},
   "outputs": [],
   "source": [
    "pred_baseline = np.ones(len(y_train))*np.mean(y_train)"
   ]
  },
  {
   "cell_type": "code",
   "execution_count": 88,
   "metadata": {},
   "outputs": [
    {
     "data": {
      "text/plain": [
       "0.0"
      ]
     },
     "execution_count": 88,
     "metadata": {},
     "output_type": "execute_result"
    }
   ],
   "source": [
    "r2_score(y_train, pred_baseline)"
   ]
  },
  {
   "cell_type": "code",
   "execution_count": 89,
   "metadata": {},
   "outputs": [
    {
     "data": {
      "text/plain": [
       "1185311.8594254837"
      ]
     },
     "execution_count": 89,
     "metadata": {},
     "output_type": "execute_result"
    }
   ],
   "source": [
    "mean_squared_error(y_train, pred_baseline, squared= False)"
   ]
  },
  {
   "cell_type": "code",
   "execution_count": 90,
   "metadata": {},
   "outputs": [],
   "source": [
    "lr_pipeline = make_pipeline(PCA(0.8), Ridge(1000))"
   ]
  },
  {
   "cell_type": "code",
   "execution_count": 91,
   "metadata": {},
   "outputs": [
    {
     "data": {
      "text/html": [
       "<div>\n",
       "<style scoped>\n",
       "    .dataframe tbody tr th:only-of-type {\n",
       "        vertical-align: middle;\n",
       "    }\n",
       "\n",
       "    .dataframe tbody tr th {\n",
       "        vertical-align: top;\n",
       "    }\n",
       "\n",
       "    .dataframe thead th {\n",
       "        text-align: right;\n",
       "    }\n",
       "</style>\n",
       "<table border=\"1\" class=\"dataframe\">\n",
       "  <thead>\n",
       "    <tr style=\"text-align: right;\">\n",
       "      <th></th>\n",
       "      <th>no_of_sales_12M_1</th>\n",
       "      <th>no_of_Redemption_12M_1</th>\n",
       "      <th>no_of_sales_12M_10K</th>\n",
       "      <th>no_of_Redemption_12M_10K</th>\n",
       "      <th>no_of_funds_sold_12M_1</th>\n",
       "      <th>no_of_funds_redeemed_12M_1</th>\n",
       "      <th>no_of_fund_sales_12M_10K</th>\n",
       "      <th>no_of_funds_Redemption_12M_10K</th>\n",
       "      <th>no_of_assetclass_sold_12M_1</th>\n",
       "      <th>no_of_assetclass_redeemed_12M_1</th>\n",
       "      <th>...</th>\n",
       "      <th>Channel_Networker</th>\n",
       "      <th>Channel_Private Client Group</th>\n",
       "      <th>Sub channel_Affiliated</th>\n",
       "      <th>Sub channel_DCIO</th>\n",
       "      <th>Sub channel_Global</th>\n",
       "      <th>Sub channel_IBD</th>\n",
       "      <th>Sub channel_NACS</th>\n",
       "      <th>Sub channel_Other</th>\n",
       "      <th>Sub channel_RIA</th>\n",
       "      <th>Sub channel_USBT</th>\n",
       "    </tr>\n",
       "  </thead>\n",
       "  <tbody>\n",
       "    <tr>\n",
       "      <th>count</th>\n",
       "      <td>7503.000000</td>\n",
       "      <td>7503.000000</td>\n",
       "      <td>7503.000000</td>\n",
       "      <td>7503.000000</td>\n",
       "      <td>7503.000000</td>\n",
       "      <td>7503.000000</td>\n",
       "      <td>7503.000000</td>\n",
       "      <td>7503.000000</td>\n",
       "      <td>7503.000000</td>\n",
       "      <td>7503.000000</td>\n",
       "      <td>...</td>\n",
       "      <td>7503.000000</td>\n",
       "      <td>7503.000000</td>\n",
       "      <td>7503.000000</td>\n",
       "      <td>7503.000000</td>\n",
       "      <td>7503.000000</td>\n",
       "      <td>7503.000000</td>\n",
       "      <td>7503.000000</td>\n",
       "      <td>7503.000000</td>\n",
       "      <td>7503.000000</td>\n",
       "      <td>7503.000000</td>\n",
       "    </tr>\n",
       "    <tr>\n",
       "      <th>mean</th>\n",
       "      <td>0.003349</td>\n",
       "      <td>0.006208</td>\n",
       "      <td>0.002706</td>\n",
       "      <td>0.005432</td>\n",
       "      <td>-0.001315</td>\n",
       "      <td>-0.000869</td>\n",
       "      <td>0.006106</td>\n",
       "      <td>0.002350</td>\n",
       "      <td>-0.003570</td>\n",
       "      <td>-0.005516</td>\n",
       "      <td>...</td>\n",
       "      <td>0.003019</td>\n",
       "      <td>0.006211</td>\n",
       "      <td>0.003783</td>\n",
       "      <td>-0.009620</td>\n",
       "      <td>0.005775</td>\n",
       "      <td>-0.001061</td>\n",
       "      <td>-0.000583</td>\n",
       "      <td>0.005775</td>\n",
       "      <td>0.005252</td>\n",
       "      <td>-0.003331</td>\n",
       "    </tr>\n",
       "    <tr>\n",
       "      <th>std</th>\n",
       "      <td>1.070637</td>\n",
       "      <td>1.139727</td>\n",
       "      <td>1.075499</td>\n",
       "      <td>1.099537</td>\n",
       "      <td>1.000704</td>\n",
       "      <td>1.004148</td>\n",
       "      <td>1.006049</td>\n",
       "      <td>1.003367</td>\n",
       "      <td>1.000310</td>\n",
       "      <td>0.999332</td>\n",
       "      <td>...</td>\n",
       "      <td>1.044483</td>\n",
       "      <td>1.043123</td>\n",
       "      <td>1.069063</td>\n",
       "      <td>0.666767</td>\n",
       "      <td>1.154720</td>\n",
       "      <td>1.000393</td>\n",
       "      <td>0.999773</td>\n",
       "      <td>1.154720</td>\n",
       "      <td>1.017021</td>\n",
       "      <td>0.957555</td>\n",
       "    </tr>\n",
       "    <tr>\n",
       "      <th>min</th>\n",
       "      <td>-0.204003</td>\n",
       "      <td>-0.109508</td>\n",
       "      <td>-0.166503</td>\n",
       "      <td>-0.151742</td>\n",
       "      <td>-0.571424</td>\n",
       "      <td>-0.625797</td>\n",
       "      <td>-0.428836</td>\n",
       "      <td>-0.447401</td>\n",
       "      <td>-0.782473</td>\n",
       "      <td>-0.866220</td>\n",
       "      <td>...</td>\n",
       "      <td>-0.033175</td>\n",
       "      <td>-0.070151</td>\n",
       "      <td>-0.026459</td>\n",
       "      <td>-0.017318</td>\n",
       "      <td>-0.017318</td>\n",
       "      <td>-1.417010</td>\n",
       "      <td>-0.666092</td>\n",
       "      <td>-0.017318</td>\n",
       "      <td>-0.149588</td>\n",
       "      <td>-0.040020</td>\n",
       "    </tr>\n",
       "    <tr>\n",
       "      <th>25%</th>\n",
       "      <td>-0.204003</td>\n",
       "      <td>-0.109508</td>\n",
       "      <td>-0.166503</td>\n",
       "      <td>-0.151742</td>\n",
       "      <td>-0.571424</td>\n",
       "      <td>-0.625797</td>\n",
       "      <td>-0.428836</td>\n",
       "      <td>-0.447401</td>\n",
       "      <td>-0.782473</td>\n",
       "      <td>-0.866220</td>\n",
       "      <td>...</td>\n",
       "      <td>-0.033175</td>\n",
       "      <td>-0.070151</td>\n",
       "      <td>-0.026459</td>\n",
       "      <td>-0.017318</td>\n",
       "      <td>-0.017318</td>\n",
       "      <td>-1.417010</td>\n",
       "      <td>-0.666092</td>\n",
       "      <td>-0.017318</td>\n",
       "      <td>-0.149588</td>\n",
       "      <td>-0.040020</td>\n",
       "    </tr>\n",
       "    <tr>\n",
       "      <th>50%</th>\n",
       "      <td>-0.204003</td>\n",
       "      <td>-0.104287</td>\n",
       "      <td>-0.166503</td>\n",
       "      <td>-0.151742</td>\n",
       "      <td>-0.571424</td>\n",
       "      <td>-0.220574</td>\n",
       "      <td>-0.428836</td>\n",
       "      <td>-0.447401</td>\n",
       "      <td>-0.782473</td>\n",
       "      <td>0.089085</td>\n",
       "      <td>...</td>\n",
       "      <td>-0.033175</td>\n",
       "      <td>-0.070151</td>\n",
       "      <td>-0.026459</td>\n",
       "      <td>-0.017318</td>\n",
       "      <td>-0.017318</td>\n",
       "      <td>0.705641</td>\n",
       "      <td>-0.666092</td>\n",
       "      <td>-0.017318</td>\n",
       "      <td>-0.149588</td>\n",
       "      <td>-0.040020</td>\n",
       "    </tr>\n",
       "    <tr>\n",
       "      <th>75%</th>\n",
       "      <td>-0.122736</td>\n",
       "      <td>-0.067744</td>\n",
       "      <td>-0.097703</td>\n",
       "      <td>-0.070001</td>\n",
       "      <td>0.268955</td>\n",
       "      <td>0.184649</td>\n",
       "      <td>0.323092</td>\n",
       "      <td>0.288582</td>\n",
       "      <td>0.212778</td>\n",
       "      <td>1.044390</td>\n",
       "      <td>...</td>\n",
       "      <td>-0.033175</td>\n",
       "      <td>-0.070151</td>\n",
       "      <td>-0.026459</td>\n",
       "      <td>-0.017318</td>\n",
       "      <td>-0.017318</td>\n",
       "      <td>0.705641</td>\n",
       "      <td>1.501144</td>\n",
       "      <td>-0.017318</td>\n",
       "      <td>-0.149588</td>\n",
       "      <td>-0.040020</td>\n",
       "    </tr>\n",
       "    <tr>\n",
       "      <th>max</th>\n",
       "      <td>44.442297</td>\n",
       "      <td>63.330306</td>\n",
       "      <td>67.670684</td>\n",
       "      <td>72.025887</td>\n",
       "      <td>12.874634</td>\n",
       "      <td>12.746562</td>\n",
       "      <td>12.353947</td>\n",
       "      <td>14.272259</td>\n",
       "      <td>4.193782</td>\n",
       "      <td>3.910305</td>\n",
       "      <td>...</td>\n",
       "      <td>30.140581</td>\n",
       "      <td>14.253539</td>\n",
       "      <td>37.790779</td>\n",
       "      <td>57.737914</td>\n",
       "      <td>57.737914</td>\n",
       "      <td>0.705641</td>\n",
       "      <td>1.501144</td>\n",
       "      <td>57.737914</td>\n",
       "      <td>6.684345</td>\n",
       "      <td>24.984997</td>\n",
       "    </tr>\n",
       "  </tbody>\n",
       "</table>\n",
       "<p>8 rows × 39 columns</p>\n",
       "</div>"
      ],
      "text/plain": [
       "       no_of_sales_12M_1  no_of_Redemption_12M_1  no_of_sales_12M_10K  \\\n",
       "count        7503.000000             7503.000000          7503.000000   \n",
       "mean            0.003349                0.006208             0.002706   \n",
       "std             1.070637                1.139727             1.075499   \n",
       "min            -0.204003               -0.109508            -0.166503   \n",
       "25%            -0.204003               -0.109508            -0.166503   \n",
       "50%            -0.204003               -0.104287            -0.166503   \n",
       "75%            -0.122736               -0.067744            -0.097703   \n",
       "max            44.442297               63.330306            67.670684   \n",
       "\n",
       "       no_of_Redemption_12M_10K  no_of_funds_sold_12M_1  \\\n",
       "count               7503.000000             7503.000000   \n",
       "mean                   0.005432               -0.001315   \n",
       "std                    1.099537                1.000704   \n",
       "min                   -0.151742               -0.571424   \n",
       "25%                   -0.151742               -0.571424   \n",
       "50%                   -0.151742               -0.571424   \n",
       "75%                   -0.070001                0.268955   \n",
       "max                   72.025887               12.874634   \n",
       "\n",
       "       no_of_funds_redeemed_12M_1  no_of_fund_sales_12M_10K  \\\n",
       "count                 7503.000000               7503.000000   \n",
       "mean                    -0.000869                  0.006106   \n",
       "std                      1.004148                  1.006049   \n",
       "min                     -0.625797                 -0.428836   \n",
       "25%                     -0.625797                 -0.428836   \n",
       "50%                     -0.220574                 -0.428836   \n",
       "75%                      0.184649                  0.323092   \n",
       "max                     12.746562                 12.353947   \n",
       "\n",
       "       no_of_funds_Redemption_12M_10K  no_of_assetclass_sold_12M_1  \\\n",
       "count                     7503.000000                  7503.000000   \n",
       "mean                         0.002350                    -0.003570   \n",
       "std                          1.003367                     1.000310   \n",
       "min                         -0.447401                    -0.782473   \n",
       "25%                         -0.447401                    -0.782473   \n",
       "50%                         -0.447401                    -0.782473   \n",
       "75%                          0.288582                     0.212778   \n",
       "max                         14.272259                     4.193782   \n",
       "\n",
       "       no_of_assetclass_redeemed_12M_1  ...  Channel_Networker  \\\n",
       "count                      7503.000000  ...        7503.000000   \n",
       "mean                         -0.005516  ...           0.003019   \n",
       "std                           0.999332  ...           1.044483   \n",
       "min                          -0.866220  ...          -0.033175   \n",
       "25%                          -0.866220  ...          -0.033175   \n",
       "50%                           0.089085  ...          -0.033175   \n",
       "75%                           1.044390  ...          -0.033175   \n",
       "max                           3.910305  ...          30.140581   \n",
       "\n",
       "       Channel_Private Client Group  Sub channel_Affiliated  Sub channel_DCIO  \\\n",
       "count                   7503.000000             7503.000000       7503.000000   \n",
       "mean                       0.006211                0.003783         -0.009620   \n",
       "std                        1.043123                1.069063          0.666767   \n",
       "min                       -0.070151               -0.026459         -0.017318   \n",
       "25%                       -0.070151               -0.026459         -0.017318   \n",
       "50%                       -0.070151               -0.026459         -0.017318   \n",
       "75%                       -0.070151               -0.026459         -0.017318   \n",
       "max                       14.253539               37.790779         57.737914   \n",
       "\n",
       "       Sub channel_Global  Sub channel_IBD  Sub channel_NACS  \\\n",
       "count         7503.000000      7503.000000       7503.000000   \n",
       "mean             0.005775        -0.001061         -0.000583   \n",
       "std              1.154720         1.000393          0.999773   \n",
       "min             -0.017318        -1.417010         -0.666092   \n",
       "25%             -0.017318        -1.417010         -0.666092   \n",
       "50%             -0.017318         0.705641         -0.666092   \n",
       "75%             -0.017318         0.705641          1.501144   \n",
       "max             57.737914         0.705641          1.501144   \n",
       "\n",
       "       Sub channel_Other  Sub channel_RIA  Sub channel_USBT  \n",
       "count        7503.000000      7503.000000       7503.000000  \n",
       "mean            0.005775         0.005252         -0.003331  \n",
       "std             1.154720         1.017021          0.957555  \n",
       "min            -0.017318        -0.149588         -0.040020  \n",
       "25%            -0.017318        -0.149588         -0.040020  \n",
       "50%            -0.017318        -0.149588         -0.040020  \n",
       "75%            -0.017318        -0.149588         -0.040020  \n",
       "max            57.737914         6.684345         24.984997  \n",
       "\n",
       "[8 rows x 39 columns]"
      ]
     },
     "execution_count": 91,
     "metadata": {},
     "output_type": "execute_result"
    }
   ],
   "source": [
    "X_train.describe()"
   ]
  },
  {
   "cell_type": "code",
   "execution_count": 92,
   "metadata": {},
   "outputs": [
    {
     "name": "stdout",
     "output_type": "stream",
     "text": [
      "<class 'pandas.core.frame.DataFrame'>\n",
      "Int64Index: 7503 entries, 6967 to 4367\n",
      "Data columns (total 39 columns):\n",
      " #   Column                               Non-Null Count  Dtype  \n",
      "---  ------                               --------------  -----  \n",
      " 0   no_of_sales_12M_1                    7503 non-null   float64\n",
      " 1   no_of_Redemption_12M_1               7503 non-null   float64\n",
      " 2   no_of_sales_12M_10K                  7503 non-null   float64\n",
      " 3   no_of_Redemption_12M_10K             7503 non-null   float64\n",
      " 4   no_of_funds_sold_12M_1               7503 non-null   float64\n",
      " 5   no_of_funds_redeemed_12M_1           7503 non-null   float64\n",
      " 6   no_of_fund_sales_12M_10K             7503 non-null   float64\n",
      " 7   no_of_funds_Redemption_12M_10K       7503 non-null   float64\n",
      " 8   no_of_assetclass_sold_12M_1          7503 non-null   float64\n",
      " 9   no_of_assetclass_redeemed_12M_1      7503 non-null   float64\n",
      " 10  no_of_assetclass_sales_12M_10K       7503 non-null   float64\n",
      " 11  no_of_assetclass_Redemption_12M_10K  7503 non-null   float64\n",
      " 12  No_of_fund_curr                      7503 non-null   float64\n",
      " 13  No_of_asset_curr                     7503 non-null   float64\n",
      " 14  AUM                                  7503 non-null   float64\n",
      " 15  sales_curr                           7503 non-null   float64\n",
      " 16  sales_12M                            7503 non-null   float64\n",
      " 17  redemption_curr                      7503 non-null   float64\n",
      " 18  redemption_12M                       7503 non-null   float64\n",
      " 19  new_Fund_added_12M                   7503 non-null   float64\n",
      " 20  Channel_Asset Manager                7503 non-null   float64\n",
      " 21  Channel_Bank/Trust                   7503 non-null   float64\n",
      " 22  Channel_Discount                     7503 non-null   float64\n",
      " 23  Channel_Dual                         7503 non-null   float64\n",
      " 24  Channel_Fee-Based Adviser            7503 non-null   float64\n",
      " 25  Channel_Independent Dealer           7503 non-null   float64\n",
      " 26  Channel_International Outlet         7503 non-null   float64\n",
      " 27  Channel_Low/Non Producer             7503 non-null   float64\n",
      " 28  Channel_National Broker-Dealer       7503 non-null   float64\n",
      " 29  Channel_Networker                    7503 non-null   float64\n",
      " 30  Channel_Private Client Group         7503 non-null   float64\n",
      " 31  Sub channel_Affiliated               7503 non-null   float64\n",
      " 32  Sub channel_DCIO                     7503 non-null   float64\n",
      " 33  Sub channel_Global                   7503 non-null   float64\n",
      " 34  Sub channel_IBD                      7503 non-null   float64\n",
      " 35  Sub channel_NACS                     7503 non-null   float64\n",
      " 36  Sub channel_Other                    7503 non-null   float64\n",
      " 37  Sub channel_RIA                      7503 non-null   float64\n",
      " 38  Sub channel_USBT                     7503 non-null   float64\n",
      "dtypes: float64(39)\n",
      "memory usage: 2.3 MB\n"
     ]
    }
   ],
   "source": [
    "X_train.info()"
   ]
  },
  {
   "cell_type": "code",
   "execution_count": 93,
   "metadata": {},
   "outputs": [
    {
     "data": {
      "text/plain": [
       "Pipeline(steps=[('pca', PCA(n_components=0.8)), ('ridge', Ridge(alpha=1000))])"
      ]
     },
     "execution_count": 93,
     "metadata": {},
     "output_type": "execute_result"
    }
   ],
   "source": [
    "lr_pipeline.fit(X_train, y_train)"
   ]
  },
  {
   "cell_type": "code",
   "execution_count": 94,
   "metadata": {},
   "outputs": [
    {
     "data": {
      "text/plain": [
       "0.4977529360893117"
      ]
     },
     "execution_count": 94,
     "metadata": {},
     "output_type": "execute_result"
    }
   ],
   "source": [
    "lr_pipeline.score(X_train, y_train)"
   ]
  },
  {
   "cell_type": "code",
   "execution_count": 95,
   "metadata": {},
   "outputs": [
    {
     "data": {
      "text/plain": [
       "0.4615112297044318"
      ]
     },
     "execution_count": 95,
     "metadata": {},
     "output_type": "execute_result"
    }
   ],
   "source": [
    "lr_pipeline.score(X_test, y_test)"
   ]
  },
  {
   "cell_type": "code",
   "execution_count": 100,
   "metadata": {},
   "outputs": [
    {
     "data": {
      "text/plain": [
       "16"
      ]
     },
     "execution_count": 100,
     "metadata": {},
     "output_type": "execute_result"
    }
   ],
   "source": [
    "lr_pipeline.named_steps['pca'].n_components_"
   ]
  },
  {
   "cell_type": "code",
   "execution_count": null,
   "metadata": {},
   "outputs": [],
   "source": []
  },
  {
   "cell_type": "code",
   "execution_count": 101,
   "metadata": {},
   "outputs": [],
   "source": [
    "y_test_reg_preds = lr_pipeline.predict(X_test)"
   ]
  },
  {
   "cell_type": "code",
   "execution_count": 102,
   "metadata": {},
   "outputs": [
    {
     "data": {
      "image/png": "[encoded data removed]",
      "text/plain": [
       "<Figure size 576x432 with 1 Axes>"
      ]
     },
     "metadata": {
      "needs_background": "light"
     },
     "output_type": "display_data"
    }
   ],
   "source": [
    "fig, axes = plt.subplots(figsize=(8, 6))\n",
    "\n",
    "axes.scatter(x=y_test, y=y_test_reg_preds)\n",
    "\n",
    "axes.plot([0, 20000000], [0,20000000])\n",
    "axes.set_title(\"Actual vs Predicted - Regression\")\n",
    "axes.set_xlabel(\"Actual\")\n",
    "axes.set_ylabel(\"Predicted\");"
   ]
  },
  {
   "cell_type": "code",
   "execution_count": 103,
   "metadata": {},
   "outputs": [
    {
     "name": "stdout",
     "output_type": "stream",
     "text": [
      "Collecting pandas-profiling[notebook]\n",
      "  Downloading pandas_profiling-2.11.0-py2.py3-none-any.whl (243 kB)\n",
      "\u001b[K     |████████████████████████████████| 243 kB 4.7 MB/s eta 0:00:01\n",
      "\u001b[?25hRequirement already satisfied, skipping upgrade: seaborn>=0.10.1 in /Users/abhinavverma/opt/anaconda3/lib/python3.8/site-packages (from pandas-profiling[notebook]) (0.11.0)\n",
      "Requirement already satisfied, skipping upgrade: missingno>=0.4.2 in /Users/abhinavverma/opt/anaconda3/lib/python3.8/site-packages (from pandas-profiling[notebook]) (0.4.2)\n",
      "Requirement already satisfied, skipping upgrade: matplotlib>=3.2.0 in /Users/abhinavverma/opt/anaconda3/lib/python3.8/site-packages (from pandas-profiling[notebook]) (3.3.2)\n",
      "Requirement already satisfied, skipping upgrade: ipywidgets>=7.5.1 in /Users/abhinavverma/opt/anaconda3/lib/python3.8/site-packages (from pandas-profiling[notebook]) (7.5.1)\n",
      "Requirement already satisfied, skipping upgrade: confuse>=1.0.0 in /Users/abhinavverma/opt/anaconda3/lib/python3.8/site-packages (from pandas-profiling[notebook]) (1.4.0)\n",
      "Requirement already satisfied, skipping upgrade: tangled-up-in-unicode>=0.0.6 in /Users/abhinavverma/opt/anaconda3/lib/python3.8/site-packages (from pandas-profiling[notebook]) (0.0.6)\n",
      "Requirement already satisfied, skipping upgrade: htmlmin>=0.1.12 in /Users/abhinavverma/opt/anaconda3/lib/python3.8/site-packages (from pandas-profiling[notebook]) (0.1.12)\n",
      "Requirement already satisfied, skipping upgrade: requests>=2.24.0 in /Users/abhinavverma/opt/anaconda3/lib/python3.8/site-packages (from pandas-profiling[notebook]) (2.24.0)\n",
      "Requirement already satisfied, skipping upgrade: pandas!=1.0.0,!=1.0.1,!=1.0.2,!=1.1.0,>=0.25.3 in /Users/abhinavverma/opt/anaconda3/lib/python3.8/site-packages (from pandas-profiling[notebook]) (1.1.3)\n",
      "Requirement already satisfied, skipping upgrade: numpy>=1.16.0 in /Users/abhinavverma/opt/anaconda3/lib/python3.8/site-packages (from pandas-profiling[notebook]) (1.19.2)\n",
      "Requirement already satisfied, skipping upgrade: phik>=0.10.0 in /Users/abhinavverma/opt/anaconda3/lib/python3.8/site-packages (from pandas-profiling[notebook]) (0.11.0)\n",
      "Requirement already satisfied, skipping upgrade: scipy>=1.4.1 in /Users/abhinavverma/opt/anaconda3/lib/python3.8/site-packages (from pandas-profiling[notebook]) (1.5.2)\n",
      "Requirement already satisfied, skipping upgrade: joblib in /Users/abhinavverma/opt/anaconda3/lib/python3.8/site-packages (from pandas-profiling[notebook]) (0.17.0)\n",
      "Requirement already satisfied, skipping upgrade: tqdm>=4.48.2 in /Users/abhinavverma/opt/anaconda3/lib/python3.8/site-packages (from pandas-profiling[notebook]) (4.50.2)\n",
      "Requirement already satisfied, skipping upgrade: attrs>=19.3.0 in /Users/abhinavverma/opt/anaconda3/lib/python3.8/site-packages (from pandas-profiling[notebook]) (20.3.0)\n",
      "Requirement already satisfied, skipping upgrade: jinja2>=2.11.1 in /Users/abhinavverma/opt/anaconda3/lib/python3.8/site-packages (from pandas-profiling[notebook]) (2.11.2)\n",
      "Requirement already satisfied, skipping upgrade: visions[type_image_path]==0.6.0 in /Users/abhinavverma/opt/anaconda3/lib/python3.8/site-packages (from pandas-profiling[notebook]) (0.6.0)\n",
      "Requirement already satisfied, skipping upgrade: jupyter-core>=4.6.3; extra == \"notebook\" in /Users/abhinavverma/opt/anaconda3/lib/python3.8/site-packages (from pandas-profiling[notebook]) (4.6.3)\n",
      "Requirement already satisfied, skipping upgrade: jupyter-client>=6.0.0; extra == \"notebook\" in /Users/abhinavverma/opt/anaconda3/lib/python3.8/site-packages (from pandas-profiling[notebook]) (6.1.7)\n",
      "Requirement already satisfied, skipping upgrade: cycler>=0.10 in /Users/abhinavverma/opt/anaconda3/lib/python3.8/site-packages (from matplotlib>=3.2.0->pandas-profiling[notebook]) (0.10.0)\n",
      "Requirement already satisfied, skipping upgrade: certifi>=2020.06.20 in /Users/abhinavverma/opt/anaconda3/lib/python3.8/site-packages (from matplotlib>=3.2.0->pandas-profiling[notebook]) (2020.6.20)\n",
      "Requirement already satisfied, skipping upgrade: kiwisolver>=1.0.1 in /Users/abhinavverma/opt/anaconda3/lib/python3.8/site-packages (from matplotlib>=3.2.0->pandas-profiling[notebook]) (1.3.0)\n",
      "Requirement already satisfied, skipping upgrade: python-dateutil>=2.1 in /Users/abhinavverma/opt/anaconda3/lib/python3.8/site-packages (from matplotlib>=3.2.0->pandas-profiling[notebook]) (2.8.1)\n",
      "Requirement already satisfied, skipping upgrade: pyparsing!=2.0.4,!=2.1.2,!=2.1.6,>=2.0.3 in /Users/abhinavverma/opt/anaconda3/lib/python3.8/site-packages (from matplotlib>=3.2.0->pandas-profiling[notebook]) (2.4.7)\n",
      "Requirement already satisfied, skipping upgrade: pillow>=6.2.0 in /Users/abhinavverma/opt/anaconda3/lib/python3.8/site-packages (from matplotlib>=3.2.0->pandas-profiling[notebook]) (8.0.1)\n",
      "Requirement already satisfied, skipping upgrade: traitlets>=4.3.1 in /Users/abhinavverma/opt/anaconda3/lib/python3.8/site-packages (from ipywidgets>=7.5.1->pandas-profiling[notebook]) (5.0.5)\n",
      "Requirement already satisfied, skipping upgrade: nbformat>=4.2.0 in /Users/abhinavverma/opt/anaconda3/lib/python3.8/site-packages (from ipywidgets>=7.5.1->pandas-profiling[notebook]) (5.0.8)\n",
      "Requirement already satisfied, skipping upgrade: ipykernel>=4.5.1 in /Users/abhinavverma/opt/anaconda3/lib/python3.8/site-packages (from ipywidgets>=7.5.1->pandas-profiling[notebook]) (5.3.4)\n",
      "Requirement already satisfied, skipping upgrade: ipython>=4.0.0; python_version >= \"3.3\" in /Users/abhinavverma/opt/anaconda3/lib/python3.8/site-packages (from ipywidgets>=7.5.1->pandas-profiling[notebook]) (7.19.0)\n",
      "Requirement already satisfied, skipping upgrade: widgetsnbextension~=3.5.0 in /Users/abhinavverma/opt/anaconda3/lib/python3.8/site-packages (from ipywidgets>=7.5.1->pandas-profiling[notebook]) (3.5.1)\n",
      "Requirement already satisfied, skipping upgrade: pyyaml in /Users/abhinavverma/opt/anaconda3/lib/python3.8/site-packages (from confuse>=1.0.0->pandas-profiling[notebook]) (5.3.1)\n",
      "Requirement already satisfied, skipping upgrade: idna<3,>=2.5 in /Users/abhinavverma/opt/anaconda3/lib/python3.8/site-packages (from requests>=2.24.0->pandas-profiling[notebook]) (2.10)\n",
      "Requirement already satisfied, skipping upgrade: chardet<4,>=3.0.2 in /Users/abhinavverma/opt/anaconda3/lib/python3.8/site-packages (from requests>=2.24.0->pandas-profiling[notebook]) (3.0.4)\n",
      "Requirement already satisfied, skipping upgrade: urllib3!=1.25.0,!=1.25.1,<1.26,>=1.21.1 in /Users/abhinavverma/opt/anaconda3/lib/python3.8/site-packages (from requests>=2.24.0->pandas-profiling[notebook]) (1.25.11)\n",
      "Requirement already satisfied, skipping upgrade: pytz>=2017.2 in /Users/abhinavverma/opt/anaconda3/lib/python3.8/site-packages (from pandas!=1.0.0,!=1.0.1,!=1.0.2,!=1.1.0,>=0.25.3->pandas-profiling[notebook]) (2020.1)\n",
      "Requirement already satisfied, skipping upgrade: numba>=0.38.1 in /Users/abhinavverma/opt/anaconda3/lib/python3.8/site-packages (from phik>=0.10.0->pandas-profiling[notebook]) (0.51.2)\n",
      "Requirement already satisfied, skipping upgrade: MarkupSafe>=0.23 in /Users/abhinavverma/opt/anaconda3/lib/python3.8/site-packages (from jinja2>=2.11.1->pandas-profiling[notebook]) (1.1.1)\n",
      "Requirement already satisfied, skipping upgrade: networkx>=2.4 in /Users/abhinavverma/opt/anaconda3/lib/python3.8/site-packages (from visions[type_image_path]==0.6.0->pandas-profiling[notebook]) (2.5)\n",
      "Requirement already satisfied, skipping upgrade: imagehash; extra == \"type_image_path\" in /Users/abhinavverma/opt/anaconda3/lib/python3.8/site-packages (from visions[type_image_path]==0.6.0->pandas-profiling[notebook]) (4.2.0)\n",
      "Requirement already satisfied, skipping upgrade: tornado>=4.1 in /Users/abhinavverma/opt/anaconda3/lib/python3.8/site-packages (from jupyter-client>=6.0.0; extra == \"notebook\"->pandas-profiling[notebook]) (6.0.4)\n",
      "Requirement already satisfied, skipping upgrade: pyzmq>=13 in /Users/abhinavverma/opt/anaconda3/lib/python3.8/site-packages (from jupyter-client>=6.0.0; extra == \"notebook\"->pandas-profiling[notebook]) (19.0.2)\n",
      "Requirement already satisfied, skipping upgrade: six in /Users/abhinavverma/opt/anaconda3/lib/python3.8/site-packages (from cycler>=0.10->matplotlib>=3.2.0->pandas-profiling[notebook]) (1.15.0)\n",
      "Requirement already satisfied, skipping upgrade: ipython-genutils in /Users/abhinavverma/opt/anaconda3/lib/python3.8/site-packages (from traitlets>=4.3.1->ipywidgets>=7.5.1->pandas-profiling[notebook]) (0.2.0)\n",
      "Requirement already satisfied, skipping upgrade: jsonschema!=2.5.0,>=2.4 in /Users/abhinavverma/opt/anaconda3/lib/python3.8/site-packages (from nbformat>=4.2.0->ipywidgets>=7.5.1->pandas-profiling[notebook]) (3.2.0)\n",
      "Requirement already satisfied, skipping upgrade: appnope; platform_system == \"Darwin\" in /Users/abhinavverma/opt/anaconda3/lib/python3.8/site-packages (from ipykernel>=4.5.1->ipywidgets>=7.5.1->pandas-profiling[notebook]) (0.1.0)\n",
      "Requirement already satisfied, skipping upgrade: decorator in /Users/abhinavverma/opt/anaconda3/lib/python3.8/site-packages (from ipython>=4.0.0; python_version >= \"3.3\"->ipywidgets>=7.5.1->pandas-profiling[notebook]) (4.4.2)\n",
      "Requirement already satisfied, skipping upgrade: pickleshare in /Users/abhinavverma/opt/anaconda3/lib/python3.8/site-packages (from ipython>=4.0.0; python_version >= \"3.3\"->ipywidgets>=7.5.1->pandas-profiling[notebook]) (0.7.5)\n",
      "Requirement already satisfied, skipping upgrade: setuptools>=18.5 in /Users/abhinavverma/opt/anaconda3/lib/python3.8/site-packages (from ipython>=4.0.0; python_version >= \"3.3\"->ipywidgets>=7.5.1->pandas-profiling[notebook]) (50.3.1.post20201107)\n"
     ]
    },
    {
     "name": "stdout",
     "output_type": "stream",
     "text": [
      "Requirement already satisfied, skipping upgrade: jedi>=0.10 in /Users/abhinavverma/opt/anaconda3/lib/python3.8/site-packages (from ipython>=4.0.0; python_version >= \"3.3\"->ipywidgets>=7.5.1->pandas-profiling[notebook]) (0.17.1)\n",
      "Requirement already satisfied, skipping upgrade: pexpect>4.3; sys_platform != \"win32\" in /Users/abhinavverma/opt/anaconda3/lib/python3.8/site-packages (from ipython>=4.0.0; python_version >= \"3.3\"->ipywidgets>=7.5.1->pandas-profiling[notebook]) (4.8.0)\n",
      "Requirement already satisfied, skipping upgrade: prompt-toolkit!=3.0.0,!=3.0.1,<3.1.0,>=2.0.0 in /Users/abhinavverma/opt/anaconda3/lib/python3.8/site-packages (from ipython>=4.0.0; python_version >= \"3.3\"->ipywidgets>=7.5.1->pandas-profiling[notebook]) (3.0.8)\n",
      "Requirement already satisfied, skipping upgrade: pygments in /Users/abhinavverma/opt/anaconda3/lib/python3.8/site-packages (from ipython>=4.0.0; python_version >= \"3.3\"->ipywidgets>=7.5.1->pandas-profiling[notebook]) (2.7.2)\n",
      "Requirement already satisfied, skipping upgrade: backcall in /Users/abhinavverma/opt/anaconda3/lib/python3.8/site-packages (from ipython>=4.0.0; python_version >= \"3.3\"->ipywidgets>=7.5.1->pandas-profiling[notebook]) (0.2.0)\n",
      "Requirement already satisfied, skipping upgrade: notebook>=4.4.1 in /Users/abhinavverma/opt/anaconda3/lib/python3.8/site-packages (from widgetsnbextension~=3.5.0->ipywidgets>=7.5.1->pandas-profiling[notebook]) (6.1.4)\n",
      "Requirement already satisfied, skipping upgrade: llvmlite<0.35,>=0.34.0.dev0 in /Users/abhinavverma/opt/anaconda3/lib/python3.8/site-packages (from numba>=0.38.1->phik>=0.10.0->pandas-profiling[notebook]) (0.34.0)\n",
      "Requirement already satisfied, skipping upgrade: PyWavelets in /Users/abhinavverma/opt/anaconda3/lib/python3.8/site-packages (from imagehash; extra == \"type_image_path\"->visions[type_image_path]==0.6.0->pandas-profiling[notebook]) (1.1.1)\n",
      "Requirement already satisfied, skipping upgrade: pyrsistent>=0.14.0 in /Users/abhinavverma/opt/anaconda3/lib/python3.8/site-packages (from jsonschema!=2.5.0,>=2.4->nbformat>=4.2.0->ipywidgets>=7.5.1->pandas-profiling[notebook]) (0.17.3)\n",
      "Requirement already satisfied, skipping upgrade: parso<0.8.0,>=0.7.0 in /Users/abhinavverma/opt/anaconda3/lib/python3.8/site-packages (from jedi>=0.10->ipython>=4.0.0; python_version >= \"3.3\"->ipywidgets>=7.5.1->pandas-profiling[notebook]) (0.7.0)\n",
      "Requirement already satisfied, skipping upgrade: ptyprocess>=0.5 in /Users/abhinavverma/opt/anaconda3/lib/python3.8/site-packages (from pexpect>4.3; sys_platform != \"win32\"->ipython>=4.0.0; python_version >= \"3.3\"->ipywidgets>=7.5.1->pandas-profiling[notebook]) (0.6.0)\n",
      "Requirement already satisfied, skipping upgrade: wcwidth in /Users/abhinavverma/opt/anaconda3/lib/python3.8/site-packages (from prompt-toolkit!=3.0.0,!=3.0.1,<3.1.0,>=2.0.0->ipython>=4.0.0; python_version >= \"3.3\"->ipywidgets>=7.5.1->pandas-profiling[notebook]) (0.2.5)\n",
      "Requirement already satisfied, skipping upgrade: terminado>=0.8.3 in /Users/abhinavverma/opt/anaconda3/lib/python3.8/site-packages (from notebook>=4.4.1->widgetsnbextension~=3.5.0->ipywidgets>=7.5.1->pandas-profiling[notebook]) (0.9.1)\n",
      "Requirement already satisfied, skipping upgrade: Send2Trash in /Users/abhinavverma/opt/anaconda3/lib/python3.8/site-packages (from notebook>=4.4.1->widgetsnbextension~=3.5.0->ipywidgets>=7.5.1->pandas-profiling[notebook]) (1.5.0)\n",
      "Requirement already satisfied, skipping upgrade: argon2-cffi in /Users/abhinavverma/opt/anaconda3/lib/python3.8/site-packages (from notebook>=4.4.1->widgetsnbextension~=3.5.0->ipywidgets>=7.5.1->pandas-profiling[notebook]) (20.1.0)\n",
      "Requirement already satisfied, skipping upgrade: nbconvert in /Users/abhinavverma/opt/anaconda3/lib/python3.8/site-packages (from notebook>=4.4.1->widgetsnbextension~=3.5.0->ipywidgets>=7.5.1->pandas-profiling[notebook]) (6.0.7)\n",
      "Requirement already satisfied, skipping upgrade: prometheus-client in /Users/abhinavverma/opt/anaconda3/lib/python3.8/site-packages (from notebook>=4.4.1->widgetsnbextension~=3.5.0->ipywidgets>=7.5.1->pandas-profiling[notebook]) (0.8.0)\n",
      "Requirement already satisfied, skipping upgrade: cffi>=1.0.0 in /Users/abhinavverma/opt/anaconda3/lib/python3.8/site-packages (from argon2-cffi->notebook>=4.4.1->widgetsnbextension~=3.5.0->ipywidgets>=7.5.1->pandas-profiling[notebook]) (1.14.3)\n",
      "Requirement already satisfied, skipping upgrade: defusedxml in /Users/abhinavverma/opt/anaconda3/lib/python3.8/site-packages (from nbconvert->notebook>=4.4.1->widgetsnbextension~=3.5.0->ipywidgets>=7.5.1->pandas-profiling[notebook]) (0.6.0)\n",
      "Requirement already satisfied, skipping upgrade: nbclient<0.6.0,>=0.5.0 in /Users/abhinavverma/opt/anaconda3/lib/python3.8/site-packages (from nbconvert->notebook>=4.4.1->widgetsnbextension~=3.5.0->ipywidgets>=7.5.1->pandas-profiling[notebook]) (0.5.1)\n",
      "Requirement already satisfied, skipping upgrade: bleach in /Users/abhinavverma/opt/anaconda3/lib/python3.8/site-packages (from nbconvert->notebook>=4.4.1->widgetsnbextension~=3.5.0->ipywidgets>=7.5.1->pandas-profiling[notebook]) (3.2.1)\n",
      "Requirement already satisfied, skipping upgrade: jupyterlab-pygments in /Users/abhinavverma/opt/anaconda3/lib/python3.8/site-packages (from nbconvert->notebook>=4.4.1->widgetsnbextension~=3.5.0->ipywidgets>=7.5.1->pandas-profiling[notebook]) (0.1.2)\n",
      "Requirement already satisfied, skipping upgrade: pandocfilters>=1.4.1 in /Users/abhinavverma/opt/anaconda3/lib/python3.8/site-packages (from nbconvert->notebook>=4.4.1->widgetsnbextension~=3.5.0->ipywidgets>=7.5.1->pandas-profiling[notebook]) (1.4.3)\n",
      "Requirement already satisfied, skipping upgrade: testpath in /Users/abhinavverma/opt/anaconda3/lib/python3.8/site-packages (from nbconvert->notebook>=4.4.1->widgetsnbextension~=3.5.0->ipywidgets>=7.5.1->pandas-profiling[notebook]) (0.4.4)\n",
      "Requirement already satisfied, skipping upgrade: mistune<2,>=0.8.1 in /Users/abhinavverma/opt/anaconda3/lib/python3.8/site-packages (from nbconvert->notebook>=4.4.1->widgetsnbextension~=3.5.0->ipywidgets>=7.5.1->pandas-profiling[notebook]) (0.8.4)\n",
      "Requirement already satisfied, skipping upgrade: entrypoints>=0.2.2 in /Users/abhinavverma/opt/anaconda3/lib/python3.8/site-packages (from nbconvert->notebook>=4.4.1->widgetsnbextension~=3.5.0->ipywidgets>=7.5.1->pandas-profiling[notebook]) (0.3)\n",
      "Requirement already satisfied, skipping upgrade: pycparser in /Users/abhinavverma/opt/anaconda3/lib/python3.8/site-packages (from cffi>=1.0.0->argon2-cffi->notebook>=4.4.1->widgetsnbextension~=3.5.0->ipywidgets>=7.5.1->pandas-profiling[notebook]) (2.20)\n",
      "Requirement already satisfied, skipping upgrade: async-generator in /Users/abhinavverma/opt/anaconda3/lib/python3.8/site-packages (from nbclient<0.6.0,>=0.5.0->nbconvert->notebook>=4.4.1->widgetsnbextension~=3.5.0->ipywidgets>=7.5.1->pandas-profiling[notebook]) (1.10)\n",
      "Requirement already satisfied, skipping upgrade: nest-asyncio in /Users/abhinavverma/opt/anaconda3/lib/python3.8/site-packages (from nbclient<0.6.0,>=0.5.0->nbconvert->notebook>=4.4.1->widgetsnbextension~=3.5.0->ipywidgets>=7.5.1->pandas-profiling[notebook]) (1.4.2)\n",
      "Requirement already satisfied, skipping upgrade: packaging in /Users/abhinavverma/opt/anaconda3/lib/python3.8/site-packages (from bleach->nbconvert->notebook>=4.4.1->widgetsnbextension~=3.5.0->ipywidgets>=7.5.1->pandas-profiling[notebook]) (20.4)\n",
      "Requirement already satisfied, skipping upgrade: webencodings in /Users/abhinavverma/opt/anaconda3/lib/python3.8/site-packages (from bleach->nbconvert->notebook>=4.4.1->widgetsnbextension~=3.5.0->ipywidgets>=7.5.1->pandas-profiling[notebook]) (0.5.1)\n",
      "Installing collected packages: pandas-profiling\n",
      "  Attempting uninstall: pandas-profiling\n",
      "    Found existing installation: pandas-profiling 2.10.1\n",
      "    Uninstalling pandas-profiling-2.10.1:\n",
      "      Successfully uninstalled pandas-profiling-2.10.1\n",
      "Successfully installed pandas-profiling-2.11.0\n",
      "Enabling notebook extension jupyter-js-widgets/extension...\n",
      "      - Validating: \u001b[32mOK\u001b[0m\n"
     ]
    }
   ],
   "source": [
    "import sys\n",
    "!{sys.executable} -m pip install -U pandas-profiling[notebook]\n",
    "!jupyter nbextension enable --py widgetsnbextension"
   ]
  },
  {
   "cell_type": "code",
   "execution_count": null,
   "metadata": {},
   "outputs": [],
   "source": []
  }
 ],
 "metadata": {
  "kernelspec": {
   "display_name": "Python 3",
   "language": "python",
   "name": "python3"
  },
  "language_info": {
   "codemirror_mode": {
    "name": "ipython",
    "version": 3
   },
   "file_extension": ".py",
   "mimetype": "text/x-python",
   "name": "python",
   "nbconvert_exporter": "python",
   "pygments_lexer": "ipython3",
   "version": "3.8.5"
  }
 },
 "nbformat": 4,
 "nbformat_minor": 4
}
