{
 "cells": [
  {
   "cell_type": "code",
   "execution_count": 380,
   "metadata": {},
   "outputs": [],
   "source": [
    "import pandas as pd\n",
    "import matplotlib.pyplot as plt\n",
    "import seaborn as sns\n",
    "import numpy as np\n",
    "\n",
    "from sklearn.model_selection import train_test_split, GridSearchCV\n",
    "from sklearn.preprocessing import StandardScaler\n",
    "from sklearn.linear_model import LinearRegression\n",
    "from sklearn.ensemble import GradientBoostingRegressor, RandomForestRegressor\n",
    "\n",
    "from sklearn.decomposition import PCA\n",
    "from sklearn.pipeline import make_pipeline\n",
    "\n",
    "from sklearn.metrics import r2_score, mean_squared_error\n",
    "\n",
    "from sklearn.linear_model import (\n",
    "    LinearRegression, TheilSenRegressor, RANSACRegressor, HuberRegressor, Ridge)\n",
    "from pandas_profiling import ProfileReport\n",
    "from sklearn.feature_selection import SelectKBest, f_regression"
   ]
  },
  {
   "cell_type": "code",
   "execution_count": 381,
   "metadata": {},
   "outputs": [],
   "source": [
    "df = pd.read_csv('../data/final_eda_base_data.csv', index_col= 0)"
   ]
  },
  {
   "cell_type": "code",
   "execution_count": 382,
   "metadata": {},
   "outputs": [
    {
     "name": "stdout",
     "output_type": "stream",
     "text": [
      "<class 'pandas.core.frame.DataFrame'>\n",
      "Int64Index: 10005 entries, 0 to 10004\n",
      "Data columns (total 42 columns):\n",
      " #   Column                               Non-Null Count  Dtype  \n",
      "---  ------                               --------------  -----  \n",
      " 0   no_of_sales_12M_1                    10005 non-null  float64\n",
      " 1   no_of_Redemption_12M_1               10005 non-null  float64\n",
      " 2   no_of_sales_12M_10K                  10005 non-null  float64\n",
      " 3   no_of_Redemption_12M_10K             10005 non-null  float64\n",
      " 4   no_of_funds_sold_12M_1               10005 non-null  float64\n",
      " 5   no_of_funds_redeemed_12M_1           10005 non-null  float64\n",
      " 6   no_of_fund_sales_12M_10K             10005 non-null  float64\n",
      " 7   no_of_funds_Redemption_12M_10K       10005 non-null  float64\n",
      " 8   no_of_assetclass_sold_12M_1          10005 non-null  float64\n",
      " 9   no_of_assetclass_redeemed_12M_1      10005 non-null  float64\n",
      " 10  no_of_assetclass_sales_12M_10K       10005 non-null  float64\n",
      " 11  no_of_assetclass_Redemption_12M_10K  10005 non-null  float64\n",
      " 12  No_of_fund_curr                      10005 non-null  float64\n",
      " 13  No_of_asset_curr                     10005 non-null  float64\n",
      " 14  AUM                                  10005 non-null  float64\n",
      " 15  sales_curr                           10005 non-null  float64\n",
      " 16  sales_12M                            10005 non-null  float64\n",
      " 17  redemption_curr                      10005 non-null  float64\n",
      " 18  redemption_12M                       10005 non-null  float64\n",
      " 19  new_Fund_added_12M                   10005 non-null  float64\n",
      " 20  sales_2019                           10005 non-null  float64\n",
      " 21  new_fund_2019                        10005 non-null  float64\n",
      " 22  Firm name                            10005 non-null  object \n",
      " 23  Channel_Asset Manager                10005 non-null  int64  \n",
      " 24  Channel_Bank/Trust                   10005 non-null  int64  \n",
      " 25  Channel_Discount                     10005 non-null  int64  \n",
      " 26  Channel_Dual                         10005 non-null  int64  \n",
      " 27  Channel_Fee-Based Adviser            10005 non-null  int64  \n",
      " 28  Channel_Independent Dealer           10005 non-null  int64  \n",
      " 29  Channel_International Outlet         10005 non-null  int64  \n",
      " 30  Channel_Low/Non Producer             10005 non-null  int64  \n",
      " 31  Channel_National Broker-Dealer       10005 non-null  int64  \n",
      " 32  Channel_Networker                    10005 non-null  int64  \n",
      " 33  Channel_Private Client Group         10005 non-null  int64  \n",
      " 34  Sub channel_Affiliated               10005 non-null  int64  \n",
      " 35  Sub channel_DCIO                     10005 non-null  int64  \n",
      " 36  Sub channel_Global                   10005 non-null  int64  \n",
      " 37  Sub channel_IBD                      10005 non-null  int64  \n",
      " 38  Sub channel_NACS                     10005 non-null  int64  \n",
      " 39  Sub channel_Other                    10005 non-null  int64  \n",
      " 40  Sub channel_RIA                      10005 non-null  int64  \n",
      " 41  Sub channel_USBT                     10005 non-null  int64  \n",
      "dtypes: float64(22), int64(19), object(1)\n",
      "memory usage: 3.3+ MB\n"
     ]
    }
   ],
   "source": [
    "df.info()"
   ]
  },
  {
   "cell_type": "code",
   "execution_count": 383,
   "metadata": {},
   "outputs": [],
   "source": [
    "#df.drop(df.iloc[:, 22:40], inplace = True, axis=1)"
   ]
  },
  {
   "cell_type": "code",
   "execution_count": 384,
   "metadata": {},
   "outputs": [
    {
     "name": "stdout",
     "output_type": "stream",
     "text": [
      "<class 'pandas.core.frame.DataFrame'>\n",
      "Int64Index: 10005 entries, 0 to 10004\n",
      "Data columns (total 42 columns):\n",
      " #   Column                               Non-Null Count  Dtype  \n",
      "---  ------                               --------------  -----  \n",
      " 0   no_of_sales_12M_1                    10005 non-null  float64\n",
      " 1   no_of_Redemption_12M_1               10005 non-null  float64\n",
      " 2   no_of_sales_12M_10K                  10005 non-null  float64\n",
      " 3   no_of_Redemption_12M_10K             10005 non-null  float64\n",
      " 4   no_of_funds_sold_12M_1               10005 non-null  float64\n",
      " 5   no_of_funds_redeemed_12M_1           10005 non-null  float64\n",
      " 6   no_of_fund_sales_12M_10K             10005 non-null  float64\n",
      " 7   no_of_funds_Redemption_12M_10K       10005 non-null  float64\n",
      " 8   no_of_assetclass_sold_12M_1          10005 non-null  float64\n",
      " 9   no_of_assetclass_redeemed_12M_1      10005 non-null  float64\n",
      " 10  no_of_assetclass_sales_12M_10K       10005 non-null  float64\n",
      " 11  no_of_assetclass_Redemption_12M_10K  10005 non-null  float64\n",
      " 12  No_of_fund_curr                      10005 non-null  float64\n",
      " 13  No_of_asset_curr                     10005 non-null  float64\n",
      " 14  AUM                                  10005 non-null  float64\n",
      " 15  sales_curr                           10005 non-null  float64\n",
      " 16  sales_12M                            10005 non-null  float64\n",
      " 17  redemption_curr                      10005 non-null  float64\n",
      " 18  redemption_12M                       10005 non-null  float64\n",
      " 19  new_Fund_added_12M                   10005 non-null  float64\n",
      " 20  sales_2019                           10005 non-null  float64\n",
      " 21  new_fund_2019                        10005 non-null  float64\n",
      " 22  Firm name                            10005 non-null  object \n",
      " 23  Channel_Asset Manager                10005 non-null  int64  \n",
      " 24  Channel_Bank/Trust                   10005 non-null  int64  \n",
      " 25  Channel_Discount                     10005 non-null  int64  \n",
      " 26  Channel_Dual                         10005 non-null  int64  \n",
      " 27  Channel_Fee-Based Adviser            10005 non-null  int64  \n",
      " 28  Channel_Independent Dealer           10005 non-null  int64  \n",
      " 29  Channel_International Outlet         10005 non-null  int64  \n",
      " 30  Channel_Low/Non Producer             10005 non-null  int64  \n",
      " 31  Channel_National Broker-Dealer       10005 non-null  int64  \n",
      " 32  Channel_Networker                    10005 non-null  int64  \n",
      " 33  Channel_Private Client Group         10005 non-null  int64  \n",
      " 34  Sub channel_Affiliated               10005 non-null  int64  \n",
      " 35  Sub channel_DCIO                     10005 non-null  int64  \n",
      " 36  Sub channel_Global                   10005 non-null  int64  \n",
      " 37  Sub channel_IBD                      10005 non-null  int64  \n",
      " 38  Sub channel_NACS                     10005 non-null  int64  \n",
      " 39  Sub channel_Other                    10005 non-null  int64  \n",
      " 40  Sub channel_RIA                      10005 non-null  int64  \n",
      " 41  Sub channel_USBT                     10005 non-null  int64  \n",
      "dtypes: float64(22), int64(19), object(1)\n",
      "memory usage: 3.3+ MB\n"
     ]
    }
   ],
   "source": [
    "df.info()"
   ]
  },
  {
   "cell_type": "code",
   "execution_count": 385,
   "metadata": {},
   "outputs": [],
   "source": [
    "# see the increase or decrease in Total sales"
   ]
  },
  {
   "cell_type": "code",
   "execution_count": 429,
   "metadata": {},
   "outputs": [],
   "source": [
    "total_sales_2018 = df['sales_12M'].sum()\n",
    "total_sales_2018_curr = df['sales_curr'].sum()\n",
    "total_sales_2019 = df['sales_2019'].sum()"
   ]
  },
  {
   "cell_type": "code",
   "execution_count": 426,
   "metadata": {},
   "outputs": [
    {
     "data": {
      "text/plain": [
       "-19460114.22761917"
      ]
     },
     "execution_count": 426,
     "metadata": {},
     "output_type": "execute_result"
    }
   ],
   "source": [
    "total_sales_2019 - 2160628225 "
   ]
  },
  {
   "cell_type": "code",
   "execution_count": 433,
   "metadata": {},
   "outputs": [
    {
     "data": {
      "text/plain": [
       "12.406626312261182"
      ]
     },
     "execution_count": 433,
     "metadata": {},
     "output_type": "execute_result"
    }
   ],
   "source": [
    "\n",
    "#total sales increase in percentage: in 2018 - 2019\n",
    "((total_sales_2019 - total_sales_2018 - total_sales_2018_curr)/(total_sales_2018 + total_sales_2018_curr))*100"
   ]
  },
  {
   "cell_type": "code",
   "execution_count": 435,
   "metadata": {},
   "outputs": [
    {
     "data": {
      "text/plain": [
       "13.42823959753883"
      ]
     },
     "execution_count": 435,
     "metadata": {},
     "output_type": "execute_result"
    }
   ],
   "source": [
    "((2160628225 - total_sales_2018 - total_sales_2018_curr)/(total_sales_2018+total_sales_2018_curr))*100"
   ]
  },
  {
   "cell_type": "markdown",
   "metadata": {},
   "source": [
    "## As per the given data model predicts 13% increase in the sales from 2018 to 2019! which is significant"
   ]
  },
  {
   "cell_type": "code",
   "execution_count": 388,
   "metadata": {},
   "outputs": [],
   "source": [
    "#Drop some highly correlated columns - \n",
    "#'no_of_sales_12M_10K' , 'no_of_Redemption_12M_10K', 'no_of_assetclass_sales_12M_10K', 'redemption_12M', 'redemption_12M'\n",
    "#'no_of_fund_sales_12M_10K'"
   ]
  },
  {
   "cell_type": "code",
   "execution_count": 389,
   "metadata": {},
   "outputs": [],
   "source": [
    "X = df.drop(['no_of_sales_12M_10K', 'no_of_Redemption_12M_10K', 'no_of_assetclass_sales_12M_10K', 'redemption_12M', 'redemption_12M','no_of_fund_sales_12M_10K'], axis=1, inplace= True)"
   ]
  },
  {
   "cell_type": "code",
   "execution_count": 390,
   "metadata": {},
   "outputs": [],
   "source": [
    "##Prepare the test train split"
   ]
  },
  {
   "cell_type": "code",
   "execution_count": 391,
   "metadata": {},
   "outputs": [],
   "source": [
    "X = df.drop(['sales_2019', 'new_fund_2019','Firm name'], axis=1)\n",
    "y = df['sales_2019']"
   ]
  },
  {
   "cell_type": "code",
   "execution_count": 392,
   "metadata": {},
   "outputs": [],
   "source": [
    "X = (X-X.mean())/X.std()"
   ]
  },
  {
   "cell_type": "code",
   "execution_count": 393,
   "metadata": {},
   "outputs": [],
   "source": [
    "#draw histogram to see the distribution"
   ]
  },
  {
   "cell_type": "code",
   "execution_count": 394,
   "metadata": {},
   "outputs": [
    {
     "name": "stdout",
     "output_type": "stream",
     "text": [
      "<class 'pandas.core.frame.DataFrame'>\n",
      "Int64Index: 10005 entries, 0 to 10004\n",
      "Data columns (total 34 columns):\n",
      " #   Column                               Non-Null Count  Dtype  \n",
      "---  ------                               --------------  -----  \n",
      " 0   no_of_sales_12M_1                    10005 non-null  float64\n",
      " 1   no_of_Redemption_12M_1               10005 non-null  float64\n",
      " 2   no_of_funds_sold_12M_1               10005 non-null  float64\n",
      " 3   no_of_funds_redeemed_12M_1           10005 non-null  float64\n",
      " 4   no_of_funds_Redemption_12M_10K       10005 non-null  float64\n",
      " 5   no_of_assetclass_sold_12M_1          10005 non-null  float64\n",
      " 6   no_of_assetclass_redeemed_12M_1      10005 non-null  float64\n",
      " 7   no_of_assetclass_Redemption_12M_10K  10005 non-null  float64\n",
      " 8   No_of_fund_curr                      10005 non-null  float64\n",
      " 9   No_of_asset_curr                     10005 non-null  float64\n",
      " 10  AUM                                  10005 non-null  float64\n",
      " 11  sales_curr                           10005 non-null  float64\n",
      " 12  sales_12M                            10005 non-null  float64\n",
      " 13  redemption_curr                      10005 non-null  float64\n",
      " 14  new_Fund_added_12M                   10005 non-null  float64\n",
      " 15  Channel_Asset Manager                10005 non-null  float64\n",
      " 16  Channel_Bank/Trust                   10005 non-null  float64\n",
      " 17  Channel_Discount                     10005 non-null  float64\n",
      " 18  Channel_Dual                         10005 non-null  float64\n",
      " 19  Channel_Fee-Based Adviser            10005 non-null  float64\n",
      " 20  Channel_Independent Dealer           10005 non-null  float64\n",
      " 21  Channel_International Outlet         10005 non-null  float64\n",
      " 22  Channel_Low/Non Producer             10005 non-null  float64\n",
      " 23  Channel_National Broker-Dealer       10005 non-null  float64\n",
      " 24  Channel_Networker                    10005 non-null  float64\n",
      " 25  Channel_Private Client Group         10005 non-null  float64\n",
      " 26  Sub channel_Affiliated               10005 non-null  float64\n",
      " 27  Sub channel_DCIO                     10005 non-null  float64\n",
      " 28  Sub channel_Global                   10005 non-null  float64\n",
      " 29  Sub channel_IBD                      10005 non-null  float64\n",
      " 30  Sub channel_NACS                     10005 non-null  float64\n",
      " 31  Sub channel_Other                    10005 non-null  float64\n",
      " 32  Sub channel_RIA                      10005 non-null  float64\n",
      " 33  Sub channel_USBT                     10005 non-null  float64\n",
      "dtypes: float64(34)\n",
      "memory usage: 2.7 MB\n"
     ]
    }
   ],
   "source": [
    "X.info()"
   ]
  },
  {
   "cell_type": "code",
   "execution_count": 395,
   "metadata": {},
   "outputs": [],
   "source": [
    "## Decreasing the random state to 12 yeilds a better performance - .50 score on Test data"
   ]
  },
  {
   "cell_type": "code",
   "execution_count": 396,
   "metadata": {},
   "outputs": [],
   "source": [
    "X_train, X_test, y_train, y_test = train_test_split(X, y, test_size=0.25, random_state=20)"
   ]
  },
  {
   "cell_type": "code",
   "execution_count": 397,
   "metadata": {},
   "outputs": [
    {
     "data": {
      "image/png": "[encoded data removed]",
      "text/plain": [
       "<Figure size 432x288 with 1 Axes>"
      ]
     },
     "metadata": {
      "needs_background": "light"
     },
     "output_type": "display_data"
    }
   ],
   "source": [
    "np.log1p(y_train).hist(bins=30);"
   ]
  },
  {
   "cell_type": "code",
   "execution_count": 398,
   "metadata": {},
   "outputs": [],
   "source": [
    "pred_baseline = np.ones(len(y_train))*np.mean(y_train)"
   ]
  },
  {
   "cell_type": "code",
   "execution_count": 399,
   "metadata": {},
   "outputs": [
    {
     "data": {
      "text/plain": [
       "0.0"
      ]
     },
     "execution_count": 399,
     "metadata": {},
     "output_type": "execute_result"
    }
   ],
   "source": [
    "r2_score(y_train, pred_baseline)"
   ]
  },
  {
   "cell_type": "code",
   "execution_count": 400,
   "metadata": {},
   "outputs": [
    {
     "data": {
      "text/plain": [
       "1185311.8594254837"
      ]
     },
     "execution_count": 400,
     "metadata": {},
     "output_type": "execute_result"
    }
   ],
   "source": [
    "mean_squared_error(y_train, pred_baseline, squared= False)"
   ]
  },
  {
   "cell_type": "code",
   "execution_count": 344,
   "metadata": {},
   "outputs": [],
   "source": [
    "lr_pipeline = make_pipeline(PCA(0.8), LinearRegression())"
   ]
  },
  {
   "cell_type": "code",
   "execution_count": 401,
   "metadata": {},
   "outputs": [
    {
     "data": {
      "text/html": [
       "<div>\n",
       "<style scoped>\n",
       "    .dataframe tbody tr th:only-of-type {\n",
       "        vertical-align: middle;\n",
       "    }\n",
       "\n",
       "    .dataframe tbody tr th {\n",
       "        vertical-align: top;\n",
       "    }\n",
       "\n",
       "    .dataframe thead th {\n",
       "        text-align: right;\n",
       "    }\n",
       "</style>\n",
       "<table border=\"1\" class=\"dataframe\">\n",
       "  <thead>\n",
       "    <tr style=\"text-align: right;\">\n",
       "      <th></th>\n",
       "      <th>no_of_sales_12M_1</th>\n",
       "      <th>no_of_Redemption_12M_1</th>\n",
       "      <th>no_of_funds_sold_12M_1</th>\n",
       "      <th>no_of_funds_redeemed_12M_1</th>\n",
       "      <th>no_of_funds_Redemption_12M_10K</th>\n",
       "      <th>no_of_assetclass_sold_12M_1</th>\n",
       "      <th>no_of_assetclass_redeemed_12M_1</th>\n",
       "      <th>no_of_assetclass_Redemption_12M_10K</th>\n",
       "      <th>No_of_fund_curr</th>\n",
       "      <th>No_of_asset_curr</th>\n",
       "      <th>...</th>\n",
       "      <th>Channel_Networker</th>\n",
       "      <th>Channel_Private Client Group</th>\n",
       "      <th>Sub channel_Affiliated</th>\n",
       "      <th>Sub channel_DCIO</th>\n",
       "      <th>Sub channel_Global</th>\n",
       "      <th>Sub channel_IBD</th>\n",
       "      <th>Sub channel_NACS</th>\n",
       "      <th>Sub channel_Other</th>\n",
       "      <th>Sub channel_RIA</th>\n",
       "      <th>Sub channel_USBT</th>\n",
       "    </tr>\n",
       "  </thead>\n",
       "  <tbody>\n",
       "    <tr>\n",
       "      <th>count</th>\n",
       "      <td>7503.000000</td>\n",
       "      <td>7503.000000</td>\n",
       "      <td>7503.000000</td>\n",
       "      <td>7503.000000</td>\n",
       "      <td>7503.000000</td>\n",
       "      <td>7503.000000</td>\n",
       "      <td>7503.000000</td>\n",
       "      <td>7503.000000</td>\n",
       "      <td>7503.000000</td>\n",
       "      <td>7503.000000</td>\n",
       "      <td>...</td>\n",
       "      <td>7503.000000</td>\n",
       "      <td>7503.000000</td>\n",
       "      <td>7503.000000</td>\n",
       "      <td>7503.000000</td>\n",
       "      <td>7503.000000</td>\n",
       "      <td>7503.000000</td>\n",
       "      <td>7503.000000</td>\n",
       "      <td>7503.000000</td>\n",
       "      <td>7503.000000</td>\n",
       "      <td>7503.000000</td>\n",
       "    </tr>\n",
       "    <tr>\n",
       "      <th>mean</th>\n",
       "      <td>0.003349</td>\n",
       "      <td>0.006208</td>\n",
       "      <td>-0.001315</td>\n",
       "      <td>-0.000869</td>\n",
       "      <td>0.002350</td>\n",
       "      <td>-0.003570</td>\n",
       "      <td>-0.005516</td>\n",
       "      <td>-0.000658</td>\n",
       "      <td>-0.002991</td>\n",
       "      <td>-0.001158</td>\n",
       "      <td>...</td>\n",
       "      <td>0.003019</td>\n",
       "      <td>0.006211</td>\n",
       "      <td>0.003783</td>\n",
       "      <td>-0.009620</td>\n",
       "      <td>0.005775</td>\n",
       "      <td>-0.001061</td>\n",
       "      <td>-0.000583</td>\n",
       "      <td>0.005775</td>\n",
       "      <td>0.005252</td>\n",
       "      <td>-0.003331</td>\n",
       "    </tr>\n",
       "    <tr>\n",
       "      <th>std</th>\n",
       "      <td>1.070637</td>\n",
       "      <td>1.139727</td>\n",
       "      <td>1.000704</td>\n",
       "      <td>1.004148</td>\n",
       "      <td>1.003367</td>\n",
       "      <td>1.000310</td>\n",
       "      <td>0.999332</td>\n",
       "      <td>1.001887</td>\n",
       "      <td>0.994794</td>\n",
       "      <td>0.999885</td>\n",
       "      <td>...</td>\n",
       "      <td>1.044483</td>\n",
       "      <td>1.043123</td>\n",
       "      <td>1.069063</td>\n",
       "      <td>0.666767</td>\n",
       "      <td>1.154720</td>\n",
       "      <td>1.000393</td>\n",
       "      <td>0.999773</td>\n",
       "      <td>1.154720</td>\n",
       "      <td>1.017021</td>\n",
       "      <td>0.957555</td>\n",
       "    </tr>\n",
       "    <tr>\n",
       "      <th>min</th>\n",
       "      <td>-0.204003</td>\n",
       "      <td>-0.109508</td>\n",
       "      <td>-0.571424</td>\n",
       "      <td>-0.625797</td>\n",
       "      <td>-0.447401</td>\n",
       "      <td>-0.782473</td>\n",
       "      <td>-0.866220</td>\n",
       "      <td>-0.565465</td>\n",
       "      <td>-0.683590</td>\n",
       "      <td>-0.882629</td>\n",
       "      <td>...</td>\n",
       "      <td>-0.033175</td>\n",
       "      <td>-0.070151</td>\n",
       "      <td>-0.026459</td>\n",
       "      <td>-0.017318</td>\n",
       "      <td>-0.017318</td>\n",
       "      <td>-1.417010</td>\n",
       "      <td>-0.666092</td>\n",
       "      <td>-0.017318</td>\n",
       "      <td>-0.149588</td>\n",
       "      <td>-0.040020</td>\n",
       "    </tr>\n",
       "    <tr>\n",
       "      <th>25%</th>\n",
       "      <td>-0.204003</td>\n",
       "      <td>-0.109508</td>\n",
       "      <td>-0.571424</td>\n",
       "      <td>-0.625797</td>\n",
       "      <td>-0.447401</td>\n",
       "      <td>-0.782473</td>\n",
       "      <td>-0.866220</td>\n",
       "      <td>-0.565465</td>\n",
       "      <td>-0.683590</td>\n",
       "      <td>-0.882629</td>\n",
       "      <td>...</td>\n",
       "      <td>-0.033175</td>\n",
       "      <td>-0.070151</td>\n",
       "      <td>-0.026459</td>\n",
       "      <td>-0.017318</td>\n",
       "      <td>-0.017318</td>\n",
       "      <td>-1.417010</td>\n",
       "      <td>-0.666092</td>\n",
       "      <td>-0.017318</td>\n",
       "      <td>-0.149588</td>\n",
       "      <td>-0.040020</td>\n",
       "    </tr>\n",
       "    <tr>\n",
       "      <th>50%</th>\n",
       "      <td>-0.204003</td>\n",
       "      <td>-0.104287</td>\n",
       "      <td>-0.571424</td>\n",
       "      <td>-0.220574</td>\n",
       "      <td>-0.447401</td>\n",
       "      <td>-0.782473</td>\n",
       "      <td>0.089085</td>\n",
       "      <td>-0.565465</td>\n",
       "      <td>-0.364770</td>\n",
       "      <td>0.076709</td>\n",
       "      <td>...</td>\n",
       "      <td>-0.033175</td>\n",
       "      <td>-0.070151</td>\n",
       "      <td>-0.026459</td>\n",
       "      <td>-0.017318</td>\n",
       "      <td>-0.017318</td>\n",
       "      <td>0.705641</td>\n",
       "      <td>-0.666092</td>\n",
       "      <td>-0.017318</td>\n",
       "      <td>-0.149588</td>\n",
       "      <td>-0.040020</td>\n",
       "    </tr>\n",
       "    <tr>\n",
       "      <th>75%</th>\n",
       "      <td>-0.122736</td>\n",
       "      <td>-0.067744</td>\n",
       "      <td>0.268955</td>\n",
       "      <td>0.184649</td>\n",
       "      <td>0.288582</td>\n",
       "      <td>0.212778</td>\n",
       "      <td>1.044390</td>\n",
       "      <td>0.773900</td>\n",
       "      <td>0.272869</td>\n",
       "      <td>0.076709</td>\n",
       "      <td>...</td>\n",
       "      <td>-0.033175</td>\n",
       "      <td>-0.070151</td>\n",
       "      <td>-0.026459</td>\n",
       "      <td>-0.017318</td>\n",
       "      <td>-0.017318</td>\n",
       "      <td>0.705641</td>\n",
       "      <td>1.501144</td>\n",
       "      <td>-0.017318</td>\n",
       "      <td>-0.149588</td>\n",
       "      <td>-0.040020</td>\n",
       "    </tr>\n",
       "    <tr>\n",
       "      <th>max</th>\n",
       "      <td>44.442297</td>\n",
       "      <td>63.330306</td>\n",
       "      <td>12.874634</td>\n",
       "      <td>12.746562</td>\n",
       "      <td>14.272259</td>\n",
       "      <td>4.193782</td>\n",
       "      <td>3.910305</td>\n",
       "      <td>4.791998</td>\n",
       "      <td>9.518632</td>\n",
       "      <td>4.873396</td>\n",
       "      <td>...</td>\n",
       "      <td>30.140581</td>\n",
       "      <td>14.253539</td>\n",
       "      <td>37.790779</td>\n",
       "      <td>57.737914</td>\n",
       "      <td>57.737914</td>\n",
       "      <td>0.705641</td>\n",
       "      <td>1.501144</td>\n",
       "      <td>57.737914</td>\n",
       "      <td>6.684345</td>\n",
       "      <td>24.984997</td>\n",
       "    </tr>\n",
       "  </tbody>\n",
       "</table>\n",
       "<p>8 rows × 34 columns</p>\n",
       "</div>"
      ],
      "text/plain": [
       "       no_of_sales_12M_1  no_of_Redemption_12M_1  no_of_funds_sold_12M_1  \\\n",
       "count        7503.000000             7503.000000             7503.000000   \n",
       "mean            0.003349                0.006208               -0.001315   \n",
       "std             1.070637                1.139727                1.000704   \n",
       "min            -0.204003               -0.109508               -0.571424   \n",
       "25%            -0.204003               -0.109508               -0.571424   \n",
       "50%            -0.204003               -0.104287               -0.571424   \n",
       "75%            -0.122736               -0.067744                0.268955   \n",
       "max            44.442297               63.330306               12.874634   \n",
       "\n",
       "       no_of_funds_redeemed_12M_1  no_of_funds_Redemption_12M_10K  \\\n",
       "count                 7503.000000                     7503.000000   \n",
       "mean                    -0.000869                        0.002350   \n",
       "std                      1.004148                        1.003367   \n",
       "min                     -0.625797                       -0.447401   \n",
       "25%                     -0.625797                       -0.447401   \n",
       "50%                     -0.220574                       -0.447401   \n",
       "75%                      0.184649                        0.288582   \n",
       "max                     12.746562                       14.272259   \n",
       "\n",
       "       no_of_assetclass_sold_12M_1  no_of_assetclass_redeemed_12M_1  \\\n",
       "count                  7503.000000                      7503.000000   \n",
       "mean                     -0.003570                        -0.005516   \n",
       "std                       1.000310                         0.999332   \n",
       "min                      -0.782473                        -0.866220   \n",
       "25%                      -0.782473                        -0.866220   \n",
       "50%                      -0.782473                         0.089085   \n",
       "75%                       0.212778                         1.044390   \n",
       "max                       4.193782                         3.910305   \n",
       "\n",
       "       no_of_assetclass_Redemption_12M_10K  No_of_fund_curr  No_of_asset_curr  \\\n",
       "count                          7503.000000      7503.000000       7503.000000   \n",
       "mean                             -0.000658        -0.002991         -0.001158   \n",
       "std                               1.001887         0.994794          0.999885   \n",
       "min                              -0.565465        -0.683590         -0.882629   \n",
       "25%                              -0.565465        -0.683590         -0.882629   \n",
       "50%                              -0.565465        -0.364770          0.076709   \n",
       "75%                               0.773900         0.272869          0.076709   \n",
       "max                               4.791998         9.518632          4.873396   \n",
       "\n",
       "       ...  Channel_Networker  Channel_Private Client Group  \\\n",
       "count  ...        7503.000000                   7503.000000   \n",
       "mean   ...           0.003019                      0.006211   \n",
       "std    ...           1.044483                      1.043123   \n",
       "min    ...          -0.033175                     -0.070151   \n",
       "25%    ...          -0.033175                     -0.070151   \n",
       "50%    ...          -0.033175                     -0.070151   \n",
       "75%    ...          -0.033175                     -0.070151   \n",
       "max    ...          30.140581                     14.253539   \n",
       "\n",
       "       Sub channel_Affiliated  Sub channel_DCIO  Sub channel_Global  \\\n",
       "count             7503.000000       7503.000000         7503.000000   \n",
       "mean                 0.003783         -0.009620            0.005775   \n",
       "std                  1.069063          0.666767            1.154720   \n",
       "min                 -0.026459         -0.017318           -0.017318   \n",
       "25%                 -0.026459         -0.017318           -0.017318   \n",
       "50%                 -0.026459         -0.017318           -0.017318   \n",
       "75%                 -0.026459         -0.017318           -0.017318   \n",
       "max                 37.790779         57.737914           57.737914   \n",
       "\n",
       "       Sub channel_IBD  Sub channel_NACS  Sub channel_Other  Sub channel_RIA  \\\n",
       "count      7503.000000       7503.000000        7503.000000      7503.000000   \n",
       "mean         -0.001061         -0.000583           0.005775         0.005252   \n",
       "std           1.000393          0.999773           1.154720         1.017021   \n",
       "min          -1.417010         -0.666092          -0.017318        -0.149588   \n",
       "25%          -1.417010         -0.666092          -0.017318        -0.149588   \n",
       "50%           0.705641         -0.666092          -0.017318        -0.149588   \n",
       "75%           0.705641          1.501144          -0.017318        -0.149588   \n",
       "max           0.705641          1.501144          57.737914         6.684345   \n",
       "\n",
       "       Sub channel_USBT  \n",
       "count       7503.000000  \n",
       "mean          -0.003331  \n",
       "std            0.957555  \n",
       "min           -0.040020  \n",
       "25%           -0.040020  \n",
       "50%           -0.040020  \n",
       "75%           -0.040020  \n",
       "max           24.984997  \n",
       "\n",
       "[8 rows x 34 columns]"
      ]
     },
     "execution_count": 401,
     "metadata": {},
     "output_type": "execute_result"
    }
   ],
   "source": [
    "X_train.describe()"
   ]
  },
  {
   "cell_type": "code",
   "execution_count": 346,
   "metadata": {},
   "outputs": [],
   "source": [
    "#Drop some highly correlated columns - \n",
    "#'no_of_sales_12M_10K' , 'no_of_Redemption_12M_10K', 'no_of_assetclass_sales_12M_10K', 'redemption_12M', 'redemption_12M'\n",
    "#'no_of_fund_sales_12M_10K'\n"
   ]
  },
  {
   "cell_type": "code",
   "execution_count": null,
   "metadata": {},
   "outputs": [],
   "source": []
  },
  {
   "cell_type": "code",
   "execution_count": 347,
   "metadata": {
    "scrolled": true
   },
   "outputs": [
    {
     "name": "stdout",
     "output_type": "stream",
     "text": [
      "<class 'pandas.core.frame.DataFrame'>\n",
      "Int64Index: 7503 entries, 6967 to 4367\n",
      "Data columns (total 34 columns):\n",
      " #   Column                               Non-Null Count  Dtype  \n",
      "---  ------                               --------------  -----  \n",
      " 0   no_of_sales_12M_1                    7503 non-null   float64\n",
      " 1   no_of_Redemption_12M_1               7503 non-null   float64\n",
      " 2   no_of_funds_sold_12M_1               7503 non-null   float64\n",
      " 3   no_of_funds_redeemed_12M_1           7503 non-null   float64\n",
      " 4   no_of_funds_Redemption_12M_10K       7503 non-null   float64\n",
      " 5   no_of_assetclass_sold_12M_1          7503 non-null   float64\n",
      " 6   no_of_assetclass_redeemed_12M_1      7503 non-null   float64\n",
      " 7   no_of_assetclass_Redemption_12M_10K  7503 non-null   float64\n",
      " 8   No_of_fund_curr                      7503 non-null   float64\n",
      " 9   No_of_asset_curr                     7503 non-null   float64\n",
      " 10  AUM                                  7503 non-null   float64\n",
      " 11  sales_curr                           7503 non-null   float64\n",
      " 12  sales_12M                            7503 non-null   float64\n",
      " 13  redemption_curr                      7503 non-null   float64\n",
      " 14  new_Fund_added_12M                   7503 non-null   float64\n",
      " 15  Channel_Asset Manager                7503 non-null   float64\n",
      " 16  Channel_Bank/Trust                   7503 non-null   float64\n",
      " 17  Channel_Discount                     7503 non-null   float64\n",
      " 18  Channel_Dual                         7503 non-null   float64\n",
      " 19  Channel_Fee-Based Adviser            7503 non-null   float64\n",
      " 20  Channel_Independent Dealer           7503 non-null   float64\n",
      " 21  Channel_International Outlet         7503 non-null   float64\n",
      " 22  Channel_Low/Non Producer             7503 non-null   float64\n",
      " 23  Channel_National Broker-Dealer       7503 non-null   float64\n",
      " 24  Channel_Networker                    7503 non-null   float64\n",
      " 25  Channel_Private Client Group         7503 non-null   float64\n",
      " 26  Sub channel_Affiliated               7503 non-null   float64\n",
      " 27  Sub channel_DCIO                     7503 non-null   float64\n",
      " 28  Sub channel_Global                   7503 non-null   float64\n",
      " 29  Sub channel_IBD                      7503 non-null   float64\n",
      " 30  Sub channel_NACS                     7503 non-null   float64\n",
      " 31  Sub channel_Other                    7503 non-null   float64\n",
      " 32  Sub channel_RIA                      7503 non-null   float64\n",
      " 33  Sub channel_USBT                     7503 non-null   float64\n",
      "dtypes: float64(34)\n",
      "memory usage: 2.0 MB\n"
     ]
    }
   ],
   "source": [
    "X_train.info()"
   ]
  },
  {
   "cell_type": "code",
   "execution_count": 348,
   "metadata": {},
   "outputs": [
    {
     "data": {
      "text/html": [
       "<div>\n",
       "<style scoped>\n",
       "    .dataframe tbody tr th:only-of-type {\n",
       "        vertical-align: middle;\n",
       "    }\n",
       "\n",
       "    .dataframe tbody tr th {\n",
       "        vertical-align: top;\n",
       "    }\n",
       "\n",
       "    .dataframe thead th {\n",
       "        text-align: right;\n",
       "    }\n",
       "</style>\n",
       "<table border=\"1\" class=\"dataframe\">\n",
       "  <thead>\n",
       "    <tr style=\"text-align: right;\">\n",
       "      <th></th>\n",
       "      <th>no_of_sales_12M_1</th>\n",
       "      <th>no_of_Redemption_12M_1</th>\n",
       "      <th>no_of_funds_sold_12M_1</th>\n",
       "      <th>no_of_funds_redeemed_12M_1</th>\n",
       "      <th>no_of_funds_Redemption_12M_10K</th>\n",
       "      <th>no_of_assetclass_sold_12M_1</th>\n",
       "      <th>no_of_assetclass_redeemed_12M_1</th>\n",
       "      <th>no_of_assetclass_Redemption_12M_10K</th>\n",
       "      <th>No_of_fund_curr</th>\n",
       "      <th>No_of_asset_curr</th>\n",
       "      <th>...</th>\n",
       "      <th>Channel_Networker</th>\n",
       "      <th>Channel_Private Client Group</th>\n",
       "      <th>Sub channel_Affiliated</th>\n",
       "      <th>Sub channel_DCIO</th>\n",
       "      <th>Sub channel_Global</th>\n",
       "      <th>Sub channel_IBD</th>\n",
       "      <th>Sub channel_NACS</th>\n",
       "      <th>Sub channel_Other</th>\n",
       "      <th>Sub channel_RIA</th>\n",
       "      <th>Sub channel_USBT</th>\n",
       "    </tr>\n",
       "  </thead>\n",
       "  <tbody>\n",
       "    <tr>\n",
       "      <th>6967</th>\n",
       "      <td>-0.193845</td>\n",
       "      <td>-0.109508</td>\n",
       "      <td>-0.151235</td>\n",
       "      <td>-0.625797</td>\n",
       "      <td>-0.447401</td>\n",
       "      <td>0.212778</td>\n",
       "      <td>-0.866220</td>\n",
       "      <td>-0.565465</td>\n",
       "      <td>-0.683590</td>\n",
       "      <td>-0.882629</td>\n",
       "      <td>...</td>\n",
       "      <td>-0.033175</td>\n",
       "      <td>-0.070151</td>\n",
       "      <td>-0.026459</td>\n",
       "      <td>-0.017318</td>\n",
       "      <td>-0.017318</td>\n",
       "      <td>0.705641</td>\n",
       "      <td>-0.666092</td>\n",
       "      <td>-0.017318</td>\n",
       "      <td>-0.149588</td>\n",
       "      <td>-0.04002</td>\n",
       "    </tr>\n",
       "    <tr>\n",
       "      <th>2294</th>\n",
       "      <td>0.832157</td>\n",
       "      <td>0.459529</td>\n",
       "      <td>0.268955</td>\n",
       "      <td>0.184649</td>\n",
       "      <td>1.024565</td>\n",
       "      <td>1.208029</td>\n",
       "      <td>1.044390</td>\n",
       "      <td>2.113266</td>\n",
       "      <td>-0.683590</td>\n",
       "      <td>-0.882629</td>\n",
       "      <td>...</td>\n",
       "      <td>-0.033175</td>\n",
       "      <td>-0.070151</td>\n",
       "      <td>-0.026459</td>\n",
       "      <td>-0.017318</td>\n",
       "      <td>-0.017318</td>\n",
       "      <td>0.705641</td>\n",
       "      <td>-0.666092</td>\n",
       "      <td>-0.017318</td>\n",
       "      <td>-0.149588</td>\n",
       "      <td>-0.04002</td>\n",
       "    </tr>\n",
       "    <tr>\n",
       "      <th>5251</th>\n",
       "      <td>-0.204003</td>\n",
       "      <td>-0.109508</td>\n",
       "      <td>-0.571424</td>\n",
       "      <td>-0.625797</td>\n",
       "      <td>-0.447401</td>\n",
       "      <td>-0.782473</td>\n",
       "      <td>-0.866220</td>\n",
       "      <td>-0.565465</td>\n",
       "      <td>-0.683590</td>\n",
       "      <td>-0.882629</td>\n",
       "      <td>...</td>\n",
       "      <td>-0.033175</td>\n",
       "      <td>-0.070151</td>\n",
       "      <td>-0.026459</td>\n",
       "      <td>-0.017318</td>\n",
       "      <td>-0.017318</td>\n",
       "      <td>0.705641</td>\n",
       "      <td>-0.666092</td>\n",
       "      <td>-0.017318</td>\n",
       "      <td>-0.149588</td>\n",
       "      <td>-0.04002</td>\n",
       "    </tr>\n",
       "    <tr>\n",
       "      <th>4489</th>\n",
       "      <td>0.060116</td>\n",
       "      <td>-0.104287</td>\n",
       "      <td>0.268955</td>\n",
       "      <td>-0.220574</td>\n",
       "      <td>0.288582</td>\n",
       "      <td>0.212778</td>\n",
       "      <td>0.089085</td>\n",
       "      <td>0.773900</td>\n",
       "      <td>1.229327</td>\n",
       "      <td>2.954721</td>\n",
       "      <td>...</td>\n",
       "      <td>-0.033175</td>\n",
       "      <td>-0.070151</td>\n",
       "      <td>-0.026459</td>\n",
       "      <td>-0.017318</td>\n",
       "      <td>-0.017318</td>\n",
       "      <td>-1.417010</td>\n",
       "      <td>1.501144</td>\n",
       "      <td>-0.017318</td>\n",
       "      <td>-0.149588</td>\n",
       "      <td>-0.04002</td>\n",
       "    </tr>\n",
       "    <tr>\n",
       "      <th>5374</th>\n",
       "      <td>-0.204003</td>\n",
       "      <td>-0.109508</td>\n",
       "      <td>-0.571424</td>\n",
       "      <td>-0.625797</td>\n",
       "      <td>-0.447401</td>\n",
       "      <td>-0.782473</td>\n",
       "      <td>-0.866220</td>\n",
       "      <td>-0.565465</td>\n",
       "      <td>-0.683590</td>\n",
       "      <td>-0.882629</td>\n",
       "      <td>...</td>\n",
       "      <td>-0.033175</td>\n",
       "      <td>-0.070151</td>\n",
       "      <td>-0.026459</td>\n",
       "      <td>-0.017318</td>\n",
       "      <td>-0.017318</td>\n",
       "      <td>0.705641</td>\n",
       "      <td>-0.666092</td>\n",
       "      <td>-0.017318</td>\n",
       "      <td>-0.149588</td>\n",
       "      <td>-0.04002</td>\n",
       "    </tr>\n",
       "  </tbody>\n",
       "</table>\n",
       "<p>5 rows × 34 columns</p>\n",
       "</div>"
      ],
      "text/plain": [
       "      no_of_sales_12M_1  no_of_Redemption_12M_1  no_of_funds_sold_12M_1  \\\n",
       "6967          -0.193845               -0.109508               -0.151235   \n",
       "2294           0.832157                0.459529                0.268955   \n",
       "5251          -0.204003               -0.109508               -0.571424   \n",
       "4489           0.060116               -0.104287                0.268955   \n",
       "5374          -0.204003               -0.109508               -0.571424   \n",
       "\n",
       "      no_of_funds_redeemed_12M_1  no_of_funds_Redemption_12M_10K  \\\n",
       "6967                   -0.625797                       -0.447401   \n",
       "2294                    0.184649                        1.024565   \n",
       "5251                   -0.625797                       -0.447401   \n",
       "4489                   -0.220574                        0.288582   \n",
       "5374                   -0.625797                       -0.447401   \n",
       "\n",
       "      no_of_assetclass_sold_12M_1  no_of_assetclass_redeemed_12M_1  \\\n",
       "6967                     0.212778                        -0.866220   \n",
       "2294                     1.208029                         1.044390   \n",
       "5251                    -0.782473                        -0.866220   \n",
       "4489                     0.212778                         0.089085   \n",
       "5374                    -0.782473                        -0.866220   \n",
       "\n",
       "      no_of_assetclass_Redemption_12M_10K  No_of_fund_curr  No_of_asset_curr  \\\n",
       "6967                            -0.565465        -0.683590         -0.882629   \n",
       "2294                             2.113266        -0.683590         -0.882629   \n",
       "5251                            -0.565465        -0.683590         -0.882629   \n",
       "4489                             0.773900         1.229327          2.954721   \n",
       "5374                            -0.565465        -0.683590         -0.882629   \n",
       "\n",
       "      ...  Channel_Networker  Channel_Private Client Group  \\\n",
       "6967  ...          -0.033175                     -0.070151   \n",
       "2294  ...          -0.033175                     -0.070151   \n",
       "5251  ...          -0.033175                     -0.070151   \n",
       "4489  ...          -0.033175                     -0.070151   \n",
       "5374  ...          -0.033175                     -0.070151   \n",
       "\n",
       "      Sub channel_Affiliated  Sub channel_DCIO  Sub channel_Global  \\\n",
       "6967               -0.026459         -0.017318           -0.017318   \n",
       "2294               -0.026459         -0.017318           -0.017318   \n",
       "5251               -0.026459         -0.017318           -0.017318   \n",
       "4489               -0.026459         -0.017318           -0.017318   \n",
       "5374               -0.026459         -0.017318           -0.017318   \n",
       "\n",
       "      Sub channel_IBD  Sub channel_NACS  Sub channel_Other  Sub channel_RIA  \\\n",
       "6967         0.705641         -0.666092          -0.017318        -0.149588   \n",
       "2294         0.705641         -0.666092          -0.017318        -0.149588   \n",
       "5251         0.705641         -0.666092          -0.017318        -0.149588   \n",
       "4489        -1.417010          1.501144          -0.017318        -0.149588   \n",
       "5374         0.705641         -0.666092          -0.017318        -0.149588   \n",
       "\n",
       "      Sub channel_USBT  \n",
       "6967          -0.04002  \n",
       "2294          -0.04002  \n",
       "5251          -0.04002  \n",
       "4489          -0.04002  \n",
       "5374          -0.04002  \n",
       "\n",
       "[5 rows x 34 columns]"
      ]
     },
     "execution_count": 348,
     "metadata": {},
     "output_type": "execute_result"
    }
   ],
   "source": [
    "X_train.head()"
   ]
  },
  {
   "cell_type": "code",
   "execution_count": 349,
   "metadata": {},
   "outputs": [],
   "source": [
    "##Write the X_train to a CSV for easy comparison"
   ]
  },
  {
   "cell_type": "code",
   "execution_count": 350,
   "metadata": {},
   "outputs": [],
   "source": [
    "X_train.to_excel('../data/X_train-for-comparison.xlsx')"
   ]
  },
  {
   "cell_type": "code",
   "execution_count": 351,
   "metadata": {},
   "outputs": [],
   "source": [
    "## Selecting K best columns in X_train"
   ]
  },
  {
   "cell_type": "code",
   "execution_count": 352,
   "metadata": {},
   "outputs": [],
   "source": [
    "X_new = SelectKBest(f_regression, k =16).fit_transform(X_train, y_train)"
   ]
  },
  {
   "cell_type": "code",
   "execution_count": 353,
   "metadata": {},
   "outputs": [],
   "source": [
    "#Convert Numpy array to pandas DataFrame to analyze better"
   ]
  },
  {
   "cell_type": "code",
   "execution_count": 354,
   "metadata": {},
   "outputs": [],
   "source": [
    "df_X_new = pd.DataFrame(X_new)"
   ]
  },
  {
   "cell_type": "code",
   "execution_count": 355,
   "metadata": {
    "scrolled": false
   },
   "outputs": [
    {
     "data": {
      "text/html": [
       "<div>\n",
       "<style scoped>\n",
       "    .dataframe tbody tr th:only-of-type {\n",
       "        vertical-align: middle;\n",
       "    }\n",
       "\n",
       "    .dataframe tbody tr th {\n",
       "        vertical-align: top;\n",
       "    }\n",
       "\n",
       "    .dataframe thead th {\n",
       "        text-align: right;\n",
       "    }\n",
       "</style>\n",
       "<table border=\"1\" class=\"dataframe\">\n",
       "  <thead>\n",
       "    <tr style=\"text-align: right;\">\n",
       "      <th></th>\n",
       "      <th>0</th>\n",
       "      <th>1</th>\n",
       "      <th>2</th>\n",
       "      <th>3</th>\n",
       "      <th>4</th>\n",
       "      <th>5</th>\n",
       "      <th>6</th>\n",
       "      <th>7</th>\n",
       "      <th>8</th>\n",
       "      <th>9</th>\n",
       "      <th>10</th>\n",
       "      <th>11</th>\n",
       "      <th>12</th>\n",
       "      <th>13</th>\n",
       "      <th>14</th>\n",
       "      <th>15</th>\n",
       "    </tr>\n",
       "  </thead>\n",
       "  <tbody>\n",
       "    <tr>\n",
       "      <th>0</th>\n",
       "      <td>-0.193845</td>\n",
       "      <td>-0.109508</td>\n",
       "      <td>-0.151235</td>\n",
       "      <td>-0.625797</td>\n",
       "      <td>-0.447401</td>\n",
       "      <td>0.212778</td>\n",
       "      <td>-0.866220</td>\n",
       "      <td>-0.565465</td>\n",
       "      <td>-0.683590</td>\n",
       "      <td>-0.882629</td>\n",
       "      <td>-0.162021</td>\n",
       "      <td>-0.089097</td>\n",
       "      <td>-0.153225</td>\n",
       "      <td>0.094081</td>\n",
       "      <td>0.423093</td>\n",
       "      <td>-0.033175</td>\n",
       "    </tr>\n",
       "    <tr>\n",
       "      <th>1</th>\n",
       "      <td>0.832157</td>\n",
       "      <td>0.459529</td>\n",
       "      <td>0.268955</td>\n",
       "      <td>0.184649</td>\n",
       "      <td>1.024565</td>\n",
       "      <td>1.208029</td>\n",
       "      <td>1.044390</td>\n",
       "      <td>2.113266</td>\n",
       "      <td>-0.683590</td>\n",
       "      <td>-0.882629</td>\n",
       "      <td>-0.162021</td>\n",
       "      <td>-0.089097</td>\n",
       "      <td>-0.020252</td>\n",
       "      <td>0.094126</td>\n",
       "      <td>0.423093</td>\n",
       "      <td>-0.033175</td>\n",
       "    </tr>\n",
       "    <tr>\n",
       "      <th>2</th>\n",
       "      <td>-0.204003</td>\n",
       "      <td>-0.109508</td>\n",
       "      <td>-0.571424</td>\n",
       "      <td>-0.625797</td>\n",
       "      <td>-0.447401</td>\n",
       "      <td>-0.782473</td>\n",
       "      <td>-0.866220</td>\n",
       "      <td>-0.565465</td>\n",
       "      <td>-0.683590</td>\n",
       "      <td>-0.882629</td>\n",
       "      <td>-0.162021</td>\n",
       "      <td>-0.089097</td>\n",
       "      <td>-0.153233</td>\n",
       "      <td>0.094126</td>\n",
       "      <td>-0.410676</td>\n",
       "      <td>-0.033175</td>\n",
       "    </tr>\n",
       "    <tr>\n",
       "      <th>3</th>\n",
       "      <td>0.060116</td>\n",
       "      <td>-0.104287</td>\n",
       "      <td>0.268955</td>\n",
       "      <td>-0.220574</td>\n",
       "      <td>0.288582</td>\n",
       "      <td>0.212778</td>\n",
       "      <td>0.089085</td>\n",
       "      <td>0.773900</td>\n",
       "      <td>1.229327</td>\n",
       "      <td>2.954721</td>\n",
       "      <td>-0.100798</td>\n",
       "      <td>-0.087057</td>\n",
       "      <td>-0.148676</td>\n",
       "      <td>0.094126</td>\n",
       "      <td>0.423093</td>\n",
       "      <td>-0.033175</td>\n",
       "    </tr>\n",
       "    <tr>\n",
       "      <th>4</th>\n",
       "      <td>-0.204003</td>\n",
       "      <td>-0.109508</td>\n",
       "      <td>-0.571424</td>\n",
       "      <td>-0.625797</td>\n",
       "      <td>-0.447401</td>\n",
       "      <td>-0.782473</td>\n",
       "      <td>-0.866220</td>\n",
       "      <td>-0.565465</td>\n",
       "      <td>-0.683590</td>\n",
       "      <td>-0.882629</td>\n",
       "      <td>-0.162021</td>\n",
       "      <td>-0.089097</td>\n",
       "      <td>-0.153233</td>\n",
       "      <td>0.094126</td>\n",
       "      <td>-0.410676</td>\n",
       "      <td>-0.033175</td>\n",
       "    </tr>\n",
       "  </tbody>\n",
       "</table>\n",
       "</div>"
      ],
      "text/plain": [
       "         0         1         2         3         4         5         6   \\\n",
       "0 -0.193845 -0.109508 -0.151235 -0.625797 -0.447401  0.212778 -0.866220   \n",
       "1  0.832157  0.459529  0.268955  0.184649  1.024565  1.208029  1.044390   \n",
       "2 -0.204003 -0.109508 -0.571424 -0.625797 -0.447401 -0.782473 -0.866220   \n",
       "3  0.060116 -0.104287  0.268955 -0.220574  0.288582  0.212778  0.089085   \n",
       "4 -0.204003 -0.109508 -0.571424 -0.625797 -0.447401 -0.782473 -0.866220   \n",
       "\n",
       "         7         8         9         10        11        12        13  \\\n",
       "0 -0.565465 -0.683590 -0.882629 -0.162021 -0.089097 -0.153225  0.094081   \n",
       "1  2.113266 -0.683590 -0.882629 -0.162021 -0.089097 -0.020252  0.094126   \n",
       "2 -0.565465 -0.683590 -0.882629 -0.162021 -0.089097 -0.153233  0.094126   \n",
       "3  0.773900  1.229327  2.954721 -0.100798 -0.087057 -0.148676  0.094126   \n",
       "4 -0.565465 -0.683590 -0.882629 -0.162021 -0.089097 -0.153233  0.094126   \n",
       "\n",
       "         14        15  \n",
       "0  0.423093 -0.033175  \n",
       "1  0.423093 -0.033175  \n",
       "2 -0.410676 -0.033175  \n",
       "3  0.423093 -0.033175  \n",
       "4 -0.410676 -0.033175  "
      ]
     },
     "execution_count": 355,
     "metadata": {},
     "output_type": "execute_result"
    }
   ],
   "source": [
    "df_X_new.head()"
   ]
  },
  {
   "cell_type": "markdown",
   "metadata": {},
   "source": [
    "## These are the 16 best features as per SelectKBest \n",
    "no_of_sales_12M_1 -0.193845 0\n",
    "no_of_Redemption_12M_1 -0.109508 1\n",
    "no_of_funds_sold_12M_1 -0.151235 2\n",
    "\n",
    "no_of_funds_redeemed_12M_1, (-0.625797) 3\n",
    "no_of_funds_Redemption_12M_10K (-0.447401) 4 # not required as both above are co-related\n",
    "no_of_assetclass_sold_12M_1 0.212778 5\n",
    "\n",
    "no_of_assetclass_redeemed_12M_1 -0.866220 6\n",
    "no_of_assetclass_Redemption_12M_10K  -0.565465 7 # not required as co-related\n",
    "No_of_fund_curr -0.683590 8\n",
    "\n",
    "No_of_asset_curr -0.882629 9\n",
    "AUM,-0.162021 10\n",
    "sales_curr,\t  -0.089097 11\n",
    "\n",
    "sales_12M,    -0.153225 12\n",
    "redemption_curr,  0.094081 13\n",
    "new_Fund_added_12M 0.423093 14\n",
    "\n",
    "Channel_Networker -0.033175 15"
   ]
  },
  {
   "cell_type": "code",
   "execution_count": 356,
   "metadata": {},
   "outputs": [],
   "source": [
    "## Evaluate model performance for only the select columns from selectkbest suggestion to see if the score increases"
   ]
  },
  {
   "cell_type": "code",
   "execution_count": 357,
   "metadata": {},
   "outputs": [],
   "source": [
    "df_X_train_selectKbest = X_train[['no_of_sales_12M_1','no_of_Redemption_12M_1','no_of_funds_sold_12M_1',\n",
    "                                  'no_of_funds_redeemed_12M_1','no_of_assetclass_sold_12M_1','no_of_assetclass_redeemed_12M_1',\n",
    "                                  'No_of_fund_curr','No_of_asset_curr',  'AUM',\n",
    "                                  'sales_curr','sales_12M','redemption_curr']]"
   ]
  },
  {
   "cell_type": "code",
   "execution_count": 358,
   "metadata": {},
   "outputs": [
    {
     "name": "stdout",
     "output_type": "stream",
     "text": [
      "<class 'pandas.core.frame.DataFrame'>\n",
      "Int64Index: 7503 entries, 6967 to 4367\n",
      "Data columns (total 12 columns):\n",
      " #   Column                           Non-Null Count  Dtype  \n",
      "---  ------                           --------------  -----  \n",
      " 0   no_of_sales_12M_1                7503 non-null   float64\n",
      " 1   no_of_Redemption_12M_1           7503 non-null   float64\n",
      " 2   no_of_funds_sold_12M_1           7503 non-null   float64\n",
      " 3   no_of_funds_redeemed_12M_1       7503 non-null   float64\n",
      " 4   no_of_assetclass_sold_12M_1      7503 non-null   float64\n",
      " 5   no_of_assetclass_redeemed_12M_1  7503 non-null   float64\n",
      " 6   No_of_fund_curr                  7503 non-null   float64\n",
      " 7   No_of_asset_curr                 7503 non-null   float64\n",
      " 8   AUM                              7503 non-null   float64\n",
      " 9   sales_curr                       7503 non-null   float64\n",
      " 10  sales_12M                        7503 non-null   float64\n",
      " 11  redemption_curr                  7503 non-null   float64\n",
      "dtypes: float64(12)\n",
      "memory usage: 762.0 KB\n"
     ]
    }
   ],
   "source": [
    "df_X_train_selectKbest.info()"
   ]
  },
  {
   "cell_type": "code",
   "execution_count": 359,
   "metadata": {},
   "outputs": [],
   "source": [
    "df_X_test_selectKbest = X_test[['no_of_sales_12M_1','no_of_Redemption_12M_1','no_of_funds_sold_12M_1',\n",
    "                                  'no_of_funds_redeemed_12M_1','no_of_assetclass_sold_12M_1','no_of_assetclass_redeemed_12M_1',\n",
    "                                   'No_of_fund_curr','No_of_asset_curr', 'AUM',\n",
    "                                  'sales_curr','sales_12M','redemption_curr']]"
   ]
  },
  {
   "cell_type": "code",
   "execution_count": 360,
   "metadata": {},
   "outputs": [
    {
     "data": {
      "text/plain": [
       "Pipeline(steps=[('pca', PCA(n_components=0.8)),\n",
       "                ('linearregression', LinearRegression())])"
      ]
     },
     "execution_count": 360,
     "metadata": {},
     "output_type": "execute_result"
    }
   ],
   "source": [
    "lr_pipeline.fit(df_X_train_selectKbest, y_train)"
   ]
  },
  {
   "cell_type": "code",
   "execution_count": 361,
   "metadata": {},
   "outputs": [
    {
     "data": {
      "text/plain": [
       "0.492265467961968"
      ]
     },
     "execution_count": 361,
     "metadata": {},
     "output_type": "execute_result"
    }
   ],
   "source": [
    "lr_pipeline.score(df_X_train_selectKbest, y_train)"
   ]
  },
  {
   "cell_type": "code",
   "execution_count": 362,
   "metadata": {},
   "outputs": [
    {
     "data": {
      "text/plain": [
       "0.49472724532190926"
      ]
     },
     "execution_count": 362,
     "metadata": {},
     "output_type": "execute_result"
    }
   ],
   "source": [
    "lr_pipeline.score(df_X_test_selectKbest, y_test)"
   ]
  },
  {
   "cell_type": "code",
   "execution_count": 363,
   "metadata": {},
   "outputs": [],
   "source": [
    "### - Model performance with only the features selected from selectkbest is .47 which is very minimal better than .46 without any pre-selection"
   ]
  },
  {
   "cell_type": "code",
   "execution_count": 364,
   "metadata": {},
   "outputs": [
    {
     "data": {
      "text/plain": [
       "Pipeline(steps=[('pca', PCA(n_components=0.8)),\n",
       "                ('linearregression', LinearRegression())])"
      ]
     },
     "execution_count": 364,
     "metadata": {},
     "output_type": "execute_result"
    }
   ],
   "source": [
    "lr_pipeline.fit(X_train, y_train)"
   ]
  },
  {
   "cell_type": "code",
   "execution_count": 365,
   "metadata": {},
   "outputs": [
    {
     "data": {
      "text/plain": [
       "0.49467781162185154"
      ]
     },
     "execution_count": 365,
     "metadata": {},
     "output_type": "execute_result"
    }
   ],
   "source": [
    "lr_pipeline.score(X_train, y_train)"
   ]
  },
  {
   "cell_type": "code",
   "execution_count": 366,
   "metadata": {},
   "outputs": [
    {
     "data": {
      "text/plain": [
       "0.4994005672987373"
      ]
     },
     "execution_count": 366,
     "metadata": {},
     "output_type": "execute_result"
    }
   ],
   "source": [
    "lr_pipeline.score(X_test, y_test)"
   ]
  },
  {
   "cell_type": "code",
   "execution_count": null,
   "metadata": {},
   "outputs": [],
   "source": []
  },
  {
   "cell_type": "code",
   "execution_count": null,
   "metadata": {},
   "outputs": [],
   "source": [
    "## Total number of Principal components to explain a variation of 80%"
   ]
  },
  {
   "cell_type": "code",
   "execution_count": 100,
   "metadata": {},
   "outputs": [
    {
     "data": {
      "text/plain": [
       "16"
      ]
     },
     "execution_count": 100,
     "metadata": {},
     "output_type": "execute_result"
    }
   ],
   "source": [
    "lr_pipeline.named_steps['pca'].n_components_"
   ]
  },
  {
   "cell_type": "code",
   "execution_count": 144,
   "metadata": {},
   "outputs": [],
   "source": [
    "np_PCA = lr_pipeline.named_steps['pca'].components_"
   ]
  },
  {
   "cell_type": "code",
   "execution_count": 147,
   "metadata": {},
   "outputs": [
    {
     "data": {
      "text/plain": [
       "array([[ 1.88872355e-01,  1.42177836e-01,  2.21125030e-01,\n",
       "         2.09442586e-01,  2.75786137e-01,  2.79369793e-01,\n",
       "         2.81232817e-01,  2.66785481e-01,  2.54061447e-01,\n",
       "         2.43954834e-01,  2.61796611e-01,  2.48944558e-01,\n",
       "         2.48842422e-01,  2.01023013e-01,  1.52393440e-01,\n",
       "         1.26169778e-01,  1.98912243e-01, -9.30143402e-02,\n",
       "        -1.91887617e-01,  1.68692520e-01, -1.71762559e-02,\n",
       "        -1.55889790e-02, -1.02362980e-02, -1.74228671e-02,\n",
       "        -7.79130638e-03, -6.16124090e-02, -6.82539666e-03,\n",
       "        -3.53444431e-03,  8.85676570e-02,  6.21149719e-02,\n",
       "        -6.58323014e-03, -7.23384305e-03, -1.76031666e-03,\n",
       "        -5.98997920e-03, -9.57767789e-02,  9.47421076e-02,\n",
       "        -3.39001041e-03, -1.61885143e-03,  5.07188568e-02],\n",
       "       [ 1.05124674e-01,  1.64667032e-01,  3.34328293e-01,\n",
       "         3.78991987e-01, -1.48656343e-01, -1.09261293e-01,\n",
       "        -7.84278432e-02, -2.81998570e-02, -1.90932106e-01,\n",
       "        -1.64826494e-01, -1.25174944e-01, -9.25588474e-02,\n",
       "        -1.72326819e-01, -1.90496232e-01,  1.80764176e-01,\n",
       "         1.94648786e-01,  3.28610537e-01, -9.65894337e-02,\n",
       "        -3.83717146e-01, -1.23479272e-01,  1.89133766e-02,\n",
       "         1.42601903e-02,  1.34617134e-02,  2.47856793e-02,\n",
       "         1.12258526e-02,  1.26824147e-01,  5.44246966e-03,\n",
       "         4.96205184e-03, -1.81481474e-01,  1.32577128e-01,\n",
       "        -1.18754095e-02,  6.69092014e-03,  1.67820099e-03,\n",
       "         5.62861319e-03,  1.90072076e-01, -2.07585802e-01,\n",
       "         1.83021521e-02,  6.93234719e-03,  1.15221463e-01],\n",
       "       [-2.24224133e-02,  2.04954728e-02,  5.68956926e-02,\n",
       "         7.66673641e-02, -1.53140390e-01, -1.16420769e-01,\n",
       "        -9.48128193e-02, -5.11320067e-02, -1.33174000e-01,\n",
       "        -1.12952912e-01, -9.27705534e-02, -5.56560665e-02,\n",
       "        -3.11046952e-02, -3.33523156e-02,  1.22960247e-01,\n",
       "         5.93915569e-02,  1.14208059e-01, -2.76706920e-02,\n",
       "        -1.27326961e-01, -1.62259681e-01,  2.26233445e-02,\n",
       "         1.29481462e-02,  5.68662373e-03,  1.77205536e-02,\n",
       "         2.75608871e-02, -4.32377053e-01,  5.23879980e-02,\n",
       "         2.47112008e-03,  4.46427812e-01,  2.75394706e-02,\n",
       "         8.39871895e-02,  2.61773348e-02,  1.06543631e-03,\n",
       "         4.54380018e-02, -4.63207638e-01,  4.49069216e-01,\n",
       "         3.11014324e-02,  5.54784892e-02,  2.14981769e-02],\n",
       "       [-1.31039419e-02, -2.19279428e-02, -2.70589950e-02,\n",
       "        -1.58819909e-02,  1.92750679e-02,  2.17214515e-02,\n",
       "         1.90942801e-02,  2.87335776e-02,  9.05348825e-03,\n",
       "         7.04961300e-03,  1.14800094e-02,  1.11011081e-02,\n",
       "         4.31923182e-03, -2.38046811e-03, -4.18515108e-02,\n",
       "         1.61997098e-02, -3.92660113e-02, -1.29690646e-02,\n",
       "         2.46754798e-02,  1.60563056e-02, -3.74539884e-03,\n",
       "         1.18724542e-02, -1.37005031e-03, -6.55976122e-04,\n",
       "         2.01025534e-03, -2.55571078e-03,  6.53309649e-01,\n",
       "        -5.33062909e-04, -5.23273507e-02,  1.29377829e-01,\n",
       "        -1.09304341e-02, -3.18425487e-03, -2.46515426e-04,\n",
       "         6.82004426e-01,  7.66675286e-03, -5.03674707e-02,\n",
       "         2.63227920e-01, -1.10071182e-03,  8.78853422e-02],\n",
       "       [-1.52859032e-01, -1.70914924e-01, -1.30643570e-01,\n",
       "        -3.40967455e-02, -9.95342215e-03,  5.83863080e-02,\n",
       "         1.90741439e-02,  1.44742757e-01, -1.89434913e-02,\n",
       "         1.60642466e-02, -5.55347028e-03,  5.18686178e-02,\n",
       "        -1.41718048e-02, -6.27319186e-02, -1.52383099e-01,\n",
       "         1.59576727e-01, -1.45078038e-01, -1.00606480e-01,\n",
       "         3.64194584e-02, -3.52209604e-02,  6.47803619e-03,\n",
       "         1.80694808e-02,  9.24719845e-04, -4.78760301e-03,\n",
       "         2.49031961e-02, -4.47184638e-02, -1.33419695e-01,\n",
       "         1.54721740e-03, -7.31162523e-03,  6.44338027e-01,\n",
       "         3.28969622e-04,  6.76361386e-03,  2.23408015e-04,\n",
       "        -1.87299549e-01, -3.29079804e-02, -1.53505075e-02,\n",
       "         1.87524270e-01,  1.81284411e-03,  5.53912646e-01],\n",
       "       [-2.44760345e-01, -2.20058989e-01,  1.29257187e-03,\n",
       "         1.68343074e-02, -5.58396184e-02, -4.34665911e-02,\n",
       "        -2.59553332e-02,  1.64685431e-03,  9.28896962e-03,\n",
       "         2.11437470e-02,  8.05819401e-03,  1.99335503e-02,\n",
       "         4.01222398e-02,  6.96614326e-02,  1.44697156e-01,\n",
       "        -1.16302532e-02,  1.05632643e-01, -8.96569446e-03,\n",
       "        -9.33823247e-02, -7.25735433e-02, -9.68786688e-02,\n",
       "        -5.45008007e-02, -2.42445772e-02, -4.07401436e-01,\n",
       "        -4.47819520e-01,  2.84083393e-01,  1.62051312e-02,\n",
       "        -1.20753503e-02,  9.34814080e-02,  4.86805777e-03,\n",
       "         1.79912243e-02, -9.34679039e-02,  1.67351445e-03,\n",
       "         1.95553632e-02,  1.16275640e-02,  1.72625971e-01,\n",
       "        -1.13588769e-02, -5.68352818e-01,  8.42125763e-03],\n",
       "       [-4.94786476e-02, -6.72221877e-02, -9.65803896e-03,\n",
       "        -2.14843725e-02,  1.56333545e-02, -8.06359656e-03,\n",
       "         2.64794191e-02,  1.92527181e-04,  5.77790937e-03,\n",
       "        -1.73873440e-02,  2.29882057e-02, -5.28903519e-03,\n",
       "         3.18594426e-02,  4.27111839e-02,  5.45700349e-02,\n",
       "         1.16466568e-02,  2.84425818e-02, -3.68581882e-03,\n",
       "        -3.95308764e-03,  1.82828227e-02,  6.61074197e-01,\n",
       "         1.22127233e-02,  5.39420471e-03, -5.06974224e-02,\n",
       "        -7.16057171e-02, -3.45315399e-02,  2.25440413e-03,\n",
       "        -2.49020674e-05, -2.23149730e-02, -1.07806348e-02,\n",
       "        -8.65714830e-03,  7.23879882e-01, -9.24923614e-04,\n",
       "         5.29020172e-03,  2.66740659e-02, -3.52049959e-02,\n",
       "        -7.93836491e-03, -1.02618173e-01, -9.65700502e-03],\n",
       "       [-3.20021690e-01, -5.07768116e-01, -1.30155758e-01,\n",
       "        -1.89712088e-01,  3.94878748e-02, -7.17704450e-02,\n",
       "         6.33295196e-02, -5.47379221e-02,  3.15283199e-02,\n",
       "        -6.67070537e-02,  6.22863721e-02, -6.73904783e-02,\n",
       "         1.01540791e-01,  1.15745602e-01,  4.86345098e-01,\n",
       "         2.67687297e-01,  2.51342131e-01, -4.10055972e-02,\n",
       "        -6.91333101e-02,  1.09784469e-01, -4.92269598e-02,\n",
       "         2.55133861e-02,  2.63758273e-02,  8.45090435e-02,\n",
       "         2.46420290e-01, -5.22799648e-02,  5.28207426e-03,\n",
       "        -9.17412862e-04, -7.85604882e-02, -5.18890009e-02,\n",
       "         6.33547611e-03, -6.08304059e-02, -1.64005739e-03,\n",
       "         2.49103849e-02,  4.60228656e-02, -1.02168582e-01,\n",
       "        -6.12004113e-02,  2.00364883e-01, -3.98720689e-02],\n",
       "       [ 5.93687252e-02,  4.84354579e-02,  1.54428605e-02,\n",
       "        -4.60886874e-02,  3.51582979e-02, -5.18637446e-02,\n",
       "         1.91348728e-02, -1.06767797e-01,  2.45104296e-02,\n",
       "        -4.56205844e-02,  2.14948405e-02, -8.24938828e-02,\n",
       "         4.66455333e-02,  7.79955920e-02,  1.16407652e-01,\n",
       "        -7.48628316e-02,  7.23915373e-02,  4.12290107e-02,\n",
       "         1.25232143e-02,  7.07498709e-02, -9.40040182e-03,\n",
       "         2.06209648e-01,  2.21204618e-02,  2.08073605e-02,\n",
       "        -6.48679012e-02, -3.56090758e-02, -1.24763950e-03,\n",
       "         4.91130633e-02, -1.44402700e-02, -3.48408210e-02,\n",
       "         8.82374290e-03, -1.71797662e-02, -1.04315156e-03,\n",
       "        -2.89428548e-01,  2.88272908e-02, -2.06863078e-02,\n",
       "         8.66961830e-01, -4.15932387e-02, -1.87107625e-01],\n",
       "       [-7.05996724e-03, -8.82484432e-03, -6.77596294e-04,\n",
       "         5.54236439e-04,  2.61802557e-03,  4.29061036e-03,\n",
       "         6.43133633e-03,  9.64953850e-03, -7.54597529e-04,\n",
       "         7.77347252e-06,  4.47351901e-03,  7.23182928e-03,\n",
       "        -2.74776726e-03, -9.23612729e-03, -5.60805334e-03,\n",
       "         1.02033577e-03, -2.61969087e-03, -2.44996790e-03,\n",
       "         6.70243019e-04,  1.46610097e-03, -2.08425309e-03,\n",
       "         4.70477975e-03,  6.97328587e-03,  8.22285822e-04,\n",
       "        -1.15862855e-02, -2.29297203e-02, -5.56870416e-05,\n",
       "         9.97669675e-01,  4.19295534e-03, -1.05361208e-03,\n",
       "        -3.50335365e-03, -4.98861095e-03, -3.80983131e-04,\n",
       "         1.65772258e-02,  1.25515017e-02, -5.44276891e-03,\n",
       "        -4.92622565e-02, -2.04502486e-02,  7.38616455e-03],\n",
       "       [-3.09139027e-01, -4.12376677e-01,  2.13095063e-01,\n",
       "         2.99217914e-01, -7.65156096e-02,  2.85787600e-02,\n",
       "        -1.86400711e-02,  1.50519751e-01,  1.69465284e-02,\n",
       "         1.37299951e-01,  5.65006988e-02,  2.42167734e-01,\n",
       "        -9.04126800e-02, -7.89414542e-02, -2.99623746e-01,\n",
       "        -4.06840519e-01,  4.32054845e-02,  1.10369053e-01,\n",
       "        -1.88314369e-01, -8.62583204e-02,  5.63018216e-03,\n",
       "         1.91110193e-01, -2.37328524e-03, -3.02612110e-03,\n",
       "         2.13409047e-01, -1.16390629e-01,  4.01314692e-03,\n",
       "        -8.73762601e-03,  3.13734444e-02, -8.79982945e-02,\n",
       "        -1.98326180e-01, -1.37652681e-04, -2.50186196e-03,\n",
       "        -1.76483746e-02,  4.06479153e-02, -4.32049582e-02,\n",
       "         6.36347959e-02,  2.71454328e-02, -9.84863257e-02],\n",
       "       [ 2.14842644e-02, -2.02807188e-02,  1.31028894e-02,\n",
       "        -1.32113070e-02,  4.74578007e-02, -3.37368522e-02,\n",
       "         7.51872454e-02, -3.02645176e-02,  4.76937605e-04,\n",
       "        -7.29122159e-02,  5.04964288e-02, -5.54068270e-02,\n",
       "         1.19669883e-02,  2.18329360e-03, -2.35179668e-02,\n",
       "        -1.64341808e-02,  4.29200528e-03, -9.07963716e-03,\n",
       "         1.71258393e-02,  9.05428753e-02, -1.25580502e-02,\n",
       "         4.28527106e-01,  6.61150488e-01,  2.99959549e-01,\n",
       "        -2.96332846e-01, -2.54357010e-01, -1.44362378e-02,\n",
       "        -3.27268695e-02,  3.31582780e-02,  2.46591167e-02,\n",
       "         3.51216960e-03, -6.73685317e-02, -4.38983608e-03,\n",
       "         5.32054378e-02,  1.33131935e-01, -6.87642848e-02,\n",
       "        -1.70545727e-01, -2.00078593e-01,  5.44469766e-02],\n",
       "       [-1.43624589e-02, -1.82670541e-01,  1.99684517e-01,\n",
       "         1.49708015e-01,  1.40883296e-01, -1.31465988e-01,\n",
       "         9.84903029e-02, -2.20755033e-01,  1.11000666e-01,\n",
       "        -1.46084158e-01,  7.56288699e-02, -2.49994993e-01,\n",
       "        -1.49937135e-02,  3.02934124e-02, -2.44089051e-01,\n",
       "        -1.77124702e-01,  4.96581481e-02,  6.34336735e-02,\n",
       "        -5.61775330e-02,  3.47185770e-01, -4.22729932e-03,\n",
       "        -4.31291573e-01,  2.84015588e-01, -8.09610109e-02,\n",
       "         5.33189741e-02,  8.15398454e-02,  2.69222991e-03,\n",
       "         9.75937512e-03, -3.52546033e-02,  6.47497183e-02,\n",
       "         4.12116557e-01,  1.95809532e-02,  2.56669160e-03,\n",
       "        -1.53648213e-02, -9.72422253e-02,  6.47682821e-02,\n",
       "         3.52390207e-02,  8.73053356e-02,  5.61785087e-02],\n",
       "       [-2.53343539e-03,  1.17384889e-01, -7.74822289e-02,\n",
       "        -4.86985965e-02, -7.28248121e-02,  7.02925474e-02,\n",
       "        -6.92083475e-02,  1.00992827e-01, -3.34094010e-02,\n",
       "         8.00743606e-02, -4.32337062e-02,  1.18784463e-01,\n",
       "        -1.40531679e-02, -3.10788753e-02,  7.84827046e-02,\n",
       "         1.00603984e-01, -3.37260901e-02, -1.94921002e-02,\n",
       "         2.85271780e-02, -1.67846137e-01,  5.05066085e-03,\n",
       "        -2.96973852e-01,  6.66606233e-01, -3.47419074e-01,\n",
       "         2.75873606e-01,  1.12523766e-01,  1.20692992e-02,\n",
       "         1.02367015e-02,  3.52552697e-02, -4.44802184e-02,\n",
       "        -3.29991340e-01,  3.06563609e-02,  1.75019788e-03,\n",
       "        -3.62473496e-02, -3.77618331e-02,  1.83543267e-02,\n",
       "         1.17683115e-01,  6.65142255e-02, -6.66406104e-02],\n",
       "       [-4.17828816e-02,  6.95365373e-02, -6.63805396e-02,\n",
       "        -1.76759896e-02, -8.07044313e-02,  1.05841714e-01,\n",
       "        -4.91498747e-02,  1.78827712e-01, -6.26770728e-02,\n",
       "         1.13255534e-01, -3.24676671e-02,  1.98873138e-01,\n",
       "        -1.79245629e-02, -3.48131507e-02,  6.50040411e-02,\n",
       "         1.25681947e-02, -4.41324373e-02, -1.80130680e-02,\n",
       "         1.72883393e-02, -2.04078791e-01,  5.73130431e-03,\n",
       "         2.53740007e-01,  1.11707589e-01, -2.26539332e-01,\n",
       "         2.05600973e-01, -2.29443750e-02,  1.72470685e-03,\n",
       "         6.31159280e-04, -1.61255067e-01, -6.09375941e-02,\n",
       "         7.89129572e-01,  7.76521025e-03, -1.53503617e-03,\n",
       "         2.06967454e-03,  3.10048464e-02, -2.00602628e-02,\n",
       "         5.50053024e-03, -2.21055413e-02, -6.07024599e-02],\n",
       "       [-6.22101840e-02, -8.59100255e-02, -7.28499817e-02,\n",
       "        -1.65333188e-02, -1.10749091e-01,  7.82633764e-02,\n",
       "        -6.52892198e-02,  1.75543725e-01, -6.38505810e-02,\n",
       "         1.30104286e-01, -1.51421741e-02,  2.31848083e-01,\n",
       "        -6.29725604e-03, -5.19180180e-03,  1.19232686e-01,\n",
       "        -1.07192595e-01,  1.84717388e-02,  5.49720890e-03,\n",
       "        -4.76998331e-02, -2.53729604e-01,  4.17981350e-03,\n",
       "        -5.16731893e-01,  8.17879516e-02,  5.70305489e-01,\n",
       "        -3.30550195e-01,  1.10757545e-02,  1.54818802e-02,\n",
       "         3.06136155e-03, -5.36412273e-02, -3.34411563e-02,\n",
       "         1.62420556e-01,  1.23140899e-02, -1.08405234e-03,\n",
       "        -3.77948820e-02,  1.90645531e-02, -2.99420169e-02,\n",
       "         1.21411759e-01,  3.81051108e-02, -6.24679847e-02]])"
      ]
     },
     "execution_count": 147,
     "metadata": {},
     "output_type": "execute_result"
    }
   ],
   "source": [
    "np_PCA"
   ]
  },
  {
   "cell_type": "code",
   "execution_count": null,
   "metadata": {},
   "outputs": [],
   "source": [
    "## convert the "
   ]
  },
  {
   "cell_type": "code",
   "execution_count": 148,
   "metadata": {},
   "outputs": [],
   "source": [
    "df_PCA = pd.DataFrame(np_PCA)"
   ]
  },
  {
   "cell_type": "code",
   "execution_count": 149,
   "metadata": {},
   "outputs": [
    {
     "data": {
      "text/html": [
       "<div>\n",
       "<style scoped>\n",
       "    .dataframe tbody tr th:only-of-type {\n",
       "        vertical-align: middle;\n",
       "    }\n",
       "\n",
       "    .dataframe tbody tr th {\n",
       "        vertical-align: top;\n",
       "    }\n",
       "\n",
       "    .dataframe thead th {\n",
       "        text-align: right;\n",
       "    }\n",
       "</style>\n",
       "<table border=\"1\" class=\"dataframe\">\n",
       "  <thead>\n",
       "    <tr style=\"text-align: right;\">\n",
       "      <th></th>\n",
       "      <th>0</th>\n",
       "      <th>1</th>\n",
       "      <th>2</th>\n",
       "      <th>3</th>\n",
       "      <th>4</th>\n",
       "      <th>5</th>\n",
       "      <th>6</th>\n",
       "      <th>7</th>\n",
       "      <th>8</th>\n",
       "      <th>9</th>\n",
       "      <th>...</th>\n",
       "      <th>29</th>\n",
       "      <th>30</th>\n",
       "      <th>31</th>\n",
       "      <th>32</th>\n",
       "      <th>33</th>\n",
       "      <th>34</th>\n",
       "      <th>35</th>\n",
       "      <th>36</th>\n",
       "      <th>37</th>\n",
       "      <th>38</th>\n",
       "    </tr>\n",
       "  </thead>\n",
       "  <tbody>\n",
       "    <tr>\n",
       "      <th>0</th>\n",
       "      <td>0.188872</td>\n",
       "      <td>0.142178</td>\n",
       "      <td>0.221125</td>\n",
       "      <td>0.209443</td>\n",
       "      <td>0.275786</td>\n",
       "      <td>0.279370</td>\n",
       "      <td>0.281233</td>\n",
       "      <td>0.266785</td>\n",
       "      <td>0.254061</td>\n",
       "      <td>0.243955</td>\n",
       "      <td>...</td>\n",
       "      <td>0.062115</td>\n",
       "      <td>-0.006583</td>\n",
       "      <td>-0.007234</td>\n",
       "      <td>-0.001760</td>\n",
       "      <td>-0.005990</td>\n",
       "      <td>-0.095777</td>\n",
       "      <td>0.094742</td>\n",
       "      <td>-0.003390</td>\n",
       "      <td>-0.001619</td>\n",
       "      <td>0.050719</td>\n",
       "    </tr>\n",
       "    <tr>\n",
       "      <th>1</th>\n",
       "      <td>0.105125</td>\n",
       "      <td>0.164667</td>\n",
       "      <td>0.334328</td>\n",
       "      <td>0.378992</td>\n",
       "      <td>-0.148656</td>\n",
       "      <td>-0.109261</td>\n",
       "      <td>-0.078428</td>\n",
       "      <td>-0.028200</td>\n",
       "      <td>-0.190932</td>\n",
       "      <td>-0.164826</td>\n",
       "      <td>...</td>\n",
       "      <td>0.132577</td>\n",
       "      <td>-0.011875</td>\n",
       "      <td>0.006691</td>\n",
       "      <td>0.001678</td>\n",
       "      <td>0.005629</td>\n",
       "      <td>0.190072</td>\n",
       "      <td>-0.207586</td>\n",
       "      <td>0.018302</td>\n",
       "      <td>0.006932</td>\n",
       "      <td>0.115221</td>\n",
       "    </tr>\n",
       "    <tr>\n",
       "      <th>2</th>\n",
       "      <td>-0.022422</td>\n",
       "      <td>0.020495</td>\n",
       "      <td>0.056896</td>\n",
       "      <td>0.076667</td>\n",
       "      <td>-0.153140</td>\n",
       "      <td>-0.116421</td>\n",
       "      <td>-0.094813</td>\n",
       "      <td>-0.051132</td>\n",
       "      <td>-0.133174</td>\n",
       "      <td>-0.112953</td>\n",
       "      <td>...</td>\n",
       "      <td>0.027539</td>\n",
       "      <td>0.083987</td>\n",
       "      <td>0.026177</td>\n",
       "      <td>0.001065</td>\n",
       "      <td>0.045438</td>\n",
       "      <td>-0.463208</td>\n",
       "      <td>0.449069</td>\n",
       "      <td>0.031101</td>\n",
       "      <td>0.055478</td>\n",
       "      <td>0.021498</td>\n",
       "    </tr>\n",
       "    <tr>\n",
       "      <th>3</th>\n",
       "      <td>-0.013104</td>\n",
       "      <td>-0.021928</td>\n",
       "      <td>-0.027059</td>\n",
       "      <td>-0.015882</td>\n",
       "      <td>0.019275</td>\n",
       "      <td>0.021721</td>\n",
       "      <td>0.019094</td>\n",
       "      <td>0.028734</td>\n",
       "      <td>0.009053</td>\n",
       "      <td>0.007050</td>\n",
       "      <td>...</td>\n",
       "      <td>0.129378</td>\n",
       "      <td>-0.010930</td>\n",
       "      <td>-0.003184</td>\n",
       "      <td>-0.000247</td>\n",
       "      <td>0.682004</td>\n",
       "      <td>0.007667</td>\n",
       "      <td>-0.050367</td>\n",
       "      <td>0.263228</td>\n",
       "      <td>-0.001101</td>\n",
       "      <td>0.087885</td>\n",
       "    </tr>\n",
       "    <tr>\n",
       "      <th>4</th>\n",
       "      <td>-0.152859</td>\n",
       "      <td>-0.170915</td>\n",
       "      <td>-0.130644</td>\n",
       "      <td>-0.034097</td>\n",
       "      <td>-0.009953</td>\n",
       "      <td>0.058386</td>\n",
       "      <td>0.019074</td>\n",
       "      <td>0.144743</td>\n",
       "      <td>-0.018943</td>\n",
       "      <td>0.016064</td>\n",
       "      <td>...</td>\n",
       "      <td>0.644338</td>\n",
       "      <td>0.000329</td>\n",
       "      <td>0.006764</td>\n",
       "      <td>0.000223</td>\n",
       "      <td>-0.187300</td>\n",
       "      <td>-0.032908</td>\n",
       "      <td>-0.015351</td>\n",
       "      <td>0.187524</td>\n",
       "      <td>0.001813</td>\n",
       "      <td>0.553913</td>\n",
       "    </tr>\n",
       "  </tbody>\n",
       "</table>\n",
       "<p>5 rows × 39 columns</p>\n",
       "</div>"
      ],
      "text/plain": [
       "         0         1         2         3         4         5         6   \\\n",
       "0  0.188872  0.142178  0.221125  0.209443  0.275786  0.279370  0.281233   \n",
       "1  0.105125  0.164667  0.334328  0.378992 -0.148656 -0.109261 -0.078428   \n",
       "2 -0.022422  0.020495  0.056896  0.076667 -0.153140 -0.116421 -0.094813   \n",
       "3 -0.013104 -0.021928 -0.027059 -0.015882  0.019275  0.021721  0.019094   \n",
       "4 -0.152859 -0.170915 -0.130644 -0.034097 -0.009953  0.058386  0.019074   \n",
       "\n",
       "         7         8         9   ...        29        30        31        32  \\\n",
       "0  0.266785  0.254061  0.243955  ...  0.062115 -0.006583 -0.007234 -0.001760   \n",
       "1 -0.028200 -0.190932 -0.164826  ...  0.132577 -0.011875  0.006691  0.001678   \n",
       "2 -0.051132 -0.133174 -0.112953  ...  0.027539  0.083987  0.026177  0.001065   \n",
       "3  0.028734  0.009053  0.007050  ...  0.129378 -0.010930 -0.003184 -0.000247   \n",
       "4  0.144743 -0.018943  0.016064  ...  0.644338  0.000329  0.006764  0.000223   \n",
       "\n",
       "         33        34        35        36        37        38  \n",
       "0 -0.005990 -0.095777  0.094742 -0.003390 -0.001619  0.050719  \n",
       "1  0.005629  0.190072 -0.207586  0.018302  0.006932  0.115221  \n",
       "2  0.045438 -0.463208  0.449069  0.031101  0.055478  0.021498  \n",
       "3  0.682004  0.007667 -0.050367  0.263228 -0.001101  0.087885  \n",
       "4 -0.187300 -0.032908 -0.015351  0.187524  0.001813  0.553913  \n",
       "\n",
       "[5 rows x 39 columns]"
      ]
     },
     "execution_count": 149,
     "metadata": {},
     "output_type": "execute_result"
    }
   ],
   "source": [
    "df_PCA.head()"
   ]
  },
  {
   "cell_type": "code",
   "execution_count": 410,
   "metadata": {},
   "outputs": [],
   "source": [
    "import scikitplot as skplt"
   ]
  },
  {
   "cell_type": "code",
   "execution_count": 436,
   "metadata": {},
   "outputs": [],
   "source": [
    "y_test_reg_preds = lr_pipeline.predict(X_test)"
   ]
  },
  {
   "cell_type": "code",
   "execution_count": 437,
   "metadata": {},
   "outputs": [
    {
     "data": {
      "text/plain": [
       "519033263.62086904"
      ]
     },
     "execution_count": 437,
     "metadata": {},
     "output_type": "execute_result"
    }
   ],
   "source": [
    "y_test_reg_preds.sum()"
   ]
  },
  {
   "cell_type": "code",
   "execution_count": 415,
   "metadata": {},
   "outputs": [],
   "source": [
    "#skplt.metrics.plot_lift_curve(y_test, y_test_reg_preds)"
   ]
  },
  {
   "cell_type": "code",
   "execution_count": 416,
   "metadata": {},
   "outputs": [
    {
     "data": {
      "text/plain": [
       "<matplotlib.collections.PathCollection at 0x7fcde3d26a30>"
      ]
     },
     "execution_count": 416,
     "metadata": {},
     "output_type": "execute_result"
    },
    {
     "data": {
      "image/png": "[encoded data removed]",
      "text/plain": [
       "<Figure size 432x288 with 1 Axes>"
      ]
     },
     "metadata": {
      "needs_background": "light"
     },
     "output_type": "display_data"
    }
   ],
   "source": [
    "plt.scatter(y_test,y_test_reg_preds)"
   ]
  },
  {
   "cell_type": "code",
   "execution_count": 405,
   "metadata": {},
   "outputs": [
    {
     "data": {
      "image/png": "[encoded data removed]",
      "text/plain": [
       "<Figure size 576x432 with 1 Axes>"
      ]
     },
     "metadata": {
      "needs_background": "light"
     },
     "output_type": "display_data"
    }
   ],
   "source": [
    "fig, axes = plt.subplots(figsize=(8, 6))\n",
    "\n",
    "axes.scatter(x=y_test, y=y_test_reg_preds)\n",
    "\n",
    "axes.plot([0, 20000000], [0,20000000])\n",
    "axes.set_title(\"Actual vs Predicted - Regression\")\n",
    "axes.set_xlabel(\"Actual\")\n",
    "axes.set_ylabel(\"Predicted\");"
   ]
  },
  {
   "cell_type": "code",
   "execution_count": 103,
   "metadata": {},
   "outputs": [
    {
     "name": "stdout",
     "output_type": "stream",
     "text": [
      "Collecting pandas-profiling[notebook]\n",
      "  Downloading pandas_profiling-2.11.0-py2.py3-none-any.whl (243 kB)\n",
      "\u001b[K     |████████████████████████████████| 243 kB 4.7 MB/s eta 0:00:01\n",
      "\u001b[?25hRequirement already satisfied, skipping upgrade: seaborn>=0.10.1 in /Users/abhinavverma/opt/anaconda3/lib/python3.8/site-packages (from pandas-profiling[notebook]) (0.11.0)\n",
      "Requirement already satisfied, skipping upgrade: missingno>=0.4.2 in /Users/abhinavverma/opt/anaconda3/lib/python3.8/site-packages (from pandas-profiling[notebook]) (0.4.2)\n",
      "Requirement already satisfied, skipping upgrade: matplotlib>=3.2.0 in /Users/abhinavverma/opt/anaconda3/lib/python3.8/site-packages (from pandas-profiling[notebook]) (3.3.2)\n",
      "Requirement already satisfied, skipping upgrade: ipywidgets>=7.5.1 in /Users/abhinavverma/opt/anaconda3/lib/python3.8/site-packages (from pandas-profiling[notebook]) (7.5.1)\n",
      "Requirement already satisfied, skipping upgrade: confuse>=1.0.0 in /Users/abhinavverma/opt/anaconda3/lib/python3.8/site-packages (from pandas-profiling[notebook]) (1.4.0)\n",
      "Requirement already satisfied, skipping upgrade: tangled-up-in-unicode>=0.0.6 in /Users/abhinavverma/opt/anaconda3/lib/python3.8/site-packages (from pandas-profiling[notebook]) (0.0.6)\n",
      "Requirement already satisfied, skipping upgrade: htmlmin>=0.1.12 in /Users/abhinavverma/opt/anaconda3/lib/python3.8/site-packages (from pandas-profiling[notebook]) (0.1.12)\n",
      "Requirement already satisfied, skipping upgrade: requests>=2.24.0 in /Users/abhinavverma/opt/anaconda3/lib/python3.8/site-packages (from pandas-profiling[notebook]) (2.24.0)\n",
      "Requirement already satisfied, skipping upgrade: pandas!=1.0.0,!=1.0.1,!=1.0.2,!=1.1.0,>=0.25.3 in /Users/abhinavverma/opt/anaconda3/lib/python3.8/site-packages (from pandas-profiling[notebook]) (1.1.3)\n",
      "Requirement already satisfied, skipping upgrade: numpy>=1.16.0 in /Users/abhinavverma/opt/anaconda3/lib/python3.8/site-packages (from pandas-profiling[notebook]) (1.19.2)\n",
      "Requirement already satisfied, skipping upgrade: phik>=0.10.0 in /Users/abhinavverma/opt/anaconda3/lib/python3.8/site-packages (from pandas-profiling[notebook]) (0.11.0)\n",
      "Requirement already satisfied, skipping upgrade: scipy>=1.4.1 in /Users/abhinavverma/opt/anaconda3/lib/python3.8/site-packages (from pandas-profiling[notebook]) (1.5.2)\n",
      "Requirement already satisfied, skipping upgrade: joblib in /Users/abhinavverma/opt/anaconda3/lib/python3.8/site-packages (from pandas-profiling[notebook]) (0.17.0)\n",
      "Requirement already satisfied, skipping upgrade: tqdm>=4.48.2 in /Users/abhinavverma/opt/anaconda3/lib/python3.8/site-packages (from pandas-profiling[notebook]) (4.50.2)\n",
      "Requirement already satisfied, skipping upgrade: attrs>=19.3.0 in /Users/abhinavverma/opt/anaconda3/lib/python3.8/site-packages (from pandas-profiling[notebook]) (20.3.0)\n",
      "Requirement already satisfied, skipping upgrade: jinja2>=2.11.1 in /Users/abhinavverma/opt/anaconda3/lib/python3.8/site-packages (from pandas-profiling[notebook]) (2.11.2)\n",
      "Requirement already satisfied, skipping upgrade: visions[type_image_path]==0.6.0 in /Users/abhinavverma/opt/anaconda3/lib/python3.8/site-packages (from pandas-profiling[notebook]) (0.6.0)\n",
      "Requirement already satisfied, skipping upgrade: jupyter-core>=4.6.3; extra == \"notebook\" in /Users/abhinavverma/opt/anaconda3/lib/python3.8/site-packages (from pandas-profiling[notebook]) (4.6.3)\n",
      "Requirement already satisfied, skipping upgrade: jupyter-client>=6.0.0; extra == \"notebook\" in /Users/abhinavverma/opt/anaconda3/lib/python3.8/site-packages (from pandas-profiling[notebook]) (6.1.7)\n",
      "Requirement already satisfied, skipping upgrade: cycler>=0.10 in /Users/abhinavverma/opt/anaconda3/lib/python3.8/site-packages (from matplotlib>=3.2.0->pandas-profiling[notebook]) (0.10.0)\n",
      "Requirement already satisfied, skipping upgrade: certifi>=2020.06.20 in /Users/abhinavverma/opt/anaconda3/lib/python3.8/site-packages (from matplotlib>=3.2.0->pandas-profiling[notebook]) (2020.6.20)\n",
      "Requirement already satisfied, skipping upgrade: kiwisolver>=1.0.1 in /Users/abhinavverma/opt/anaconda3/lib/python3.8/site-packages (from matplotlib>=3.2.0->pandas-profiling[notebook]) (1.3.0)\n",
      "Requirement already satisfied, skipping upgrade: python-dateutil>=2.1 in /Users/abhinavverma/opt/anaconda3/lib/python3.8/site-packages (from matplotlib>=3.2.0->pandas-profiling[notebook]) (2.8.1)\n",
      "Requirement already satisfied, skipping upgrade: pyparsing!=2.0.4,!=2.1.2,!=2.1.6,>=2.0.3 in /Users/abhinavverma/opt/anaconda3/lib/python3.8/site-packages (from matplotlib>=3.2.0->pandas-profiling[notebook]) (2.4.7)\n",
      "Requirement already satisfied, skipping upgrade: pillow>=6.2.0 in /Users/abhinavverma/opt/anaconda3/lib/python3.8/site-packages (from matplotlib>=3.2.0->pandas-profiling[notebook]) (8.0.1)\n",
      "Requirement already satisfied, skipping upgrade: traitlets>=4.3.1 in /Users/abhinavverma/opt/anaconda3/lib/python3.8/site-packages (from ipywidgets>=7.5.1->pandas-profiling[notebook]) (5.0.5)\n",
      "Requirement already satisfied, skipping upgrade: nbformat>=4.2.0 in /Users/abhinavverma/opt/anaconda3/lib/python3.8/site-packages (from ipywidgets>=7.5.1->pandas-profiling[notebook]) (5.0.8)\n",
      "Requirement already satisfied, skipping upgrade: ipykernel>=4.5.1 in /Users/abhinavverma/opt/anaconda3/lib/python3.8/site-packages (from ipywidgets>=7.5.1->pandas-profiling[notebook]) (5.3.4)\n",
      "Requirement already satisfied, skipping upgrade: ipython>=4.0.0; python_version >= \"3.3\" in /Users/abhinavverma/opt/anaconda3/lib/python3.8/site-packages (from ipywidgets>=7.5.1->pandas-profiling[notebook]) (7.19.0)\n",
      "Requirement already satisfied, skipping upgrade: widgetsnbextension~=3.5.0 in /Users/abhinavverma/opt/anaconda3/lib/python3.8/site-packages (from ipywidgets>=7.5.1->pandas-profiling[notebook]) (3.5.1)\n",
      "Requirement already satisfied, skipping upgrade: pyyaml in /Users/abhinavverma/opt/anaconda3/lib/python3.8/site-packages (from confuse>=1.0.0->pandas-profiling[notebook]) (5.3.1)\n",
      "Requirement already satisfied, skipping upgrade: idna<3,>=2.5 in /Users/abhinavverma/opt/anaconda3/lib/python3.8/site-packages (from requests>=2.24.0->pandas-profiling[notebook]) (2.10)\n",
      "Requirement already satisfied, skipping upgrade: chardet<4,>=3.0.2 in /Users/abhinavverma/opt/anaconda3/lib/python3.8/site-packages (from requests>=2.24.0->pandas-profiling[notebook]) (3.0.4)\n",
      "Requirement already satisfied, skipping upgrade: urllib3!=1.25.0,!=1.25.1,<1.26,>=1.21.1 in /Users/abhinavverma/opt/anaconda3/lib/python3.8/site-packages (from requests>=2.24.0->pandas-profiling[notebook]) (1.25.11)\n",
      "Requirement already satisfied, skipping upgrade: pytz>=2017.2 in /Users/abhinavverma/opt/anaconda3/lib/python3.8/site-packages (from pandas!=1.0.0,!=1.0.1,!=1.0.2,!=1.1.0,>=0.25.3->pandas-profiling[notebook]) (2020.1)\n",
      "Requirement already satisfied, skipping upgrade: numba>=0.38.1 in /Users/abhinavverma/opt/anaconda3/lib/python3.8/site-packages (from phik>=0.10.0->pandas-profiling[notebook]) (0.51.2)\n",
      "Requirement already satisfied, skipping upgrade: MarkupSafe>=0.23 in /Users/abhinavverma/opt/anaconda3/lib/python3.8/site-packages (from jinja2>=2.11.1->pandas-profiling[notebook]) (1.1.1)\n",
      "Requirement already satisfied, skipping upgrade: networkx>=2.4 in /Users/abhinavverma/opt/anaconda3/lib/python3.8/site-packages (from visions[type_image_path]==0.6.0->pandas-profiling[notebook]) (2.5)\n",
      "Requirement already satisfied, skipping upgrade: imagehash; extra == \"type_image_path\" in /Users/abhinavverma/opt/anaconda3/lib/python3.8/site-packages (from visions[type_image_path]==0.6.0->pandas-profiling[notebook]) (4.2.0)\n",
      "Requirement already satisfied, skipping upgrade: tornado>=4.1 in /Users/abhinavverma/opt/anaconda3/lib/python3.8/site-packages (from jupyter-client>=6.0.0; extra == \"notebook\"->pandas-profiling[notebook]) (6.0.4)\n",
      "Requirement already satisfied, skipping upgrade: pyzmq>=13 in /Users/abhinavverma/opt/anaconda3/lib/python3.8/site-packages (from jupyter-client>=6.0.0; extra == \"notebook\"->pandas-profiling[notebook]) (19.0.2)\n",
      "Requirement already satisfied, skipping upgrade: six in /Users/abhinavverma/opt/anaconda3/lib/python3.8/site-packages (from cycler>=0.10->matplotlib>=3.2.0->pandas-profiling[notebook]) (1.15.0)\n",
      "Requirement already satisfied, skipping upgrade: ipython-genutils in /Users/abhinavverma/opt/anaconda3/lib/python3.8/site-packages (from traitlets>=4.3.1->ipywidgets>=7.5.1->pandas-profiling[notebook]) (0.2.0)\n",
      "Requirement already satisfied, skipping upgrade: jsonschema!=2.5.0,>=2.4 in /Users/abhinavverma/opt/anaconda3/lib/python3.8/site-packages (from nbformat>=4.2.0->ipywidgets>=7.5.1->pandas-profiling[notebook]) (3.2.0)\n",
      "Requirement already satisfied, skipping upgrade: appnope; platform_system == \"Darwin\" in /Users/abhinavverma/opt/anaconda3/lib/python3.8/site-packages (from ipykernel>=4.5.1->ipywidgets>=7.5.1->pandas-profiling[notebook]) (0.1.0)\n",
      "Requirement already satisfied, skipping upgrade: decorator in /Users/abhinavverma/opt/anaconda3/lib/python3.8/site-packages (from ipython>=4.0.0; python_version >= \"3.3\"->ipywidgets>=7.5.1->pandas-profiling[notebook]) (4.4.2)\n",
      "Requirement already satisfied, skipping upgrade: pickleshare in /Users/abhinavverma/opt/anaconda3/lib/python3.8/site-packages (from ipython>=4.0.0; python_version >= \"3.3\"->ipywidgets>=7.5.1->pandas-profiling[notebook]) (0.7.5)\n",
      "Requirement already satisfied, skipping upgrade: setuptools>=18.5 in /Users/abhinavverma/opt/anaconda3/lib/python3.8/site-packages (from ipython>=4.0.0; python_version >= \"3.3\"->ipywidgets>=7.5.1->pandas-profiling[notebook]) (50.3.1.post20201107)\n"
     ]
    },
    {
     "name": "stdout",
     "output_type": "stream",
     "text": [
      "Requirement already satisfied, skipping upgrade: jedi>=0.10 in /Users/abhinavverma/opt/anaconda3/lib/python3.8/site-packages (from ipython>=4.0.0; python_version >= \"3.3\"->ipywidgets>=7.5.1->pandas-profiling[notebook]) (0.17.1)\n",
      "Requirement already satisfied, skipping upgrade: pexpect>4.3; sys_platform != \"win32\" in /Users/abhinavverma/opt/anaconda3/lib/python3.8/site-packages (from ipython>=4.0.0; python_version >= \"3.3\"->ipywidgets>=7.5.1->pandas-profiling[notebook]) (4.8.0)\n",
      "Requirement already satisfied, skipping upgrade: prompt-toolkit!=3.0.0,!=3.0.1,<3.1.0,>=2.0.0 in /Users/abhinavverma/opt/anaconda3/lib/python3.8/site-packages (from ipython>=4.0.0; python_version >= \"3.3\"->ipywidgets>=7.5.1->pandas-profiling[notebook]) (3.0.8)\n",
      "Requirement already satisfied, skipping upgrade: pygments in /Users/abhinavverma/opt/anaconda3/lib/python3.8/site-packages (from ipython>=4.0.0; python_version >= \"3.3\"->ipywidgets>=7.5.1->pandas-profiling[notebook]) (2.7.2)\n",
      "Requirement already satisfied, skipping upgrade: backcall in /Users/abhinavverma/opt/anaconda3/lib/python3.8/site-packages (from ipython>=4.0.0; python_version >= \"3.3\"->ipywidgets>=7.5.1->pandas-profiling[notebook]) (0.2.0)\n",
      "Requirement already satisfied, skipping upgrade: notebook>=4.4.1 in /Users/abhinavverma/opt/anaconda3/lib/python3.8/site-packages (from widgetsnbextension~=3.5.0->ipywidgets>=7.5.1->pandas-profiling[notebook]) (6.1.4)\n",
      "Requirement already satisfied, skipping upgrade: llvmlite<0.35,>=0.34.0.dev0 in /Users/abhinavverma/opt/anaconda3/lib/python3.8/site-packages (from numba>=0.38.1->phik>=0.10.0->pandas-profiling[notebook]) (0.34.0)\n",
      "Requirement already satisfied, skipping upgrade: PyWavelets in /Users/abhinavverma/opt/anaconda3/lib/python3.8/site-packages (from imagehash; extra == \"type_image_path\"->visions[type_image_path]==0.6.0->pandas-profiling[notebook]) (1.1.1)\n",
      "Requirement already satisfied, skipping upgrade: pyrsistent>=0.14.0 in /Users/abhinavverma/opt/anaconda3/lib/python3.8/site-packages (from jsonschema!=2.5.0,>=2.4->nbformat>=4.2.0->ipywidgets>=7.5.1->pandas-profiling[notebook]) (0.17.3)\n",
      "Requirement already satisfied, skipping upgrade: parso<0.8.0,>=0.7.0 in /Users/abhinavverma/opt/anaconda3/lib/python3.8/site-packages (from jedi>=0.10->ipython>=4.0.0; python_version >= \"3.3\"->ipywidgets>=7.5.1->pandas-profiling[notebook]) (0.7.0)\n",
      "Requirement already satisfied, skipping upgrade: ptyprocess>=0.5 in /Users/abhinavverma/opt/anaconda3/lib/python3.8/site-packages (from pexpect>4.3; sys_platform != \"win32\"->ipython>=4.0.0; python_version >= \"3.3\"->ipywidgets>=7.5.1->pandas-profiling[notebook]) (0.6.0)\n",
      "Requirement already satisfied, skipping upgrade: wcwidth in /Users/abhinavverma/opt/anaconda3/lib/python3.8/site-packages (from prompt-toolkit!=3.0.0,!=3.0.1,<3.1.0,>=2.0.0->ipython>=4.0.0; python_version >= \"3.3\"->ipywidgets>=7.5.1->pandas-profiling[notebook]) (0.2.5)\n",
      "Requirement already satisfied, skipping upgrade: terminado>=0.8.3 in /Users/abhinavverma/opt/anaconda3/lib/python3.8/site-packages (from notebook>=4.4.1->widgetsnbextension~=3.5.0->ipywidgets>=7.5.1->pandas-profiling[notebook]) (0.9.1)\n",
      "Requirement already satisfied, skipping upgrade: Send2Trash in /Users/abhinavverma/opt/anaconda3/lib/python3.8/site-packages (from notebook>=4.4.1->widgetsnbextension~=3.5.0->ipywidgets>=7.5.1->pandas-profiling[notebook]) (1.5.0)\n",
      "Requirement already satisfied, skipping upgrade: argon2-cffi in /Users/abhinavverma/opt/anaconda3/lib/python3.8/site-packages (from notebook>=4.4.1->widgetsnbextension~=3.5.0->ipywidgets>=7.5.1->pandas-profiling[notebook]) (20.1.0)\n",
      "Requirement already satisfied, skipping upgrade: nbconvert in /Users/abhinavverma/opt/anaconda3/lib/python3.8/site-packages (from notebook>=4.4.1->widgetsnbextension~=3.5.0->ipywidgets>=7.5.1->pandas-profiling[notebook]) (6.0.7)\n",
      "Requirement already satisfied, skipping upgrade: prometheus-client in /Users/abhinavverma/opt/anaconda3/lib/python3.8/site-packages (from notebook>=4.4.1->widgetsnbextension~=3.5.0->ipywidgets>=7.5.1->pandas-profiling[notebook]) (0.8.0)\n",
      "Requirement already satisfied, skipping upgrade: cffi>=1.0.0 in /Users/abhinavverma/opt/anaconda3/lib/python3.8/site-packages (from argon2-cffi->notebook>=4.4.1->widgetsnbextension~=3.5.0->ipywidgets>=7.5.1->pandas-profiling[notebook]) (1.14.3)\n",
      "Requirement already satisfied, skipping upgrade: defusedxml in /Users/abhinavverma/opt/anaconda3/lib/python3.8/site-packages (from nbconvert->notebook>=4.4.1->widgetsnbextension~=3.5.0->ipywidgets>=7.5.1->pandas-profiling[notebook]) (0.6.0)\n",
      "Requirement already satisfied, skipping upgrade: nbclient<0.6.0,>=0.5.0 in /Users/abhinavverma/opt/anaconda3/lib/python3.8/site-packages (from nbconvert->notebook>=4.4.1->widgetsnbextension~=3.5.0->ipywidgets>=7.5.1->pandas-profiling[notebook]) (0.5.1)\n",
      "Requirement already satisfied, skipping upgrade: bleach in /Users/abhinavverma/opt/anaconda3/lib/python3.8/site-packages (from nbconvert->notebook>=4.4.1->widgetsnbextension~=3.5.0->ipywidgets>=7.5.1->pandas-profiling[notebook]) (3.2.1)\n",
      "Requirement already satisfied, skipping upgrade: jupyterlab-pygments in /Users/abhinavverma/opt/anaconda3/lib/python3.8/site-packages (from nbconvert->notebook>=4.4.1->widgetsnbextension~=3.5.0->ipywidgets>=7.5.1->pandas-profiling[notebook]) (0.1.2)\n",
      "Requirement already satisfied, skipping upgrade: pandocfilters>=1.4.1 in /Users/abhinavverma/opt/anaconda3/lib/python3.8/site-packages (from nbconvert->notebook>=4.4.1->widgetsnbextension~=3.5.0->ipywidgets>=7.5.1->pandas-profiling[notebook]) (1.4.3)\n",
      "Requirement already satisfied, skipping upgrade: testpath in /Users/abhinavverma/opt/anaconda3/lib/python3.8/site-packages (from nbconvert->notebook>=4.4.1->widgetsnbextension~=3.5.0->ipywidgets>=7.5.1->pandas-profiling[notebook]) (0.4.4)\n",
      "Requirement already satisfied, skipping upgrade: mistune<2,>=0.8.1 in /Users/abhinavverma/opt/anaconda3/lib/python3.8/site-packages (from nbconvert->notebook>=4.4.1->widgetsnbextension~=3.5.0->ipywidgets>=7.5.1->pandas-profiling[notebook]) (0.8.4)\n",
      "Requirement already satisfied, skipping upgrade: entrypoints>=0.2.2 in /Users/abhinavverma/opt/anaconda3/lib/python3.8/site-packages (from nbconvert->notebook>=4.4.1->widgetsnbextension~=3.5.0->ipywidgets>=7.5.1->pandas-profiling[notebook]) (0.3)\n",
      "Requirement already satisfied, skipping upgrade: pycparser in /Users/abhinavverma/opt/anaconda3/lib/python3.8/site-packages (from cffi>=1.0.0->argon2-cffi->notebook>=4.4.1->widgetsnbextension~=3.5.0->ipywidgets>=7.5.1->pandas-profiling[notebook]) (2.20)\n",
      "Requirement already satisfied, skipping upgrade: async-generator in /Users/abhinavverma/opt/anaconda3/lib/python3.8/site-packages (from nbclient<0.6.0,>=0.5.0->nbconvert->notebook>=4.4.1->widgetsnbextension~=3.5.0->ipywidgets>=7.5.1->pandas-profiling[notebook]) (1.10)\n",
      "Requirement already satisfied, skipping upgrade: nest-asyncio in /Users/abhinavverma/opt/anaconda3/lib/python3.8/site-packages (from nbclient<0.6.0,>=0.5.0->nbconvert->notebook>=4.4.1->widgetsnbextension~=3.5.0->ipywidgets>=7.5.1->pandas-profiling[notebook]) (1.4.2)\n",
      "Requirement already satisfied, skipping upgrade: packaging in /Users/abhinavverma/opt/anaconda3/lib/python3.8/site-packages (from bleach->nbconvert->notebook>=4.4.1->widgetsnbextension~=3.5.0->ipywidgets>=7.5.1->pandas-profiling[notebook]) (20.4)\n",
      "Requirement already satisfied, skipping upgrade: webencodings in /Users/abhinavverma/opt/anaconda3/lib/python3.8/site-packages (from bleach->nbconvert->notebook>=4.4.1->widgetsnbextension~=3.5.0->ipywidgets>=7.5.1->pandas-profiling[notebook]) (0.5.1)\n",
      "Installing collected packages: pandas-profiling\n",
      "  Attempting uninstall: pandas-profiling\n",
      "    Found existing installation: pandas-profiling 2.10.1\n",
      "    Uninstalling pandas-profiling-2.10.1:\n",
      "      Successfully uninstalled pandas-profiling-2.10.1\n",
      "Successfully installed pandas-profiling-2.11.0\n",
      "Enabling notebook extension jupyter-js-widgets/extension...\n",
      "      - Validating: \u001b[32mOK\u001b[0m\n"
     ]
    }
   ],
   "source": [
    "import sys\n",
    "!{sys.executable} -m pip install -U pandas-profiling[notebook]\n",
    "!jupyter nbextension enable --py widgetsnbextension"
   ]
  },
  {
   "cell_type": "markdown",
   "metadata": {},
   "source": [
    "## How does our model perform predictions and how far off is it on the Testing data set"
   ]
  },
  {
   "cell_type": "code",
   "execution_count": 438,
   "metadata": {},
   "outputs": [
    {
     "data": {
      "image/png": "[encoded data removed]",
      "text/plain": [
       "<Figure size 432x288 with 1 Axes>"
      ]
     },
     "metadata": {
      "needs_background": "light"
     },
     "output_type": "display_data"
    }
   ],
   "source": [
    "g=plt.plot(y_test - y_test_reg_preds,marker='o',linestyle='')"
   ]
  },
  {
   "cell_type": "code",
   "execution_count": null,
   "metadata": {},
   "outputs": [],
   "source": [
    "#skplt.metrics.plot_lift_curve(y_test_cl, y_test_cl_preds);"
   ]
  },
  {
   "cell_type": "markdown",
   "metadata": {},
   "source": [
    "## make function to output deciles"
   ]
  },
  {
   "cell_type": "code",
   "execution_count": 447,
   "metadata": {},
   "outputs": [],
   "source": [
    "def output_deciles(model, X, y):\n",
    "    results = pd.DataFrame(model.predict(X), index = X.index, columns = ['predictions'])\n",
    "    results['actual'] = y.values\n",
    "    results['deciles'] = pd.qcut(results['predictions'],10, labels= False)\n",
    "    return results"
   ]
  },
  {
   "cell_type": "code",
   "execution_count": 449,
   "metadata": {},
   "outputs": [],
   "source": [
    "regression_deciles = output_deciles(lr_pipeline,X_test,y_test )"
   ]
  },
  {
   "cell_type": "code",
   "execution_count": 456,
   "metadata": {},
   "outputs": [
    {
     "data": {
      "text/html": [
       "<div>\n",
       "<style scoped>\n",
       "    .dataframe tbody tr th:only-of-type {\n",
       "        vertical-align: middle;\n",
       "    }\n",
       "\n",
       "    .dataframe tbody tr th {\n",
       "        vertical-align: top;\n",
       "    }\n",
       "\n",
       "    .dataframe thead th {\n",
       "        text-align: right;\n",
       "    }\n",
       "</style>\n",
       "<table border=\"1\" class=\"dataframe\">\n",
       "  <thead>\n",
       "    <tr style=\"text-align: right;\">\n",
       "      <th></th>\n",
       "      <th>actual</th>\n",
       "    </tr>\n",
       "    <tr>\n",
       "      <th>deciles</th>\n",
       "      <th></th>\n",
       "    </tr>\n",
       "  </thead>\n",
       "  <tbody>\n",
       "    <tr>\n",
       "      <th>0</th>\n",
       "      <td>2.373316e+04</td>\n",
       "    </tr>\n",
       "    <tr>\n",
       "      <th>1</th>\n",
       "      <td>2.823783e+04</td>\n",
       "    </tr>\n",
       "    <tr>\n",
       "      <th>2</th>\n",
       "      <td>8.051009e+04</td>\n",
       "    </tr>\n",
       "    <tr>\n",
       "      <th>3</th>\n",
       "      <td>5.456244e+04</td>\n",
       "    </tr>\n",
       "    <tr>\n",
       "      <th>4</th>\n",
       "      <td>3.867203e+04</td>\n",
       "    </tr>\n",
       "    <tr>\n",
       "      <th>5</th>\n",
       "      <td>4.840638e+04</td>\n",
       "    </tr>\n",
       "    <tr>\n",
       "      <th>6</th>\n",
       "      <td>4.539685e+04</td>\n",
       "    </tr>\n",
       "    <tr>\n",
       "      <th>7</th>\n",
       "      <td>9.515390e+04</td>\n",
       "    </tr>\n",
       "    <tr>\n",
       "      <th>8</th>\n",
       "      <td>2.849519e+05</td>\n",
       "    </tr>\n",
       "    <tr>\n",
       "      <th>9</th>\n",
       "      <td>1.318598e+06</td>\n",
       "    </tr>\n",
       "  </tbody>\n",
       "</table>\n",
       "</div>"
      ],
      "text/plain": [
       "               actual\n",
       "deciles              \n",
       "0        2.373316e+04\n",
       "1        2.823783e+04\n",
       "2        8.051009e+04\n",
       "3        5.456244e+04\n",
       "4        3.867203e+04\n",
       "5        4.840638e+04\n",
       "6        4.539685e+04\n",
       "7        9.515390e+04\n",
       "8        2.849519e+05\n",
       "9        1.318598e+06"
      ]
     },
     "execution_count": 456,
     "metadata": {},
     "output_type": "execute_result"
    }
   ],
   "source": [
    "regression_deciles.groupby('deciles')[['actual']].mean()"
   ]
  },
  {
   "cell_type": "code",
   "execution_count": null,
   "metadata": {},
   "outputs": [],
   "source": []
  },
  {
   "cell_type": "code",
   "execution_count": null,
   "metadata": {},
   "outputs": [],
   "source": []
  },
  {
   "cell_type": "markdown",
   "metadata": {},
   "source": []
  },
  {
   "cell_type": "code",
   "execution_count": null,
   "metadata": {},
   "outputs": [],
   "source": []
  },
  {
   "cell_type": "code",
   "execution_count": null,
   "metadata": {},
   "outputs": [],
   "source": []
  },
  {
   "cell_type": "code",
   "execution_count": null,
   "metadata": {},
   "outputs": [],
   "source": []
  },
  {
   "cell_type": "code",
   "execution_count": null,
   "metadata": {},
   "outputs": [],
   "source": []
  },
  {
   "cell_type": "code",
   "execution_count": null,
   "metadata": {},
   "outputs": [],
   "source": []
  },
  {
   "cell_type": "code",
   "execution_count": null,
   "metadata": {},
   "outputs": [],
   "source": []
  },
  {
   "cell_type": "code",
   "execution_count": null,
   "metadata": {},
   "outputs": [],
   "source": []
  },
  {
   "cell_type": "code",
   "execution_count": null,
   "metadata": {},
   "outputs": [],
   "source": []
  },
  {
   "cell_type": "code",
   "execution_count": null,
   "metadata": {},
   "outputs": [],
   "source": []
  },
  {
   "cell_type": "code",
   "execution_count": null,
   "metadata": {},
   "outputs": [],
   "source": []
  },
  {
   "cell_type": "code",
   "execution_count": null,
   "metadata": {},
   "outputs": [],
   "source": []
  },
  {
   "cell_type": "code",
   "execution_count": null,
   "metadata": {},
   "outputs": [],
   "source": []
  },
  {
   "cell_type": "code",
   "execution_count": null,
   "metadata": {},
   "outputs": [],
   "source": []
  },
  {
   "cell_type": "code",
   "execution_count": null,
   "metadata": {},
   "outputs": [],
   "source": []
  },
  {
   "cell_type": "code",
   "execution_count": null,
   "metadata": {},
   "outputs": [],
   "source": []
  },
  {
   "cell_type": "code",
   "execution_count": null,
   "metadata": {},
   "outputs": [],
   "source": []
  },
  {
   "cell_type": "code",
   "execution_count": null,
   "metadata": {},
   "outputs": [],
   "source": []
  },
  {
   "cell_type": "markdown",
   "metadata": {},
   "source": [
    "##### "
   ]
  }
 ],
 "metadata": {
  "kernelspec": {
   "display_name": "Python 3",
   "language": "python",
   "name": "python3"
  },
  "language_info": {
   "codemirror_mode": {
    "name": "ipython",
    "version": 3
   },
   "file_extension": ".py",
   "mimetype": "text/x-python",
   "name": "python",
   "nbconvert_exporter": "python",
   "pygments_lexer": "ipython3",
   "version": "3.8.5"
  }
 },
 "nbformat": 4,
 "nbformat_minor": 4
}
