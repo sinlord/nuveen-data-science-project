{
 "cells": [
  {
   "cell_type": "code",
   "execution_count": 3,
   "metadata": {},
   "outputs": [],
   "source": [
    "import pandas as pd\n",
    "import matplotlib.pyplot as plt\n",
    "import seaborn as sns\n",
    "import numpy as np\n",
    "\n",
    "from sklearn.model_selection import train_test_split\n",
    "from sklearn.preprocessing import StandardScaler\n",
    "from sklearn.linear_model import LinearRegression\n",
    "from sklearn.ensemble import GradientBoostingRegressor, RandomForestRegressor\n",
    "\n",
    "from sklearn.decomposition import PCA\n",
    "from sklearn.pipeline import make_pipeline\n",
    "\n",
    "from sklearn.metrics import r2_score, mean_squared_error\n",
    "\n",
    "from sklearn.linear_model import (\n",
    "    LinearRegression, TheilSenRegressor, RANSACRegressor, HuberRegressor, Ridge)\n",
    "from pandas_profiling import ProfileReport"
   ]
  },
  {
   "cell_type": "code",
   "execution_count": 4,
   "metadata": {},
   "outputs": [],
   "source": [
    "df = pd.read_csv('data/final_eda_base_data.csv', index_col= 0)"
   ]
  },
  {
   "cell_type": "code",
   "execution_count": 5,
   "metadata": {},
   "outputs": [
    {
     "name": "stdout",
     "output_type": "stream",
     "text": [
      "<class 'pandas.core.frame.DataFrame'>\n",
      "Int64Index: 10005 entries, 0 to 10004\n",
      "Data columns (total 41 columns):\n",
      " #   Column                               Non-Null Count  Dtype  \n",
      "---  ------                               --------------  -----  \n",
      " 0   no_of_sales_12M_1                    10005 non-null  float64\n",
      " 1   no_of_Redemption_12M_1               10005 non-null  float64\n",
      " 2   no_of_sales_12M_10K                  10005 non-null  float64\n",
      " 3   no_of_Redemption_12M_10K             10005 non-null  float64\n",
      " 4   no_of_funds_sold_12M_1               10005 non-null  float64\n",
      " 5   no_of_funds_redeemed_12M_1           10005 non-null  float64\n",
      " 6   no_of_fund_sales_12M_10K             10005 non-null  float64\n",
      " 7   no_of_funds_Redemption_12M_10K       10005 non-null  float64\n",
      " 8   no_of_assetclass_sold_12M_1          10005 non-null  float64\n",
      " 9   no_of_assetclass_redeemed_12M_1      10005 non-null  float64\n",
      " 10  no_of_assetclass_sales_12M_10K       10005 non-null  float64\n",
      " 11  no_of_assetclass_Redemption_12M_10K  10005 non-null  float64\n",
      " 12  No_of_fund_curr                      10005 non-null  float64\n",
      " 13  No_of_asset_curr                     10005 non-null  float64\n",
      " 14  AUM                                  10005 non-null  float64\n",
      " 15  sales_curr                           10005 non-null  float64\n",
      " 16  sales_12M                            10005 non-null  float64\n",
      " 17  redemption_curr                      10005 non-null  float64\n",
      " 18  redemption_12M                       10005 non-null  float64\n",
      " 19  new_Fund_added_12M                   10005 non-null  float64\n",
      " 20  sales_2019                           10005 non-null  float64\n",
      " 21  new_fund_2019                        10005 non-null  float64\n",
      " 22  Channel_Asset Manager                10005 non-null  int64  \n",
      " 23  Channel_Bank/Trust                   10005 non-null  int64  \n",
      " 24  Channel_Discount                     10005 non-null  int64  \n",
      " 25  Channel_Dual                         10005 non-null  int64  \n",
      " 26  Channel_Fee-Based Adviser            10005 non-null  int64  \n",
      " 27  Channel_Independent Dealer           10005 non-null  int64  \n",
      " 28  Channel_International Outlet         10005 non-null  int64  \n",
      " 29  Channel_Low/Non Producer             10005 non-null  int64  \n",
      " 30  Channel_National Broker-Dealer       10005 non-null  int64  \n",
      " 31  Channel_Networker                    10005 non-null  int64  \n",
      " 32  Channel_Private Client Group         10005 non-null  int64  \n",
      " 33  Sub channel_Affiliated               10005 non-null  int64  \n",
      " 34  Sub channel_DCIO                     10005 non-null  int64  \n",
      " 35  Sub channel_Global                   10005 non-null  int64  \n",
      " 36  Sub channel_IBD                      10005 non-null  int64  \n",
      " 37  Sub channel_NACS                     10005 non-null  int64  \n",
      " 38  Sub channel_Other                    10005 non-null  int64  \n",
      " 39  Sub channel_RIA                      10005 non-null  int64  \n",
      " 40  Sub channel_USBT                     10005 non-null  int64  \n",
      "dtypes: float64(22), int64(19)\n",
      "memory usage: 3.2 MB\n"
     ]
    }
   ],
   "source": [
    "df.info()"
   ]
  },
  {
   "cell_type": "code",
   "execution_count": 6,
   "metadata": {},
   "outputs": [],
   "source": [
    "#df.drop(df.iloc[:, 22:40], inplace = True, axis=1)"
   ]
  },
  {
   "cell_type": "code",
   "execution_count": 7,
   "metadata": {},
   "outputs": [
    {
     "name": "stdout",
     "output_type": "stream",
     "text": [
      "<class 'pandas.core.frame.DataFrame'>\n",
      "Int64Index: 10005 entries, 0 to 10004\n",
      "Data columns (total 41 columns):\n",
      " #   Column                               Non-Null Count  Dtype  \n",
      "---  ------                               --------------  -----  \n",
      " 0   no_of_sales_12M_1                    10005 non-null  float64\n",
      " 1   no_of_Redemption_12M_1               10005 non-null  float64\n",
      " 2   no_of_sales_12M_10K                  10005 non-null  float64\n",
      " 3   no_of_Redemption_12M_10K             10005 non-null  float64\n",
      " 4   no_of_funds_sold_12M_1               10005 non-null  float64\n",
      " 5   no_of_funds_redeemed_12M_1           10005 non-null  float64\n",
      " 6   no_of_fund_sales_12M_10K             10005 non-null  float64\n",
      " 7   no_of_funds_Redemption_12M_10K       10005 non-null  float64\n",
      " 8   no_of_assetclass_sold_12M_1          10005 non-null  float64\n",
      " 9   no_of_assetclass_redeemed_12M_1      10005 non-null  float64\n",
      " 10  no_of_assetclass_sales_12M_10K       10005 non-null  float64\n",
      " 11  no_of_assetclass_Redemption_12M_10K  10005 non-null  float64\n",
      " 12  No_of_fund_curr                      10005 non-null  float64\n",
      " 13  No_of_asset_curr                     10005 non-null  float64\n",
      " 14  AUM                                  10005 non-null  float64\n",
      " 15  sales_curr                           10005 non-null  float64\n",
      " 16  sales_12M                            10005 non-null  float64\n",
      " 17  redemption_curr                      10005 non-null  float64\n",
      " 18  redemption_12M                       10005 non-null  float64\n",
      " 19  new_Fund_added_12M                   10005 non-null  float64\n",
      " 20  sales_2019                           10005 non-null  float64\n",
      " 21  new_fund_2019                        10005 non-null  float64\n",
      " 22  Channel_Asset Manager                10005 non-null  int64  \n",
      " 23  Channel_Bank/Trust                   10005 non-null  int64  \n",
      " 24  Channel_Discount                     10005 non-null  int64  \n",
      " 25  Channel_Dual                         10005 non-null  int64  \n",
      " 26  Channel_Fee-Based Adviser            10005 non-null  int64  \n",
      " 27  Channel_Independent Dealer           10005 non-null  int64  \n",
      " 28  Channel_International Outlet         10005 non-null  int64  \n",
      " 29  Channel_Low/Non Producer             10005 non-null  int64  \n",
      " 30  Channel_National Broker-Dealer       10005 non-null  int64  \n",
      " 31  Channel_Networker                    10005 non-null  int64  \n",
      " 32  Channel_Private Client Group         10005 non-null  int64  \n",
      " 33  Sub channel_Affiliated               10005 non-null  int64  \n",
      " 34  Sub channel_DCIO                     10005 non-null  int64  \n",
      " 35  Sub channel_Global                   10005 non-null  int64  \n",
      " 36  Sub channel_IBD                      10005 non-null  int64  \n",
      " 37  Sub channel_NACS                     10005 non-null  int64  \n",
      " 38  Sub channel_Other                    10005 non-null  int64  \n",
      " 39  Sub channel_RIA                      10005 non-null  int64  \n",
      " 40  Sub channel_USBT                     10005 non-null  int64  \n",
      "dtypes: float64(22), int64(19)\n",
      "memory usage: 3.2 MB\n"
     ]
    }
   ],
   "source": [
    "df.info()"
   ]
  },
  {
   "cell_type": "code",
   "execution_count": 8,
   "metadata": {},
   "outputs": [],
   "source": [
    "##Prepare the test train split"
   ]
  },
  {
   "cell_type": "code",
   "execution_count": 9,
   "metadata": {},
   "outputs": [],
   "source": [
    "X = df.drop(['sales_2019', 'new_fund_2019'], axis=1)\n",
    "y = df['sales_2019']"
   ]
  },
  {
   "cell_type": "code",
   "execution_count": 10,
   "metadata": {},
   "outputs": [],
   "source": [
    "X = (X-X.mean())/X.std()"
   ]
  },
  {
   "cell_type": "code",
   "execution_count": 11,
   "metadata": {},
   "outputs": [],
   "source": [
    "#draw histogram to see the distribution"
   ]
  },
  {
   "cell_type": "code",
   "execution_count": null,
   "metadata": {},
   "outputs": [],
   "source": []
  },
  {
   "cell_type": "code",
   "execution_count": 12,
   "metadata": {},
   "outputs": [],
   "source": [
    "## Decreasing the random state to 12 yeilds a better performance - .50 score on Test data"
   ]
  },
  {
   "cell_type": "code",
   "execution_count": 13,
   "metadata": {},
   "outputs": [],
   "source": [
    "X_train, X_test, y_train, y_test = train_test_split(X, y, test_size=0.25, random_state=20)"
   ]
  },
  {
   "cell_type": "code",
   "execution_count": 14,
   "metadata": {},
   "outputs": [
    {
     "data": {
      "image/png": "[encoded data removed]",
      "text/plain": [
       "<Figure size 432x288 with 1 Axes>"
      ]
     },
     "metadata": {
      "needs_background": "light"
     },
     "output_type": "display_data"
    }
   ],
   "source": [
    "np.log1p(y_train).hist(bins=30);"
   ]
  },
  {
   "cell_type": "code",
   "execution_count": 15,
   "metadata": {},
   "outputs": [],
   "source": [
    "pred_baseline = np.ones(len(y_train))*np.mean(y_train)"
   ]
  },
  {
   "cell_type": "code",
   "execution_count": 16,
   "metadata": {},
   "outputs": [
    {
     "data": {
      "text/plain": [
       "0.0"
      ]
     },
     "execution_count": 16,
     "metadata": {},
     "output_type": "execute_result"
    }
   ],
   "source": [
    "r2_score(y_train, pred_baseline)"
   ]
  },
  {
   "cell_type": "code",
   "execution_count": 17,
   "metadata": {},
   "outputs": [
    {
     "data": {
      "text/plain": [
       "1185311.8594254837"
      ]
     },
     "execution_count": 17,
     "metadata": {},
     "output_type": "execute_result"
    }
   ],
   "source": [
    "mean_squared_error(y_train, pred_baseline, squared= False)"
   ]
  },
  {
   "cell_type": "code",
   "execution_count": 18,
   "metadata": {},
   "outputs": [],
   "source": [
    "lr_pipeline = make_pipeline(PCA(0.8), Ridge(1000))"
   ]
  },
  {
   "cell_type": "code",
   "execution_count": 19,
   "metadata": {},
   "outputs": [
    {
     "data": {
      "text/plain": [
       "Pipeline(steps=[('pca', PCA(n_components=0.8)), ('ridge', Ridge(alpha=1000))])"
      ]
     },
     "execution_count": 19,
     "metadata": {},
     "output_type": "execute_result"
    }
   ],
   "source": [
    "lr_pipeline.fit(X_train, y_train)"
   ]
  },
  {
   "cell_type": "code",
   "execution_count": 20,
   "metadata": {},
   "outputs": [
    {
     "data": {
      "text/plain": [
       "0.4977529360893117"
      ]
     },
     "execution_count": 20,
     "metadata": {},
     "output_type": "execute_result"
    }
   ],
   "source": [
    "lr_pipeline.score(X_train, y_train)"
   ]
  },
  {
   "cell_type": "code",
   "execution_count": 21,
   "metadata": {},
   "outputs": [
    {
     "data": {
      "text/plain": [
       "0.4615112297044318"
      ]
     },
     "execution_count": 21,
     "metadata": {},
     "output_type": "execute_result"
    }
   ],
   "source": [
    "lr_pipeline.score(X_test, y_test)"
   ]
  },
  {
   "cell_type": "code",
   "execution_count": 284,
   "metadata": {},
   "outputs": [
    {
     "data": {
      "text/plain": [
       "16"
      ]
     },
     "execution_count": 284,
     "metadata": {},
     "output_type": "execute_result"
    }
   ],
   "source": [
    "lr_pipeline.named_steps['pca'].n_components_"
   ]
  },
  {
   "cell_type": "code",
   "execution_count": null,
   "metadata": {},
   "outputs": [],
   "source": []
  },
  {
   "cell_type": "code",
   "execution_count": 271,
   "metadata": {},
   "outputs": [],
   "source": [
    "y_test_reg_preds = lr_pipeline.predict(X_test)"
   ]
  },
  {
   "cell_type": "code",
   "execution_count": 272,
   "metadata": {},
   "outputs": [
    {
     "data": {
      "image/png": "[encoded data removed]",
      "text/plain": [
       "<Figure size 576x432 with 1 Axes>"
      ]
     },
     "metadata": {
      "needs_background": "light"
     },
     "output_type": "display_data"
    }
   ],
   "source": [
    "fig, axes = plt.subplots(figsize=(8, 6))\n",
    "\n",
    "axes.scatter(x=y_test, y=y_test_reg_preds)\n",
    "\n",
    "axes.plot([0, 20000000], [0,20000000])\n",
    "axes.set_title(\"Actual vs Predicted - Regression\")\n",
    "axes.set_xlabel(\"Actual\")\n",
    "axes.set_ylabel(\"Predicted\");"
   ]
  },
  {
   "cell_type": "code",
   "execution_count": 1,
   "metadata": {},
   "outputs": [
    {
     "name": "stdout",
     "output_type": "stream",
     "text": [
      "Collecting pandas-profiling[notebook]\n",
      "  Downloading pandas_profiling-2.10.1-py2.py3-none-any.whl (240 kB)\n",
      "\u001b[K     |████████████████████████████████| 240 kB 1.4 MB/s eta 0:00:01\n",
      "\u001b[?25hRequirement already satisfied, skipping upgrade: tqdm>=4.48.2 in /Users/abhinavverma/opt/anaconda3/lib/python3.8/site-packages (from pandas-profiling[notebook]) (4.50.2)\n",
      "Collecting tangled-up-in-unicode>=0.0.6\n",
      "  Downloading tangled_up_in_unicode-0.0.6-py3-none-any.whl (3.1 MB)\n",
      "\u001b[K     |████████████████████████████████| 3.1 MB 12.8 MB/s eta 0:00:01\n",
      "\u001b[?25hRequirement already satisfied, skipping upgrade: seaborn>=0.10.1 in /Users/abhinavverma/opt/anaconda3/lib/python3.8/site-packages (from pandas-profiling[notebook]) (0.11.0)\n",
      "Requirement already satisfied, skipping upgrade: attrs>=19.3.0 in /Users/abhinavverma/opt/anaconda3/lib/python3.8/site-packages (from pandas-profiling[notebook]) (20.3.0)\n",
      "Requirement already satisfied, skipping upgrade: requests>=2.24.0 in /Users/abhinavverma/opt/anaconda3/lib/python3.8/site-packages (from pandas-profiling[notebook]) (2.24.0)\n",
      "Requirement already satisfied, skipping upgrade: numpy>=1.16.0 in /Users/abhinavverma/opt/anaconda3/lib/python3.8/site-packages (from pandas-profiling[notebook]) (1.19.2)\n",
      "Requirement already satisfied, skipping upgrade: ipywidgets>=7.5.1 in /Users/abhinavverma/opt/anaconda3/lib/python3.8/site-packages (from pandas-profiling[notebook]) (7.5.1)\n",
      "Requirement already satisfied, skipping upgrade: scipy>=1.4.1 in /Users/abhinavverma/opt/anaconda3/lib/python3.8/site-packages (from pandas-profiling[notebook]) (1.5.2)\n",
      "Requirement already satisfied, skipping upgrade: pandas!=1.0.0,!=1.0.1,!=1.0.2,!=1.1.0,>=0.25.3 in /Users/abhinavverma/opt/anaconda3/lib/python3.8/site-packages (from pandas-profiling[notebook]) (1.1.3)\n",
      "Requirement already satisfied, skipping upgrade: matplotlib>=3.2.0 in /Users/abhinavverma/opt/anaconda3/lib/python3.8/site-packages (from pandas-profiling[notebook]) (3.3.2)\n",
      "Collecting htmlmin>=0.1.12\n",
      "  Downloading htmlmin-0.1.12.tar.gz (19 kB)\n",
      "Collecting missingno>=0.4.2\n",
      "  Downloading missingno-0.4.2-py3-none-any.whl (9.7 kB)\n",
      "Requirement already satisfied, skipping upgrade: joblib in /Users/abhinavverma/opt/anaconda3/lib/python3.8/site-packages (from pandas-profiling[notebook]) (0.17.0)\n",
      "Collecting phik>=0.10.0\n",
      "  Downloading phik-0.11.0.tar.gz (594 kB)\n",
      "\u001b[K     |████████████████████████████████| 594 kB 8.1 MB/s eta 0:00:01\n",
      "\u001b[?25hCollecting confuse>=1.0.0\n",
      "  Downloading confuse-1.4.0-py2.py3-none-any.whl (21 kB)\n",
      "Collecting visions[type_image_path]==0.6.0\n",
      "  Downloading visions-0.6.0-py3-none-any.whl (75 kB)\n",
      "\u001b[K     |████████████████████████████████| 75 kB 5.8 MB/s  eta 0:00:01\n",
      "\u001b[?25hRequirement already satisfied, skipping upgrade: jinja2>=2.11.1 in /Users/abhinavverma/opt/anaconda3/lib/python3.8/site-packages (from pandas-profiling[notebook]) (2.11.2)\n",
      "Requirement already satisfied, skipping upgrade: jupyter-core>=4.6.3; extra == \"notebook\" in /Users/abhinavverma/opt/anaconda3/lib/python3.8/site-packages (from pandas-profiling[notebook]) (4.6.3)\n",
      "Requirement already satisfied, skipping upgrade: jupyter-client>=6.0.0; extra == \"notebook\" in /Users/abhinavverma/opt/anaconda3/lib/python3.8/site-packages (from pandas-profiling[notebook]) (6.1.7)\n",
      "Requirement already satisfied, skipping upgrade: urllib3!=1.25.0,!=1.25.1,<1.26,>=1.21.1 in /Users/abhinavverma/opt/anaconda3/lib/python3.8/site-packages (from requests>=2.24.0->pandas-profiling[notebook]) (1.25.11)\n",
      "Requirement already satisfied, skipping upgrade: idna<3,>=2.5 in /Users/abhinavverma/opt/anaconda3/lib/python3.8/site-packages (from requests>=2.24.0->pandas-profiling[notebook]) (2.10)\n",
      "Requirement already satisfied, skipping upgrade: chardet<4,>=3.0.2 in /Users/abhinavverma/opt/anaconda3/lib/python3.8/site-packages (from requests>=2.24.0->pandas-profiling[notebook]) (3.0.4)\n",
      "Requirement already satisfied, skipping upgrade: certifi>=2017.4.17 in /Users/abhinavverma/opt/anaconda3/lib/python3.8/site-packages (from requests>=2.24.0->pandas-profiling[notebook]) (2020.6.20)\n",
      "Requirement already satisfied, skipping upgrade: widgetsnbextension~=3.5.0 in /Users/abhinavverma/opt/anaconda3/lib/python3.8/site-packages (from ipywidgets>=7.5.1->pandas-profiling[notebook]) (3.5.1)\n",
      "Requirement already satisfied, skipping upgrade: ipython>=4.0.0; python_version >= \"3.3\" in /Users/abhinavverma/opt/anaconda3/lib/python3.8/site-packages (from ipywidgets>=7.5.1->pandas-profiling[notebook]) (7.19.0)\n",
      "Requirement already satisfied, skipping upgrade: ipykernel>=4.5.1 in /Users/abhinavverma/opt/anaconda3/lib/python3.8/site-packages (from ipywidgets>=7.5.1->pandas-profiling[notebook]) (5.3.4)\n",
      "Requirement already satisfied, skipping upgrade: nbformat>=4.2.0 in /Users/abhinavverma/opt/anaconda3/lib/python3.8/site-packages (from ipywidgets>=7.5.1->pandas-profiling[notebook]) (5.0.8)\n",
      "Requirement already satisfied, skipping upgrade: traitlets>=4.3.1 in /Users/abhinavverma/opt/anaconda3/lib/python3.8/site-packages (from ipywidgets>=7.5.1->pandas-profiling[notebook]) (5.0.5)\n",
      "Requirement already satisfied, skipping upgrade: pytz>=2017.2 in /Users/abhinavverma/opt/anaconda3/lib/python3.8/site-packages (from pandas!=1.0.0,!=1.0.1,!=1.0.2,!=1.1.0,>=0.25.3->pandas-profiling[notebook]) (2020.1)\n",
      "Requirement already satisfied, skipping upgrade: python-dateutil>=2.7.3 in /Users/abhinavverma/opt/anaconda3/lib/python3.8/site-packages (from pandas!=1.0.0,!=1.0.1,!=1.0.2,!=1.1.0,>=0.25.3->pandas-profiling[notebook]) (2.8.1)\n",
      "Requirement already satisfied, skipping upgrade: cycler>=0.10 in /Users/abhinavverma/opt/anaconda3/lib/python3.8/site-packages (from matplotlib>=3.2.0->pandas-profiling[notebook]) (0.10.0)\n",
      "Requirement already satisfied, skipping upgrade: kiwisolver>=1.0.1 in /Users/abhinavverma/opt/anaconda3/lib/python3.8/site-packages (from matplotlib>=3.2.0->pandas-profiling[notebook]) (1.3.0)\n",
      "Requirement already satisfied, skipping upgrade: pillow>=6.2.0 in /Users/abhinavverma/opt/anaconda3/lib/python3.8/site-packages (from matplotlib>=3.2.0->pandas-profiling[notebook]) (8.0.1)\n",
      "Requirement already satisfied, skipping upgrade: pyparsing!=2.0.4,!=2.1.2,!=2.1.6,>=2.0.3 in /Users/abhinavverma/opt/anaconda3/lib/python3.8/site-packages (from matplotlib>=3.2.0->pandas-profiling[notebook]) (2.4.7)\n",
      "Requirement already satisfied, skipping upgrade: numba>=0.38.1 in /Users/abhinavverma/opt/anaconda3/lib/python3.8/site-packages (from phik>=0.10.0->pandas-profiling[notebook]) (0.51.2)\n",
      "Requirement already satisfied, skipping upgrade: pyyaml in /Users/abhinavverma/opt/anaconda3/lib/python3.8/site-packages (from confuse>=1.0.0->pandas-profiling[notebook]) (5.3.1)\n",
      "Requirement already satisfied, skipping upgrade: networkx>=2.4 in /Users/abhinavverma/opt/anaconda3/lib/python3.8/site-packages (from visions[type_image_path]==0.6.0->pandas-profiling[notebook]) (2.5)\n",
      "Collecting imagehash; extra == \"type_image_path\"\n",
      "  Downloading ImageHash-4.2.0-py2.py3-none-any.whl (295 kB)\n",
      "\u001b[K     |████████████████████████████████| 295 kB 10.0 MB/s eta 0:00:01\n",
      "\u001b[?25hRequirement already satisfied, skipping upgrade: MarkupSafe>=0.23 in /Users/abhinavverma/opt/anaconda3/lib/python3.8/site-packages (from jinja2>=2.11.1->pandas-profiling[notebook]) (1.1.1)\n",
      "Requirement already satisfied, skipping upgrade: tornado>=4.1 in /Users/abhinavverma/opt/anaconda3/lib/python3.8/site-packages (from jupyter-client>=6.0.0; extra == \"notebook\"->pandas-profiling[notebook]) (6.0.4)\n",
      "Requirement already satisfied, skipping upgrade: pyzmq>=13 in /Users/abhinavverma/opt/anaconda3/lib/python3.8/site-packages (from jupyter-client>=6.0.0; extra == \"notebook\"->pandas-profiling[notebook]) (19.0.2)\n",
      "Requirement already satisfied, skipping upgrade: notebook>=4.4.1 in /Users/abhinavverma/opt/anaconda3/lib/python3.8/site-packages (from widgetsnbextension~=3.5.0->ipywidgets>=7.5.1->pandas-profiling[notebook]) (6.1.4)\n",
      "Requirement already satisfied, skipping upgrade: decorator in /Users/abhinavverma/opt/anaconda3/lib/python3.8/site-packages (from ipython>=4.0.0; python_version >= \"3.3\"->ipywidgets>=7.5.1->pandas-profiling[notebook]) (4.4.2)\n",
      "Requirement already satisfied, skipping upgrade: setuptools>=18.5 in /Users/abhinavverma/opt/anaconda3/lib/python3.8/site-packages (from ipython>=4.0.0; python_version >= \"3.3\"->ipywidgets>=7.5.1->pandas-profiling[notebook]) (50.3.1.post20201107)\n"
     ]
    },
    {
     "name": "stdout",
     "output_type": "stream",
     "text": [
      "Requirement already satisfied, skipping upgrade: backcall in /Users/abhinavverma/opt/anaconda3/lib/python3.8/site-packages (from ipython>=4.0.0; python_version >= \"3.3\"->ipywidgets>=7.5.1->pandas-profiling[notebook]) (0.2.0)\n",
      "Requirement already satisfied, skipping upgrade: jedi>=0.10 in /Users/abhinavverma/opt/anaconda3/lib/python3.8/site-packages (from ipython>=4.0.0; python_version >= \"3.3\"->ipywidgets>=7.5.1->pandas-profiling[notebook]) (0.17.1)\n",
      "Requirement already satisfied, skipping upgrade: pexpect>4.3; sys_platform != \"win32\" in /Users/abhinavverma/opt/anaconda3/lib/python3.8/site-packages (from ipython>=4.0.0; python_version >= \"3.3\"->ipywidgets>=7.5.1->pandas-profiling[notebook]) (4.8.0)\n",
      "Requirement already satisfied, skipping upgrade: appnope; sys_platform == \"darwin\" in /Users/abhinavverma/opt/anaconda3/lib/python3.8/site-packages (from ipython>=4.0.0; python_version >= \"3.3\"->ipywidgets>=7.5.1->pandas-profiling[notebook]) (0.1.0)\n",
      "Requirement already satisfied, skipping upgrade: pygments in /Users/abhinavverma/opt/anaconda3/lib/python3.8/site-packages (from ipython>=4.0.0; python_version >= \"3.3\"->ipywidgets>=7.5.1->pandas-profiling[notebook]) (2.7.2)\n",
      "Requirement already satisfied, skipping upgrade: prompt-toolkit!=3.0.0,!=3.0.1,<3.1.0,>=2.0.0 in /Users/abhinavverma/opt/anaconda3/lib/python3.8/site-packages (from ipython>=4.0.0; python_version >= \"3.3\"->ipywidgets>=7.5.1->pandas-profiling[notebook]) (3.0.8)\n",
      "Requirement already satisfied, skipping upgrade: pickleshare in /Users/abhinavverma/opt/anaconda3/lib/python3.8/site-packages (from ipython>=4.0.0; python_version >= \"3.3\"->ipywidgets>=7.5.1->pandas-profiling[notebook]) (0.7.5)\n",
      "Requirement already satisfied, skipping upgrade: jsonschema!=2.5.0,>=2.4 in /Users/abhinavverma/opt/anaconda3/lib/python3.8/site-packages (from nbformat>=4.2.0->ipywidgets>=7.5.1->pandas-profiling[notebook]) (3.2.0)\n",
      "Requirement already satisfied, skipping upgrade: ipython-genutils in /Users/abhinavverma/opt/anaconda3/lib/python3.8/site-packages (from nbformat>=4.2.0->ipywidgets>=7.5.1->pandas-profiling[notebook]) (0.2.0)\n",
      "Requirement already satisfied, skipping upgrade: six>=1.5 in /Users/abhinavverma/opt/anaconda3/lib/python3.8/site-packages (from python-dateutil>=2.7.3->pandas!=1.0.0,!=1.0.1,!=1.0.2,!=1.1.0,>=0.25.3->pandas-profiling[notebook]) (1.15.0)\n",
      "Requirement already satisfied, skipping upgrade: llvmlite<0.35,>=0.34.0.dev0 in /Users/abhinavverma/opt/anaconda3/lib/python3.8/site-packages (from numba>=0.38.1->phik>=0.10.0->pandas-profiling[notebook]) (0.34.0)\n",
      "Requirement already satisfied, skipping upgrade: PyWavelets in /Users/abhinavverma/opt/anaconda3/lib/python3.8/site-packages (from imagehash; extra == \"type_image_path\"->visions[type_image_path]==0.6.0->pandas-profiling[notebook]) (1.1.1)\n",
      "Requirement already satisfied, skipping upgrade: Send2Trash in /Users/abhinavverma/opt/anaconda3/lib/python3.8/site-packages (from notebook>=4.4.1->widgetsnbextension~=3.5.0->ipywidgets>=7.5.1->pandas-profiling[notebook]) (1.5.0)\n",
      "Requirement already satisfied, skipping upgrade: nbconvert in /Users/abhinavverma/opt/anaconda3/lib/python3.8/site-packages (from notebook>=4.4.1->widgetsnbextension~=3.5.0->ipywidgets>=7.5.1->pandas-profiling[notebook]) (6.0.7)\n",
      "Requirement already satisfied, skipping upgrade: prometheus-client in /Users/abhinavverma/opt/anaconda3/lib/python3.8/site-packages (from notebook>=4.4.1->widgetsnbextension~=3.5.0->ipywidgets>=7.5.1->pandas-profiling[notebook]) (0.8.0)\n",
      "Requirement already satisfied, skipping upgrade: terminado>=0.8.3 in /Users/abhinavverma/opt/anaconda3/lib/python3.8/site-packages (from notebook>=4.4.1->widgetsnbextension~=3.5.0->ipywidgets>=7.5.1->pandas-profiling[notebook]) (0.9.1)\n",
      "Requirement already satisfied, skipping upgrade: argon2-cffi in /Users/abhinavverma/opt/anaconda3/lib/python3.8/site-packages (from notebook>=4.4.1->widgetsnbextension~=3.5.0->ipywidgets>=7.5.1->pandas-profiling[notebook]) (20.1.0)\n",
      "Requirement already satisfied, skipping upgrade: parso<0.8.0,>=0.7.0 in /Users/abhinavverma/opt/anaconda3/lib/python3.8/site-packages (from jedi>=0.10->ipython>=4.0.0; python_version >= \"3.3\"->ipywidgets>=7.5.1->pandas-profiling[notebook]) (0.7.0)\n",
      "Requirement already satisfied, skipping upgrade: ptyprocess>=0.5 in /Users/abhinavverma/opt/anaconda3/lib/python3.8/site-packages (from pexpect>4.3; sys_platform != \"win32\"->ipython>=4.0.0; python_version >= \"3.3\"->ipywidgets>=7.5.1->pandas-profiling[notebook]) (0.6.0)\n",
      "Requirement already satisfied, skipping upgrade: wcwidth in /Users/abhinavverma/opt/anaconda3/lib/python3.8/site-packages (from prompt-toolkit!=3.0.0,!=3.0.1,<3.1.0,>=2.0.0->ipython>=4.0.0; python_version >= \"3.3\"->ipywidgets>=7.5.1->pandas-profiling[notebook]) (0.2.5)\n",
      "Requirement already satisfied, skipping upgrade: pyrsistent>=0.14.0 in /Users/abhinavverma/opt/anaconda3/lib/python3.8/site-packages (from jsonschema!=2.5.0,>=2.4->nbformat>=4.2.0->ipywidgets>=7.5.1->pandas-profiling[notebook]) (0.17.3)\n",
      "Requirement already satisfied, skipping upgrade: jupyterlab-pygments in /Users/abhinavverma/opt/anaconda3/lib/python3.8/site-packages (from nbconvert->notebook>=4.4.1->widgetsnbextension~=3.5.0->ipywidgets>=7.5.1->pandas-profiling[notebook]) (0.1.2)\n",
      "Requirement already satisfied, skipping upgrade: testpath in /Users/abhinavverma/opt/anaconda3/lib/python3.8/site-packages (from nbconvert->notebook>=4.4.1->widgetsnbextension~=3.5.0->ipywidgets>=7.5.1->pandas-profiling[notebook]) (0.4.4)\n",
      "Requirement already satisfied, skipping upgrade: entrypoints>=0.2.2 in /Users/abhinavverma/opt/anaconda3/lib/python3.8/site-packages (from nbconvert->notebook>=4.4.1->widgetsnbextension~=3.5.0->ipywidgets>=7.5.1->pandas-profiling[notebook]) (0.3)\n",
      "Requirement already satisfied, skipping upgrade: nbclient<0.6.0,>=0.5.0 in /Users/abhinavverma/opt/anaconda3/lib/python3.8/site-packages (from nbconvert->notebook>=4.4.1->widgetsnbextension~=3.5.0->ipywidgets>=7.5.1->pandas-profiling[notebook]) (0.5.1)\n",
      "Requirement already satisfied, skipping upgrade: pandocfilters>=1.4.1 in /Users/abhinavverma/opt/anaconda3/lib/python3.8/site-packages (from nbconvert->notebook>=4.4.1->widgetsnbextension~=3.5.0->ipywidgets>=7.5.1->pandas-profiling[notebook]) (1.4.3)\n",
      "Requirement already satisfied, skipping upgrade: mistune<2,>=0.8.1 in /Users/abhinavverma/opt/anaconda3/lib/python3.8/site-packages (from nbconvert->notebook>=4.4.1->widgetsnbextension~=3.5.0->ipywidgets>=7.5.1->pandas-profiling[notebook]) (0.8.4)\n",
      "Requirement already satisfied, skipping upgrade: defusedxml in /Users/abhinavverma/opt/anaconda3/lib/python3.8/site-packages (from nbconvert->notebook>=4.4.1->widgetsnbextension~=3.5.0->ipywidgets>=7.5.1->pandas-profiling[notebook]) (0.6.0)\n",
      "Requirement already satisfied, skipping upgrade: bleach in /Users/abhinavverma/opt/anaconda3/lib/python3.8/site-packages (from nbconvert->notebook>=4.4.1->widgetsnbextension~=3.5.0->ipywidgets>=7.5.1->pandas-profiling[notebook]) (3.2.1)\n",
      "Requirement already satisfied, skipping upgrade: cffi>=1.0.0 in /Users/abhinavverma/opt/anaconda3/lib/python3.8/site-packages (from argon2-cffi->notebook>=4.4.1->widgetsnbextension~=3.5.0->ipywidgets>=7.5.1->pandas-profiling[notebook]) (1.14.3)\n",
      "Requirement already satisfied, skipping upgrade: async-generator in /Users/abhinavverma/opt/anaconda3/lib/python3.8/site-packages (from nbclient<0.6.0,>=0.5.0->nbconvert->notebook>=4.4.1->widgetsnbextension~=3.5.0->ipywidgets>=7.5.1->pandas-profiling[notebook]) (1.10)\n",
      "Requirement already satisfied, skipping upgrade: nest-asyncio in /Users/abhinavverma/opt/anaconda3/lib/python3.8/site-packages (from nbclient<0.6.0,>=0.5.0->nbconvert->notebook>=4.4.1->widgetsnbextension~=3.5.0->ipywidgets>=7.5.1->pandas-profiling[notebook]) (1.4.2)\n",
      "Requirement already satisfied, skipping upgrade: packaging in /Users/abhinavverma/opt/anaconda3/lib/python3.8/site-packages (from bleach->nbconvert->notebook>=4.4.1->widgetsnbextension~=3.5.0->ipywidgets>=7.5.1->pandas-profiling[notebook]) (20.4)\n",
      "Requirement already satisfied, skipping upgrade: webencodings in /Users/abhinavverma/opt/anaconda3/lib/python3.8/site-packages (from bleach->nbconvert->notebook>=4.4.1->widgetsnbextension~=3.5.0->ipywidgets>=7.5.1->pandas-profiling[notebook]) (0.5.1)\n",
      "Requirement already satisfied, skipping upgrade: pycparser in /Users/abhinavverma/opt/anaconda3/lib/python3.8/site-packages (from cffi>=1.0.0->argon2-cffi->notebook>=4.4.1->widgetsnbextension~=3.5.0->ipywidgets>=7.5.1->pandas-profiling[notebook]) (2.20)\n",
      "Building wheels for collected packages: htmlmin, phik\n"
     ]
    },
    {
     "name": "stdout",
     "output_type": "stream",
     "text": [
      "  Building wheel for htmlmin (setup.py) ... \u001b[?25ldone\n",
      "\u001b[?25h  Created wheel for htmlmin: filename=htmlmin-0.1.12-py3-none-any.whl size=27084 sha256=5e95fbc434acee30648214169b08618053467978aea18d7be239f88b811a5b77\n",
      "  Stored in directory: /Users/abhinavverma/Library/Caches/pip/wheels/23/14/6e/4be5bfeeb027f4939a01764b48edd5996acf574b0913fe5243\n",
      "  Building wheel for phik (setup.py) ... \u001b[?25ldone\n",
      "\u001b[?25h  Created wheel for phik: filename=phik-0.11.0-py3-none-any.whl size=599736 sha256=a3a4ac929ffd9eefa17b266615b9f8c4a8ae63cc77a0a8f1a16ef16a1c1d65a6\n",
      "  Stored in directory: /Users/abhinavverma/Library/Caches/pip/wheels/15/cd/d8/d1a2da5bf20e6411649edb390d93887820168898a3659fd48d\n",
      "Successfully built htmlmin phik\n",
      "Installing collected packages: tangled-up-in-unicode, htmlmin, missingno, phik, confuse, imagehash, visions, pandas-profiling\n",
      "Successfully installed confuse-1.4.0 htmlmin-0.1.12 imagehash-4.2.0 missingno-0.4.2 pandas-profiling-2.10.1 phik-0.11.0 tangled-up-in-unicode-0.0.6 visions-0.6.0\n",
      "Enabling notebook extension jupyter-js-widgets/extension...\n",
      "      - Validating: \u001b[32mOK\u001b[0m\n"
     ]
    }
   ],
   "source": [
    "import sys\n",
    "!{sys.executable} -m pip install -U pandas-profiling[notebook]\n",
    "!jupyter nbextension enable --py widgetsnbextension"
   ]
  },
  {
   "cell_type": "code",
   "execution_count": null,
   "metadata": {},
   "outputs": [],
   "source": []
  }
 ],
 "metadata": {
  "kernelspec": {
   "display_name": "Python 3",
   "language": "python",
   "name": "python3"
  },
  "language_info": {
   "codemirror_mode": {
    "name": "ipython",
    "version": 3
   },
   "file_extension": ".py",
   "mimetype": "text/x-python",
   "name": "python",
   "nbconvert_exporter": "python",
   "pygments_lexer": "ipython3",
   "version": "3.8.5"
  }
 },
 "nbformat": 4,
 "nbformat_minor": 4
}
