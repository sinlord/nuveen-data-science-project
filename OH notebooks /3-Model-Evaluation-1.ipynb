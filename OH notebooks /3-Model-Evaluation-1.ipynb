{
 "cells": [
  {
   "cell_type": "markdown",
   "metadata": {},
   "source": [
    "# Capstone Week 3\n",
    "---"
   ]
  },
  {
   "cell_type": "markdown",
   "metadata": {},
   "source": [
    "# Index\n",
    "- [Capstone Objectives](#Capstone-Objectives)\n",
    "- [Read in Data](#Read-in-Data)\n",
    "    - [Merge 2018 and 2019](#Merge-2018-and-2019)\n",
    "    - [Make advisor dictionary mapper](#Make-advisor-dictionary-mapper)\n",
    "- [Data Cleaning](#Data-Cleaning)\n",
    "    - [Train-Test-Split](#Train-Test-Split)\n",
    "    - [Custom Cleaning Functions](#Custom-Cleaning-Functions)\n",
    "    - [Create Cleaning Pipeline](#Create-Cleaning-Pipeline)\n",
    "- [Model building](#Model-building)\n",
    "- [Make predictions](#Make-predictions)\n",
    "- [Feature Engineering](#Feature-Engineering)\n",
    "    - [Variable Inflation Factor (VIF)](#Variable-Inflation-Factor-(VIF))\n",
    "- [Residuals](#Residuals)\n",
    "- [Classification](#Classification)\n",
    "- [Model Interpretation](#Model-Interpretation)"
   ]
  },
  {
   "cell_type": "markdown",
   "metadata": {},
   "source": [
    "# Capstone Objectives\n",
    "- Assist sales and marketing by improving their targeting\n",
    "- Predict sales for 2019 using the data for 2018\n",
    "- Estimate the probability of adding a new fund in 2019"
   ]
  },
  {
   "cell_type": "code",
   "execution_count": 1,
   "metadata": {},
   "outputs": [],
   "source": [
    "import numpy as np\n",
    "import pandas as pd\n",
    "import matplotlib.pyplot as plt\n",
    "\n",
    "from sklearn.model_selection import train_test_split\n",
    "from sklearn.preprocessing import StandardScaler\n",
    "from sklearn.linear_model import LinearRegression\n",
    "from sklearn.ensemble import GradientBoostingRegressor, RandomForestRegressor\n",
    "\n",
    "pd.set_option('display.max_columns', 50)"
   ]
  },
  {
   "cell_type": "markdown",
   "metadata": {},
   "source": [
    "[Back to Top](#Index)\n",
    "# Read in Data"
   ]
  },
  {
   "cell_type": "code",
   "execution_count": 2,
   "metadata": {},
   "outputs": [],
   "source": [
    "df18 = pd.read_excel(\"../Transaction Data.xlsx\", sheet_name='Transactions18')\n",
    "df19 = pd.read_excel(\"../Transaction Data.xlsx\", sheet_name='Transactions19')\n",
    "firms = pd.read_excel(\"../Firm Information.xlsx\", header=1)"
   ]
  },
  {
   "cell_type": "markdown",
   "metadata": {},
   "source": [
    "## Merge 2018 and 2019"
   ]
  },
  {
   "cell_type": "code",
   "execution_count": 3,
   "metadata": {},
   "outputs": [
    {
     "data": {
      "text/html": [
       "<div>\n",
       "<style scoped>\n",
       "    .dataframe tbody tr th:only-of-type {\n",
       "        vertical-align: middle;\n",
       "    }\n",
       "\n",
       "    .dataframe tbody tr th {\n",
       "        vertical-align: top;\n",
       "    }\n",
       "\n",
       "    .dataframe thead th {\n",
       "        text-align: right;\n",
       "    }\n",
       "</style>\n",
       "<table border=\"1\" class=\"dataframe\">\n",
       "  <thead>\n",
       "    <tr style=\"text-align: right;\">\n",
       "      <th></th>\n",
       "      <th>CONTACT_ID</th>\n",
       "      <th>no_of_sales_12M_1</th>\n",
       "      <th>no_of_Redemption_12M_1</th>\n",
       "      <th>no_of_sales_12M_10K</th>\n",
       "      <th>no_of_Redemption_12M_10K</th>\n",
       "      <th>no_of_funds_sold_12M_1</th>\n",
       "      <th>no_of_funds_redeemed_12M_1</th>\n",
       "      <th>no_of_fund_sales_12M_10K</th>\n",
       "      <th>no_of_funds_Redemption_12M_10K</th>\n",
       "      <th>no_of_assetclass_sold_12M_1</th>\n",
       "      <th>no_of_assetclass_redeemed_12M_1</th>\n",
       "      <th>no_of_assetclass_sales_12M_10K</th>\n",
       "      <th>no_of_assetclass_Redemption_12M_10K</th>\n",
       "      <th>No_of_fund_curr</th>\n",
       "      <th>No_of_asset_curr</th>\n",
       "      <th>AUM</th>\n",
       "      <th>sales_curr</th>\n",
       "      <th>sales_12M_2018</th>\n",
       "      <th>redemption_curr</th>\n",
       "      <th>redemption_12M</th>\n",
       "      <th>new_Fund_added_12M_2018</th>\n",
       "      <th>aum_AC_EQUITY</th>\n",
       "      <th>aum_AC_FIXED_INCOME_MUNI</th>\n",
       "      <th>aum_AC_FIXED_INCOME_TAXABLE</th>\n",
       "      <th>aum_AC_MONEY</th>\n",
       "      <th>aum_AC_MULTIPLE</th>\n",
       "      <th>aum_AC_PHYSICAL_COMMODITY</th>\n",
       "      <th>aum_AC_REAL_ESTATE</th>\n",
       "      <th>aum_AC_TARGET</th>\n",
       "      <th>aum_P_529</th>\n",
       "      <th>aum_P_ALT</th>\n",
       "      <th>aum_P_CEF</th>\n",
       "      <th>aum_P_ETF</th>\n",
       "      <th>aum_P_MF</th>\n",
       "      <th>aum_P_SMA</th>\n",
       "      <th>aum_P_UCITS</th>\n",
       "      <th>aum_P_UIT</th>\n",
       "      <th>refresh_date_2018</th>\n",
       "      <th>sales_12M_2019</th>\n",
       "      <th>new_Fund_added_12M_2019</th>\n",
       "      <th>refresh_date_2019</th>\n",
       "    </tr>\n",
       "  </thead>\n",
       "  <tbody>\n",
       "    <tr>\n",
       "      <th>0</th>\n",
       "      <td>0047433</td>\n",
       "      <td>21.0</td>\n",
       "      <td>38.0</td>\n",
       "      <td>NaN</td>\n",
       "      <td>1.0</td>\n",
       "      <td>5.0</td>\n",
       "      <td>5.0</td>\n",
       "      <td>NaN</td>\n",
       "      <td>1.0</td>\n",
       "      <td>2.0</td>\n",
       "      <td>2.0</td>\n",
       "      <td>NaN</td>\n",
       "      <td>1.0</td>\n",
       "      <td>8.0</td>\n",
       "      <td>1.0</td>\n",
       "      <td>237480.11</td>\n",
       "      <td>250.0</td>\n",
       "      <td>19682.0</td>\n",
       "      <td>-1496.745</td>\n",
       "      <td>-102496.165</td>\n",
       "      <td>NaN</td>\n",
       "      <td>-47342.32</td>\n",
       "      <td>284737.93</td>\n",
       "      <td>84.5</td>\n",
       "      <td>0.0</td>\n",
       "      <td>0.0</td>\n",
       "      <td>0.0</td>\n",
       "      <td>0.0</td>\n",
       "      <td>0.0</td>\n",
       "      <td>0.0</td>\n",
       "      <td>0.0</td>\n",
       "      <td>0.0</td>\n",
       "      <td>0.0</td>\n",
       "      <td>122866.04</td>\n",
       "      <td>114614.07</td>\n",
       "      <td>0.0</td>\n",
       "      <td>0.0</td>\n",
       "      <td>2018-12-31</td>\n",
       "      <td>18633.105</td>\n",
       "      <td>NaN</td>\n",
       "      <td>2019-12-31</td>\n",
       "    </tr>\n",
       "    <tr>\n",
       "      <th>1</th>\n",
       "      <td>4461312</td>\n",
       "      <td>NaN</td>\n",
       "      <td>NaN</td>\n",
       "      <td>NaN</td>\n",
       "      <td>NaN</td>\n",
       "      <td>NaN</td>\n",
       "      <td>NaN</td>\n",
       "      <td>NaN</td>\n",
       "      <td>NaN</td>\n",
       "      <td>NaN</td>\n",
       "      <td>NaN</td>\n",
       "      <td>NaN</td>\n",
       "      <td>NaN</td>\n",
       "      <td>1.0</td>\n",
       "      <td>1.0</td>\n",
       "      <td>19629.00</td>\n",
       "      <td>NaN</td>\n",
       "      <td>NaN</td>\n",
       "      <td>NaN</td>\n",
       "      <td>NaN</td>\n",
       "      <td>NaN</td>\n",
       "      <td>0.00</td>\n",
       "      <td>19629.00</td>\n",
       "      <td>0.0</td>\n",
       "      <td>0.0</td>\n",
       "      <td>0.0</td>\n",
       "      <td>0.0</td>\n",
       "      <td>0.0</td>\n",
       "      <td>0.0</td>\n",
       "      <td>0.0</td>\n",
       "      <td>0.0</td>\n",
       "      <td>0.0</td>\n",
       "      <td>0.0</td>\n",
       "      <td>19629.00</td>\n",
       "      <td>0.00</td>\n",
       "      <td>0.0</td>\n",
       "      <td>0.0</td>\n",
       "      <td>2018-12-31</td>\n",
       "      <td>NaN</td>\n",
       "      <td>NaN</td>\n",
       "      <td>2019-12-31</td>\n",
       "    </tr>\n",
       "    <tr>\n",
       "      <th>2</th>\n",
       "      <td>4491079</td>\n",
       "      <td>NaN</td>\n",
       "      <td>NaN</td>\n",
       "      <td>NaN</td>\n",
       "      <td>NaN</td>\n",
       "      <td>NaN</td>\n",
       "      <td>NaN</td>\n",
       "      <td>NaN</td>\n",
       "      <td>NaN</td>\n",
       "      <td>NaN</td>\n",
       "      <td>NaN</td>\n",
       "      <td>NaN</td>\n",
       "      <td>NaN</td>\n",
       "      <td>NaN</td>\n",
       "      <td>NaN</td>\n",
       "      <td>1758.70</td>\n",
       "      <td>NaN</td>\n",
       "      <td>NaN</td>\n",
       "      <td>NaN</td>\n",
       "      <td>NaN</td>\n",
       "      <td>NaN</td>\n",
       "      <td>0.00</td>\n",
       "      <td>1758.70</td>\n",
       "      <td>0.0</td>\n",
       "      <td>0.0</td>\n",
       "      <td>0.0</td>\n",
       "      <td>0.0</td>\n",
       "      <td>0.0</td>\n",
       "      <td>0.0</td>\n",
       "      <td>0.0</td>\n",
       "      <td>0.0</td>\n",
       "      <td>0.0</td>\n",
       "      <td>0.0</td>\n",
       "      <td>1758.70</td>\n",
       "      <td>0.00</td>\n",
       "      <td>0.0</td>\n",
       "      <td>0.0</td>\n",
       "      <td>2018-12-31</td>\n",
       "      <td>NaN</td>\n",
       "      <td>NaN</td>\n",
       "      <td>2019-12-31</td>\n",
       "    </tr>\n",
       "    <tr>\n",
       "      <th>3</th>\n",
       "      <td>0107408</td>\n",
       "      <td>20.0</td>\n",
       "      <td>NaN</td>\n",
       "      <td>2.0</td>\n",
       "      <td>NaN</td>\n",
       "      <td>1.0</td>\n",
       "      <td>NaN</td>\n",
       "      <td>1.0</td>\n",
       "      <td>NaN</td>\n",
       "      <td>1.0</td>\n",
       "      <td>NaN</td>\n",
       "      <td>1.0</td>\n",
       "      <td>NaN</td>\n",
       "      <td>1.0</td>\n",
       "      <td>1.0</td>\n",
       "      <td>57943.00</td>\n",
       "      <td>5459.0</td>\n",
       "      <td>52484.0</td>\n",
       "      <td>NaN</td>\n",
       "      <td>NaN</td>\n",
       "      <td>1.0</td>\n",
       "      <td>0.00</td>\n",
       "      <td>0.00</td>\n",
       "      <td>57943.0</td>\n",
       "      <td>0.0</td>\n",
       "      <td>0.0</td>\n",
       "      <td>0.0</td>\n",
       "      <td>0.0</td>\n",
       "      <td>0.0</td>\n",
       "      <td>0.0</td>\n",
       "      <td>0.0</td>\n",
       "      <td>0.0</td>\n",
       "      <td>0.0</td>\n",
       "      <td>57943.00</td>\n",
       "      <td>0.00</td>\n",
       "      <td>0.0</td>\n",
       "      <td>0.0</td>\n",
       "      <td>2018-12-31</td>\n",
       "      <td>93212.000</td>\n",
       "      <td>1.0</td>\n",
       "      <td>2019-12-31</td>\n",
       "    </tr>\n",
       "    <tr>\n",
       "      <th>4</th>\n",
       "      <td>85101140503769936458</td>\n",
       "      <td>NaN</td>\n",
       "      <td>NaN</td>\n",
       "      <td>NaN</td>\n",
       "      <td>NaN</td>\n",
       "      <td>NaN</td>\n",
       "      <td>NaN</td>\n",
       "      <td>NaN</td>\n",
       "      <td>NaN</td>\n",
       "      <td>NaN</td>\n",
       "      <td>NaN</td>\n",
       "      <td>NaN</td>\n",
       "      <td>NaN</td>\n",
       "      <td>NaN</td>\n",
       "      <td>NaN</td>\n",
       "      <td>-8573.59</td>\n",
       "      <td>NaN</td>\n",
       "      <td>NaN</td>\n",
       "      <td>NaN</td>\n",
       "      <td>NaN</td>\n",
       "      <td>NaN</td>\n",
       "      <td>-8573.59</td>\n",
       "      <td>0.00</td>\n",
       "      <td>0.0</td>\n",
       "      <td>0.0</td>\n",
       "      <td>0.0</td>\n",
       "      <td>0.0</td>\n",
       "      <td>0.0</td>\n",
       "      <td>0.0</td>\n",
       "      <td>0.0</td>\n",
       "      <td>0.0</td>\n",
       "      <td>0.0</td>\n",
       "      <td>0.0</td>\n",
       "      <td>-8573.59</td>\n",
       "      <td>0.00</td>\n",
       "      <td>0.0</td>\n",
       "      <td>0.0</td>\n",
       "      <td>2018-12-31</td>\n",
       "      <td>NaN</td>\n",
       "      <td>NaN</td>\n",
       "      <td>2019-12-31</td>\n",
       "    </tr>\n",
       "  </tbody>\n",
       "</table>\n",
       "</div>"
      ],
      "text/plain": [
       "             CONTACT_ID  no_of_sales_12M_1  no_of_Redemption_12M_1  \\\n",
       "0               0047433               21.0                    38.0   \n",
       "1               4461312                NaN                     NaN   \n",
       "2               4491079                NaN                     NaN   \n",
       "3               0107408               20.0                     NaN   \n",
       "4  85101140503769936458                NaN                     NaN   \n",
       "\n",
       "   no_of_sales_12M_10K  no_of_Redemption_12M_10K  no_of_funds_sold_12M_1  \\\n",
       "0                  NaN                       1.0                     5.0   \n",
       "1                  NaN                       NaN                     NaN   \n",
       "2                  NaN                       NaN                     NaN   \n",
       "3                  2.0                       NaN                     1.0   \n",
       "4                  NaN                       NaN                     NaN   \n",
       "\n",
       "   no_of_funds_redeemed_12M_1  no_of_fund_sales_12M_10K  \\\n",
       "0                         5.0                       NaN   \n",
       "1                         NaN                       NaN   \n",
       "2                         NaN                       NaN   \n",
       "3                         NaN                       1.0   \n",
       "4                         NaN                       NaN   \n",
       "\n",
       "   no_of_funds_Redemption_12M_10K  no_of_assetclass_sold_12M_1  \\\n",
       "0                             1.0                          2.0   \n",
       "1                             NaN                          NaN   \n",
       "2                             NaN                          NaN   \n",
       "3                             NaN                          1.0   \n",
       "4                             NaN                          NaN   \n",
       "\n",
       "   no_of_assetclass_redeemed_12M_1  no_of_assetclass_sales_12M_10K  \\\n",
       "0                              2.0                             NaN   \n",
       "1                              NaN                             NaN   \n",
       "2                              NaN                             NaN   \n",
       "3                              NaN                             1.0   \n",
       "4                              NaN                             NaN   \n",
       "\n",
       "   no_of_assetclass_Redemption_12M_10K  No_of_fund_curr  No_of_asset_curr  \\\n",
       "0                                  1.0              8.0               1.0   \n",
       "1                                  NaN              1.0               1.0   \n",
       "2                                  NaN              NaN               NaN   \n",
       "3                                  NaN              1.0               1.0   \n",
       "4                                  NaN              NaN               NaN   \n",
       "\n",
       "         AUM  sales_curr  sales_12M_2018  redemption_curr  redemption_12M  \\\n",
       "0  237480.11       250.0         19682.0        -1496.745     -102496.165   \n",
       "1   19629.00         NaN             NaN              NaN             NaN   \n",
       "2    1758.70         NaN             NaN              NaN             NaN   \n",
       "3   57943.00      5459.0         52484.0              NaN             NaN   \n",
       "4   -8573.59         NaN             NaN              NaN             NaN   \n",
       "\n",
       "   new_Fund_added_12M_2018  aum_AC_EQUITY  aum_AC_FIXED_INCOME_MUNI  \\\n",
       "0                      NaN      -47342.32                 284737.93   \n",
       "1                      NaN           0.00                  19629.00   \n",
       "2                      NaN           0.00                   1758.70   \n",
       "3                      1.0           0.00                      0.00   \n",
       "4                      NaN       -8573.59                      0.00   \n",
       "\n",
       "   aum_AC_FIXED_INCOME_TAXABLE  aum_AC_MONEY  aum_AC_MULTIPLE  \\\n",
       "0                         84.5           0.0              0.0   \n",
       "1                          0.0           0.0              0.0   \n",
       "2                          0.0           0.0              0.0   \n",
       "3                      57943.0           0.0              0.0   \n",
       "4                          0.0           0.0              0.0   \n",
       "\n",
       "   aum_AC_PHYSICAL_COMMODITY  aum_AC_REAL_ESTATE  aum_AC_TARGET  aum_P_529  \\\n",
       "0                        0.0                 0.0            0.0        0.0   \n",
       "1                        0.0                 0.0            0.0        0.0   \n",
       "2                        0.0                 0.0            0.0        0.0   \n",
       "3                        0.0                 0.0            0.0        0.0   \n",
       "4                        0.0                 0.0            0.0        0.0   \n",
       "\n",
       "   aum_P_ALT  aum_P_CEF  aum_P_ETF   aum_P_MF  aum_P_SMA  aum_P_UCITS  \\\n",
       "0        0.0        0.0        0.0  122866.04  114614.07          0.0   \n",
       "1        0.0        0.0        0.0   19629.00       0.00          0.0   \n",
       "2        0.0        0.0        0.0    1758.70       0.00          0.0   \n",
       "3        0.0        0.0        0.0   57943.00       0.00          0.0   \n",
       "4        0.0        0.0        0.0   -8573.59       0.00          0.0   \n",
       "\n",
       "   aum_P_UIT refresh_date_2018  sales_12M_2019  new_Fund_added_12M_2019  \\\n",
       "0        0.0        2018-12-31       18633.105                      NaN   \n",
       "1        0.0        2018-12-31             NaN                      NaN   \n",
       "2        0.0        2018-12-31             NaN                      NaN   \n",
       "3        0.0        2018-12-31       93212.000                      1.0   \n",
       "4        0.0        2018-12-31             NaN                      NaN   \n",
       "\n",
       "  refresh_date_2019  \n",
       "0        2019-12-31  \n",
       "1        2019-12-31  \n",
       "2        2019-12-31  \n",
       "3        2019-12-31  \n",
       "4        2019-12-31  "
      ]
     },
     "execution_count": 3,
     "metadata": {},
     "output_type": "execute_result"
    }
   ],
   "source": [
    "df = pd.merge(\n",
    "    df18,\n",
    "    df19,\n",
    "    on='CONTACT_ID',\n",
    "    suffixes=['_2018', '_2019']\n",
    ")\n",
    "df.head()"
   ]
  },
  {
   "cell_type": "markdown",
   "metadata": {},
   "source": [
    "## Make advisor dictionary mapper"
   ]
  },
  {
   "cell_type": "code",
   "execution_count": 4,
   "metadata": {},
   "outputs": [],
   "source": [
    "adviser_lookup = {\n",
    "    idx: contact_id \n",
    "        for idx, contact_id in enumerate(df['CONTACT_ID'])\n",
    "}"
   ]
  },
  {
   "cell_type": "code",
   "execution_count": 5,
   "metadata": {},
   "outputs": [
    {
     "data": {
      "text/plain": [
       "'85102150753418532658'"
      ]
     },
     "execution_count": 5,
     "metadata": {},
     "output_type": "execute_result"
    }
   ],
   "source": [
    "adviser_lookup[10]"
   ]
  },
  {
   "cell_type": "markdown",
   "metadata": {},
   "source": [
    "[Back to Top](#EDA)\n",
    "# EDA"
   ]
  },
  {
   "cell_type": "code",
   "execution_count": 8,
   "metadata": {},
   "outputs": [],
   "source": [
    "# !conda install -yc conda-forge pandas-profiling"
   ]
  },
  {
   "cell_type": "code",
   "execution_count": 9,
   "metadata": {},
   "outputs": [],
   "source": [
    "# from pandas_profiling import ProfileReport\n",
    "\n",
    "# missing_diagrams = {\n",
    "#     'heatmap': True, 'dendrogram': True, 'matrix':True, 'bar': True,\n",
    "# }\n",
    "\n",
    "# profile = ProfileReport(df, title='Nuveen Profile Report', missing_diagrams=missing_diagrams)\n",
    "\n",
    "# profile.to_file(output_file=\"nuveen_profiling.html\")"
   ]
  },
  {
   "cell_type": "code",
   "execution_count": null,
   "metadata": {},
   "outputs": [],
   "source": []
  },
  {
   "cell_type": "markdown",
   "metadata": {},
   "source": [
    "[Back to Top](#Index)\n",
    "# Data Cleaning"
   ]
  },
  {
   "cell_type": "code",
   "execution_count": 6,
   "metadata": {},
   "outputs": [],
   "source": [
    "# make a variable to keep all of the columns we want to drop\n",
    "COLS_TO_DROP = [\n",
    "    'refresh_date_2019', 'refresh_date_2018', 'CONTACT_ID',\n",
    "]\n",
    "\n",
    "COLS_TO_KEEP = [\n",
    "    'no_of_sales_12M_1', 'no_of_Redemption_12M_1', 'no_of_sales_12M_10K',\n",
    "    'no_of_Redemption_12M_10K', 'no_of_funds_sold_12M_1',\n",
    "    'no_of_funds_redeemed_12M_1', 'no_of_fund_sales_12M_10K',\n",
    "    'no_of_funds_Redemption_12M_10K', 'no_of_assetclass_sold_12M_1',\n",
    "    'no_of_assetclass_redeemed_12M_1', 'no_of_assetclass_sales_12M_10K',\n",
    "    'no_of_assetclass_Redemption_12M_10K', 'No_of_fund_curr',\n",
    "    'No_of_asset_curr', 'AUM', 'sales_curr', 'sales_12M_2018',\n",
    "    'redemption_curr', 'redemption_12M', 'new_Fund_added_12M_2018',\n",
    "    'aum_AC_EQUITY', 'aum_AC_FIXED_INCOME_MUNI',\n",
    "    'aum_AC_FIXED_INCOME_TAXABLE', 'aum_AC_MONEY', 'aum_AC_MULTIPLE',\n",
    "    'aum_AC_PHYSICAL_COMMODITY', 'aum_AC_REAL_ESTATE', 'aum_AC_TARGET',\n",
    "    'aum_P_529', 'aum_P_ALT', 'aum_P_CEF', 'aum_P_ETF', 'aum_P_MF',\n",
    "    'aum_P_SMA', 'aum_P_UCITS', 'aum_P_UIT',\n",
    "]"
   ]
  },
  {
   "cell_type": "code",
   "execution_count": 7,
   "metadata": {},
   "outputs": [],
   "source": [
    "X = df.drop(['sales_12M_2019', 'new_Fund_added_12M_2019'], axis=1)\n",
    "y_reg = df['sales_12M_2019']\n",
    "y_cl = df['new_Fund_added_12M_2019']"
   ]
  },
  {
   "cell_type": "markdown",
   "metadata": {},
   "source": [
    "## Train-Test-Split"
   ]
  },
  {
   "cell_type": "code",
   "execution_count": 14,
   "metadata": {},
   "outputs": [],
   "source": [
    "X_train, X_test, y_train_reg, y_test_reg = train_test_split(\n",
    "    X, y_reg, test_size=0.3, random_state=24\n",
    ")\n",
    "y_train_cl, y_test_cl = y_cl[y_train_reg.index], y_cl[y_test_reg.index]"
   ]
  },
  {
   "cell_type": "markdown",
   "metadata": {},
   "source": [
    "## Custom Cleaning Functions"
   ]
  },
  {
   "cell_type": "markdown",
   "metadata": {},
   "source": [
    "Let's create functions that do some basic housekeeping"
   ]
  },
  {
   "cell_type": "code",
   "execution_count": 15,
   "metadata": {},
   "outputs": [],
   "source": [
    "def extract_columns(df):\n",
    "    '''extract out columns not listed in COLS_TO_DROP variable'''\n",
    "    cols_to_keep = [col for col in df.columns if col not in COLS_TO_DROP]\n",
    "    return df.loc[:, cols_to_keep].copy()\n",
    "\n",
    "\n",
    "def fillna_values(df):\n",
    "    '''fill nan values with zero'''\n",
    "    if isinstance(df, type(pd.Series(dtype='float64'))):\n",
    "        return df.fillna(0)\n",
    "    num_df = df.select_dtypes(include=['number']).fillna(0)\n",
    "    non_num_df = df.select_dtypes(exclude=['number'])\n",
    "    return pd.concat([num_df, non_num_df], axis=1)\n",
    "\n",
    "\n",
    "def negative_to_zero(df):\n",
    "    if isinstance(df, type(pd.Series(dtype='float64'))):\n",
    "        return df.apply(lambda x: max(0, x))\n",
    "    else:\n",
    "        return df.select_dtypes(include='number').clip(lower=0)"
   ]
  },
  {
   "cell_type": "markdown",
   "metadata": {},
   "source": [
    "[Back to Top](#Index)\n",
    "## Create Cleaning Pipeline\n",
    "\n",
    "- Pipeline for target variable\n",
    "- Pipeline for features"
   ]
  },
  {
   "cell_type": "code",
   "execution_count": 16,
   "metadata": {},
   "outputs": [],
   "source": [
    "from sklearn.pipeline import Pipeline\n",
    "from sklearn.preprocessing import FunctionTransformer, PowerTransformer\n",
    "from sklearn.preprocessing import StandardScaler"
   ]
  },
  {
   "cell_type": "code",
   "execution_count": 17,
   "metadata": {},
   "outputs": [],
   "source": [
    "extract_columns_trans = FunctionTransformer(extract_columns)\n",
    "fillna_values_trans = FunctionTransformer(fillna_values)\n",
    "negative_to_zero_trans = FunctionTransformer(negative_to_zero)"
   ]
  },
  {
   "cell_type": "markdown",
   "metadata": {},
   "source": [
    "Make pipeline for regression target variable"
   ]
  },
  {
   "cell_type": "code",
   "execution_count": 36,
   "metadata": {},
   "outputs": [],
   "source": [
    "targ_pipe_reg = Pipeline([\n",
    "    ('fillna_values_trans', fillna_values_trans),\n",
    "    ('negative_to_zero_trans', negative_to_zero_trans),\n",
    "    ('PowerTransformer', PowerTransformer(standardize=False))\n",
    "])\n",
    "\n",
    "y_train_reg = pd.Series(\n",
    "    targ_pipe_reg.fit_transform(y_train_reg.to_frame()).squeeze(),\n",
    "    index=y_train_reg.index\n",
    ")\n",
    "y_test_reg = pd.Series(\n",
    "    targ_pipe_reg.transform(y_test_reg.to_frame()).squeeze(),\n",
    "    index=y_test_reg.index\n",
    ")"
   ]
  },
  {
   "cell_type": "code",
   "execution_count": 37,
   "metadata": {},
   "outputs": [
    {
     "data": {
      "text/plain": [
       "<AxesSubplot:>"
      ]
     },
     "execution_count": 37,
     "metadata": {},
     "output_type": "execute_result"
    },
    {
     "data": {
      "image/png": "[encoded data removed]",
      "text/plain": [
       "<Figure size 432x288 with 1 Axes>"
      ]
     },
     "metadata": {
      "needs_background": "light"
     },
     "output_type": "display_data"
    }
   ],
   "source": [
    "y_train_reg.hist(bins=50)"
   ]
  },
  {
   "cell_type": "code",
   "execution_count": null,
   "metadata": {},
   "outputs": [],
   "source": []
  },
  {
   "cell_type": "markdown",
   "metadata": {},
   "source": [
    "Transform the classification target"
   ]
  },
  {
   "cell_type": "code",
   "execution_count": 38,
   "metadata": {},
   "outputs": [
    {
     "data": {
      "text/plain": [
       "2052    0.0\n",
       "2758    1.0\n",
       "4334    0.0\n",
       "9047    1.0\n",
       "7001    0.0\n",
       "       ... \n",
       "3541    1.0\n",
       "785     0.0\n",
       "7614    0.0\n",
       "9577    0.0\n",
       "1086    0.0\n",
       "Length: 3002, dtype: float64"
      ]
     },
     "execution_count": 38,
     "metadata": {},
     "output_type": "execute_result"
    }
   ],
   "source": [
    "from sklearn.preprocessing import Binarizer\n",
    "\n",
    "targ_pipe_cl = Pipeline([\n",
    "    ('fillna_values_trans', fillna_values_trans),\n",
    "    ('Binarizer', Binarizer(threshold=0))\n",
    "])\n",
    "\n",
    "y_train_cl = pd.Series(\n",
    "    targ_pipe_cl\n",
    "        .fit_transform(y_train_cl.to_frame())\n",
    "        .reshape(-1), index=y_train_cl.index)\n",
    "\n",
    "y_test_cl = pd.Series(\n",
    "    targ_pipe_cl\n",
    "        .transform(y_test_cl.to_frame())\n",
    "        .reshape(-1), index=y_test_cl.index)\n",
    "y_test_cl"
   ]
  },
  {
   "cell_type": "markdown",
   "metadata": {},
   "source": [
    "Create the pipeline for the features"
   ]
  },
  {
   "cell_type": "code",
   "execution_count": 39,
   "metadata": {},
   "outputs": [],
   "source": [
    "feat_pipe = Pipeline([\n",
    "    ('extract_columns_trans', extract_columns_trans),\n",
    "    ('fillna_values_trans', fillna_values_trans),\n",
    "    ('StandardScaler', StandardScaler()),\n",
    "])\n",
    "\n",
    "X_train_prepared = feat_pipe.fit(X_train).transform(X_train)\n",
    "X_test_prepared = feat_pipe.transform(X_test)"
   ]
  },
  {
   "cell_type": "markdown",
   "metadata": {},
   "source": [
    "**TRANSFORM** Test set"
   ]
  },
  {
   "cell_type": "code",
   "execution_count": 40,
   "metadata": {},
   "outputs": [],
   "source": [
    "X_train_prepared = pd.DataFrame(\n",
    "    X_train_prepared,\n",
    "    index=X_train.index,\n",
    "    columns=COLS_TO_KEEP\n",
    ")\n",
    "\n",
    "X_test_prepared = pd.DataFrame(\n",
    "    feat_pipe.transform(X_test),\n",
    "    index=X_test.index,\n",
    "    columns=COLS_TO_KEEP\n",
    ")"
   ]
  },
  {
   "cell_type": "code",
   "execution_count": 41,
   "metadata": {},
   "outputs": [
    {
     "data": {
      "text/html": [
       "<div>\n",
       "<style scoped>\n",
       "    .dataframe tbody tr th:only-of-type {\n",
       "        vertical-align: middle;\n",
       "    }\n",
       "\n",
       "    .dataframe tbody tr th {\n",
       "        vertical-align: top;\n",
       "    }\n",
       "\n",
       "    .dataframe thead th {\n",
       "        text-align: right;\n",
       "    }\n",
       "</style>\n",
       "<table border=\"1\" class=\"dataframe\">\n",
       "  <thead>\n",
       "    <tr style=\"text-align: right;\">\n",
       "      <th></th>\n",
       "      <th>no_of_sales_12M_1</th>\n",
       "      <th>no_of_Redemption_12M_1</th>\n",
       "      <th>no_of_sales_12M_10K</th>\n",
       "      <th>no_of_Redemption_12M_10K</th>\n",
       "      <th>no_of_funds_sold_12M_1</th>\n",
       "      <th>no_of_funds_redeemed_12M_1</th>\n",
       "      <th>no_of_fund_sales_12M_10K</th>\n",
       "      <th>no_of_funds_Redemption_12M_10K</th>\n",
       "      <th>no_of_assetclass_sold_12M_1</th>\n",
       "      <th>no_of_assetclass_redeemed_12M_1</th>\n",
       "      <th>no_of_assetclass_sales_12M_10K</th>\n",
       "      <th>no_of_assetclass_Redemption_12M_10K</th>\n",
       "      <th>No_of_fund_curr</th>\n",
       "      <th>No_of_asset_curr</th>\n",
       "      <th>AUM</th>\n",
       "      <th>sales_curr</th>\n",
       "      <th>sales_12M_2018</th>\n",
       "      <th>redemption_curr</th>\n",
       "      <th>redemption_12M</th>\n",
       "      <th>new_Fund_added_12M_2018</th>\n",
       "      <th>aum_AC_EQUITY</th>\n",
       "      <th>aum_AC_FIXED_INCOME_MUNI</th>\n",
       "      <th>aum_AC_FIXED_INCOME_TAXABLE</th>\n",
       "      <th>aum_AC_MONEY</th>\n",
       "      <th>aum_AC_MULTIPLE</th>\n",
       "      <th>aum_AC_PHYSICAL_COMMODITY</th>\n",
       "      <th>aum_AC_REAL_ESTATE</th>\n",
       "      <th>aum_AC_TARGET</th>\n",
       "      <th>aum_P_529</th>\n",
       "      <th>aum_P_ALT</th>\n",
       "      <th>aum_P_CEF</th>\n",
       "      <th>aum_P_ETF</th>\n",
       "      <th>aum_P_MF</th>\n",
       "      <th>aum_P_SMA</th>\n",
       "      <th>aum_P_UCITS</th>\n",
       "      <th>aum_P_UIT</th>\n",
       "    </tr>\n",
       "  </thead>\n",
       "  <tbody>\n",
       "    <tr>\n",
       "      <th>2052</th>\n",
       "      <td>-0.199371</td>\n",
       "      <td>-0.093252</td>\n",
       "      <td>-0.207843</td>\n",
       "      <td>-0.089515</td>\n",
       "      <td>-0.573977</td>\n",
       "      <td>-0.221485</td>\n",
       "      <td>-0.430359</td>\n",
       "      <td>0.301512</td>\n",
       "      <td>-0.784078</td>\n",
       "      <td>0.083188</td>\n",
       "      <td>-0.536570</td>\n",
       "      <td>0.782602</td>\n",
       "      <td>-0.373415</td>\n",
       "      <td>0.063655</td>\n",
       "      <td>-0.258339</td>\n",
       "      <td>-0.085083</td>\n",
       "      <td>-0.151783</td>\n",
       "      <td>-0.609095</td>\n",
       "      <td>0.095688</td>\n",
       "      <td>-0.415778</td>\n",
       "      <td>-0.518275</td>\n",
       "      <td>-0.078960</td>\n",
       "      <td>-0.058282</td>\n",
       "      <td>-0.012892</td>\n",
       "      <td>-0.022410</td>\n",
       "      <td>6.269968</td>\n",
       "      <td>-0.03771</td>\n",
       "      <td>-0.041009</td>\n",
       "      <td>-0.076091</td>\n",
       "      <td>-0.030313</td>\n",
       "      <td>-0.094052</td>\n",
       "      <td>-0.019128</td>\n",
       "      <td>-0.259043</td>\n",
       "      <td>-0.056194</td>\n",
       "      <td>-0.01714</td>\n",
       "      <td>-0.070413</td>\n",
       "    </tr>\n",
       "    <tr>\n",
       "      <th>2758</th>\n",
       "      <td>-0.159635</td>\n",
       "      <td>-0.048462</td>\n",
       "      <td>-0.207843</td>\n",
       "      <td>-0.205862</td>\n",
       "      <td>-0.153081</td>\n",
       "      <td>0.591014</td>\n",
       "      <td>-0.430359</td>\n",
       "      <td>-0.442232</td>\n",
       "      <td>0.201190</td>\n",
       "      <td>1.035094</td>\n",
       "      <td>-0.536570</td>\n",
       "      <td>-0.561332</td>\n",
       "      <td>-0.693256</td>\n",
       "      <td>-0.888855</td>\n",
       "      <td>-0.102691</td>\n",
       "      <td>-0.083568</td>\n",
       "      <td>-0.151026</td>\n",
       "      <td>0.091395</td>\n",
       "      <td>0.146089</td>\n",
       "      <td>-0.415778</td>\n",
       "      <td>-0.039400</td>\n",
       "      <td>-0.078960</td>\n",
       "      <td>-0.065878</td>\n",
       "      <td>-0.012892</td>\n",
       "      <td>-0.022410</td>\n",
       "      <td>-0.042489</td>\n",
       "      <td>-0.03771</td>\n",
       "      <td>-0.041009</td>\n",
       "      <td>-0.076091</td>\n",
       "      <td>-0.030313</td>\n",
       "      <td>-0.094052</td>\n",
       "      <td>-0.019128</td>\n",
       "      <td>-0.073601</td>\n",
       "      <td>-0.056194</td>\n",
       "      <td>-0.01714</td>\n",
       "      <td>-0.070413</td>\n",
       "    </tr>\n",
       "    <tr>\n",
       "      <th>4334</th>\n",
       "      <td>-0.199371</td>\n",
       "      <td>-0.097731</td>\n",
       "      <td>-0.207843</td>\n",
       "      <td>-0.205862</td>\n",
       "      <td>-0.573977</td>\n",
       "      <td>-0.627735</td>\n",
       "      <td>-0.430359</td>\n",
       "      <td>-0.442232</td>\n",
       "      <td>-0.784078</td>\n",
       "      <td>-0.868718</td>\n",
       "      <td>-0.536570</td>\n",
       "      <td>-0.561332</td>\n",
       "      <td>-0.373415</td>\n",
       "      <td>0.063655</td>\n",
       "      <td>-0.093857</td>\n",
       "      <td>-0.085083</td>\n",
       "      <td>-0.151783</td>\n",
       "      <td>0.091395</td>\n",
       "      <td>0.155620</td>\n",
       "      <td>-0.415778</td>\n",
       "      <td>-0.027182</td>\n",
       "      <td>-0.079302</td>\n",
       "      <td>-0.040421</td>\n",
       "      <td>-0.012892</td>\n",
       "      <td>-0.018591</td>\n",
       "      <td>-0.042489</td>\n",
       "      <td>-0.03771</td>\n",
       "      <td>-0.041009</td>\n",
       "      <td>-0.076091</td>\n",
       "      <td>-0.030313</td>\n",
       "      <td>-0.094052</td>\n",
       "      <td>-0.019128</td>\n",
       "      <td>-0.063076</td>\n",
       "      <td>-0.056194</td>\n",
       "      <td>-0.01714</td>\n",
       "      <td>-0.070413</td>\n",
       "    </tr>\n",
       "    <tr>\n",
       "      <th>9047</th>\n",
       "      <td>0.118515</td>\n",
       "      <td>0.050076</td>\n",
       "      <td>-0.207843</td>\n",
       "      <td>-0.205862</td>\n",
       "      <td>0.688712</td>\n",
       "      <td>0.591014</td>\n",
       "      <td>-0.430359</td>\n",
       "      <td>-0.442232</td>\n",
       "      <td>1.186457</td>\n",
       "      <td>1.035094</td>\n",
       "      <td>-0.536570</td>\n",
       "      <td>-0.561332</td>\n",
       "      <td>-0.053573</td>\n",
       "      <td>0.063655</td>\n",
       "      <td>-0.096939</td>\n",
       "      <td>-0.073236</td>\n",
       "      <td>-0.133039</td>\n",
       "      <td>0.091103</td>\n",
       "      <td>0.144632</td>\n",
       "      <td>-0.415778</td>\n",
       "      <td>-0.014956</td>\n",
       "      <td>-0.085461</td>\n",
       "      <td>-0.058935</td>\n",
       "      <td>-0.012892</td>\n",
       "      <td>-0.022410</td>\n",
       "      <td>-0.042489</td>\n",
       "      <td>-0.03771</td>\n",
       "      <td>-0.041009</td>\n",
       "      <td>-0.076091</td>\n",
       "      <td>-0.030313</td>\n",
       "      <td>-0.094052</td>\n",
       "      <td>-0.019128</td>\n",
       "      <td>-0.066749</td>\n",
       "      <td>-0.056194</td>\n",
       "      <td>-0.01714</td>\n",
       "      <td>-0.070413</td>\n",
       "    </tr>\n",
       "    <tr>\n",
       "      <th>7001</th>\n",
       "      <td>0.009242</td>\n",
       "      <td>0.171009</td>\n",
       "      <td>-0.115750</td>\n",
       "      <td>0.259524</td>\n",
       "      <td>-0.153081</td>\n",
       "      <td>1.403513</td>\n",
       "      <td>0.318971</td>\n",
       "      <td>1.789002</td>\n",
       "      <td>0.201190</td>\n",
       "      <td>1.035094</td>\n",
       "      <td>0.858232</td>\n",
       "      <td>2.126536</td>\n",
       "      <td>0.266268</td>\n",
       "      <td>0.063655</td>\n",
       "      <td>-0.098609</td>\n",
       "      <td>-0.085083</td>\n",
       "      <td>-0.077280</td>\n",
       "      <td>0.070873</td>\n",
       "      <td>-0.189406</td>\n",
       "      <td>-0.415778</td>\n",
       "      <td>-0.037940</td>\n",
       "      <td>-0.079761</td>\n",
       "      <td>-0.037229</td>\n",
       "      <td>-0.012892</td>\n",
       "      <td>-0.022410</td>\n",
       "      <td>-0.042489</td>\n",
       "      <td>-0.03771</td>\n",
       "      <td>-0.041009</td>\n",
       "      <td>-0.076091</td>\n",
       "      <td>-0.030313</td>\n",
       "      <td>-0.094052</td>\n",
       "      <td>-0.019128</td>\n",
       "      <td>-0.068738</td>\n",
       "      <td>-0.056194</td>\n",
       "      <td>-0.01714</td>\n",
       "      <td>-0.070413</td>\n",
       "    </tr>\n",
       "    <tr>\n",
       "      <th>...</th>\n",
       "      <td>...</td>\n",
       "      <td>...</td>\n",
       "      <td>...</td>\n",
       "      <td>...</td>\n",
       "      <td>...</td>\n",
       "      <td>...</td>\n",
       "      <td>...</td>\n",
       "      <td>...</td>\n",
       "      <td>...</td>\n",
       "      <td>...</td>\n",
       "      <td>...</td>\n",
       "      <td>...</td>\n",
       "      <td>...</td>\n",
       "      <td>...</td>\n",
       "      <td>...</td>\n",
       "      <td>...</td>\n",
       "      <td>...</td>\n",
       "      <td>...</td>\n",
       "      <td>...</td>\n",
       "      <td>...</td>\n",
       "      <td>...</td>\n",
       "      <td>...</td>\n",
       "      <td>...</td>\n",
       "      <td>...</td>\n",
       "      <td>...</td>\n",
       "      <td>...</td>\n",
       "      <td>...</td>\n",
       "      <td>...</td>\n",
       "      <td>...</td>\n",
       "      <td>...</td>\n",
       "      <td>...</td>\n",
       "      <td>...</td>\n",
       "      <td>...</td>\n",
       "      <td>...</td>\n",
       "      <td>...</td>\n",
       "      <td>...</td>\n",
       "    </tr>\n",
       "    <tr>\n",
       "      <th>3541</th>\n",
       "      <td>0.376797</td>\n",
       "      <td>0.112782</td>\n",
       "      <td>1.357732</td>\n",
       "      <td>0.375870</td>\n",
       "      <td>1.109608</td>\n",
       "      <td>0.591014</td>\n",
       "      <td>1.817630</td>\n",
       "      <td>1.789002</td>\n",
       "      <td>2.171725</td>\n",
       "      <td>1.987000</td>\n",
       "      <td>3.647837</td>\n",
       "      <td>3.470469</td>\n",
       "      <td>0.905951</td>\n",
       "      <td>1.016164</td>\n",
       "      <td>0.240511</td>\n",
       "      <td>-0.085083</td>\n",
       "      <td>0.168188</td>\n",
       "      <td>-0.352809</td>\n",
       "      <td>-0.123876</td>\n",
       "      <td>1.289958</td>\n",
       "      <td>-0.098124</td>\n",
       "      <td>-0.029076</td>\n",
       "      <td>-0.138181</td>\n",
       "      <td>-0.012892</td>\n",
       "      <td>4.647680</td>\n",
       "      <td>-0.042489</td>\n",
       "      <td>-0.03771</td>\n",
       "      <td>-0.041009</td>\n",
       "      <td>-0.076091</td>\n",
       "      <td>-0.030313</td>\n",
       "      <td>-0.094052</td>\n",
       "      <td>-0.019128</td>\n",
       "      <td>0.335295</td>\n",
       "      <td>-0.056194</td>\n",
       "      <td>-0.01714</td>\n",
       "      <td>-0.070413</td>\n",
       "    </tr>\n",
       "    <tr>\n",
       "      <th>785</th>\n",
       "      <td>-0.199371</td>\n",
       "      <td>-0.097731</td>\n",
       "      <td>-0.207843</td>\n",
       "      <td>-0.205862</td>\n",
       "      <td>-0.573977</td>\n",
       "      <td>-0.627735</td>\n",
       "      <td>-0.430359</td>\n",
       "      <td>-0.442232</td>\n",
       "      <td>-0.784078</td>\n",
       "      <td>-0.868718</td>\n",
       "      <td>-0.536570</td>\n",
       "      <td>-0.561332</td>\n",
       "      <td>-0.693256</td>\n",
       "      <td>-0.888855</td>\n",
       "      <td>-0.097262</td>\n",
       "      <td>-0.085083</td>\n",
       "      <td>-0.151783</td>\n",
       "      <td>0.091395</td>\n",
       "      <td>0.155620</td>\n",
       "      <td>-0.415778</td>\n",
       "      <td>-0.029158</td>\n",
       "      <td>-0.078960</td>\n",
       "      <td>-0.058282</td>\n",
       "      <td>-0.012892</td>\n",
       "      <td>-0.022410</td>\n",
       "      <td>-0.042489</td>\n",
       "      <td>-0.03771</td>\n",
       "      <td>-0.041009</td>\n",
       "      <td>-0.076091</td>\n",
       "      <td>-0.030313</td>\n",
       "      <td>-0.094052</td>\n",
       "      <td>-0.019128</td>\n",
       "      <td>-0.067133</td>\n",
       "      <td>-0.056194</td>\n",
       "      <td>-0.01714</td>\n",
       "      <td>-0.070413</td>\n",
       "    </tr>\n",
       "    <tr>\n",
       "      <th>7614</th>\n",
       "      <td>-0.199371</td>\n",
       "      <td>-0.097731</td>\n",
       "      <td>-0.207843</td>\n",
       "      <td>-0.205862</td>\n",
       "      <td>-0.573977</td>\n",
       "      <td>-0.627735</td>\n",
       "      <td>-0.430359</td>\n",
       "      <td>-0.442232</td>\n",
       "      <td>-0.784078</td>\n",
       "      <td>-0.868718</td>\n",
       "      <td>-0.536570</td>\n",
       "      <td>-0.561332</td>\n",
       "      <td>-0.373415</td>\n",
       "      <td>0.063655</td>\n",
       "      <td>-0.085369</td>\n",
       "      <td>-0.085083</td>\n",
       "      <td>-0.151783</td>\n",
       "      <td>0.091395</td>\n",
       "      <td>0.155620</td>\n",
       "      <td>-0.415778</td>\n",
       "      <td>-0.029158</td>\n",
       "      <td>-0.065118</td>\n",
       "      <td>-0.058282</td>\n",
       "      <td>-0.012892</td>\n",
       "      <td>-0.022410</td>\n",
       "      <td>-0.042489</td>\n",
       "      <td>-0.03771</td>\n",
       "      <td>-0.041009</td>\n",
       "      <td>-0.076091</td>\n",
       "      <td>-0.030313</td>\n",
       "      <td>-0.094052</td>\n",
       "      <td>-0.019128</td>\n",
       "      <td>-0.052964</td>\n",
       "      <td>-0.056194</td>\n",
       "      <td>-0.01714</td>\n",
       "      <td>-0.070413</td>\n",
       "    </tr>\n",
       "    <tr>\n",
       "      <th>9577</th>\n",
       "      <td>-0.000692</td>\n",
       "      <td>-0.084294</td>\n",
       "      <td>-0.115750</td>\n",
       "      <td>-0.205862</td>\n",
       "      <td>0.688712</td>\n",
       "      <td>-0.221485</td>\n",
       "      <td>0.318971</td>\n",
       "      <td>-0.442232</td>\n",
       "      <td>1.186457</td>\n",
       "      <td>0.083188</td>\n",
       "      <td>0.858232</td>\n",
       "      <td>-0.561332</td>\n",
       "      <td>0.266268</td>\n",
       "      <td>1.016164</td>\n",
       "      <td>-0.065484</td>\n",
       "      <td>-0.079434</td>\n",
       "      <td>-0.123801</td>\n",
       "      <td>0.091395</td>\n",
       "      <td>0.155591</td>\n",
       "      <td>-0.415778</td>\n",
       "      <td>0.018326</td>\n",
       "      <td>-0.065245</td>\n",
       "      <td>-0.058282</td>\n",
       "      <td>-0.012892</td>\n",
       "      <td>-0.023818</td>\n",
       "      <td>-0.038570</td>\n",
       "      <td>-0.03771</td>\n",
       "      <td>-0.041009</td>\n",
       "      <td>-0.076091</td>\n",
       "      <td>-0.030313</td>\n",
       "      <td>-0.094052</td>\n",
       "      <td>-0.019128</td>\n",
       "      <td>-0.040609</td>\n",
       "      <td>-0.037756</td>\n",
       "      <td>-0.01714</td>\n",
       "      <td>-0.070413</td>\n",
       "    </tr>\n",
       "    <tr>\n",
       "      <th>1086</th>\n",
       "      <td>0.039043</td>\n",
       "      <td>-0.052941</td>\n",
       "      <td>0.160528</td>\n",
       "      <td>0.143178</td>\n",
       "      <td>-0.153081</td>\n",
       "      <td>-0.221485</td>\n",
       "      <td>0.318971</td>\n",
       "      <td>0.301512</td>\n",
       "      <td>0.201190</td>\n",
       "      <td>0.083188</td>\n",
       "      <td>0.858232</td>\n",
       "      <td>0.782602</td>\n",
       "      <td>-0.373415</td>\n",
       "      <td>0.063655</td>\n",
       "      <td>-0.019565</td>\n",
       "      <td>-0.054129</td>\n",
       "      <td>-0.060573</td>\n",
       "      <td>0.026957</td>\n",
       "      <td>0.058980</td>\n",
       "      <td>-0.415778</td>\n",
       "      <td>0.154688</td>\n",
       "      <td>-0.078960</td>\n",
       "      <td>-0.058282</td>\n",
       "      <td>-0.012892</td>\n",
       "      <td>-0.022410</td>\n",
       "      <td>-0.042489</td>\n",
       "      <td>-0.03771</td>\n",
       "      <td>-0.041009</td>\n",
       "      <td>-0.076091</td>\n",
       "      <td>-0.030313</td>\n",
       "      <td>-0.094052</td>\n",
       "      <td>-0.019128</td>\n",
       "      <td>0.025436</td>\n",
       "      <td>-0.056194</td>\n",
       "      <td>-0.01714</td>\n",
       "      <td>-0.070413</td>\n",
       "    </tr>\n",
       "  </tbody>\n",
       "</table>\n",
       "<p>3002 rows × 36 columns</p>\n",
       "</div>"
      ],
      "text/plain": [
       "      no_of_sales_12M_1  no_of_Redemption_12M_1  no_of_sales_12M_10K  \\\n",
       "2052          -0.199371               -0.093252            -0.207843   \n",
       "2758          -0.159635               -0.048462            -0.207843   \n",
       "4334          -0.199371               -0.097731            -0.207843   \n",
       "9047           0.118515                0.050076            -0.207843   \n",
       "7001           0.009242                0.171009            -0.115750   \n",
       "...                 ...                     ...                  ...   \n",
       "3541           0.376797                0.112782             1.357732   \n",
       "785           -0.199371               -0.097731            -0.207843   \n",
       "7614          -0.199371               -0.097731            -0.207843   \n",
       "9577          -0.000692               -0.084294            -0.115750   \n",
       "1086           0.039043               -0.052941             0.160528   \n",
       "\n",
       "      no_of_Redemption_12M_10K  no_of_funds_sold_12M_1  \\\n",
       "2052                 -0.089515               -0.573977   \n",
       "2758                 -0.205862               -0.153081   \n",
       "4334                 -0.205862               -0.573977   \n",
       "9047                 -0.205862                0.688712   \n",
       "7001                  0.259524               -0.153081   \n",
       "...                        ...                     ...   \n",
       "3541                  0.375870                1.109608   \n",
       "785                  -0.205862               -0.573977   \n",
       "7614                 -0.205862               -0.573977   \n",
       "9577                 -0.205862                0.688712   \n",
       "1086                  0.143178               -0.153081   \n",
       "\n",
       "      no_of_funds_redeemed_12M_1  no_of_fund_sales_12M_10K  \\\n",
       "2052                   -0.221485                 -0.430359   \n",
       "2758                    0.591014                 -0.430359   \n",
       "4334                   -0.627735                 -0.430359   \n",
       "9047                    0.591014                 -0.430359   \n",
       "7001                    1.403513                  0.318971   \n",
       "...                          ...                       ...   \n",
       "3541                    0.591014                  1.817630   \n",
       "785                    -0.627735                 -0.430359   \n",
       "7614                   -0.627735                 -0.430359   \n",
       "9577                   -0.221485                  0.318971   \n",
       "1086                   -0.221485                  0.318971   \n",
       "\n",
       "      no_of_funds_Redemption_12M_10K  no_of_assetclass_sold_12M_1  \\\n",
       "2052                        0.301512                    -0.784078   \n",
       "2758                       -0.442232                     0.201190   \n",
       "4334                       -0.442232                    -0.784078   \n",
       "9047                       -0.442232                     1.186457   \n",
       "7001                        1.789002                     0.201190   \n",
       "...                              ...                          ...   \n",
       "3541                        1.789002                     2.171725   \n",
       "785                        -0.442232                    -0.784078   \n",
       "7614                       -0.442232                    -0.784078   \n",
       "9577                       -0.442232                     1.186457   \n",
       "1086                        0.301512                     0.201190   \n",
       "\n",
       "      no_of_assetclass_redeemed_12M_1  no_of_assetclass_sales_12M_10K  \\\n",
       "2052                         0.083188                       -0.536570   \n",
       "2758                         1.035094                       -0.536570   \n",
       "4334                        -0.868718                       -0.536570   \n",
       "9047                         1.035094                       -0.536570   \n",
       "7001                         1.035094                        0.858232   \n",
       "...                               ...                             ...   \n",
       "3541                         1.987000                        3.647837   \n",
       "785                         -0.868718                       -0.536570   \n",
       "7614                        -0.868718                       -0.536570   \n",
       "9577                         0.083188                        0.858232   \n",
       "1086                         0.083188                        0.858232   \n",
       "\n",
       "      no_of_assetclass_Redemption_12M_10K  No_of_fund_curr  No_of_asset_curr  \\\n",
       "2052                             0.782602        -0.373415          0.063655   \n",
       "2758                            -0.561332        -0.693256         -0.888855   \n",
       "4334                            -0.561332        -0.373415          0.063655   \n",
       "9047                            -0.561332        -0.053573          0.063655   \n",
       "7001                             2.126536         0.266268          0.063655   \n",
       "...                                   ...              ...               ...   \n",
       "3541                             3.470469         0.905951          1.016164   \n",
       "785                             -0.561332        -0.693256         -0.888855   \n",
       "7614                            -0.561332        -0.373415          0.063655   \n",
       "9577                            -0.561332         0.266268          1.016164   \n",
       "1086                             0.782602        -0.373415          0.063655   \n",
       "\n",
       "           AUM  sales_curr  sales_12M_2018  redemption_curr  redemption_12M  \\\n",
       "2052 -0.258339   -0.085083       -0.151783        -0.609095        0.095688   \n",
       "2758 -0.102691   -0.083568       -0.151026         0.091395        0.146089   \n",
       "4334 -0.093857   -0.085083       -0.151783         0.091395        0.155620   \n",
       "9047 -0.096939   -0.073236       -0.133039         0.091103        0.144632   \n",
       "7001 -0.098609   -0.085083       -0.077280         0.070873       -0.189406   \n",
       "...        ...         ...             ...              ...             ...   \n",
       "3541  0.240511   -0.085083        0.168188        -0.352809       -0.123876   \n",
       "785  -0.097262   -0.085083       -0.151783         0.091395        0.155620   \n",
       "7614 -0.085369   -0.085083       -0.151783         0.091395        0.155620   \n",
       "9577 -0.065484   -0.079434       -0.123801         0.091395        0.155591   \n",
       "1086 -0.019565   -0.054129       -0.060573         0.026957        0.058980   \n",
       "\n",
       "      new_Fund_added_12M_2018  aum_AC_EQUITY  aum_AC_FIXED_INCOME_MUNI  \\\n",
       "2052                -0.415778      -0.518275                 -0.078960   \n",
       "2758                -0.415778      -0.039400                 -0.078960   \n",
       "4334                -0.415778      -0.027182                 -0.079302   \n",
       "9047                -0.415778      -0.014956                 -0.085461   \n",
       "7001                -0.415778      -0.037940                 -0.079761   \n",
       "...                       ...            ...                       ...   \n",
       "3541                 1.289958      -0.098124                 -0.029076   \n",
       "785                 -0.415778      -0.029158                 -0.078960   \n",
       "7614                -0.415778      -0.029158                 -0.065118   \n",
       "9577                -0.415778       0.018326                 -0.065245   \n",
       "1086                -0.415778       0.154688                 -0.078960   \n",
       "\n",
       "      aum_AC_FIXED_INCOME_TAXABLE  aum_AC_MONEY  aum_AC_MULTIPLE  \\\n",
       "2052                    -0.058282     -0.012892        -0.022410   \n",
       "2758                    -0.065878     -0.012892        -0.022410   \n",
       "4334                    -0.040421     -0.012892        -0.018591   \n",
       "9047                    -0.058935     -0.012892        -0.022410   \n",
       "7001                    -0.037229     -0.012892        -0.022410   \n",
       "...                           ...           ...              ...   \n",
       "3541                    -0.138181     -0.012892         4.647680   \n",
       "785                     -0.058282     -0.012892        -0.022410   \n",
       "7614                    -0.058282     -0.012892        -0.022410   \n",
       "9577                    -0.058282     -0.012892        -0.023818   \n",
       "1086                    -0.058282     -0.012892        -0.022410   \n",
       "\n",
       "      aum_AC_PHYSICAL_COMMODITY  aum_AC_REAL_ESTATE  aum_AC_TARGET  aum_P_529  \\\n",
       "2052                   6.269968            -0.03771      -0.041009  -0.076091   \n",
       "2758                  -0.042489            -0.03771      -0.041009  -0.076091   \n",
       "4334                  -0.042489            -0.03771      -0.041009  -0.076091   \n",
       "9047                  -0.042489            -0.03771      -0.041009  -0.076091   \n",
       "7001                  -0.042489            -0.03771      -0.041009  -0.076091   \n",
       "...                         ...                 ...            ...        ...   \n",
       "3541                  -0.042489            -0.03771      -0.041009  -0.076091   \n",
       "785                   -0.042489            -0.03771      -0.041009  -0.076091   \n",
       "7614                  -0.042489            -0.03771      -0.041009  -0.076091   \n",
       "9577                  -0.038570            -0.03771      -0.041009  -0.076091   \n",
       "1086                  -0.042489            -0.03771      -0.041009  -0.076091   \n",
       "\n",
       "      aum_P_ALT  aum_P_CEF  aum_P_ETF  aum_P_MF  aum_P_SMA  aum_P_UCITS  \\\n",
       "2052  -0.030313  -0.094052  -0.019128 -0.259043  -0.056194     -0.01714   \n",
       "2758  -0.030313  -0.094052  -0.019128 -0.073601  -0.056194     -0.01714   \n",
       "4334  -0.030313  -0.094052  -0.019128 -0.063076  -0.056194     -0.01714   \n",
       "9047  -0.030313  -0.094052  -0.019128 -0.066749  -0.056194     -0.01714   \n",
       "7001  -0.030313  -0.094052  -0.019128 -0.068738  -0.056194     -0.01714   \n",
       "...         ...        ...        ...       ...        ...          ...   \n",
       "3541  -0.030313  -0.094052  -0.019128  0.335295  -0.056194     -0.01714   \n",
       "785   -0.030313  -0.094052  -0.019128 -0.067133  -0.056194     -0.01714   \n",
       "7614  -0.030313  -0.094052  -0.019128 -0.052964  -0.056194     -0.01714   \n",
       "9577  -0.030313  -0.094052  -0.019128 -0.040609  -0.037756     -0.01714   \n",
       "1086  -0.030313  -0.094052  -0.019128  0.025436  -0.056194     -0.01714   \n",
       "\n",
       "      aum_P_UIT  \n",
       "2052  -0.070413  \n",
       "2758  -0.070413  \n",
       "4334  -0.070413  \n",
       "9047  -0.070413  \n",
       "7001  -0.070413  \n",
       "...         ...  \n",
       "3541  -0.070413  \n",
       "785   -0.070413  \n",
       "7614  -0.070413  \n",
       "9577  -0.070413  \n",
       "1086  -0.070413  \n",
       "\n",
       "[3002 rows x 36 columns]"
      ]
     },
     "execution_count": 41,
     "metadata": {},
     "output_type": "execute_result"
    }
   ],
   "source": [
    "X_test_prepared"
   ]
  },
  {
   "cell_type": "markdown",
   "metadata": {},
   "source": [
    "[Back to Top](#Index)\n",
    "# Model building\n",
    "- Evaluate baseline model\n",
    "- Create new models\n",
    "- Create evaluation function and cross validate"
   ]
  },
  {
   "cell_type": "code",
   "execution_count": 42,
   "metadata": {},
   "outputs": [],
   "source": [
    "from sklearn.linear_model import LinearRegression\n",
    "from sklearn.tree import DecisionTreeRegressor\n",
    "from sklearn.ensemble import RandomForestRegressor\n",
    "from sklearn.model_selection import RandomizedSearchCV\n",
    "from sklearn.feature_selection import SelectFromModel\n",
    "from sklearn.decomposition import PCA, TruncatedSVD\n",
    "import xgboost as xgb"
   ]
  },
  {
   "cell_type": "code",
   "execution_count": 43,
   "metadata": {},
   "outputs": [
    {
     "data": {
      "text/plain": [
       "LinearRegression()"
      ]
     },
     "execution_count": 43,
     "metadata": {},
     "output_type": "execute_result"
    }
   ],
   "source": [
    "lr = LinearRegression()\n",
    "lr.fit(X_train_prepared, y_train_reg)"
   ]
  },
  {
   "cell_type": "code",
   "execution_count": 44,
   "metadata": {},
   "outputs": [],
   "source": [
    "from sklearn.model_selection import cross_validate"
   ]
  },
  {
   "cell_type": "code",
   "execution_count": 45,
   "metadata": {},
   "outputs": [
    {
     "data": {
      "text/plain": [
       "array([3.32515627e+00, 2.45976350e+10, 3.33027277e+00])"
      ]
     },
     "execution_count": 45,
     "metadata": {},
     "output_type": "execute_result"
    }
   ],
   "source": [
    "-cross_validate(\n",
    "    lr, \n",
    "    X_train_prepared, \n",
    "    y_train_reg, \n",
    "    cv=3, \n",
    "    scoring='neg_root_mean_squared_error', \n",
    "    return_train_score=True\n",
    ")['test_score']"
   ]
  },
  {
   "cell_type": "markdown",
   "metadata": {},
   "source": [
    "Make a plot of predictions vs actual"
   ]
  },
  {
   "cell_type": "code",
   "execution_count": 46,
   "metadata": {},
   "outputs": [],
   "source": [
    "y_test_reg_preds = lr.predict(X_test_prepared)"
   ]
  },
  {
   "cell_type": "code",
   "execution_count": 47,
   "metadata": {},
   "outputs": [
    {
     "data": {
      "image/png": "[encoded data removed]",
      "text/plain": [
       "<Figure size 576x432 with 1 Axes>"
      ]
     },
     "metadata": {
      "needs_background": "light"
     },
     "output_type": "display_data"
    }
   ],
   "source": [
    "fig, axes = plt.subplots(figsize=(8, 6))\n",
    "\n",
    "axes.scatter(x=y_test_reg, y=y_test_reg_preds)\n",
    "\n",
    "axes.plot([0, 20000000], [0,20000000])\n",
    "axes.set_title(\"Actual vs Predicted - Regression\")\n",
    "axes.set_xlabel(\"Actual\")\n",
    "axes.set_ylabel(\"Predicted\");"
   ]
  },
  {
   "cell_type": "code",
   "execution_count": 48,
   "metadata": {},
   "outputs": [],
   "source": [
    "def evaluate_model(model, X, y):\n",
    "    print(\"Cross Validation Scores:\")\n",
    "    print(-cross_validate(model, X, y, scoring='neg_root_mean_squared_error')['test_score'])\n",
    "    print('-'*55)\n",
    "    preds = model.predict(X)\n",
    "    lim = max(preds.max(), y.max())\n",
    "    fig, ax = plt.subplots(1,1,figsize=(7,5))\n",
    "    ax.scatter(x=y, y=preds, alpha=0.4)\n",
    "    ax.plot([0, lim], [0, lim])\n",
    "    ax.set_xlim([0, lim])\n",
    "    ax.set_ylim([0, lim])\n",
    "    ax.set_title(\"Actual vs Predicted - Regression\")\n",
    "    ax.set_xlabel(\"Actual\")\n",
    "    ax.set_ylabel(\"Predicted\");"
   ]
  },
  {
   "cell_type": "code",
   "execution_count": 49,
   "metadata": {},
   "outputs": [
    {
     "name": "stdout",
     "output_type": "stream",
     "text": [
      "Cross Validation Scores:\n",
      "[ 3.20041514  3.20295751  3.4357037   3.31322157 18.41327458]\n",
      "-------------------------------------------------------\n"
     ]
    },
    {
     "data": {
      "image/png": "[encoded data removed]",
      "text/plain": [
       "<Figure size 504x360 with 1 Axes>"
      ]
     },
     "metadata": {
      "needs_background": "light"
     },
     "output_type": "display_data"
    }
   ],
   "source": [
    "evaluate_model(lr, X_test_prepared, y_test_reg)"
   ]
  },
  {
   "cell_type": "markdown",
   "metadata": {},
   "source": [
    "[Back to Top]\n",
    "## Residual Analysis"
   ]
  },
  {
   "cell_type": "code",
   "execution_count": 50,
   "metadata": {},
   "outputs": [],
   "source": [
    "y_test_reg_preds = lr.predict(X_test_prepared)"
   ]
  },
  {
   "cell_type": "code",
   "execution_count": 51,
   "metadata": {},
   "outputs": [],
   "source": [
    "# get the residuals\n",
    "residuals = y_test_reg_preds - y_test_reg"
   ]
  },
  {
   "cell_type": "code",
   "execution_count": 64,
   "metadata": {},
   "outputs": [
    {
     "data": {
      "image/png": "[encoded data removed]",
      "text/plain": [
       "<Figure size 1008x720 with 4 Axes>"
      ]
     },
     "metadata": {
      "needs_background": "light"
     },
     "output_type": "display_data"
    }
   ],
   "source": [
    "# plot predictions vs residuals\n",
    "fig, axes = plt.subplots(nrows=2, ncols=2, figsize=(14,10))\n",
    "\n",
    "# plot scatter plot on upper left plot\n",
    "axes[0,0].scatter(x=y_test_reg_preds, y=residuals, alpha=0.5)\n",
    "axes[0,0].set(xlabel='Predictions', ylabel='Residuals')\n",
    "\n",
    "# plot a hist on upper right plot\n",
    "axes[0,1].hist(residuals, bins=50)\n",
    "axes[0,1].set(xlabel='Residuals', ylabel='Frequency');"
   ]
  },
  {
   "cell_type": "code",
   "execution_count": 63,
   "metadata": {},
   "outputs": [],
   "source": [
    "from statsmodels.api import qqplot"
   ]
  },
  {
   "cell_type": "code",
   "execution_count": 65,
   "metadata": {},
   "outputs": [
    {
     "data": {
      "image/png": "[encoded data removed]",
      "text/plain": [
       "<Figure size 1008x720 with 4 Axes>"
      ]
     },
     "execution_count": 65,
     "metadata": {},
     "output_type": "execute_result"
    }
   ],
   "source": [
    "qqplot(residuals, fit=True, line='r', ax=axes[1,0])"
   ]
  },
  {
   "cell_type": "code",
   "execution_count": 66,
   "metadata": {},
   "outputs": [
    {
     "data": {
      "text/plain": [
       "array([2.16753409, 4.67150138, 2.02458976, ..., 2.02571891, 6.66686271,\n",
       "       4.89807532])"
      ]
     },
     "execution_count": 66,
     "metadata": {},
     "output_type": "execute_result"
    }
   ],
   "source": [
    "y_test_reg_preds"
   ]
  },
  {
   "cell_type": "code",
   "execution_count": 74,
   "metadata": {},
   "outputs": [
    {
     "data": {
      "text/plain": [
       "array([   8.82165095,  192.67834425,    7.38315036, ...,    7.39360573,\n",
       "       2916.61811174,  258.18272438])"
      ]
     },
     "execution_count": 74,
     "metadata": {},
     "output_type": "execute_result"
    }
   ],
   "source": [
    "targ_pipe_reg.named_steps['PowerTransformer'].inverse_transform(y_test_reg_preds.reshape(-1,1)).squeeze()"
   ]
  },
  {
   "cell_type": "code",
   "execution_count": null,
   "metadata": {},
   "outputs": [],
   "source": []
  },
  {
   "cell_type": "code",
   "execution_count": null,
   "metadata": {},
   "outputs": [],
   "source": [
    "# !pip install scikit-plot"
   ]
  },
  {
   "cell_type": "code",
   "execution_count": 75,
   "metadata": {},
   "outputs": [],
   "source": [
    "import scikitplot as skplt"
   ]
  },
  {
   "cell_type": "code",
   "execution_count": null,
   "metadata": {},
   "outputs": [],
   "source": [
    "def evaluate_classifier(X, y, model):\n",
    "    # print classification report\n",
    "    # create lift charts\n",
    "    # create gains charts"
   ]
  },
  {
   "cell_type": "code",
   "execution_count": 76,
   "metadata": {},
   "outputs": [],
   "source": [
    "from sklearn.ensemble import RandomForestClassifier"
   ]
  },
  {
   "cell_type": "code",
   "execution_count": 77,
   "metadata": {},
   "outputs": [],
   "source": [
    "rf = RandomForestClassifier()"
   ]
  },
  {
   "cell_type": "code",
   "execution_count": 78,
   "metadata": {},
   "outputs": [
    {
     "data": {
      "text/plain": [
       "RandomForestClassifier()"
      ]
     },
     "execution_count": 78,
     "metadata": {},
     "output_type": "execute_result"
    }
   ],
   "source": [
    "rf.fit(X_train_prepared, y_train_cl)"
   ]
  },
  {
   "cell_type": "code",
   "execution_count": 80,
   "metadata": {},
   "outputs": [],
   "source": [
    "y_test_cl_preds = rf.predict_proba(X_test_prepared)"
   ]
  },
  {
   "cell_type": "code",
   "execution_count": 85,
   "metadata": {},
   "outputs": [
    {
     "data": {
      "image/png": "[encoded data removed]",
      "text/plain": [
       "<Figure size 432x288 with 1 Axes>"
      ]
     },
     "metadata": {
      "needs_background": "light"
     },
     "output_type": "display_data"
    }
   ],
   "source": [
    "skplt.metrics.plot_lift_curve(y_test_cl, y_test_cl_preds);"
   ]
  },
  {
   "cell_type": "code",
   "execution_count": 88,
   "metadata": {},
   "outputs": [
    {
     "data": {
      "text/plain": [
       "array([[0.25, 0.75],\n",
       "       [0.28, 0.72],\n",
       "       [0.19, 0.81],\n",
       "       [0.31, 0.69],\n",
       "       [0.32, 0.68],\n",
       "       [0.04, 0.96],\n",
       "       [0.41, 0.59],\n",
       "       [0.18, 0.82],\n",
       "       [0.1 , 0.9 ],\n",
       "       [0.01, 0.99]])"
      ]
     },
     "execution_count": 88,
     "metadata": {},
     "output_type": "execute_result"
    }
   ],
   "source": [
    "np.sort(y_test_cl_preds)[:10]"
   ]
  },
  {
   "cell_type": "code",
   "execution_count": null,
   "metadata": {},
   "outputs": [],
   "source": []
  },
  {
   "cell_type": "code",
   "execution_count": null,
   "metadata": {},
   "outputs": [],
   "source": []
  },
  {
   "cell_type": "code",
   "execution_count": null,
   "metadata": {},
   "outputs": [],
   "source": []
  },
  {
   "cell_type": "code",
   "execution_count": null,
   "metadata": {},
   "outputs": [],
   "source": []
  }
 ],
 "metadata": {
  "kernelspec": {
   "display_name": "Python 3",
   "language": "python",
   "name": "python3"
  },
  "language_info": {
   "codemirror_mode": {
    "name": "ipython",
    "version": 3
   },
   "file_extension": ".py",
   "mimetype": "text/x-python",
   "name": "python",
   "nbconvert_exporter": "python",
   "pygments_lexer": "ipython3",
   "version": "3.8.5"
  }
 },
 "nbformat": 4,
 "nbformat_minor": 4
}
